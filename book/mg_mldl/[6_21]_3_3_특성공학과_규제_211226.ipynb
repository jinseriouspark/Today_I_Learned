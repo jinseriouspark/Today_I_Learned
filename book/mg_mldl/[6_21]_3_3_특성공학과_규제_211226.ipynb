{
  "nbformat": 4,
  "nbformat_minor": 0,
  "metadata": {
    "colab": {
      "name": "[6/21] 3.3. 특성공학과 규제_211226",
      "provenance": [],
      "collapsed_sections": []
    },
    "kernelspec": {
      "name": "python3",
      "display_name": "Python 3"
    },
    "language_info": {
      "name": "python"
    }
  },
  "cells": [
    {
      "cell_type": "markdown",
      "source": [
        "# 특성 공학 feature engineering\n",
        "- 3차원 의상의 공간을 그리거나 상상할 수는 없으나, 선형회귀를 사용하여 특성이 많은 고차원에서 매우 복잡한 모델을 표현할 수 있다\n",
        "- 기존의 특성을 사용해 새로운 특성을 뽑아내는 작업을 특성공학이라고 부른다"
      ],
      "metadata": {
        "id": "7KogB36ZXIsZ"
      }
    },
    {
      "cell_type": "code",
      "execution_count": 1,
      "metadata": {
        "id": "2GEeD-9XNHK4",
        "colab": {
          "base_uri": "https://localhost:8080/"
        },
        "outputId": "04547605-74ae-453d-ffa2-347b12cff2e7"
      },
      "outputs": [
        {
          "output_type": "stream",
          "name": "stdout",
          "text": [
            "[[ 8.4   2.11  1.41]\n",
            " [13.7   3.53  2.  ]\n",
            " [15.    3.82  2.43]\n",
            " [16.2   4.59  2.63]\n",
            " [17.4   4.59  2.94]\n",
            " [18.    5.22  3.32]\n",
            " [18.7   5.2   3.12]\n",
            " [19.    5.64  3.05]\n",
            " [19.6   5.14  3.04]\n",
            " [20.    5.08  2.77]\n",
            " [21.    5.69  3.56]\n",
            " [21.    5.92  3.31]\n",
            " [21.    5.69  3.67]\n",
            " [21.3   6.38  3.53]\n",
            " [22.    6.11  3.41]\n",
            " [22.    5.64  3.52]\n",
            " [22.    6.11  3.52]\n",
            " [22.    5.88  3.52]\n",
            " [22.    5.52  4.  ]\n",
            " [22.5   5.86  3.62]\n",
            " [22.5   6.79  3.62]\n",
            " [22.7   5.95  3.63]\n",
            " [23.    5.22  3.63]\n",
            " [23.5   6.28  3.72]\n",
            " [24.    7.29  3.72]\n",
            " [24.    6.38  3.82]\n",
            " [24.6   6.73  4.17]\n",
            " [25.    6.44  3.68]\n",
            " [25.6   6.56  4.24]\n",
            " [26.5   7.17  4.14]\n",
            " [27.3   8.32  5.14]\n",
            " [27.5   7.17  4.34]\n",
            " [27.5   7.05  4.34]\n",
            " [27.5   7.28  4.57]\n",
            " [28.    7.82  4.2 ]\n",
            " [28.7   7.59  4.64]\n",
            " [30.    7.62  4.77]\n",
            " [32.8  10.03  6.02]\n",
            " [34.5  10.26  6.39]\n",
            " [35.   11.49  7.8 ]\n",
            " [36.5  10.88  6.86]\n",
            " [36.   10.61  6.74]\n",
            " [37.   10.84  6.26]\n",
            " [37.   10.57  6.37]\n",
            " [39.   11.14  7.49]\n",
            " [39.   11.14  6.  ]\n",
            " [39.   12.43  7.35]\n",
            " [40.   11.93  7.11]\n",
            " [40.   11.73  7.22]\n",
            " [40.   12.38  7.46]\n",
            " [40.   11.14  6.63]\n",
            " [42.   12.8   6.87]\n",
            " [43.   11.93  7.28]\n",
            " [43.   12.51  7.42]\n",
            " [43.5  12.6   8.14]\n",
            " [44.   12.49  7.6 ]]\n"
          ]
        }
      ],
      "source": [
        "import pandas as pd\n",
        "df = pd.read_csv('https://bit.ly/perch_csv_data')\n",
        "perch_full = df.to_numpy()\n",
        "print(perch_full)"
      ]
    },
    {
      "cell_type": "code",
      "source": [
        "import numpy as np\n",
        "\n",
        "perch_weight = np.array(\n",
        "    [5.9, 32.0, 40.0, 51.5, 70.0, 100.0, 78.0, 80.0, 85.0, 85.0, \n",
        "     110.0, 115.0, 125.0, 130.0, 120.0, 120.0, 130.0, 135.0, 110.0, \n",
        "     130.0, 150.0, 145.0, 150.0, 170.0, 225.0, 145.0, 188.0, 180.0, \n",
        "     197.0, 218.0, 300.0, 260.0, 265.0, 250.0, 250.0, 300.0, 320.0, \n",
        "     514.0, 556.0, 840.0, 685.0, 700.0, 700.0, 690.0, 900.0, 650.0, \n",
        "     820.0, 850.0, 900.0, 1015.0, 820.0, 1100.0, 1000.0, 1100.0, \n",
        "     1000.0, 1000.0]\n",
        "     )"
      ],
      "metadata": {
        "id": "poYBs6nQXkUo"
      },
      "execution_count": 2,
      "outputs": []
    },
    {
      "cell_type": "code",
      "source": [
        "# train, test split\n",
        "from sklearn.model_selection import train_test_split \n",
        "X_train, X_test, y_train, y_test = train_test_split(\n",
        "    perch_full, perch_weight, random_state = 1226\n",
        ")"
      ],
      "metadata": {
        "id": "u6E8-xRCXrZb"
      },
      "execution_count": 3,
      "outputs": []
    },
    {
      "cell_type": "code",
      "source": [
        "# 사이킷런에는 특성 전처리 및 변환을 위한 클래스를 제공하는 변환기가 존재\n",
        "from sklearn.preprocessing import PolynomialFeatures "
      ],
      "metadata": {
        "id": "4EbJxIP7Xz99"
      },
      "execution_count": 5,
      "outputs": []
    },
    {
      "cell_type": "code",
      "source": [
        "poly = PolynomialFeatures()\n",
        "poly.fit([[2,3]])\n",
        "print(poly.transform([[2,3]]))"
      ],
      "metadata": {
        "colab": {
          "base_uri": "https://localhost:8080/"
        },
        "id": "AsW19Gi5YJCU",
        "outputId": "31f5896c-bca1-4a7e-c290-23a179655208"
      },
      "execution_count": 6,
      "outputs": [
        {
          "output_type": "stream",
          "name": "stdout",
          "text": [
            "[[1. 2. 3. 4. 6. 9.]]\n"
          ]
        }
      ]
    },
    {
      "cell_type": "code",
      "source": [
        "# fit() 메서드는 새롭게 만들 특성 조합을 찾고, transform() 메서드는 실제로 데이터를 변환하는 역할\n",
        "# fit() 메서드 호출에서, 변환기는 입력 데이터를 변환하는데 타깃 데이터를 필요로 하지 않음\n",
        "\n",
        "poly = PolynomialFeatures(include_bias = False) # 이 부분에서 절편을 위한 항은 제거\n",
        "poly.fit([[2,3]])\n",
        "print(poly.transform([[2,3]]))\n",
        "# 결과물은 feature 제곱, features 간 곱한 값들만 추가\n",
        "# 사실 include_bias = False  가 일반값이기 떄문에, 저 클래스는 자동적으로 무시"
      ],
      "metadata": {
        "colab": {
          "base_uri": "https://localhost:8080/"
        },
        "id": "0Jmn0eiWYO9H",
        "outputId": "7b02c575-6277-41fc-e1b4-f9c632047fce"
      },
      "execution_count": 8,
      "outputs": [
        {
          "output_type": "stream",
          "name": "stdout",
          "text": [
            "[[2. 3. 4. 6. 9.]]\n"
          ]
        }
      ]
    },
    {
      "cell_type": "code",
      "source": [
        "poly = PolynomialFeatures(include_bias = False)\n",
        "poly.fit(X_train)\n",
        "train_poly = poly.transform(X_train)\n",
        "print(train_poly.shape)"
      ],
      "metadata": {
        "colab": {
          "base_uri": "https://localhost:8080/"
        },
        "id": "uzPm75iGYtWb",
        "outputId": "1695e286-ae88-4904-ea0a-9ea1e5e3d82f"
      },
      "execution_count": 10,
      "outputs": [
        {
          "output_type": "stream",
          "name": "stdout",
          "text": [
            "(42, 9)\n"
          ]
        }
      ]
    },
    {
      "cell_type": "code",
      "source": [
        "# polynomialfeatures 클래스는 9개의 특성이 어떻게 만들어졌는지 확인하는 좋은 방법제공\n",
        "# get_feature_names() 메서드 호출 시 9개 특성이 어떤 조합으로 만들어졌는지도 알려줌\n",
        "poly.get_feature_names()\n",
        "# x0 은 첫번째 특성, x0^2 는 x0 의 제곱값, x0 x1 는 x0, x1 의 곱한 값을 의미함"
      ],
      "metadata": {
        "colab": {
          "base_uri": "https://localhost:8080/"
        },
        "id": "639P-bguY_2s",
        "outputId": "f5b38d78-e04b-4b9e-d00a-8e9eb35f86fe"
      },
      "execution_count": 12,
      "outputs": [
        {
          "output_type": "stream",
          "name": "stderr",
          "text": [
            "/usr/local/lib/python3.7/dist-packages/sklearn/utils/deprecation.py:87: FutureWarning: Function get_feature_names is deprecated; get_feature_names is deprecated in 1.0 and will be removed in 1.2. Please use get_feature_names_out instead.\n",
            "  warnings.warn(msg, category=FutureWarning)\n"
          ]
        },
        {
          "output_type": "execute_result",
          "data": {
            "text/plain": [
              "['x0', 'x1', 'x2', 'x0^2', 'x0 x1', 'x0 x2', 'x1^2', 'x1 x2', 'x2^2']"
            ]
          },
          "metadata": {},
          "execution_count": 12
        }
      ]
    },
    {
      "cell_type": "code",
      "source": [
        "test_poly = poly.transform(X_test)\n",
        "# 꼭 train셋에 적용하였던 변환기로 테스트셋 변환이 필요할까? \n",
        "# 물론 polynomial features 클래스는 별도 통계값을 구하지 않기 때문에, 테스트셋에 별도 적용해도 되나\n",
        "# 일반적으로 훈련셋 기준으로 테스트셋을 변환하는 습관을 들이는 것이 중요"
      ],
      "metadata": {
        "id": "sg4cv-bDZQMO"
      },
      "execution_count": 14,
      "outputs": []
    },
    {
      "cell_type": "code",
      "source": [
        "# 다중 회귀 모델 훈련하기 : 여러개의 특성을 사용한 선형회귀를 수행\n",
        "from sklearn.linear_model import LinearRegression \n",
        "lr = LinearRegression()\n",
        "lr.fit(X_train, y_train)"
      ],
      "metadata": {
        "colab": {
          "base_uri": "https://localhost:8080/"
        },
        "id": "wTqvMuRuZgJf",
        "outputId": "6467f3be-c05b-4c02-82d2-1f79ec02e6b4"
      },
      "execution_count": 16,
      "outputs": [
        {
          "output_type": "execute_result",
          "data": {
            "text/plain": [
              "LinearRegression()"
            ]
          },
          "metadata": {},
          "execution_count": 16
        }
      ]
    },
    {
      "cell_type": "code",
      "source": [
        "# 다항변수 처리하지 않았을 경우의 학습 결정계수 (r-squared)\n",
        "# lr.score() 함수 자체에 이미 predict() , predict() 를 사용해 얻은 예측값 뽑아내는 함수 둘다 가지고 있는 \n",
        "lr = LinearRegression()\n",
        "lr.fit(X_train, y_train)\n",
        "lr.predict(X_test)\n",
        "print(lr.score(X_train, y_train))\n",
        "print(lr.score(X_test, y_test))"
      ],
      "metadata": {
        "colab": {
          "base_uri": "https://localhost:8080/"
        },
        "id": "cZeia25Ta3bd",
        "outputId": "0d8df6d8-f1e8-4ff6-9e7a-5cd8111605ee"
      },
      "execution_count": 19,
      "outputs": [
        {
          "output_type": "stream",
          "name": "stdout",
          "text": [
            "0.9436450725338807\n",
            "0.931687817823099\n"
          ]
        }
      ]
    },
    {
      "cell_type": "code",
      "source": [
        "# 다항변수 처리하였을 경우의 학습 결정계수 (r-squared)\n",
        "lr = LinearRegression()\n",
        "lr.fit(train_poly, y_train)\n",
        "print(lr.score(train_poly, y_train))\n",
        "print(lr.score(test_poly, y_test))"
      ],
      "metadata": {
        "colab": {
          "base_uri": "https://localhost:8080/"
        },
        "id": "wBCtunota_iD",
        "outputId": "80e9f6d5-7cda-4995-e001-5a877c59fc81"
      },
      "execution_count": 20,
      "outputs": [
        {
          "output_type": "stream",
          "name": "stdout",
          "text": [
            "0.9941473874412844\n",
            "0.9598100582407771\n"
          ]
        }
      ]
    },
    {
      "cell_type": "code",
      "source": [
        "# 다항변수 처리 후 score 를 살펴보니 모두 점수가 올랐다"
      ],
      "metadata": {
        "id": "HGDL8QrvbLSZ"
      },
      "execution_count": 21,
      "outputs": []
    },
    {
      "cell_type": "code",
      "source": [
        "# 어느 수준까지 다항변수 처리하면 유의미한 모델 개선 효과가 드러날까?\n",
        "poly = PolynomialFeatures(degree = 5, include_bias = False)\n",
        "poly.fit(X_train) \n",
        "train_poly = poly.transform(X_train) \n",
        "test_poly = poly.transform(X_test) \n",
        "print(train_poly.shape)"
      ],
      "metadata": {
        "colab": {
          "base_uri": "https://localhost:8080/"
        },
        "id": "WBs93WgOcQx2",
        "outputId": "291bd9e2-500e-4d8c-a355-df21e79354bc"
      },
      "execution_count": 24,
      "outputs": [
        {
          "output_type": "stream",
          "name": "stdout",
          "text": [
            "(42, 55)\n"
          ]
        }
      ]
    },
    {
      "cell_type": "code",
      "source": [
        "lr.fit(train_poly, y_train)\n",
        "print(lr.score(train_poly, y_train))"
      ],
      "metadata": {
        "colab": {
          "base_uri": "https://localhost:8080/"
        },
        "id": "i1h1GTi_ciZf",
        "outputId": "38c62b79-fd2e-4da2-9b79-d279c563a0a5"
      },
      "execution_count": 25,
      "outputs": [
        {
          "output_type": "stream",
          "name": "stdout",
          "text": [
            "0.999999999999998\n"
          ]
        }
      ]
    },
    {
      "cell_type": "code",
      "source": [
        "print(lr.score(test_poly, y_test)) \n",
        "# 엄청난 음수를 보임\n",
        "# 특성의 갯수를 크게 늘리면 선형 모델은 아주 강력해짐\n",
        "# 훈련 셋에 대해 거의 완벽하게 학습할 수 있으나, 과대적합되어 테스트셋에는 형편없는 점수 생성"
      ],
      "metadata": {
        "colab": {
          "base_uri": "https://localhost:8080/"
        },
        "id": "fkpaUwbocug6",
        "outputId": "9ba7613b-83ed-441d-e397-74b32f6dfe52"
      },
      "execution_count": 27,
      "outputs": [
        {
          "output_type": "stream",
          "name": "stdout",
          "text": [
            "-35.68228867738106\n"
          ]
        }
      ]
    },
    {
      "cell_type": "code",
      "source": [
        "# 심지어 만약, 샘플 갯수보다 피쳐가 많다면 어떨까? \n",
        "# 현재 학습한 샘플은 42개, 특성은 55개\n",
        "# 완벽하게 학습되는 것이 당연하나, 과적합 우려를 피할 수 없다"
      ],
      "metadata": {
        "id": "fQNs8xfTcwh_"
      },
      "execution_count": 28,
      "outputs": []
    },
    {
      "cell_type": "code",
      "source": [
        "# 규제\n",
        "# 너무 과도하게 훈련셋에 학습하지 않도록 하는 것\n",
        "# 선형회귀 모델의 경우, 특성에 곱해지는 계수를 작게 만드는 일\n",
        "\n",
        "from sklearn.preprocessing import StandardScaler \n",
        "ss = StandardScaler() \n",
        "ss.fit(train_poly) \n",
        "train_scaled = ss.transform(train_poly)\n",
        "test_scaled = ss.transform(test_poly)\n",
        "\n",
        "# StandardScaler 클래스의 객체 ss 를 초기화\n",
        "# PolynomialFeatures 클래스로 만든 train_poly 를 사용하여 이 객체를 훈련\n",
        "# 최종 표준점수로 변환한 train_scaled 과 test_scaled 가 준비"
      ],
      "metadata": {
        "id": "kQOHW4flevX9"
      },
      "execution_count": 30,
      "outputs": []
    },
    {
      "cell_type": "code",
      "source": [
        "#규체 추가하는 방식 : ridge, lasso \n",
        "# ridge : 계수를 제곱한 값을 기준으로 규제를 적용\n",
        "# lasso : 계수의 절댓값을 기준으로 규제를 적용\n",
        "# ridge 를 일반적으로 더 선호, lasso 의 경우 계수의 크기를 0으로 조절하여 영향을 끼치ㅣㅈ 않게 만들 수도 있음"
      ],
      "metadata": {
        "id": "1Qh3OqyUfc3L"
      },
      "execution_count": 31,
      "outputs": []
    },
    {
      "cell_type": "code",
      "source": [
        "# 릿지회귀\n",
        "from sklearn.linear_model import Ridge \n",
        "ridge = Ridge() \n",
        "ridge.fit(train_scaled, y_train) \n",
        "print(ridge.score(train_scaled, y_train))\n",
        "# 선형회귀에서 0.999999... 였던 점수가 조금 낮아짐"
      ],
      "metadata": {
        "colab": {
          "base_uri": "https://localhost:8080/"
        },
        "id": "VQGH5NAcgyF3",
        "outputId": "7a2c0af8-62cf-4651-d5d4-fd6e40acc409"
      },
      "execution_count": 32,
      "outputs": [
        {
          "output_type": "stream",
          "name": "stdout",
          "text": [
            "0.9926216119555998\n"
          ]
        }
      ]
    },
    {
      "cell_type": "code",
      "source": [
        "print(ridge.score(test_scaled, y_test))\n",
        "# 테스트셋 점수의 경우, 음의 점수값을 가지는게 아니고 정상적인 범주로 돌아옴"
      ],
      "metadata": {
        "colab": {
          "base_uri": "https://localhost:8080/"
        },
        "id": "EU-ajHh7g8uE",
        "outputId": "17fbbf11-bc0a-40b9-ca82-bda2133cdcea"
      },
      "execution_count": 33,
      "outputs": [
        {
          "output_type": "stream",
          "name": "stdout",
          "text": [
            "0.9699429601434595\n"
          ]
        }
      ]
    },
    {
      "cell_type": "code",
      "source": [
        "# ridge lasso 모델 사용시 규제의 양도 조절이 가능\n",
        "# alpha 를 사용하면 되며, \n",
        "# alpha 값이 커지면 규제 강도가 세지므로 계수값을 더 줄임, 조금 더 과소적합\n",
        "# alpha 값이 작아지면 규제강도가 작아지므로 계수값을 덜 줄임, 과대적합될 가능성이 큼\n",
        "# alpha 값의 형우 사람이 적당한 방법을 찾아야 함\n",
        "## 방법? alpha 에 대한 r-squared 값을 그려서 훈련-테스트셋 점수가 가장 가까운 지점을 선택\n"
      ],
      "metadata": {
        "id": "KamH8o8rhDNi"
      },
      "execution_count": 34,
      "outputs": []
    },
    {
      "cell_type": "code",
      "source": [
        "import matplotlib.pyplot as plt\n",
        "train_score = []\n",
        "test_score = []\n",
        "\n",
        "# alpha 값을 0.001 ~ 100 까지 10 배씩 늘려가며 릿지회귀모델을 훈련한 다음 확인\n",
        "alpha_list = [0.001, 0.01, 0.1, 1, 10, 100, 1000]\n",
        "for alpha in alpha_list: \n",
        "  # 릿지 모델을 만든다 \n",
        "  ridge = Ridge(alpha = alpha)\n",
        "  # 릿지 모델 훈련시킨다 \n",
        "  ridge.fit(train_scaled, y_train)\n",
        "  # 훈련 점수와 테스트 점수를 저장 \n",
        "  train_score.append(ridge.score(train_scaled, y_train))\n",
        "  test_score.append(ridge.score(test_scaled, y_test))"
      ],
      "metadata": {
        "id": "s7VpiuNlh6C_"
      },
      "execution_count": 51,
      "outputs": []
    },
    {
      "cell_type": "code",
      "source": [
        "# 그래프를 이쁘게 그리기 위해, alpha_list 의 값을 지수값으로 변환하여 동일한 간격으로 표현\n",
        "\n",
        "plt.plot(np.log10(alpha_list), train_score, label = 'train')\n",
        "plt.plot(np.log10(alpha_list), test_score, label = 'test') \n",
        "plt.xlabel('alpha')\n",
        "plt.ylabel('R^2')\n",
        "plt.legend()\n",
        "plt.show()\n",
        "# 10**2 되는 되는 지점에서 r-squared 점수 역전\n",
        "# train set 은 점차 감소하고, test set 은 증가하다가 감소하는 형태\n",
        "# 적절한 alpha 값은 두 그래프가 가장 가깝고, 테스트셋이 점수가 높은 2 의 상태\n",
        "# (책의 결과와 다르게 나옴)"
      ],
      "metadata": {
        "colab": {
          "base_uri": "https://localhost:8080/",
          "height": 279
        },
        "id": "cUmAByrbiWjS",
        "outputId": "b8465eb1-3ca8-43ac-e525-78935da08adb"
      },
      "execution_count": 55,
      "outputs": [
        {
          "output_type": "display_data",
          "data": {
            "image/png": "[encoded data removed]",
            "text/plain": [
              "<Figure size 432x288 with 1 Axes>"
            ]
          },
          "metadata": {
            "needs_background": "light"
          }
        }
      ]
    },
    {
      "cell_type": "code",
      "source": [
        "ridge = Ridge(alpha = 2)\n",
        "ridge.fit(train_scaled, y_train)\n",
        "print(ridge.score(train_scaled, y_train))\n",
        "print(ridge.score(test_scaled, y_test))"
      ],
      "metadata": {
        "colab": {
          "base_uri": "https://localhost:8080/"
        },
        "id": "JX7rHFHCitjl",
        "outputId": "4566aa97-651e-431a-a130-70daee3630e3"
      },
      "execution_count": 56,
      "outputs": [
        {
          "output_type": "stream",
          "name": "stdout",
          "text": [
            "0.9917285047519867\n",
            "0.9723847081660919\n"
          ]
        }
      ]
    },
    {
      "cell_type": "code",
      "source": [
        "# 라쏘 회귀\n",
        "from sklearn.linear_model import Lasso \n",
        "lasso = Lasso() \n",
        "lasso.fit(train_scaled, y_train)\n",
        "print(lasso.score(train_scaled, y_train))"
      ],
      "metadata": {
        "colab": {
          "base_uri": "https://localhost:8080/"
        },
        "id": "BPW3XUGKme7e",
        "outputId": "a549527a-12a5-4bae-d7e1-dad707ac0682"
      },
      "execution_count": 58,
      "outputs": [
        {
          "output_type": "stream",
          "name": "stdout",
          "text": [
            "0.9914936860826707\n"
          ]
        },
        {
          "output_type": "stream",
          "name": "stderr",
          "text": [
            "/usr/local/lib/python3.7/dist-packages/sklearn/linear_model/_coordinate_descent.py:648: ConvergenceWarning: Objective did not converge. You might want to increase the number of iterations, check the scale of the features or consider increasing regularisation. Duality gap: 1.987e+03, tolerance: 5.193e+02\n",
            "  coef_, l1_reg, l2_reg, X, y, max_iter, tol, rng, random, positive\n"
          ]
        }
      ]
    },
    {
      "cell_type": "code",
      "source": [
        "print(lasso.score(test_scaled, y_test))"
      ],
      "metadata": {
        "colab": {
          "base_uri": "https://localhost:8080/"
        },
        "id": "4o_EiC76mhLY",
        "outputId": "ed48b0b0-310e-4013-d60f-3290dba779cf"
      },
      "execution_count": 59,
      "outputs": [
        {
          "output_type": "stream",
          "name": "stdout",
          "text": [
            "0.9714585457613373\n"
          ]
        }
      ]
    },
    {
      "cell_type": "code",
      "source": [
        "train_score = []\n",
        "test_score = []\n",
        "alpha_list = [0.001, 0.1, 0.1, 1, 10, 100]\n",
        "for alpha in alpha_list: \n",
        "  lasso = Lasso(alpha = alpha, max_iter = 10000) \n",
        "  lasso.fit(train_scaled, y_train) \n",
        "  # 훈련점수와 테스트점수 저장 \n",
        "  train_score.append(lasso.score(train_scaled, y_train)) \n",
        "  test_score.append(lasso.score(test_scaled, y_test))\n",
        "\n",
        "# 아래와 같이 ConvergenceWarning 가 뜰 경우\n",
        "# 최적의 계수를 찾기 위한 반복적인 계산을 수행하는데 지정 반복횟수가 부족할 때 발생하는 함수\n",
        "# 이를 확인한 뒤 max_iter 변수 값을 늘리면 된다"
      ],
      "metadata": {
        "colab": {
          "base_uri": "https://localhost:8080/"
        },
        "id": "PbElzyZAnoAT",
        "outputId": "2825c8bf-fb93-4fb6-a899-80fdbac577e8"
      },
      "execution_count": 61,
      "outputs": [
        {
          "output_type": "stream",
          "name": "stderr",
          "text": [
            "/usr/local/lib/python3.7/dist-packages/sklearn/linear_model/_coordinate_descent.py:648: ConvergenceWarning: Objective did not converge. You might want to increase the number of iterations, check the scale of the features or consider increasing regularisation. Duality gap: 8.721e+03, tolerance: 5.193e+02\n",
            "  coef_, l1_reg, l2_reg, X, y, max_iter, tol, rng, random, positive\n",
            "/usr/local/lib/python3.7/dist-packages/sklearn/linear_model/_coordinate_descent.py:648: ConvergenceWarning: Objective did not converge. You might want to increase the number of iterations, check the scale of the features or consider increasing regularisation. Duality gap: 6.162e+02, tolerance: 5.193e+02\n",
            "  coef_, l1_reg, l2_reg, X, y, max_iter, tol, rng, random, positive\n",
            "/usr/local/lib/python3.7/dist-packages/sklearn/linear_model/_coordinate_descent.py:648: ConvergenceWarning: Objective did not converge. You might want to increase the number of iterations, check the scale of the features or consider increasing regularisation. Duality gap: 6.162e+02, tolerance: 5.193e+02\n",
            "  coef_, l1_reg, l2_reg, X, y, max_iter, tol, rng, random, positive\n"
          ]
        }
      ]
    },
    {
      "cell_type": "code",
      "source": [
        "# 그래프를 이쁘게 그리기 위해, alpha_list 의 값을 지수값으로 변환하여 동일한 간격으로 표현\n",
        "\n",
        "plt.plot(np.log10(alpha_list), train_score, label = 'train')\n",
        "plt.plot(np.log10(alpha_list), test_score, label = 'test') \n",
        "plt.xlabel('alpha')\n",
        "plt.ylabel('R^2')\n",
        "plt.legend()\n",
        "plt.show()\n",
        "# 왼쪽은 과대적합 : 학습 오차는 적고 테스트 오차는 큰 경우\n",
        "# 오른쪽으로 갈수록 훈련셋과 테스트셋 점수 폭이 줄어든다\n",
        "# 가장 오른쪽은 아주 크게 점수가 감소하고 있는데, 이는 과소적합된 모델을 의미\n",
        "# 이때의 최적의 alpha 값은 1, "
      ],
      "metadata": {
        "colab": {
          "base_uri": "https://localhost:8080/",
          "height": 281
        },
        "id": "cmGXP97vn_MO",
        "outputId": "5f7acf5c-bd20-492c-9f4a-e89e7368a29d"
      },
      "execution_count": 63,
      "outputs": [
        {
          "output_type": "display_data",
          "data": {
            "image/png": "[encoded data removed]",
            "text/plain": [
              "<Figure size 432x288 with 1 Axes>"
            ]
          },
          "metadata": {
            "needs_background": "light"
          }
        }
      ]
    },
    {
      "cell_type": "code",
      "source": [
        "# 위의 그래프를 기반으로 다시 훈련\n",
        "lasso = Lasso(alpha = 10)\n",
        "lasso.fit(train_scaled, y_train) \n",
        "print(lasso.score(train_scaled, y_train)) \n",
        "print(lasso.score(test_scaled, y_test))"
      ],
      "metadata": {
        "colab": {
          "base_uri": "https://localhost:8080/"
        },
        "id": "kjnSLMrxoQpP",
        "outputId": "70cb3d92-9e6f-44a3-d9e8-7f22c2d04b76"
      },
      "execution_count": 65,
      "outputs": [
        {
          "output_type": "stream",
          "name": "stdout",
          "text": [
            "0.9905872112608383\n",
            "0.9732179347342856\n"
          ]
        },
        {
          "output_type": "stream",
          "name": "stderr",
          "text": [
            "/usr/local/lib/python3.7/dist-packages/sklearn/linear_model/_coordinate_descent.py:648: ConvergenceWarning: Objective did not converge. You might want to increase the number of iterations, check the scale of the features or consider increasing regularisation. Duality gap: 1.085e+03, tolerance: 5.193e+02\n",
            "  coef_, l1_reg, l2_reg, X, y, max_iter, tol, rng, random, positive\n"
          ]
        }
      ]
    },
    {
      "cell_type": "code",
      "source": [
        "# 학습된 계수 중에서, 라쏘 모델을 통해 0이 된 것들을 확인하는 방법\n",
        "print(np.sum(lasso.coef_ == 0)) # 갯수 확인\n",
        "# np.sum() 함수는 배열을 모두 더한 것을 의미, == 0 으로 확인했기 때문에 \n",
        "# 맞는 것은 True 로 반환될 것"
      ],
      "metadata": {
        "id": "4Fu7jb6wotYv"
      },
      "execution_count": null,
      "outputs": []
    },
    {
      "cell_type": "code",
      "source": [
        "# PolynomialFeatures\n",
        "#  : degree = 2 가 기본,\n",
        "# interaction_only = True 이면 거듭제곱항은 제외하고 특성간의 곱셈항만 추가,\n",
        "# include_bias = False 이면 절편 미포함, 기본은 True\n",
        "\n",
        "# Ridge \n",
        "# : alpha 로 규제 강도 정하며, 클 수록 일반화 됨, \n",
        "# solver 매개변수에 '최적의 모델 찾기 위한 방법 지정' 기본 auto"
      ],
      "metadata": {
        "id": "_HonPXRopFlG"
      },
      "execution_count": null,
      "outputs": []
    },
    {
      "cell_type": "code",
      "source": [
        "# 확인문제\n",
        "#1. degree = 3 으로 지정된 PolynomialFeatures 일경우 : 4 은 포함되지 않는다, 차수가 4이기 때문에 범위에서 벗어남\n",
        "#2. 특성 표준화 사이킷런 변환기 클래스 : StandardScaler\n",
        "#3. 과대적합 모델은 훈련셋 점수가 높다\n",
        "#3. 과대적합인 모델은 테스트셋의 점수는 낮다 -- 답\n",
        "#3. 과소적합인 모델은 훈련셋의 점수가 낮다\n",
        "#3. 과소적합인 모델은 테스트셋의 점수가 낮다"
      ],
      "metadata": {
        "id": "nHRol0anpeXj"
      },
      "execution_count": null,
      "outputs": []
    }
  ]
}