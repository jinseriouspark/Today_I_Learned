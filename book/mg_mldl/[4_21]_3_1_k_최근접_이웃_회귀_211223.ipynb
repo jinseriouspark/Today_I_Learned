{
  "nbformat": 4,
  "nbformat_minor": 0,
  "metadata": {
    "colab": {
      "name": "[4/21] 3.1. k-최근접 이웃 회귀_211223",
      "provenance": []
    },
    "kernelspec": {
      "name": "python3",
      "display_name": "Python 3"
    },
    "language_info": {
      "name": "python"
    }
  },
  "cells": [
    {
      "cell_type": "markdown",
      "source": [
        "# 3.1. k-최근접 이웃 회귀\n",
        "### 분류\n",
        "- 예측하려는 샘플에 가장 가까운 샘플 K를 선택\n",
        "- 그 다음 이 샘플들의 클래스를 확인하여, 다수 클래스를 새로운 샘플릥 클래스로 예측\n",
        "### 회귀\n",
        "- 예측하려는 샘플에 가장 가까운 샘플 k를 선택\n",
        "- 평균값 계산\n"
      ],
      "metadata": {
        "id": "uhG4O1olKYT7"
      }
    },
    {
      "cell_type": "code",
      "execution_count": null,
      "metadata": {
        "id": "kOImArQUKUXm"
      },
      "outputs": [],
      "source": [
        "import numpy as np\n",
        "perch_length = np.array(\n",
        "    [8.4, 13.7, 15.0, 16.2, 17.4, 18.0, 18.7, 19.0, 19.6, 20.0, \n",
        "     21.0, 21.0, 21.0, 21.3, 22.0, 22.0, 22.0, 22.0, 22.0, 22.5, \n",
        "     22.5, 22.7, 23.0, 23.5, 24.0, 24.0, 24.6, 25.0, 25.6, 26.5, \n",
        "     27.3, 27.5, 27.5, 27.5, 28.0, 28.7, 30.0, 32.8, 34.5, 35.0, \n",
        "     36.5, 36.0, 37.0, 37.0, 39.0, 39.0, 39.0, 40.0, 40.0, 40.0, \n",
        "     40.0, 42.0, 43.0, 43.0, 43.5, 44.0]\n",
        "     )\n",
        "perch_weight = np.array(\n",
        "    [5.9, 32.0, 40.0, 51.5, 70.0, 100.0, 78.0, 80.0, 85.0, 85.0, \n",
        "     110.0, 115.0, 125.0, 130.0, 120.0, 120.0, 130.0, 135.0, 110.0, \n",
        "     130.0, 150.0, 145.0, 150.0, 170.0, 225.0, 145.0, 188.0, 180.0, \n",
        "     197.0, 218.0, 300.0, 260.0, 265.0, 250.0, 250.0, 300.0, 320.0, \n",
        "     514.0, 556.0, 840.0, 685.0, 700.0, 700.0, 690.0, 900.0, 650.0, \n",
        "     820.0, 850.0, 900.0, 1015.0, 820.0, 1100.0, 1000.0, 1100.0, \n",
        "     1000.0, 1000.0]\n",
        "     )"
      ]
    },
    {
      "cell_type": "code",
      "source": [
        "import matplotlib.pyplot as plt \n",
        "plt.scatter(perch_length, perch_length) \n",
        "plt.xlabel('length')\n",
        "plt.ylabel('weight')\n",
        "plt.show()"
      ],
      "metadata": {
        "colab": {
          "base_uri": "https://localhost:8080/",
          "height": 279
        },
        "id": "nNkl9Jw_LAIH",
        "outputId": "dcc37149-e0ff-444c-cc76-0241637c2ddb"
      },
      "execution_count": null,
      "outputs": [
        {
          "output_type": "display_data",
          "data": {
            "image/png": "[encoded data removed]",
            "text/plain": [
              "<Figure size 432x288 with 1 Axes>"
            ]
          },
          "metadata": {
            "needs_background": "light"
          }
        }
      ]
    },
    {
      "cell_type": "code",
      "source": [
        "from sklearn.model_selection import train_test_split \n",
        "X_train, X_test, y_train, y_test = train_test_split(perch_length, perch_weight, random_state = 1223)"
      ],
      "metadata": {
        "id": "2mpn4A3lLBiG"
      },
      "execution_count": null,
      "outputs": []
    },
    {
      "cell_type": "code",
      "source": [
        "# 사이킷런에 사용할 훈련셋은 2차월 배열이여함\n",
        "# 2차원 배열로 만들기 위해서는 억지로 배열을 하나 추가해야 함\n",
        "t_a = np.array([1,2,3,4])\n",
        "print(t_a.shape)\n",
        "\n",
        "t_a.reshape(2,2)"
      ],
      "metadata": {
        "colab": {
          "base_uri": "https://localhost:8080/"
        },
        "id": "JjQuNlYGLb2P",
        "outputId": "f2cfc0c9-8787-43be-e0f5-a42ad435cb7a"
      },
      "execution_count": null,
      "outputs": [
        {
          "output_type": "stream",
          "name": "stdout",
          "text": [
            "(4,)\n"
          ]
        },
        {
          "output_type": "execute_result",
          "data": {
            "text/plain": [
              "array([[1, 2],\n",
              "       [3, 4]])"
            ]
          },
          "metadata": {},
          "execution_count": 24
        }
      ]
    },
    {
      "cell_type": "code",
      "source": [
        "X_train.shape # 42행 0열인 이 array 값을 2차원 배열 형태로 바꾸어야 함\n",
        "# 42,) -> (42, 1)"
      ],
      "metadata": {
        "colab": {
          "base_uri": "https://localhost:8080/"
        },
        "id": "DpixIELtLq5W",
        "outputId": "67aa84e9-9b22-412d-e2e8-1d4f71d896f6"
      },
      "execution_count": null,
      "outputs": [
        {
          "output_type": "execute_result",
          "data": {
            "text/plain": [
              "(42,)"
            ]
          },
          "metadata": {},
          "execution_count": 25
        }
      ]
    },
    {
      "cell_type": "code",
      "source": [
        "X_train = X_train.reshape(-1, 1)\n",
        "X_test = X_test.reshape(-1,1)\n",
        "print(X_train.shape, X_test.shape)"
      ],
      "metadata": {
        "colab": {
          "base_uri": "https://localhost:8080/"
        },
        "id": "M-GPT0ceLz1-",
        "outputId": "d3a85573-30ad-4bd4-b650-1218c8897997"
      },
      "execution_count": null,
      "outputs": [
        {
          "output_type": "stream",
          "name": "stdout",
          "text": [
            "(42, 1) (14, 1)\n"
          ]
        }
      ]
    },
    {
      "cell_type": "code",
      "source": [
        "# 학습 후 결정계수로 결과 확인하기\n",
        "\n",
        "from sklearn.neighbors import KNeighborsRegressor \n",
        "knr = KNeighborsRegressor()\n",
        "\n",
        "# k최근접이웃회귀모델\n",
        "knr.fit(X_train, y_train)"
      ],
      "metadata": {
        "colab": {
          "base_uri": "https://localhost:8080/"
        },
        "id": "liC__LCoMLau",
        "outputId": "d731c379-6b2c-4596-f080-1baf0fd24b77"
      },
      "execution_count": null,
      "outputs": [
        {
          "output_type": "execute_result",
          "data": {
            "text/plain": [
              "KNeighborsRegressor()"
            ]
          },
          "metadata": {},
          "execution_count": 27
        }
      ]
    },
    {
      "cell_type": "code",
      "source": [
        "# k최근접이웃회귀모델\n",
        "knr.score(X_train, y_train)"
      ],
      "metadata": {
        "colab": {
          "base_uri": "https://localhost:8080/"
        },
        "id": "ZbRmOO-xOYGf",
        "outputId": "3af12f42-d6da-46c5-f2b0-89fadd17619c"
      },
      "execution_count": null,
      "outputs": [
        {
          "output_type": "execute_result",
          "data": {
            "text/plain": [
              "0.9831932927411713"
            ]
          },
          "metadata": {},
          "execution_count": 28
        }
      ]
    },
    {
      "cell_type": "code",
      "source": [
        "print(knr.score(X_test, y_test))"
      ],
      "metadata": {
        "colab": {
          "base_uri": "https://localhost:8080/"
        },
        "id": "WNrIZuUXMaWG",
        "outputId": "56044a06-00e7-4808-db2b-d2f1db88c992"
      },
      "execution_count": null,
      "outputs": [
        {
          "output_type": "stream",
          "name": "stdout",
          "text": [
            "0.9457622399994386\n"
          ]
        }
      ]
    },
    {
      "cell_type": "code",
      "source": [
        "# 분류의 경우, 테스트셋에 있는 샘플을 정확하게 분류한 개수의 비율 : 정확도, 정답을 맞힌 개수의 비율\n",
        "# 회귀의 경우, 결정계수, coefficient of determination 이라고 부름 \n",
        "# 각 샘플의 타깃과 예측한 값의 차이를 제곱하여 더함\n",
        "# 그 다음 타깃과 타깃 평균의 차이를 제곱하여 더한 값으로 나눔\n",
        "# 타깃의 평균 정도를 예측하는 수준이라면, (분자와 분모가 비슷해져서) 0에 가까워짐\n",
        "# 타깃이 예측이랑 가까우면, 분자가 0에 가깝기 떄문에 1에 가까운 값을 가짐 "
      ],
      "metadata": {
        "id": "fZw9I6QiMc5m"
      },
      "execution_count": null,
      "outputs": []
    },
    {
      "cell_type": "code",
      "source": [
        "# 그러나 이 결정계수 값이 어느정도로 좋은지 직관적인 이해가 어렵다\n",
        "\n",
        "from sklearn.metrics import mean_absolute_error \n",
        "\n",
        "# 테스트셋에 대한 예측을 만듦\n",
        "test_prediction = knr.predict(X_test)\n",
        "\n",
        "# 테스트셋에 대한 평균 절댓값 오차를 계산\n",
        "mae = mean_absolute_error(y_test, test_prediction)\n",
        "print(mae)\n",
        "# 예측값은 평균적으로 54g만큼 다르다고 해석할 수 있다. \n",
        "# 테스트오차\n",
        "\n",
        "# 만약 학습오차가 필요하다면 아래와 같이 계산\n",
        "train_pred = knr.predict(X_train)\n",
        "train_mae = mean_absolute_error(y_train, train_pred)\n",
        "print(train_mae)\n",
        "\n",
        "# 27g 정도 차이를 냄\n",
        "\n",
        "# 테스트 오차 대비 50% 수준으로 적은 오차"
      ],
      "metadata": {
        "colab": {
          "base_uri": "https://localhost:8080/"
        },
        "id": "WG9SaVpNM6gP",
        "outputId": "44f7956b-d9b5-4e6f-f70b-3d8bf2f3346b"
      },
      "execution_count": null,
      "outputs": [
        {
          "output_type": "stream",
          "name": "stdout",
          "text": [
            "54.73571428571429\n",
            "27.549523809523812\n"
          ]
        }
      ]
    },
    {
      "cell_type": "code",
      "source": [
        "# 과대적합 vs 과소적합\n",
        "## 학습오차는 작으나 테스트오차는 클 경우 : 과대적합\n",
        "## 학습오차는 크나 테스트오차는 작을 경우 : 과소적합\n",
        "\n",
        "# 데이터셋이 너무 작을 경우, 과소 적합이 일어나기도 함"
      ],
      "metadata": {
        "id": "pmoEirP8NMYf"
      },
      "execution_count": null,
      "outputs": []
    },
    {
      "cell_type": "code",
      "source": [
        "knr.n_neighbors = 3\n",
        "\n",
        "knr.fit(X_train, y_train)\n",
        "print(knr.score(X_train, y_train))\n",
        "\n",
        "#k = 3 으로 줄였더니 결정계수 값이 더 커졌다\n",
        "\n",
        "# 책 테스트와 다르게 random_state = 1223 으로 할 경우 아래와 같은 결과 발생\n",
        "## 학습시 결정계수 : 0.9831932927411713\n",
        "## 테스트시 결정계수 : 0.9807822652428189\n",
        "# 결정계수는 감소, 성능이 더 떨어짐"
      ],
      "metadata": {
        "colab": {
          "base_uri": "https://localhost:8080/"
        },
        "id": "r1GDyOSsN6qq",
        "outputId": "0ab80c97-b21b-48a4-9bb3-1c6294e2595e"
      },
      "execution_count": null,
      "outputs": [
        {
          "output_type": "stream",
          "name": "stdout",
          "text": [
            "0.9807822652428189\n"
          ]
        }
      ]
    },
    {
      "cell_type": "code",
      "source": [
        "print(knr.score(X_test, y_test))\n",
        "# 테스트 시 결정계수 값도 \n",
        "\n",
        "# k = 5 일떄의 결정계수 : 0.9457622399994386\n",
        "# k = 3 일때의 결정계수 : 0.9592881687236459\n",
        "## k 값을 줄이니 성능개선"
      ],
      "metadata": {
        "colab": {
          "base_uri": "https://localhost:8080/"
        },
        "id": "S_ewr642OCC_",
        "outputId": "9980bac0-610e-417d-d4ee-05c1d3d3657b"
      },
      "execution_count": null,
      "outputs": [
        {
          "output_type": "stream",
          "name": "stdout",
          "text": [
            "0.9592881687236459\n"
          ]
        }
      ]
    },
    {
      "cell_type": "code",
      "source": [
        "# 확인문제 \n",
        "## 1. k-최근접 이웃 회귀에서는 새로운 샘플에 대한 예측을 : 이웃 샘플의 타깃값의 평균으로 구함\n",
        "## 2. 과대적합과 과소적합에 대해 직관적 이해를 위해 아래 코드 확인"
      ],
      "metadata": {
        "id": "hkkl7MqvOPbX"
      },
      "execution_count": null,
      "outputs": []
    },
    {
      "cell_type": "code",
      "source": [
        "X_test"
      ],
      "metadata": {
        "colab": {
          "base_uri": "https://localhost:8080/"
        },
        "id": "vNKMEZgrQAbB",
        "outputId": "295a6e0c-1519-4b99-9bb4-1d90eb0fe0bb"
      },
      "execution_count": null,
      "outputs": [
        {
          "output_type": "execute_result",
          "data": {
            "text/plain": [
              "array([[43. ],\n",
              "       [36. ],\n",
              "       [24. ],\n",
              "       [27.5],\n",
              "       [37. ],\n",
              "       [36.5],\n",
              "       [24.6],\n",
              "       [17.4],\n",
              "       [39. ],\n",
              "       [44. ],\n",
              "       [23. ],\n",
              "       [27.3],\n",
              "       [21.3],\n",
              "       [20. ]])"
            ]
          },
          "metadata": {},
          "execution_count": 43
        }
      ]
    },
    {
      "cell_type": "code",
      "source": [
        "knr = KNeighborsRegressor()\n",
        "x = np.arange(5, 45).reshape(-1, 1)\n",
        "\n",
        "for n in [1, 5, 10]: \n",
        "  knr.n_neighbors = n \n",
        "  knr.fit(X_train, y_train)\n",
        "\n",
        "  train_pred = knr.predict(X_train)\n",
        "  test_pred = knr.predict(x)  # '지정한 범위 x에대한 예측을 구하는 것이기 떄문에 x 를 넣음\n",
        "\n",
        "  # 결과 그리기\n",
        "  plt.scatter(X_train, y_train)\n",
        "  plt.plot(x, test_pred)\n",
        "  plt.title('n_neightbors = {}'.format(n))\n",
        "  plt.xlabel('length')\n",
        "  plt.ylabel('weight')\n",
        "  plt.show()\n",
        "\n",
        "  # n 크기에 따라서 test_pred 의 그래프가 어느정도로 과적합되어있는지 확인이 가능"
      ],
      "metadata": {
        "colab": {
          "base_uri": "https://localhost:8080/",
          "height": 851
        },
        "id": "D2zEMJwZPDRp",
        "outputId": "ede5fcd6-9be0-4c6c-8d2d-d86d91f01f8a"
      },
      "execution_count": null,
      "outputs": [
        {
          "output_type": "display_data",
          "data": {
            "image/png": "[encoded data removed]",
            "text/plain": [
              "<Figure size 432x288 with 1 Axes>"
            ]
          },
          "metadata": {
            "needs_background": "light"
          }
        },
        {
          "output_type": "display_data",
          "data": {
            "image/png": "[encoded data removed]",
            "text/plain": [
              "<Figure size 432x288 with 1 Axes>"
            ]
          },
          "metadata": {
            "needs_background": "light"
          }
        },
        {
          "output_type": "display_data",
          "data": {
            "image/png": "[encoded data removed]",
            "text/plain": [
              "<Figure size 432x288 with 1 Axes>"
            ]
          },
          "metadata": {
            "needs_background": "light"
          }
        }
      ]
    },
    {
      "cell_type": "code",
      "source": [
        ""
      ],
      "metadata": {
        "id": "rl9sKPQVPnNv"
      },
      "execution_count": null,
      "outputs": []
    }
  ]
}