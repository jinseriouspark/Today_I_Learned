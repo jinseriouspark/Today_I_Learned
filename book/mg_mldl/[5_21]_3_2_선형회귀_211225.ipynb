{
  "nbformat": 4,
  "nbformat_minor": 0,
  "metadata": {
    "colab": {
      "name": "[5/21] 3.2. 선형회귀_211225",
      "provenance": []
    },
    "kernelspec": {
      "name": "python3",
      "display_name": "Python 3"
    },
    "language_info": {
      "name": "python"
    }
  },
  "cells": [
    {
      "cell_type": "markdown",
      "source": [
        "# 선형회귀"
      ],
      "metadata": {
        "id": "ZzgMv-3S_EUQ"
      }
    },
    {
      "cell_type": "code",
      "execution_count": 50,
      "metadata": {
        "id": "WK5qavPC-KpO"
      },
      "outputs": [],
      "source": [
        "import numpy as np\n",
        "\n",
        "perch_length = np.array(\n",
        "    [8.4, 13.7, 15.0, 16.2, 17.4, 18.0, 18.7, 19.0, 19.6, 20.0, \n",
        "     21.0, 21.0, 21.0, 21.3, 22.0, 22.0, 22.0, 22.0, 22.0, 22.5, \n",
        "     22.5, 22.7, 23.0, 23.5, 24.0, 24.0, 24.6, 25.0, 25.6, 26.5, \n",
        "     27.3, 27.5, 27.5, 27.5, 28.0, 28.7, 30.0, 32.8, 34.5, 35.0, \n",
        "     36.5, 36.0, 37.0, 37.0, 39.0, 39.0, 39.0, 40.0, 40.0, 40.0, \n",
        "     40.0, 42.0, 43.0, 43.0, 43.5, 44.0]\n",
        "     )\n",
        "perch_weight = np.array(\n",
        "    [5.9, 32.0, 40.0, 51.5, 70.0, 100.0, 78.0, 80.0, 85.0, 85.0, \n",
        "     110.0, 115.0, 125.0, 130.0, 120.0, 120.0, 130.0, 135.0, 110.0, \n",
        "     130.0, 150.0, 145.0, 150.0, 170.0, 225.0, 145.0, 188.0, 180.0, \n",
        "     197.0, 218.0, 300.0, 260.0, 265.0, 250.0, 250.0, 300.0, 320.0, \n",
        "     514.0, 556.0, 840.0, 685.0, 700.0, 700.0, 690.0, 900.0, 650.0, \n",
        "     820.0, 850.0, 900.0, 1015.0, 820.0, 1100.0, 1000.0, 1100.0, \n",
        "     1000.0, 1000.0]\n",
        "     )"
      ]
    },
    {
      "cell_type": "code",
      "source": [
        "from sklearn.model_selection import train_test_split\n",
        "\n",
        "# 훈련, 테스트셋으로 나누기\n",
        "X_train, X_test, y_train, y_test = train_test_split(perch_length, perch_weight, random_state = 1225)"
      ],
      "metadata": {
        "id": "BvT-Oy1q_D7s"
      },
      "execution_count": 51,
      "outputs": []
    },
    {
      "cell_type": "code",
      "source": [
        "print(X_train.shape)\n",
        "X_train"
      ],
      "metadata": {
        "colab": {
          "base_uri": "https://localhost:8080/"
        },
        "id": "FHnCNcRY_Sq-",
        "outputId": "3c7cadbc-ac28-4874-f61d-67768e663b28"
      },
      "execution_count": 52,
      "outputs": [
        {
          "output_type": "stream",
          "name": "stdout",
          "text": [
            "(42,)\n"
          ]
        },
        {
          "output_type": "execute_result",
          "data": {
            "text/plain": [
              "array([24.6, 21. , 27.5, 22. , 40. , 25.6, 36. , 23.5, 19.6, 39. , 23. ,\n",
              "       28. , 30. , 22. , 22.5, 21.3, 35. , 27.3, 28.7, 40. , 44. , 39. ,\n",
              "       22.7, 39. , 21. , 26.5, 42. , 43. , 32.8, 22.5, 16.2, 18.7,  8.4,\n",
              "       27.5, 22. , 25. , 15. , 40. , 34.5, 37. , 27.5, 24. ])"
            ]
          },
          "metadata": {},
          "execution_count": 52
        }
      ]
    },
    {
      "cell_type": "code",
      "source": [
        "print(X_test.shape)\n",
        "X_test"
      ],
      "metadata": {
        "colab": {
          "base_uri": "https://localhost:8080/"
        },
        "id": "zrtnUpBU_VF9",
        "outputId": "8799e381-e7b0-4edc-9039-17c5f5aa8952"
      },
      "execution_count": 53,
      "outputs": [
        {
          "output_type": "stream",
          "name": "stdout",
          "text": [
            "(14,)\n"
          ]
        },
        {
          "output_type": "execute_result",
          "data": {
            "text/plain": [
              "array([22. , 22. , 13.7, 36.5, 19. , 21. , 20. , 43.5, 17.4, 43. , 40. ,\n",
              "       18. , 37. , 24. ])"
            ]
          },
          "metadata": {},
          "execution_count": 53
        }
      ]
    },
    {
      "cell_type": "code",
      "source": [
        "# 위의 X_train, X_test 의 크기를 변경해주기"
      ],
      "metadata": {
        "id": "U3vnvvffBGtJ"
      },
      "execution_count": 54,
      "outputs": []
    },
    {
      "cell_type": "code",
      "source": [
        "X_train = X_train.reshape(-1,1)\n",
        "X_test= X_test.reshape(-1,1)"
      ],
      "metadata": {
        "id": "Aflo0kX0BLYR"
      },
      "execution_count": 55,
      "outputs": []
    },
    {
      "cell_type": "code",
      "source": [
        "from sklearn.neighbors import KNeighborsRegressor \n",
        "knr = KNeighborsRegressor(n_neighbors = 3)\n",
        "knr.fit(X_train, y_train)"
      ],
      "metadata": {
        "colab": {
          "base_uri": "https://localhost:8080/"
        },
        "id": "Muw62pWFBRjl",
        "outputId": "8af3aa93-6427-4776-d37c-8778e5ebd122"
      },
      "execution_count": 56,
      "outputs": [
        {
          "output_type": "execute_result",
          "data": {
            "text/plain": [
              "KNeighborsRegressor(n_neighbors=3)"
            ]
          },
          "metadata": {},
          "execution_count": 56
        }
      ]
    },
    {
      "cell_type": "code",
      "source": [
        "print(knr.predict(X_test))"
      ],
      "metadata": {
        "colab": {
          "base_uri": "https://localhost:8080/"
        },
        "id": "vt2R99yaBYhe",
        "outputId": "ee0546a7-8fdc-448f-ceb6-01c9f8106cda"
      },
      "execution_count": 57,
      "outputs": [
        {
          "output_type": "stream",
          "name": "stdout",
          "text": [
            "[ 123.33333333  123.33333333   56.5         746.66666667   96.\n",
            "  123.33333333  108.33333333 1066.66666667   71.5        1066.66666667\n",
            "  921.66666667   71.5         683.33333333  167.66666667]\n"
          ]
        }
      ]
    },
    {
      "cell_type": "code",
      "source": [
        "print(knr.predict([[50]]))\n",
        "# 실제 값보다 훠"
      ],
      "metadata": {
        "colab": {
          "base_uri": "https://localhost:8080/"
        },
        "id": "aSnMPh3qBdmh",
        "outputId": "df00e956-a0fe-48d0-b174-0d9520f39aeb"
      },
      "execution_count": 58,
      "outputs": [
        {
          "output_type": "stream",
          "name": "stdout",
          "text": [
            "[1066.66666667]\n"
          ]
        }
      ]
    },
    {
      "cell_type": "code",
      "source": [
        "print(knr.predict(X_test))\n",
        "print(y_test)\n",
        "\n",
        "# 실제값과 비교하였을 때 그 경향성은 비슷하지만 실제 숫자와 차이를 많이 보이는 경우도 있다는 것을 확인할 수 있다"
      ],
      "metadata": {
        "colab": {
          "base_uri": "https://localhost:8080/"
        },
        "id": "T16YOimFBgo4",
        "outputId": "f5851d17-1282-45b3-b8a2-c9a977a60c00"
      },
      "execution_count": 59,
      "outputs": [
        {
          "output_type": "stream",
          "name": "stdout",
          "text": [
            "[ 123.33333333  123.33333333   56.5         746.66666667   96.\n",
            "  123.33333333  108.33333333 1066.66666667   71.5        1066.66666667\n",
            "  921.66666667   71.5         683.33333333  167.66666667]\n",
            "[ 135.  110.   32.  685.   80.  110.   85. 1000.   70. 1000.  820.  100.\n",
            "  690.  225.]\n"
          ]
        }
      ]
    },
    {
      "cell_type": "code",
      "source": [
        "import matplotlib.pyplot as plt \n",
        "distances, indexes = knr.kneighbors([[50]])\n",
        "plt.scatter(X_train, y_train)\n",
        "\n",
        "plt.scatter(X_train[indexes], y_train[indexes], marker = 'D')\n",
        "\n",
        "plt.scatter(50, 1033, marker = '^')\n",
        "plt.xlabel('length')\n",
        "plt.ylabel('weight')\n",
        "plt.show()\n",
        "\n",
        "# 그림속 맞추고자 하는 세모의 값과 다른 마름모값들의 평균을 확인할 수 있다\n",
        "# KNN의 경우, 주어진 학습 데이터셋의 평균값으로 target 을 예측하기 때문에,\n",
        "# 모델이 학습하지 않은 새로운 값을 내보내야 하는 아래와 같은 상황이 발생할 때는\n",
        "# 올바른 답을 내지 못할 가능성이 큼"
      ],
      "metadata": {
        "colab": {
          "base_uri": "https://localhost:8080/",
          "height": 279
        },
        "id": "qoGx6Ez3BnbH",
        "outputId": "fa11a45a-6fc9-4c9c-d833-c4966ccc5d58"
      },
      "execution_count": 60,
      "outputs": [
        {
          "output_type": "display_data",
          "data": {
            "image/png": "[encoded data removed]",
            "text/plain": [
              "<Figure size 432x288 with 1 Axes>"
            ]
          },
          "metadata": {
            "needs_background": "light"
          }
        }
      ]
    },
    {
      "cell_type": "code",
      "source": [
        "from sklearn.linear_model import LinearRegression \n",
        "lr = LinearRegression() \n",
        "\n",
        "lr.fit(X_train, y_train)\n",
        "\n",
        "print(lr.predict([[50]]))"
      ],
      "metadata": {
        "colab": {
          "base_uri": "https://localhost:8080/"
        },
        "id": "hiKD52p-CVrI",
        "outputId": "6930d10d-d06d-438b-84ab-fa86ce0b2d31"
      },
      "execution_count": 61,
      "outputs": [
        {
          "output_type": "stream",
          "name": "stdout",
          "text": [
            "[1211.22118519]\n"
          ]
        }
      ]
    },
    {
      "cell_type": "code",
      "source": [
        "print(lr.coef_, lr.intercept_) # 회귀계수와 절편은 이런식으로 확인\n",
        "# 모델 기반 학습 : 최적의 모델 파라미터를 찾고자 하는 것 \n",
        "# 사례 기반 학습 : k-최근접 이웃에는 모델 파라미터가 없고, 훈련 세트를 저장하는 것이 훈련의 전부였음"
      ],
      "metadata": {
        "colab": {
          "base_uri": "https://localhost:8080/"
        },
        "id": "5gS8ZgFBDAQ2",
        "outputId": "ec58a15d-71e3-4377-e0fb-5ccf4d71c712"
      },
      "execution_count": 62,
      "outputs": [
        {
          "output_type": "stream",
          "name": "stdout",
          "text": [
            "[37.81869717] -679.7136731885207\n"
          ]
        }
      ]
    },
    {
      "cell_type": "code",
      "source": [
        "plt.scatter(X_train, y_train)\n",
        "plt.plot([15,50], [15 * lr.coef_ + lr.intercept_, 50*lr.coef_+lr.intercept_])\n",
        "plt.scatter(50, 1241.8, marker = '^')\n",
        "plt.xlabel('length')\n",
        "plt.ylabel('weight')\n",
        "plt.show()\n",
        "#  나름 잘 예측한 것 처럼 보이(?) 기 때문에 해당 모델의 결정계수(=설명력) 도 확인하고자 함"
      ],
      "metadata": {
        "colab": {
          "base_uri": "https://localhost:8080/",
          "height": 279
        },
        "id": "NKM2_0WwDPPg",
        "outputId": "61f3b958-88d2-4364-b6f1-5989f0c61d42"
      },
      "execution_count": 63,
      "outputs": [
        {
          "output_type": "display_data",
          "data": {
            "image/png": "[encoded data removed]",
            "text/plain": [
              "<Figure size 432x288 with 1 Axes>"
            ]
          },
          "metadata": {
            "needs_background": "light"
          }
        }
      ]
    },
    {
      "cell_type": "code",
      "source": [
        "print(lr.score(X_train, y_train))\n",
        "print(lr.score(X_test, y_test))"
      ],
      "metadata": {
        "colab": {
          "base_uri": "https://localhost:8080/"
        },
        "id": "Wm9PvLsZETSB",
        "outputId": "744aef4c-281f-42b0-b2a9-b51c822ecfeb"
      },
      "execution_count": 64,
      "outputs": [
        {
          "output_type": "stream",
          "name": "stdout",
          "text": [
            "0.8998868222825822\n",
            "0.9649460458523268\n"
          ]
        }
      ]
    },
    {
      "cell_type": "code",
      "source": [
        "# 잘맞춘다고 할 수는 없음, 모델은 weight 가 - 되는 부분까지 예측값을 낼 수 있는 가능성을 가지고 있음"
      ],
      "metadata": {
        "id": "coq12tUfHhyU"
      },
      "execution_count": 65,
      "outputs": []
    },
    {
      "cell_type": "code",
      "source": [
        "train_poly = np.column_stack((X_train ** 2, X_train)) \n",
        "test_poly = np.column_stack((X_test ** 2, X_test)) \n",
        "\n",
        "print(train_poly.shape, test_poly.shape)"
      ],
      "metadata": {
        "colab": {
          "base_uri": "https://localhost:8080/"
        },
        "id": "JjaxX1h1Ht-F",
        "outputId": "409ab370-830f-4f3e-833e-97f9cf7de15a"
      },
      "execution_count": 74,
      "outputs": [
        {
          "output_type": "stream",
          "name": "stdout",
          "text": [
            "(42, 2) (14, 2)\n"
          ]
        }
      ]
    },
    {
      "cell_type": "code",
      "source": [
        "lr = LinearRegression() \n",
        "lr.fit(train_poly, y_train)\n",
        "print(lr.predict([[50 ** 2, 50]]))"
      ],
      "metadata": {
        "colab": {
          "base_uri": "https://localhost:8080/"
        },
        "id": "hMcmDL6CH7yZ",
        "outputId": "c709da9d-96fd-4645-dcb7-7fad69d0c00d"
      },
      "execution_count": 75,
      "outputs": [
        {
          "output_type": "stream",
          "name": "stdout",
          "text": [
            "[1615.97684545]\n"
          ]
        }
      ]
    },
    {
      "cell_type": "code",
      "source": [
        "print(lr.coef_, lr.intercept_)"
      ],
      "metadata": {
        "colab": {
          "base_uri": "https://localhost:8080/"
        },
        "id": "W8iJvflpIDLI",
        "outputId": "792e5a29-62dd-4085-95d1-01a32e0d8898"
      },
      "execution_count": 76,
      "outputs": [
        {
          "output_type": "stream",
          "name": "stdout",
          "text": [
            "[  1.08642608 -24.99769104] 149.7961945049505\n"
          ]
        }
      ]
    },
    {
      "cell_type": "code",
      "source": [
        "# 1.08 * x^2 + -24.99 *x + 149.79..) 라는 식을 만든 셈\n",
        "# (책 내용) 2차 방정식도 선형회귀인가? 라는 질문에 어떻게 대답할 수 있을까? \n",
        "# 사실 길이의 제곱을 간단히 다른 변수로 치환할 수 있다. \n",
        "# 가령 '길이의 제곱' = '왕길이' 로 바꾸면\n",
        "# 무게 = 1.08 * 왕길이 - 24.9 * 길이 + 149.7 라는 식의 선형 관계를 가진 식으로 또 표현할 수 있다\n",
        "\n",
        "# 다항식을 사용한 선형회귀를 다항회귀라고 부른다"
      ],
      "metadata": {
        "id": "vmrroUi5IHnk"
      },
      "execution_count": 77,
      "outputs": []
    },
    {
      "cell_type": "code",
      "source": [
        "lr.coef_[0]"
      ],
      "metadata": {
        "colab": {
          "base_uri": "https://localhost:8080/"
        },
        "id": "09KOUyjDI-3e",
        "outputId": "4695cad0-f726-412f-9c8d-822082c1fdb5"
      },
      "execution_count": 78,
      "outputs": [
        {
          "output_type": "execute_result",
          "data": {
            "text/plain": [
              "1.086426081119309"
            ]
          },
          "metadata": {},
          "execution_count": 78
        }
      ]
    },
    {
      "cell_type": "code",
      "source": [
        "X_train"
      ],
      "metadata": {
        "colab": {
          "base_uri": "https://localhost:8080/"
        },
        "id": "5J9wy3jlJyXe",
        "outputId": "069f17a0-4b2b-4fc5-ae82-0c3f65fed71a"
      },
      "execution_count": 79,
      "outputs": [
        {
          "output_type": "execute_result",
          "data": {
            "text/plain": [
              "array([[24.6],\n",
              "       [21. ],\n",
              "       [27.5],\n",
              "       [22. ],\n",
              "       [40. ],\n",
              "       [25.6],\n",
              "       [36. ],\n",
              "       [23.5],\n",
              "       [19.6],\n",
              "       [39. ],\n",
              "       [23. ],\n",
              "       [28. ],\n",
              "       [30. ],\n",
              "       [22. ],\n",
              "       [22.5],\n",
              "       [21.3],\n",
              "       [35. ],\n",
              "       [27.3],\n",
              "       [28.7],\n",
              "       [40. ],\n",
              "       [44. ],\n",
              "       [39. ],\n",
              "       [22.7],\n",
              "       [39. ],\n",
              "       [21. ],\n",
              "       [26.5],\n",
              "       [42. ],\n",
              "       [43. ],\n",
              "       [32.8],\n",
              "       [22.5],\n",
              "       [16.2],\n",
              "       [18.7],\n",
              "       [ 8.4],\n",
              "       [27.5],\n",
              "       [22. ],\n",
              "       [25. ],\n",
              "       [15. ],\n",
              "       [40. ],\n",
              "       [34.5],\n",
              "       [37. ],\n",
              "       [27.5],\n",
              "       [24. ]])"
            ]
          },
          "metadata": {},
          "execution_count": 79
        }
      ]
    },
    {
      "cell_type": "code",
      "source": [
        "point = np.arange(15, 50)\n",
        "plt.scatter(X_train, y_train) \n",
        "plt.plot(point, lr.coef_[0] * (point**2) + lr.coef_[1] * point + lr.intercept_) \n",
        "plt.scatter(50, 1574, marker = '^')\n",
        "plt.xlabel('length')\n",
        "plt.ylabel('weight') \n",
        "plt.show()"
      ],
      "metadata": {
        "colab": {
          "base_uri": "https://localhost:8080/",
          "height": 279
        },
        "id": "C2q1tzsjIme1",
        "outputId": "310758a2-6361-4495-829c-4d6767ff35b1"
      },
      "execution_count": 81,
      "outputs": [
        {
          "output_type": "display_data",
          "data": {
            "image/png": "[encoded data removed]",
            "text/plain": [
              "<Figure size 432x288 with 1 Axes>"
            ]
          },
          "metadata": {
            "needs_background": "light"
          }
        }
      ]
    },
    {
      "cell_type": "code",
      "source": [
        "print(lr.score(train_poly, y_train))\n",
        "print(lr.score(test_poly, y_test))"
      ],
      "metadata": {
        "colab": {
          "base_uri": "https://localhost:8080/"
        },
        "id": "87NFrPu2I8tr",
        "outputId": "96cd624b-b856-4130-d368-aaa7be02c6aa"
      },
      "execution_count": 85,
      "outputs": [
        {
          "output_type": "stream",
          "name": "stdout",
          "text": [
            "0.9670157247236059\n",
            "0.9824345292808023\n"
          ]
        }
      ]
    },
    {
      "cell_type": "code",
      "source": [
        "# 단항 회귀 함수로 예측했던 \n",
        "# 학습 시 결정계수 : 0.8998868222825822\n",
        "# 테스트 시 결정계수 : 0.9649460458523268\n",
        "# 보다 '학습 시 결정계수' 값이 증가"
      ],
      "metadata": {
        "id": "x64eqphGJiYz"
      },
      "execution_count": 86,
      "outputs": []
    },
    {
      "cell_type": "code",
      "source": [
        ""
      ],
      "metadata": {
        "id": "33UG9I25MxOG"
      },
      "execution_count": null,
      "outputs": []
    }
  ]
}