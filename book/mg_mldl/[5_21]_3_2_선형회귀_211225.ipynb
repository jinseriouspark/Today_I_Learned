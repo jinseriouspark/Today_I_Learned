{
  "nbformat": 4,
  "nbformat_minor": 0,
  "metadata": {
    "colab": {
      "name": "[5/21] 3.2. 선형회귀_211225",
      "provenance": []
    },
    "kernelspec": {
      "name": "python3",
      "display_name": "Python 3"
    },
    "language_info": {
      "name": "python"
    }
  },
  "cells": [
    {
      "cell_type": "markdown",
      "source": [
        "# 선형회귀"
      ],
      "metadata": {
        "id": "ZzgMv-3S_EUQ"
      }
    },
    {
      "cell_type": "code",
      "execution_count": 1,
      "metadata": {
        "id": "WK5qavPC-KpO"
      },
      "outputs": [],
      "source": [
        "import numpy as np\n",
        "\n",
        "perch_length = np.array(\n",
        "    [8.4, 13.7, 15.0, 16.2, 17.4, 18.0, 18.7, 19.0, 19.6, 20.0, \n",
        "     21.0, 21.0, 21.0, 21.3, 22.0, 22.0, 22.0, 22.0, 22.0, 22.5, \n",
        "     22.5, 22.7, 23.0, 23.5, 24.0, 24.0, 24.6, 25.0, 25.6, 26.5, \n",
        "     27.3, 27.5, 27.5, 27.5, 28.0, 28.7, 30.0, 32.8, 34.5, 35.0, \n",
        "     36.5, 36.0, 37.0, 37.0, 39.0, 39.0, 39.0, 40.0, 40.0, 40.0, \n",
        "     40.0, 42.0, 43.0, 43.0, 43.5, 44.0]\n",
        "     )\n",
        "perch_weight = np.array(\n",
        "    [5.9, 32.0, 40.0, 51.5, 70.0, 100.0, 78.0, 80.0, 85.0, 85.0, \n",
        "     110.0, 115.0, 125.0, 130.0, 120.0, 120.0, 130.0, 135.0, 110.0, \n",
        "     130.0, 150.0, 145.0, 150.0, 170.0, 225.0, 145.0, 188.0, 180.0, \n",
        "     197.0, 218.0, 300.0, 260.0, 265.0, 250.0, 250.0, 300.0, 320.0, \n",
        "     514.0, 556.0, 840.0, 685.0, 700.0, 700.0, 690.0, 900.0, 650.0, \n",
        "     820.0, 850.0, 900.0, 1015.0, 820.0, 1100.0, 1000.0, 1100.0, \n",
        "     1000.0, 1000.0]\n",
        "     )"
      ]
    },
    {
      "cell_type": "code",
      "source": [
        "from sklearn.model_selection import train_test_split\n",
        "\n",
        "# 훈련, 테스트셋으로 나누기\n",
        "X_train, X_test, y_train, y_test = train_test_split(perch_length, perch_weight, random_state = 1225)"
      ],
      "metadata": {
        "id": "BvT-Oy1q_D7s"
      },
      "execution_count": 14,
      "outputs": []
    },
    {
      "cell_type": "code",
      "source": [
        "print(X_train.shape)\n",
        "X_train"
      ],
      "metadata": {
        "colab": {
          "base_uri": "https://localhost:8080/"
        },
        "id": "FHnCNcRY_Sq-",
        "outputId": "88397e88-ab5a-4124-b241-fa236f9d486b"
      },
      "execution_count": 5,
      "outputs": [
        {
          "output_type": "stream",
          "name": "stdout",
          "text": [
            "(42,)\n"
          ]
        },
        {
          "output_type": "execute_result",
          "data": {
            "text/plain": [
              "array([24.6, 21. , 27.5, 22. , 40. , 25.6, 36. , 23.5, 19.6, 39. , 23. ,\n",
              "       28. , 30. , 22. , 22.5, 21.3, 35. , 27.3, 28.7, 40. , 44. , 39. ,\n",
              "       22.7, 39. , 21. , 26.5, 42. , 43. , 32.8, 22.5, 16.2, 18.7,  8.4,\n",
              "       27.5, 22. , 25. , 15. , 40. , 34.5, 37. , 27.5, 24. ])"
            ]
          },
          "metadata": {},
          "execution_count": 5
        }
      ]
    },
    {
      "cell_type": "code",
      "source": [
        "print(X_test.shape)\n",
        "X_test"
      ],
      "metadata": {
        "colab": {
          "base_uri": "https://localhost:8080/"
        },
        "id": "zrtnUpBU_VF9",
        "outputId": "477ee498-31b2-4b7c-8df3-6ae5f69252d5"
      },
      "execution_count": 6,
      "outputs": [
        {
          "output_type": "stream",
          "name": "stdout",
          "text": [
            "(14,)\n"
          ]
        },
        {
          "output_type": "execute_result",
          "data": {
            "text/plain": [
              "array([22. , 22. , 13.7, 36.5, 19. , 21. , 20. , 43.5, 17.4, 43. , 40. ,\n",
              "       18. , 37. , 24. ])"
            ]
          },
          "metadata": {},
          "execution_count": 6
        }
      ]
    },
    {
      "cell_type": "code",
      "source": [
        "# 위의 X_train, X_test 의 크기를 변경해주기"
      ],
      "metadata": {
        "id": "U3vnvvffBGtJ"
      },
      "execution_count": 7,
      "outputs": []
    },
    {
      "cell_type": "code",
      "source": [
        "X_train = X_train.reshape(-1,1)\n",
        "X_test= X_test.reshape(-1,1)"
      ],
      "metadata": {
        "id": "Aflo0kX0BLYR"
      },
      "execution_count": 19,
      "outputs": []
    },
    {
      "cell_type": "code",
      "source": [
        "from sklearn.neighbors import KNeighborsRegressor \n",
        "knr = KNeighborsRegressor(n_neighbors = 3)\n",
        "knr.fit(X_train, y_train)"
      ],
      "metadata": {
        "colab": {
          "base_uri": "https://localhost:8080/"
        },
        "id": "Muw62pWFBRjl",
        "outputId": "8eb41668-e5c8-4da5-c2ca-da028d1eb397"
      },
      "execution_count": 20,
      "outputs": [
        {
          "output_type": "execute_result",
          "data": {
            "text/plain": [
              "KNeighborsRegressor(n_neighbors=3)"
            ]
          },
          "metadata": {},
          "execution_count": 20
        }
      ]
    },
    {
      "cell_type": "code",
      "source": [
        "print(knr.predict(X_test))"
      ],
      "metadata": {
        "colab": {
          "base_uri": "https://localhost:8080/"
        },
        "id": "vt2R99yaBYhe",
        "outputId": "b21bff22-fec4-46ce-fdce-2600bdadeab1"
      },
      "execution_count": 21,
      "outputs": [
        {
          "output_type": "stream",
          "name": "stdout",
          "text": [
            "[ 123.33333333  123.33333333   56.5         746.66666667   96.\n",
            "  123.33333333  108.33333333 1066.66666667   71.5        1066.66666667\n",
            "  921.66666667   71.5         683.33333333  167.66666667]\n"
          ]
        }
      ]
    },
    {
      "cell_type": "code",
      "source": [
        "print(knr.predict([[50]]))\n",
        "# 실제 값보다 훠"
      ],
      "metadata": {
        "colab": {
          "base_uri": "https://localhost:8080/"
        },
        "id": "aSnMPh3qBdmh",
        "outputId": "2c3fed35-51e8-4ec5-8223-285ca0713b57"
      },
      "execution_count": 22,
      "outputs": [
        {
          "output_type": "stream",
          "name": "stdout",
          "text": [
            "[1066.66666667]\n"
          ]
        }
      ]
    },
    {
      "cell_type": "code",
      "source": [
        "print(knr.predict(X_test))\n",
        "print(y_test)\n",
        "\n",
        "# 실제값과 비교하였을 때 그 경향성은 비슷하지만 실제 숫자와 차이를 많이 보이는 경우도 있다는 것을 확인할 수 있다"
      ],
      "metadata": {
        "colab": {
          "base_uri": "https://localhost:8080/"
        },
        "id": "T16YOimFBgo4",
        "outputId": "733d2466-d18e-4d35-e9e8-8e5b9dabe473"
      },
      "execution_count": 24,
      "outputs": [
        {
          "output_type": "stream",
          "name": "stdout",
          "text": [
            "[ 123.33333333  123.33333333   56.5         746.66666667   96.\n",
            "  123.33333333  108.33333333 1066.66666667   71.5        1066.66666667\n",
            "  921.66666667   71.5         683.33333333  167.66666667]\n",
            "[ 135.  110.   32.  685.   80.  110.   85. 1000.   70. 1000.  820.  100.\n",
            "  690.  225.]\n"
          ]
        }
      ]
    },
    {
      "cell_type": "code",
      "source": [
        "import matplotlib.pyplot as plt \n",
        "distances, indexes = knr.kneighbors([[50]])\n",
        "plt.scatter(X_train, y_train)\n",
        "\n",
        "plt.scatter(X_train[indexes], y_train[indexes], marker = 'D')\n",
        "\n",
        "plt.scatter(50, 1033, marker = '^')\n",
        "plt.xlabel('length')\n",
        "plt.ylabel('weight')\n",
        "plt.show()\n",
        "\n",
        "# 그림속 맞추고자 하는 세모의 값과 다른 마름모값들의 평균을 확인할 수 있다\n",
        "# KNN의 경우, 주어진 학습 데이터셋의 평균값으로 target 을 예측하기 때문에,\n",
        "# 모델이 학습하지 않은 새로운 값을 내보내야 하는 아래와 같은 상황이 발생할 때는\n",
        "# 올바른 답을 내지 못할 가능성이 큼"
      ],
      "metadata": {
        "colab": {
          "base_uri": "https://localhost:8080/",
          "height": 279
        },
        "id": "qoGx6Ez3BnbH",
        "outputId": "fddf39b3-d671-48bc-8e92-6da886f4b6c3"
      },
      "execution_count": 25,
      "outputs": [
        {
          "output_type": "display_data",
          "data": {
            "image/png": "[encoded data removed]",
            "text/plain": [
              "<Figure size 432x288 with 1 Axes>"
            ]
          },
          "metadata": {
            "needs_background": "light"
          }
        }
      ]
    },
    {
      "cell_type": "code",
      "source": [
        "from sklearn.linear_model import LinearRegression \n",
        "lr = LinearRegression() \n",
        "\n",
        "lr.fit(X_train, y_train)\n",
        "\n",
        "print(lr.predict([[50]]))"
      ],
      "metadata": {
        "colab": {
          "base_uri": "https://localhost:8080/"
        },
        "id": "hiKD52p-CVrI",
        "outputId": "5946a85e-763d-49b1-d1a5-54e13723c749"
      },
      "execution_count": 26,
      "outputs": [
        {
          "output_type": "stream",
          "name": "stdout",
          "text": [
            "[1211.22118519]\n"
          ]
        }
      ]
    },
    {
      "cell_type": "code",
      "source": [
        "print(lr.coef_, lr.intercept_) # 회귀계수와 절편은 이런식으로 확인\n",
        "# 모델 기반 학습 : 최적의 모델 파라미터를 찾고자 하는 것 \n",
        "# 사례 기반 학습 : k-최근접 이웃에는 모델 파라미터가 없고, 훈련 세트를 저장하는 것이 훈련의 전부였음"
      ],
      "metadata": {
        "colab": {
          "base_uri": "https://localhost:8080/"
        },
        "id": "5gS8ZgFBDAQ2",
        "outputId": "3cbf43f9-fb23-437f-df56-57a502820f06"
      },
      "execution_count": 27,
      "outputs": [
        {
          "output_type": "stream",
          "name": "stdout",
          "text": [
            "[37.81869717] -679.7136731885207\n"
          ]
        }
      ]
    },
    {
      "cell_type": "code",
      "source": [
        "plt.scatter(X_train, y_train)\n",
        "plt.plot([15,50], [15 * lr.coef_ + lr.intercept_, 50*lr.coef_+lr.intercept_])\n",
        "plt.scatter(50, 1241.8, marker = '^')\n",
        "plt.xlabel('length')\n",
        "plt.ylabel('weight')\n",
        "plt.show()\n",
        "#  나름 잘 예측한 것 처럼 보이(?) 기 때문에 해당 모델의 결정계수(=설명력) 도 확인하고자 함"
      ],
      "metadata": {
        "colab": {
          "base_uri": "https://localhost:8080/",
          "height": 279
        },
        "id": "NKM2_0WwDPPg",
        "outputId": "2fd492da-d65e-4404-d072-dc069725b21e"
      },
      "execution_count": 28,
      "outputs": [
        {
          "output_type": "display_data",
          "data": {
            "image/png": "[encoded data removed]",
            "text/plain": [
              "<Figure size 432x288 with 1 Axes>"
            ]
          },
          "metadata": {
            "needs_background": "light"
          }
        }
      ]
    },
    {
      "cell_type": "code",
      "source": [
        "print(lr.score(X_train, y_train))"
      ],
      "metadata": {
        "id": "Wm9PvLsZETSB"
      },
      "execution_count": null,
      "outputs": []
    }
  ]
}