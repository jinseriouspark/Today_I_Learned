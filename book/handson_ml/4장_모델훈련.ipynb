{
  "nbformat": 4,
  "nbformat_minor": 0,
  "metadata": {
    "colab": {
      "name": "04_training_linear_models.ipynb",
      "provenance": []
    },
    "kernelspec": {
      "name": "python3",
      "display_name": "Python 3"
    },
    "language_info": {
      "name": "python"
    }
  },
  "cells": [
    {
      "cell_type": "code",
      "metadata": {
        "id": "Qrm9MLZm_Udo"
      },
      "source": [
        "# 4장 모델 훈련"
      ],
      "execution_count": null,
      "outputs": []
    },
    {
      "cell_type": "code",
      "metadata": {
        "id": "buyXfSf3_XRb"
      },
      "source": [
        "import sys\n",
        "assert sys.version_info >= (3,5)\n",
        "\n",
        "import sklearn \n",
        "assert sklearn.__version__ > = \"0.20\"\n",
        "\n",
        "# 공통 모듈 임포트\n",
        "import numpy as np"
      ],
      "execution_count": null,
      "outputs": []
    },
    {
      "cell_type": "markdown",
      "metadata": {
        "id": "QM56SNpk_1Tf"
      },
      "source": [
        "# 선형회귀"
      ]
    },
    {
      "cell_type": "code",
      "metadata": {
        "id": "B0OLZ-dL_0Wt"
      },
      "source": [
        "import numpy as np\n",
        "\n",
        "X = 2 * np.random.rand(100, 1)\n",
        "y = 4 + 3 * X + np.random.randn(100,1)"
      ],
      "execution_count": null,
      "outputs": []
    },
    {
      "cell_type": "code",
      "metadata": {
        "colab": {
          "base_uri": "https://localhost:8080/",
          "height": 485
        },
        "id": "nR2kKMi7_8mC",
        "outputId": "8f98d857-fd0a-43ab-deae-5520239bbf10"
      },
      "source": [
        "import matplotlib.pyplot as plt\n",
        "plt.plot(X, y, \"b.\")\n",
        "plt.xlabel(\"$x_1$\", fontsize = 18)\n",
        "plt.ylabel(\"$y$\", rotation = 0, fontsize = 18)\n",
        "plt.axis ([0, 2, 0, 15])\n",
        "\n",
        "save_fig(\"generated_data_plot\")\n",
        "plt.show()"
      ],
      "execution_count": null,
      "outputs": [
        {
          "output_type": "error",
          "ename": "NameError",
          "evalue": "ignored",
          "traceback": [
            "\u001b[0;31m---------------------------------------------------------------------------\u001b[0m",
            "\u001b[0;31mNameError\u001b[0m                                 Traceback (most recent call last)",
            "\u001b[0;32m<ipython-input-4-c69e0c865ab5>\u001b[0m in \u001b[0;36m<module>\u001b[0;34m()\u001b[0m\n\u001b[1;32m      5\u001b[0m \u001b[0mplt\u001b[0m\u001b[0;34m.\u001b[0m\u001b[0maxis\u001b[0m \u001b[0;34m(\u001b[0m\u001b[0;34m[\u001b[0m\u001b[0;36m0\u001b[0m\u001b[0;34m,\u001b[0m \u001b[0;36m2\u001b[0m\u001b[0;34m,\u001b[0m \u001b[0;36m0\u001b[0m\u001b[0;34m,\u001b[0m \u001b[0;36m15\u001b[0m\u001b[0;34m]\u001b[0m\u001b[0;34m)\u001b[0m\u001b[0;34m\u001b[0m\u001b[0;34m\u001b[0m\u001b[0m\n\u001b[1;32m      6\u001b[0m \u001b[0;34m\u001b[0m\u001b[0m\n\u001b[0;32m----> 7\u001b[0;31m \u001b[0msave_fig\u001b[0m\u001b[0;34m(\u001b[0m\u001b[0;34m\"generated_data_plot\"\u001b[0m\u001b[0;34m)\u001b[0m\u001b[0;34m\u001b[0m\u001b[0;34m\u001b[0m\u001b[0m\n\u001b[0m\u001b[1;32m      8\u001b[0m \u001b[0mplt\u001b[0m\u001b[0;34m.\u001b[0m\u001b[0mshow\u001b[0m\u001b[0;34m(\u001b[0m\u001b[0;34m)\u001b[0m\u001b[0;34m\u001b[0m\u001b[0;34m\u001b[0m\u001b[0m\n",
            "\u001b[0;31mNameError\u001b[0m: name 'save_fig' is not defined"
          ]
        },
        {
          "output_type": "display_data",
          "data": {
            "image/png": "[encoded data removed]",
            "text/plain": [
              "<Figure size 432x288 with 1 Axes>"
            ]
          },
          "metadata": {
            "needs_background": "light"
          }
        }
      ]
    },
    {
      "cell_type": "markdown",
      "metadata": {
        "id": "pYjvBpSmARP-"
      },
      "source": [
        "### 정규방정식\n",
        "$\\hat{\\boldsymbol{\\theta}} = (\\mathbf{X}^T \\mathbf{X})^{-1} \\mathbf{X}^T \\mathbf{y}$"
      ]
    },
    {
      "cell_type": "code",
      "metadata": {
        "id": "6S7NUTKOAKdq"
      },
      "source": [
        "X_b = np.c_[np.ones((100, 1)), X] # 모든 샘플에 x0 = 1을 추가\n",
        "theta_best = np.linalg.inv(X_b.T.dot(X_b)).dot(X_b.T).dot(y) \n",
        "# 위의 정규방정식의 theta 를 계산하고, 그 중에 가장 좋은 theta 를 선택"
      ],
      "execution_count": null,
      "outputs": []
    },
    {
      "cell_type": "code",
      "metadata": {
        "colab": {
          "base_uri": "https://localhost:8080/"
        },
        "id": "-DAqqyTBAll6",
        "outputId": "80ce3956-342a-496a-9345-fc9d4484f8a8"
      },
      "source": [
        "theta_best"
      ],
      "execution_count": null,
      "outputs": [
        {
          "output_type": "execute_result",
          "data": {
            "text/plain": [
              "array([[4.08424795],\n",
              "       [3.11753167]])"
            ]
          },
          "metadata": {},
          "execution_count": 6
        }
      ]
    },
    {
      "cell_type": "markdown",
      "metadata": {
        "id": "_qZ3AnPtAnjw"
      },
      "source": [
        "$\\hat{y} = \\mathbf{X} \\boldsymbol{\\hat{\\theta}}$"
      ]
    },
    {
      "cell_type": "code",
      "metadata": {
        "colab": {
          "base_uri": "https://localhost:8080/"
        },
        "id": "iIJFEcXvAmgi",
        "outputId": "681e8e85-8182-4a5b-a557-cff38a83b4a6"
      },
      "source": [
        "# 위에서 계산한 theta 를 X값에 넣었을 경우, 예측값 y_hat 을 구할 수 있다\n",
        "\n",
        "X_new = np.array([[0], [2]]) # x 점이 2개\n",
        "X_new_b = np.c_[np.ones((2, 1)), X_new] # 모든 샘플에 x0= 1을 추가한다\n",
        "# np.c_ 를 사용하기 때문에 위의 로직은 [[1], [1]] 으로 된 값과 X_new 값을 열 방향으로 추가해줌 \n",
        "# 원래 값은 0, 2였는데 x0을 추가해준 것이나 다름없다\n",
        "y_pred = X_new_b.dot(theta_best)\n",
        "y_pred"
      ],
      "execution_count": null,
      "outputs": [
        {
          "output_type": "execute_result",
          "data": {
            "text/plain": [
              "array([[ 4.08424795],\n",
              "       [10.31931129]])"
            ]
          },
          "metadata": {},
          "execution_count": 13
        }
      ]
    },
    {
      "cell_type": "code",
      "metadata": {
        "colab": {
          "base_uri": "https://localhost:8080/",
          "height": 265
        },
        "id": "0WwxFp68A_0q",
        "outputId": "5e7ef299-ee43-47f6-f67a-173674397db4"
      },
      "source": [
        "plt.plot(X_new, y_predict, 'r-')\n",
        "plt.plot(X, y, 'b.')\n",
        "plt.axis([0, 2, 0, 15])\n",
        "plt.show()"
      ],
      "execution_count": null,
      "outputs": [
        {
          "output_type": "display_data",
          "data": {
            "image/png": "[encoded data removed]",
            "text/plain": [
              "<Figure size 432x288 with 1 Axes>"
            ]
          },
          "metadata": {
            "needs_background": "light"
          }
        }
      ]
    },
    {
      "cell_type": "code",
      "metadata": {
        "colab": {
          "base_uri": "https://localhost:8080/",
          "height": 287
        },
        "id": "u65vtkBhBOP4",
        "outputId": "7a4fbf77-7440-4a83-ed64-82085f62c23d"
      },
      "source": [
        "plt.plot(X_new, y_pred, 'r-', linewidth = 2, label = 'Predictions')\n",
        "plt.plot(X, y, 'b.')\n",
        "plt.xlabel('$x_1$', fontsize = 18)\n",
        "plt.ylabel('$y$', rotation = 0, fontsize = 18)\n",
        "plt.legend(loc = 'upper left', fontsize = 14)\n",
        "plt.axis([0, 2, 0, 15])\n",
        "\n",
        "plt.show()"
      ],
      "execution_count": null,
      "outputs": [
        {
          "output_type": "display_data",
          "data": {
            "image/png": "[encoded data removed]",
            "text/plain": [
              "<Figure size 432x288 with 1 Axes>"
            ]
          },
          "metadata": {
            "needs_background": "light"
          }
        }
      ]
    },
    {
      "cell_type": "code",
      "metadata": {
        "colab": {
          "base_uri": "https://localhost:8080/"
        },
        "id": "hEya2NOGBOYy",
        "outputId": "e8aae4da-267e-4d5b-c6ac-9fb96800e1e6"
      },
      "source": [
        "from sklearn.linear_model import LinearRegression\n",
        "\n",
        "lin_reg = LinearRegression()\n",
        "lin_reg.fit(X, y)\n",
        "lin_reg.intercept_, lin_reg.coef_\n",
        "# 절편값과 회귀계수를 의미함"
      ],
      "execution_count": null,
      "outputs": [
        {
          "output_type": "execute_result",
          "data": {
            "text/plain": [
              "(array([4.08424795]), array([[3.11753167]]))"
            ]
          },
          "metadata": {},
          "execution_count": 16
        }
      ]
    },
    {
      "cell_type": "code",
      "metadata": {
        "colab": {
          "base_uri": "https://localhost:8080/"
        },
        "id": "as465k83CUhq",
        "outputId": "6808c03a-5762-49b4-c0ab-45d8f19864ab"
      },
      "source": [
        "lin_reg.predict(X_new)\n",
        "# 학습한 모델에 X_new 값을 넣어 y_hat 인 예측값을 받아냄"
      ],
      "execution_count": null,
      "outputs": [
        {
          "output_type": "execute_result",
          "data": {
            "text/plain": [
              "array([[ 4.08424795],\n",
              "       [10.31931129]])"
            ]
          },
          "metadata": {},
          "execution_count": 18
        }
      ]
    },
    {
      "cell_type": "markdown",
      "metadata": {
        "id": "o8qbIgIICfDH"
      },
      "source": [
        "Linear Regression 클래스는 scipy.linalg.lstsq() 함수를 사용하므로 이 함수 직접 사용도 가능함"
      ]
    },
    {
      "cell_type": "code",
      "metadata": {
        "id": "wAgHyr68CarJ"
      },
      "source": [
        "# scipy.lstsq() 함수를 사용하려면 scipy.linalg.lstsq(X_b, y)와 같이 쓴다\n",
        "theta_best_svd, residuals, rank, s = np.linalg.lstsq(X_b, y, rcond = 1e-6, ) \n",
        "# rcond 는 cut-off 비율을 의미함\n",
        "# 순위 결정을 위해 특이값은 rcond 값의 가장 큰 특이값보다 작으면 0으로 처리됨"
      ],
      "execution_count": null,
      "outputs": []
    },
    {
      "cell_type": "markdown",
      "metadata": {
        "id": "9__rfGq5DOLw"
      },
      "source": [
        "이 함수는 $\\mathbf{X}^+\\mathbf{y}$을 계산합니다. $\\mathbf{X}^{+}$는 $\\mathbf{X}$의 유사역행렬 (pseudoinverse)입니다(Moore–Penrose 유사역행렬입니다). np.linalg.pinv()을 사용해서 유사역행렬을 직접 계산할 수 있습니다:\n",
        "\n",
        "$\\boldsymbol{\\hat{\\theta}} = \\mathbf{X}^{-1}\\hat{y}$"
      ]
    },
    {
      "cell_type": "code",
      "metadata": {
        "colab": {
          "base_uri": "https://localhost:8080/"
        },
        "id": "WDuf6JBwDMY0",
        "outputId": "803bd083-249b-4fb4-8cae-c783089533ac"
      },
      "source": [
        "np.linalg.pinv(X_b).dot(y) # 역행렬을 구하지 못하는 경우도 발생한다. 그러할 경우, pinv 를 사용하여 유사역행렬을 구하고, 거기서 theta_best 를 구한다"
      ],
      "execution_count": null,
      "outputs": [
        {
          "output_type": "execute_result",
          "data": {
            "text/plain": [
              "array([[4.08424795],\n",
              "       [3.11753167]])"
            ]
          },
          "metadata": {},
          "execution_count": 21
        }
      ]
    },
    {
      "cell_type": "markdown",
      "metadata": {
        "id": "fR2kkg0nDbJK"
      },
      "source": [
        "\n",
        "## **경사 하강법**\n",
        "\n",
        "### 배치 경사 하강법\n",
        "\n",
        "식 4-6: 비용 함수의 그레이디언트 벡터\n",
        "\n",
        "$\n",
        "\\dfrac{\\partial}{\\partial \\boldsymbol{\\theta}} \\text{MSE}(\\boldsymbol{\\theta})\n",
        " = \\dfrac{2}{m} \\mathbf{X}^T (\\mathbf{X} \\boldsymbol{\\theta} - \\mathbf{y})\n",
        "$\n",
        "\n",
        "식 4-7: 경사 하강법의 스텝\n",
        "\n",
        "$\n",
        "\\boldsymbol{\\theta}^{(\\text{next step})} = \\boldsymbol{\\theta} - \\eta \\dfrac{\\partial}{\\partial \\boldsymbol{\\theta}} \\text{MSE}(\\boldsymbol{\\theta})\n",
        "$"
      ]
    },
    {
      "cell_type": "code",
      "metadata": {
        "id": "GYS7IpSCDYQj"
      },
      "source": [
        "eta = 0.1 # 학습률\n",
        "n_iterations = 1000\n",
        "m = 100\n",
        "\n",
        "theta= np.random.randn(2,1)\n",
        "\n",
        "for iteration in range(n_iterations):\n",
        "    gradients = 2 / m * X_b.T.dot(X_b.dot(theta) - y) # 이 부분은 위의 비용함수 그라디언트 벡터를 표현한 것\n",
        "    theta = theta - eta * gradients #그리고 다음번의 theta 를 옆과 같이 표현함"
      ],
      "execution_count": null,
      "outputs": []
    },
    {
      "cell_type": "code",
      "metadata": {
        "colab": {
          "base_uri": "https://localhost:8080/"
        },
        "id": "dTCsX4_CD8Yq",
        "outputId": "b9f8b8fd-2301-444a-c6c8-35be9bd76571"
      },
      "source": [
        "theta"
      ],
      "execution_count": null,
      "outputs": [
        {
          "output_type": "execute_result",
          "data": {
            "text/plain": [
              "array([[4.08424795],\n",
              "       [3.11753167]])"
            ]
          },
          "metadata": {},
          "execution_count": 23
        }
      ]
    },
    {
      "cell_type": "code",
      "metadata": {
        "colab": {
          "base_uri": "https://localhost:8080/"
        },
        "id": "d8sJKvl1D89B",
        "outputId": "4eada538-0b19-4bbb-e18a-7c67340e7db2"
      },
      "source": [
        "X_new_b.dot(theta)"
      ],
      "execution_count": null,
      "outputs": [
        {
          "output_type": "execute_result",
          "data": {
            "text/plain": [
              "array([[ 4.08424795],\n",
              "       [10.31931129]])"
            ]
          },
          "metadata": {},
          "execution_count": 25
        }
      ]
    },
    {
      "cell_type": "code",
      "metadata": {
        "id": "tbowMMB4EGyp"
      },
      "source": [
        "theta_path_bgd = []\n",
        "\n",
        "def plot_gradient_descent(theta, eta, theta_path = None):\n",
        "    m = len(X_b)\n",
        "    plt.plot(X, y, 'b.')\n",
        "    n_iterations = 1000\n",
        "    for iteration in range(n_iterations):\n",
        "        if iteration < 10:\n",
        "            y_predict = X_new_b.dot(theta)\n",
        "            style = \"b-\" if iteration > 0 else \"r--\"\n",
        "            plt.plot(X_new, y_predict, style)\n",
        "        gradients = 2 / m * X_b.T.dot(X_b.dot(theta) - y)\n",
        "        theta = theta - eta * gradients \n",
        "        if theta_path is not None :\n",
        "            theta_path.append(theta)\n",
        "    plt.xlabel(\"$x_1$\", fontsize = 18)\n",
        "    plt.axis ([0, 2, 0, 15])\n",
        "    plt.title(r\"$\\eta = {}$\".format(eta), fontsize = 16)"
      ],
      "execution_count": null,
      "outputs": []
    },
    {
      "cell_type": "code",
      "metadata": {
        "colab": {
          "base_uri": "https://localhost:8080/",
          "height": 307
        },
        "id": "jJCHlv_QE4TJ",
        "outputId": "9b823ff3-c28b-4dca-b0b2-42bc6010b35b"
      },
      "source": [
        "np.random.seed(42)\n",
        "\n",
        "theta = np.random.randn(2,1) # 랜덤하게 초기화 함\n",
        "\n",
        "plt.figure(figsize = (10,4))\n",
        "plt.subplot(131); plot_gradient_descent(theta, eta = 0.02)\n",
        "plt.ylabel('$y$', rotation = 0, fontsize = 18)\n",
        "plt.subplot(132); plot_gradient_descent(theta, eta = 0.1, theta_path = theta_path_bgd)\n",
        "plt.subplot(133); plot_gradient_descent(theta, eta = 0.4)\n",
        "\n",
        "plt.show()\n",
        "\n",
        "# 아래 표는 이렇게 해석할 수 있다\n",
        "# 만약 eta, 학습률이 0.02 수준이라면, 회귀식은 빨간색 부터 시작해서 실제 값까지 가지 못하게 된다\n",
        "# 만약 eta , 학습률이 0.1 수준이라면, 빨간선에서 시작한 선이 점점 위로 빠르게 올라가 금방 수렴하게 된다\n",
        "# 만약 eta, 학습률이 0.4 수준이라면, 빨간선에서 원래 값을 넘어 선 수준까지 회귀식이 올라가게 된다."
      ],
      "execution_count": null,
      "outputs": [
        {
          "output_type": "display_data",
          "data": {
            "image/png": "[encoded data removed]",
            "text/plain": [
              "<Figure size 720x288 with 3 Axes>"
            ]
          },
          "metadata": {
            "needs_background": "light"
          }
        }
      ]
    },
    {
      "cell_type": "markdown",
      "metadata": {
        "id": "EXOd9ZGRFpfn"
      },
      "source": [
        "## 확률적 경사 하강법"
      ]
    },
    {
      "cell_type": "code",
      "metadata": {
        "id": "fZW1NgaWFSx5"
      },
      "source": [
        "theta_path_sgd = []\n",
        "m = len(X_b)\n",
        "np.random.seed(42)"
      ],
      "execution_count": null,
      "outputs": []
    },
    {
      "cell_type": "code",
      "metadata": {
        "colab": {
          "base_uri": "https://localhost:8080/",
          "height": 287
        },
        "id": "ewh-KEX4FvY4",
        "outputId": "44bbf880-b771-4d8d-f96a-6c25069affd2"
      },
      "source": [
        "n_epochs = 50\n",
        "t0, t1 = 5, 50 # 학습 스케쥴 하이퍼파라미터, 어디에서 사용되는지는 이후에 확인 가능\n",
        "\n",
        "def learning_schedule(t):\n",
        "    return t0 / (t + t1)\n",
        "\n",
        "theta = np.random.randn(2, 1) # 랜덤 초기화\n",
        "\n",
        "for epoch in range(n_epochs): # n에포크 만큼 반복한다 \n",
        "    for i in range(m): # 한 반복에서 m번 되풀이함 (m은 훈련 셋에 있는 샘플 갯수)\n",
        "        if epoch == 0 and i < 20:  # 만약 에포크가 0이고, i 가 20 이하라면? \n",
        "            y_predict = X_new_b.dot(theta) #위에서 볼 수 있었던 그 회귀 방정식에 집어넣고 y_hat 을구한다\n",
        "            style= 'b-' if i > 0 else 'r--' # style 지정\n",
        "            plt.plot(X_new, y_predict, style)\n",
        "\n",
        "        random_index = np.random.randint(m) # m개의 난수를 생성해서 인덱스로 둠\n",
        "        xi = X_b[random_index:random_index +1] # xi 값을 지정\n",
        "        yi = y[random_index: random_index +1] # y값을 지정\n",
        "\n",
        "        gradients = 2 * xi.T.dot(xi.dot(theta) - yi)\n",
        "        eta = learning_schedule(epoch * m + i)\n",
        "        theta = theta - eta * gradients \n",
        "        theta_path_sgd.append(theta)\n",
        "\n",
        "plt.plot(X, y, 'b.')\n",
        "plt.xlabel(\"$x_1$\", fontsize = 18)\n",
        "plt.ylabel(\"$y$\", rotation = 0, fontsize = 18)\n",
        "plt.axis([0, 2, 0, 15])\n",
        "\n",
        "plt.show()\n"
      ],
      "execution_count": null,
      "outputs": [
        {
          "output_type": "display_data",
          "data": {
            "image/png": "[encoded data removed]",
            "text/plain": [
              "<Figure size 432x288 with 1 Axes>"
            ]
          },
          "metadata": {
            "needs_background": "light"
          }
        }
      ]
    },
    {
      "cell_type": "code",
      "metadata": {
        "colab": {
          "base_uri": "https://localhost:8080/"
        },
        "id": "taMTDgrqGqf5",
        "outputId": "d14cf605-f1ae-4ba6-cb11-efdf3ff5cbfb"
      },
      "source": [
        "theta # 이떄의 세타"
      ],
      "execution_count": null,
      "outputs": [
        {
          "output_type": "execute_result",
          "data": {
            "text/plain": [
              "array([[4.11049332],\n",
              "       [3.13145115]])"
            ]
          },
          "metadata": {},
          "execution_count": 31
        }
      ]
    },
    {
      "cell_type": "code",
      "metadata": {
        "colab": {
          "base_uri": "https://localhost:8080/"
        },
        "id": "c8BewNX6HY1C",
        "outputId": "2575868f-c32a-4a90-f8b0-54432a1f3873"
      },
      "source": [
        "from sklearn.linear_model import SGDRegressor \n",
        "sgd_reg = SGDRegressor(max_iter = 1000, tol = 1e-3, penalty = None, eta0 = 0.1, random_state = 42)\n",
        "sgd_reg.fit(X, y.ravel())\n",
        "\n",
        "# 최대 1000번 에포크 동안 실행 (max_iter = 1000)\n",
        "# 한 에포크에서 0.001보다 적게 손실이 줄어들 때까지 실행 : tol = 1e-3\n",
        "# 학습률0.3 : eta=0.1 로 기본 학습스케쥴과 다름\n",
        "# 패널티는 사용하지 않음 penalty = None"
      ],
      "execution_count": null,
      "outputs": [
        {
          "output_type": "execute_result",
          "data": {
            "text/plain": [
              "SGDRegressor(alpha=0.0001, average=False, early_stopping=False, epsilon=0.1,\n",
              "             eta0=0.1, fit_intercept=True, l1_ratio=0.15,\n",
              "             learning_rate='invscaling', loss='squared_loss', max_iter=1000,\n",
              "             n_iter_no_change=5, penalty=None, power_t=0.25, random_state=42,\n",
              "             shuffle=True, tol=0.001, validation_fraction=0.1, verbose=0,\n",
              "             warm_start=False)"
            ]
          },
          "metadata": {},
          "execution_count": 32
        }
      ]
    },
    {
      "cell_type": "code",
      "metadata": {
        "colab": {
          "base_uri": "https://localhost:8080/"
        },
        "id": "U8J_F4V1Hjcx",
        "outputId": "5f197c65-61cd-48a9-cab5-2a3fa54769d8"
      },
      "source": [
        "sgd_reg.intercept_, sgd_reg.coef_\n",
        "# 위의 정규방정식 값과 유사하다"
      ],
      "execution_count": null,
      "outputs": [
        {
          "output_type": "execute_result",
          "data": {
            "text/plain": [
              "(array([4.06760946]), array([3.13512011]))"
            ]
          },
          "metadata": {},
          "execution_count": 34
        }
      ]
    },
    {
      "cell_type": "markdown",
      "metadata": {
        "id": "0NJ0cCHNH_ip"
      },
      "source": [
        "## 미니배치 경사하강법\n",
        "- 각 스텝에서 전체 훈련 세트나 하나의 샘플을 기반으로 그래디언트를 계산하는 것이 아님\n",
        "- 미니배치라고 부르는 작은 샘플 세트에 대해 그레디언트를 계산한다\n",
        "- 확률적 경사하강법 대비하여, 미니배치 경사항법은 행렬 연산이 가능한 GPU 에서 성능 향상을 구경할 수 있음\n",
        "\n",
        "- 미니배치를 크게 할 경우, SGD 보다 덜 불규칙하게 움직이면서 빠르게 최솟값으로 수렴이 가능\n",
        "- local 최솟값에서 빠져나오는 것은 조금 더 힘들긴 함"
      ]
    },
    {
      "cell_type": "code",
      "metadata": {
        "id": "OWksvvQbHmIw"
      },
      "source": [
        "theta_path_mgd = []\n",
        "\n",
        "n_iterations = 50\n",
        "minibatch_size = 20\n",
        "\n",
        "np.random.seed(42)\n",
        "theta = np.random.randn(2,1)\n",
        "\n",
        "t0, t1 = 200, 1000\n",
        "\n",
        "def learning_schedule(t):\n",
        "    return t0 / (t + t1)\n",
        "\n",
        "t = 0\n",
        "\n",
        "for epoch in range(n_iterations):\n",
        "    shuffled_indices = np.random.permutation(m)\n",
        "    X_b_shuffled = X_b[shuffled_indices]\n",
        "    y_shuffled = y[shuffled_indices]\n",
        "\n",
        "    for i in range(0, m, minibatch_size):\n",
        "        t += 1 \n",
        "        xi =X_b_shuffled[i:i+minibatch_size]\n",
        "        yi = y_shuffled[i:i+minibatch_size]\n",
        "        gradients = 2 / minibatch_size * xi.T.dot(xi.dot(theta) - yi)\n",
        "        eta = learning_schedule(t)\n",
        "        theta = theta - eta * gradients \n",
        "        theta_path_mgd.append(theta)"
      ],
      "execution_count": null,
      "outputs": []
    },
    {
      "cell_type": "code",
      "metadata": {
        "colab": {
          "base_uri": "https://localhost:8080/"
        },
        "id": "XmmnW9_4JdVp",
        "outputId": "21c71fa7-b8c1-4111-e662-c95f45eb26e8"
      },
      "source": [
        "theta"
      ],
      "execution_count": null,
      "outputs": [
        {
          "output_type": "execute_result",
          "data": {
            "text/plain": [
              "array([[4.04297742],\n",
              "       [3.08288643]])"
            ]
          },
          "metadata": {},
          "execution_count": 36
        }
      ]
    },
    {
      "cell_type": "code",
      "metadata": {
        "id": "k4xz7vRvJem4"
      },
      "source": [
        "theta_path_bgd = np.array(theta_path_bgd)\n",
        "theta_path_sgd = np.array(theta_path_sgd)\n",
        "theta_path_mgd = np.array(theta_path_mgd)"
      ],
      "execution_count": null,
      "outputs": []
    },
    {
      "cell_type": "code",
      "metadata": {
        "colab": {
          "base_uri": "https://localhost:8080/",
          "height": 292
        },
        "id": "JIwY9s4SJmvY",
        "outputId": "934abc3f-4477-44ad-aa4d-6aa283760139"
      },
      "source": [
        "plt.figure(figsize = (7,4))\n",
        "plt.plot(theta_path_sgd[:, 0], theta_path_sgd[:, 1], 'r-s', linewidth=1, label = 'Stocastic')\n",
        "plt.plot(theta_path_mgd[:, 0], theta_path_mgd[:, 1], 'g-+', linewidth=2, label = 'Mini-batch')\n",
        "plt.plot(theta_path_bgd[:, 0], theta_path_bgd[:, 1], 'b-o', linewidth=3, label = 'Batch')\n",
        "\n",
        "plt.legend(loc = 'upper left', fontsize = 16)\n",
        "plt.xlabel(r\"r$\\theta_0$\", fontsize  = 20)\n",
        "plt.xlabel(r\"r$\\theta_1$\", fontsize  = 20, rotation = 0)\n",
        "plt.axis =([2.5, 4.5, 2.3, 3.9])\n",
        "\n",
        "plt.show()"
      ],
      "execution_count": null,
      "outputs": [
        {
          "output_type": "display_data",
          "data": {
            "image/png": "[encoded data removed]",
            "text/plain": [
              "<Figure size 504x288 with 1 Axes>"
            ]
          },
          "metadata": {
            "needs_background": "light"
          }
        }
      ]
    },
    {
      "cell_type": "markdown",
      "metadata": {
        "id": "AaeuH1eqKOIv"
      },
      "source": [
        "### 정리\n",
        "- sklearn.linear_model 내 SGDRegressor 를 사용하여, 확률적 경사하강법, 배치 / 미니배치 경사하강법 구현이 가능\n",
        "- 모두 중복은 허용하지 않는 수준에서 배치를 구성\n",
        "    - 배치 경사 하강법 : 모든 데이터를 1개의 배치라고 생각하여, 모든 데이터 학습이 끝난 뒤에 그래디언트를 업데이트\n",
        "    - 미니 배치 경사 하강법 : 적정 수준의 미니 배치 크기를 구성하여, 그만큼 데이터 학습 후 그래디언트 업데이트\n",
        "    - 확률적 경사 하강법 : 데이터 한 줄씩 읽고 그래디언트 업데이트\n",
        "- 미니배치, 배치의 경우 행렬곱을 사용하여 theta, y_hat 계산을 시도\n"
      ]
    },
    {
      "cell_type": "code",
      "metadata": {
        "colab": {
          "base_uri": "https://localhost:8080/"
        },
        "id": "cqof3GsEPBfx",
        "outputId": "3237e6f9-e4f4-48dd-f17b-0299fe79b429"
      },
      "source": [
        "np.mean([37,  24])  + np.std([37,  24]) / np.sqrt((61)) * 1.96"
      ],
      "execution_count": null,
      "outputs": [
        {
          "output_type": "execute_result",
          "data": {
            "text/plain": [
              "32.131189850345095"
            ]
          },
          "metadata": {},
          "execution_count": 66
        }
      ]
    },
    {
      "cell_type": "code",
      "metadata": {
        "colab": {
          "base_uri": "https://localhost:8080/"
        },
        "id": "O74DK-E_PDXZ",
        "outputId": "3e62b410-b262-4c8b-baa2-8bc7d500a1c6"
      },
      "source": [
        "np.std([37 * 37 / 190 , 42 * 42 / 190])  / np.sqrt((61)) * 1.96"
      ],
      "execution_count": null,
      "outputs": [
        {
          "output_type": "execute_result",
          "data": {
            "text/plain": [
              "0.26085829590538956"
            ]
          },
          "metadata": {},
          "execution_count": 69
        }
      ]
    },
    {
      "cell_type": "code",
      "metadata": {
        "colab": {
          "base_uri": "https://localhost:8080/"
        },
        "id": "j9xSJ6bPKLVw",
        "outputId": "c24817b6-baf9-4e7c-8534-ceb3b048d084"
      },
      "source": [
        "np.mean([3,4 ,8, 10, 11,12,15,16,22,29,32,35,35,37,56,61,64,65,68,70,79])"
      ],
      "execution_count": null,
      "outputs": [
        {
          "output_type": "execute_result",
          "data": {
            "text/plain": [
              "34.857142857142854"
            ]
          },
          "metadata": {},
          "execution_count": 44
        }
      ]
    },
    {
      "cell_type": "code",
      "metadata": {
        "colab": {
          "base_uri": "https://localhost:8080/"
        },
        "id": "IOab7EgxNCuY",
        "outputId": "ed724a4d-2219-4b61-dfba-adee8e6a9619"
      },
      "source": [
        "np.mean([23,24,28,30,31,32,35,36,42,49,52,55,55,57,76,81,84,85,88,90,99])"
      ],
      "execution_count": null,
      "outputs": [
        {
          "output_type": "execute_result",
          "data": {
            "text/plain": [
              "54.857142857142854"
            ]
          },
          "metadata": {},
          "execution_count": 45
        }
      ]
    },
    {
      "cell_type": "code",
      "metadata": {
        "colab": {
          "base_uri": "https://localhost:8080/"
        },
        "id": "K3ARC7s1O__Y",
        "outputId": "a7a30279-19b0-4466-ae82-6f6e8bd9c86d"
      },
      "source": [
        "np.var([3,4 ,8, 10, 11,12,15,16,22,29,32,35,35,37,56,61,64,65,68,70,79])"
      ],
      "execution_count": null,
      "outputs": [
        {
          "output_type": "execute_result",
          "data": {
            "text/plain": [
              "596.6938775510205"
            ]
          },
          "metadata": {},
          "execution_count": 49
        }
      ]
    },
    {
      "cell_type": "code",
      "metadata": {
        "colab": {
          "base_uri": "https://localhost:8080/"
        },
        "id": "SLqy2-cHPGHv",
        "outputId": "527b0b05-1691-4fa2-80e2-e27913919c4f"
      },
      "source": [
        "np.var([23,24,28,30,31,32,35,36,42,49,52,55,55,57,76,81,84,85,88,90,99])"
      ],
      "execution_count": null,
      "outputs": [
        {
          "output_type": "execute_result",
          "data": {
            "text/plain": [
              "596.6938775510205"
            ]
          },
          "metadata": {},
          "execution_count": 50
        }
      ]
    },
    {
      "cell_type": "code",
      "metadata": {
        "colab": {
          "base_uri": "https://localhost:8080/"
        },
        "id": "6oiPXo2oPIHx",
        "outputId": "ecefca1e-6050-4d23-c596-b764083e775e"
      },
      "source": [
        "np.std([3,4 ,8, 10, 11,12,15,16,22,29,32,35,35,37,56,61,64,65,68,70,79]) / np.mean([3,4 ,8, 10, 11,12,15,16,22,29,32,35,35,37,56,61,64,65,68,70,79])"
      ],
      "execution_count": null,
      "outputs": [
        {
          "output_type": "execute_result",
          "data": {
            "text/plain": [
              "0.7007837206769402"
            ]
          },
          "metadata": {},
          "execution_count": 52
        }
      ]
    },
    {
      "cell_type": "code",
      "metadata": {
        "colab": {
          "base_uri": "https://localhost:8080/"
        },
        "id": "53eJrphtPKH_",
        "outputId": "ed009853-ee73-4507-c3be-94da227c27b5"
      },
      "source": [
        "np.std([23,24,28,30,31,32,35,36,42,49,52,55,55,57,76,81,84,85,88,90,99]) / np.mean([23,24,28,30,31,32,35,36,42,49,52,55,55,57,76,81,84,85,88,90,99])"
      ],
      "execution_count": null,
      "outputs": [
        {
          "output_type": "execute_result",
          "data": {
            "text/plain": [
              "0.44528965584680574"
            ]
          },
          "metadata": {},
          "execution_count": 54
        }
      ]
    },
    {
      "cell_type": "code",
      "metadata": {
        "id": "xbggFS4JPSAg"
      },
      "source": [
        ""
      ],
      "execution_count": null,
      "outputs": []
    }
  ]
}