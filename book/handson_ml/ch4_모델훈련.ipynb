{
  "nbformat": 4,
  "nbformat_minor": 0,
  "metadata": {
    "colab": {
      "name": "ch4. 모델훈련",
      "provenance": []
    },
    "kernelspec": {
      "name": "python3",
      "display_name": "Python 3"
    },
    "language_info": {
      "name": "python"
    }
  },
  "cells": [
    {
      "cell_type": "markdown",
      "metadata": {
        "id": "i77-at5JiaBL"
      },
      "source": [
        "## 4.1 선형회귀"
      ]
    },
    {
      "cell_type": "code",
      "metadata": {
        "id": "JNE3Ryoohu0W"
      },
      "source": [
        "### 정규방정식\n",
        "\n",
        "import numpy as np\n",
        "\n",
        "X = 2 * np.random.rand(100, 1)\n",
        "y = 4 + 3 * X + np.random.randn(100,1)"
      ],
      "execution_count": 1,
      "outputs": []
    },
    {
      "cell_type": "code",
      "metadata": {
        "id": "OBrO4cvSiiTH"
      },
      "source": [
        "X_b = np.c_[np.ones((100, 1)), X] # 모든 샘플에 x0 = 1 을 추가\n",
        "# 그냥 np.concatenate 하면 안에 넣은 것들이 한 줄의 array 로 모두 합쳐진 결과가 발생하는데\n",
        "# 만약 np.c_를 하게 된다면 각각의 배열을 칼럼으로 세로로 붙여서 2차원 배열이 된다\n",
        "# np.concatenate((c.T, d.T), axis = 1)  하는것과 같음"
      ],
      "execution_count": 6,
      "outputs": []
    },
    {
      "cell_type": "code",
      "metadata": {
        "id": "IFpWD9bUi1jG"
      },
      "source": [
        "theta_best = np.linalg.inv(X_b.T.dot(X_b)).dot(X_b.T).dot(y)"
      ],
      "execution_count": 8,
      "outputs": []
    },
    {
      "cell_type": "code",
      "metadata": {
        "colab": {
          "base_uri": "https://localhost:8080/"
        },
        "id": "KwtNDsfyjRm3",
        "outputId": "bf39c97d-800e-4a34-b420-b47e14e130ee"
      },
      "source": [
        "theta_best # X, X_b 에 대한 값을 내뱉어줌\n",
        "# 각 theta 는 X_b 의 자리에 대한 정보와 같음"
      ],
      "execution_count": 10,
      "outputs": [
        {
          "output_type": "execute_result",
          "data": {
            "text/plain": [
              "array([[3.91130717],\n",
              "       [3.10395699]])"
            ]
          },
          "metadata": {},
          "execution_count": 10
        }
      ]
    },
    {
      "cell_type": "code",
      "metadata": {
        "colab": {
          "base_uri": "https://localhost:8080/"
        },
        "id": "23OJbv8TjSS2",
        "outputId": "10a15a9d-1d03-454b-c302-bfddd8cf453d"
      },
      "source": [
        "X_new = np.array([[0], [2]])\n",
        "X_new_b = np.c_[np.ones((2,1)), X_new] # np.ones((2,1)) 과 X_new 두 가지를 세로로 붙여둔 것\n",
        "y_predict = X_new_b.dot(theta_best)\n",
        "\n",
        "\n",
        "y_predict"
      ],
      "execution_count": 13,
      "outputs": [
        {
          "output_type": "execute_result",
          "data": {
            "text/plain": [
              "array([[ 3.91130717],\n",
              "       [10.11922115]])"
            ]
          },
          "metadata": {},
          "execution_count": 13
        }
      ]
    },
    {
      "cell_type": "code",
      "metadata": {
        "colab": {
          "base_uri": "https://localhost:8080/",
          "height": 265
        },
        "id": "mzKWGA_WjqZ3",
        "outputId": "7057820c-0b7f-4b26-b470-055645a9e130"
      },
      "source": [
        "import matplotlib.pyplot as plt\n",
        "plt.plot(X_new, y_predict, 'r-')\n",
        "plt.plot(X, y, \"b.\")\n",
        "plt.axis([0, 2, 0, 15])\n",
        "plt.show()"
      ],
      "execution_count": 15,
      "outputs": [
        {
          "output_type": "display_data",
          "data": {
            "image/png": "[encoded data removed]",
            "text/plain": [
              "<Figure size 432x288 with 1 Axes>"
            ]
          },
          "metadata": {
            "needs_background": "light"
          }
        }
      ]
    },
    {
      "cell_type": "code",
      "metadata": {
        "colab": {
          "base_uri": "https://localhost:8080/"
        },
        "id": "bRbjhRLCkF09",
        "outputId": "8161ffb3-6160-4540-d607-ca95fff89e14"
      },
      "source": [
        "# 사이킷런에서 선형회귀 수행하기\n",
        "from sklearn.linear_model import LinearRegression\n",
        "lin_reg = LinearRegression()\n",
        "lin_reg.fit(X, y)"
      ],
      "execution_count": 17,
      "outputs": [
        {
          "output_type": "execute_result",
          "data": {
            "text/plain": [
              "LinearRegression(copy_X=True, fit_intercept=True, n_jobs=None, normalize=False)"
            ]
          },
          "metadata": {},
          "execution_count": 17
        }
      ]
    },
    {
      "cell_type": "code",
      "metadata": {
        "colab": {
          "base_uri": "https://localhost:8080/"
        },
        "id": "t0UZ8TLykO3f",
        "outputId": "07f52cf1-1bc3-4b6a-ad86-b5edb300fc39"
      },
      "source": [
        "lin_reg.intercept_, lin_reg.coef_"
      ],
      "execution_count": 18,
      "outputs": [
        {
          "output_type": "execute_result",
          "data": {
            "text/plain": [
              "(array([3.91130717]), array([[3.10395699]]))"
            ]
          },
          "metadata": {},
          "execution_count": 18
        }
      ]
    },
    {
      "cell_type": "code",
      "metadata": {
        "colab": {
          "base_uri": "https://localhost:8080/"
        },
        "id": "Z8lFtA1LkSLi",
        "outputId": "a1daa7ce-4e99-4406-80f2-00af8a2b8c3f"
      },
      "source": [
        "lin_reg.predict(X_new)"
      ],
      "execution_count": 20,
      "outputs": [
        {
          "output_type": "execute_result",
          "data": {
            "text/plain": [
              "array([[ 3.91130717],\n",
              "       [10.11922115]])"
            ]
          },
          "metadata": {},
          "execution_count": 20
        }
      ]
    },
    {
      "cell_type": "code",
      "metadata": {
        "colab": {
          "base_uri": "https://localhost:8080/"
        },
        "id": "TuxeZDhgkrRX",
        "outputId": "58aafa04-0bac-422b-bfea-82ddced667c0"
      },
      "source": [
        "# 최소제곱값을 통해서 theta 가장 우수한 값, 잔차, 랭크.. 계산할 수 있음\n",
        "theta_best_svd, residuals, rank, s = np.linalg.lstsq(X_b, y, rcond = 1e-6)\n",
        "theta_best_svd"
      ],
      "execution_count": 21,
      "outputs": [
        {
          "output_type": "execute_result",
          "data": {
            "text/plain": [
              "array([[3.91130717],\n",
              "       [3.10395699]])"
            ]
          },
          "metadata": {},
          "execution_count": 21
        }
      ]
    },
    {
      "cell_type": "code",
      "metadata": {
        "colab": {
          "base_uri": "https://localhost:8080/"
        },
        "id": "4KBQfAA-j0zG",
        "outputId": "1f09dcf6-a47a-42bd-d8ce-3f582b47d5a6"
      },
      "source": [
        "# theta = X'y 를 계산한다. \n",
        "# X' 가 유사 역행렬\n",
        "np.linalg.pinv(X_b).dot(y)\n",
        "\n",
        "# 유사 역행렬 자체는 특잇값 분해 라 부르는 표준 행렬 분해 기법을 사용해 계산된다\n",
        "## SVD는 훈련세트 행렬 X를 3개의 행렬곱셈으로 분해(np.linalg.svd())\n",
        "## 유사역행렬은 V sigma' U' 로 계산\n",
        "\n",
        "# sigma'를 계산하기 위해 알고리즘이 sigma를 먼저 구하고\n",
        "# 그 다음 임곗값보다 작은 수를 0으로 바꿈 (여기서의 임곗값이  n x M 일떄의 더 낮은값을 의미하는 걸까?)\n",
        "# 0이 아닌 값을 역수로 치환\n",
        "# 마지막으로 만들어진 행렬을 전치\n",
        "\n",
        "## X' = V sigma' U'\n",
        "## V'X' = sigma' U'\n",
        "## V'X'U = sigma'"
      ],
      "execution_count": 16,
      "outputs": [
        {
          "output_type": "execute_result",
          "data": {
            "text/plain": [
              "array([[3.91130717],\n",
              "       [3.10395699]])"
            ]
          },
          "metadata": {},
          "execution_count": 16
        }
      ]
    },
    {
      "cell_type": "markdown",
      "metadata": {
        "id": "1SV5a7Wvx37N"
      },
      "source": [
        "#### 특잇값과 특이벡터\n",
        "(참고: https://datascienceschool.net/02%20mathematics/03.04%20%ED%8A%B9%EC%9E%87%EA%B0%92%20%EB%B6%84%ED%95%B4.html)\n",
        "\n",
        "N * M 크기의 A 를 3개의 행렬곱으로 나타내는 것을 특이분해라고 부름\n",
        "\n",
        "A=UΣVT\n",
        "\n",
        "    - Σ 는 N X M 의 실수를 가짐, 이때의 값을 특이값이라고 부름\n",
        "    - 큰 수부터 작은 수 순서로 배열\n",
        "    - N > M 이라면 M개의 (둘 중 더 작은값 기준) 특잇값을 가짐, M 이후의 아래 값은 영행렬이 됨\n",
        "    - N < M 이라면 N개의 (둘 중 더 작은 값 기준) 특잇값을 가짐, N 이후의 오른쪽 값은 영행렬이 됨\n",
        "\n",
        "    - U 는 N차원 정방행렬로 모든 열벡터가 단위벡터, 서로 직교\n",
        "    - N X N\n",
        "\n",
        "    - V 는 M차원 정방행렬, 모든 열벡터가 단위벡터, 서로 직교\n",
        "    - M X M\n",
        "\n",
        "\n",
        "\n"
      ]
    },
    {
      "cell_type": "code",
      "metadata": {
        "id": "z7hRMvG7j6zP"
      },
      "source": [
        "from numpy.linalg import svd\n",
        "A = np.array([[3, -1], [1, 3], [1, 1]])\n",
        "U, S, VT = svd(A)"
      ],
      "execution_count": 24,
      "outputs": []
    },
    {
      "cell_type": "code",
      "metadata": {
        "colab": {
          "base_uri": "https://localhost:8080/"
        },
        "id": "Y6mzxjAQzO9C",
        "outputId": "5283fbcc-2525-46bd-9548-4390fa8d5455"
      },
      "source": [
        "A.shape"
      ],
      "execution_count": 28,
      "outputs": [
        {
          "output_type": "execute_result",
          "data": {
            "text/plain": [
              "(3, 2)"
            ]
          },
          "metadata": {},
          "execution_count": 28
        }
      ]
    },
    {
      "cell_type": "code",
      "metadata": {
        "colab": {
          "base_uri": "https://localhost:8080/"
        },
        "id": "XRigA3OezKEl",
        "outputId": "1043d520-fc33-4cd3-d349-c9753a6a32a9"
      },
      "source": [
        "U"
      ],
      "execution_count": 25,
      "outputs": [
        {
          "output_type": "execute_result",
          "data": {
            "text/plain": [
              "array([[-4.08248290e-01,  8.94427191e-01, -1.82574186e-01],\n",
              "       [-8.16496581e-01, -4.47213595e-01, -3.65148372e-01],\n",
              "       [-4.08248290e-01, -2.06937879e-16,  9.12870929e-01]])"
            ]
          },
          "metadata": {},
          "execution_count": 25
        }
      ]
    },
    {
      "cell_type": "code",
      "metadata": {
        "colab": {
          "base_uri": "https://localhost:8080/"
        },
        "id": "naLS0L8pzKW0",
        "outputId": "c81fff8a-10dc-4ba2-9cb1-fa6d01fa0a42"
      },
      "source": [
        "S"
      ],
      "execution_count": 26,
      "outputs": [
        {
          "output_type": "execute_result",
          "data": {
            "text/plain": [
              "array([3.46410162, 3.16227766])"
            ]
          },
          "metadata": {},
          "execution_count": 26
        }
      ]
    },
    {
      "cell_type": "code",
      "metadata": {
        "colab": {
          "base_uri": "https://localhost:8080/"
        },
        "id": "guMzwvyVzNbU",
        "outputId": "8bf0ea16-3501-465d-abd3-58447ad1b4c8"
      },
      "source": [
        "VT"
      ],
      "execution_count": 27,
      "outputs": [
        {
          "output_type": "execute_result",
          "data": {
            "text/plain": [
              "array([[-0.70710678, -0.70710678],\n",
              "       [ 0.70710678, -0.70710678]])"
            ]
          },
          "metadata": {},
          "execution_count": 27
        }
      ]
    },
    {
      "cell_type": "code",
      "metadata": {
        "colab": {
          "base_uri": "https://localhost:8080/"
        },
        "id": "BUlVEw0RzN30",
        "outputId": "2fa283c8-edce-488f-fa8c-97857a4c4faa"
      },
      "source": [
        "np.diag(S,1)[:, 1:] # S 가 시그마이고, 이 값의 실제 모습을 구하기 위해 왼쪽과 같이 진행한다\n",
        "#np.diag(S) 라고 하면 기존 S가 2개 array 를 갖고 있기 때문에, 2x2의 array 에 해당 값을 넣어줌\n",
        "#np.diag (S,1 ) 이라고 하면, S 에서 중심보다 1칸씩 밀려난 공간에 값을 입력하게 됨\n",
        "#np.diag(S, 1)[:, 1:] 행은 전체, 열은 1, 2 두가지 값만 불러오는 것,\n",
        "# 이렇게 되면, 우리 머릿속의 Sigma 를 구할 수 있음"
      ],
      "execution_count": 29,
      "outputs": [
        {
          "output_type": "execute_result",
          "data": {
            "text/plain": [
              "array([[3.46410162, 0.        ],\n",
              "       [0.        , 3.16227766],\n",
              "       [0.        , 0.        ]])"
            ]
          },
          "metadata": {},
          "execution_count": 29
        }
      ]
    },
    {
      "cell_type": "code",
      "metadata": {
        "colab": {
          "base_uri": "https://localhost:8080/"
        },
        "id": "4JF6aIDzzU4s",
        "outputId": "8d06e9b6-1949-474c-9ef1-bd52bba673a6"
      },
      "source": [
        "np.diag(S,1)"
      ],
      "execution_count": 30,
      "outputs": [
        {
          "output_type": "execute_result",
          "data": {
            "text/plain": [
              "array([[0.        , 3.46410162, 0.        ],\n",
              "       [0.        , 0.        , 3.16227766],\n",
              "       [0.        , 0.        , 0.        ]])"
            ]
          },
          "metadata": {},
          "execution_count": 30
        }
      ]
    },
    {
      "cell_type": "code",
      "metadata": {
        "colab": {
          "base_uri": "https://localhost:8080/"
        },
        "id": "F3Kpn1dAzsor",
        "outputId": "58a40625-c09d-4b94-bb1b-30c69a12921d"
      },
      "source": [
        "np.diag(S)"
      ],
      "execution_count": 31,
      "outputs": [
        {
          "output_type": "execute_result",
          "data": {
            "text/plain": [
              "array([[3.46410162, 0.        ],\n",
              "       [0.        , 3.16227766]])"
            ]
          },
          "metadata": {},
          "execution_count": 31
        }
      ]
    },
    {
      "cell_type": "code",
      "metadata": {
        "colab": {
          "base_uri": "https://localhost:8080/"
        },
        "id": "V-77IDcpztwk",
        "outputId": "94df1540-9f0d-4b3a-dfa5-1523adc9b45b"
      },
      "source": [
        "U @ np.diag(S, 1)[:, 1:] @ VT \n",
        "# -> 이렇게 하면 다시 원래 행렬 A 를 구할 수 있음 "
      ],
      "execution_count": 32,
      "outputs": [
        {
          "output_type": "execute_result",
          "data": {
            "text/plain": [
              "array([[ 3., -1.],\n",
              "       [ 1.,  3.],\n",
              "       [ 1.,  1.]])"
            ]
          },
          "metadata": {},
          "execution_count": 32
        }
      ]
    },
    {
      "cell_type": "code",
      "metadata": {
        "id": "IfSTORer0EuW"
      },
      "source": [
        "## 4.2 경사하강법\n",
        "# 무작위 초기화 하고, 학습률 하이퍼파라미터를 사용하여 수렴하고자 노력한다\n",
        "# 학습률이 너무 작으면 학습에 속도가 늦고, 학습률이 너무 크면 골짜기를 가로질러 반대편으로 건너뛰어 \n",
        "# 이전보다 더 높은 곳으로 올라가고, 오차 발산 가능성 높음\n",
        "\n",
        "## 경사하강법의 문제 \n",
        "### 1. 무작위 초기화 때문에 알고리즘이 왼 -> 오 진행하면, 전역 최솟값보다 덜 좋은 지역 최솟값에 수렴\n",
        "#### 다행히 선형회귀를 위한 MSE 비용함수는 곡선에서 어떤 두 점을 선택해 선을 그어도 곡선을 가로지르지 않는 볼록 함수\n",
        "#### 연속된 함수, 갑자기 기울기 변하지도 않음 -> 이 함수의 도함수가 립시츠 연속, \n",
        "#### 어떤 함수의 도함수가 일정한 범위 안에서 변할 때 이 함수를 립시츠 연속 함수라고 말할 수 있다\n",
        "#### sin(x) 는 립시츠 연속함수이나, 그 도함수는 x = 0 일때 기울기가 무한대가 되므로\n",
        "#### 립시츠 연속함수가 아니다\n",
        "#### MSE 는 x 가 무한대일때 기울기가 무한대가 되므로, locally 립시츠 함수라고 말할 수 있음\n",
        "\n",
        "#### 특성 스케일이 서로 다를 경우, 길쭉한 모양을 띨 수 있다 ,\n",
        "#### 특성 1, 2 중에서 더 작은 것이 비용함수에 영향을 주기 위해서는 작은 feature 의 theta 가 더 크게 바뀌어야 함\n",
        "##### 그래서 경사하강법 사용 시, 모든 feature 가 같은 스케일을 갖도록 만들어야 함 \n"
      ],
      "execution_count": 33,
      "outputs": []
    },
    {
      "cell_type": "code",
      "metadata": {
        "id": "1MnP5fSD2GG-"
      },
      "source": [
        "## 4.2.1 배치 경사 하강법\n",
        "### 각 모델 파라미터에 대해 비용함수의 그래디언트를 계산해야 함 -> 편미분을 사용\n",
        "### 각 변수의 기울기를 구하는 것과 같..음...\n",
        "### 한꺼번에 계산할 수 있음 "
      ],
      "execution_count": 34,
      "outputs": []
    },
    {
      "cell_type": "code",
      "metadata": {
        "id": "E8WEh_Qj27Sk"
      },
      "source": [
        "eta = 0.1 #학습률\n",
        "n_iterations = 1000\n",
        "m = 100\n",
        "theta = np.random.randn(2,1) # 무작위 초기화\n",
        "for iteration in range(n_iterations):\n",
        "    gradients = 2 / m * X_b.T.dot(X_b.dot(theta) - y)\n",
        "    theta = theta - eta * gradients"
      ],
      "execution_count": 38,
      "outputs": []
    },
    {
      "cell_type": "code",
      "metadata": {
        "colab": {
          "base_uri": "https://localhost:8080/"
        },
        "id": "YYEMzH6Q3KEE",
        "outputId": "95cb4428-2324-4197-fa5f-d6c872de071a"
      },
      "source": [
        "theta # 계산된 세타는 정규 방정식으로 찾은 것과 같다\n",
        "# 경사하강법이 잘 작동되었다는 뜻\n",
        "# 적절한 학습률을 찾으려면 그리드 탐색이 필요\n",
        "## 그리드 탐색 수렴하는데 너무 오래걸리는 모델을 막기 위해 '반복횟수' 제한 ** \n",
        "\n",
        "# 반복횟수가 너무 작으면 최적점 도달 전에 알고리즘이 멈춤\n",
        "# 반복횟수가 너무 크면 시간 낭비\n",
        "## 해결책? 반복횟수를 아주 크게 지정, 그래디언트 백터 아주 작아지면 = 벡터의 norm 이 어떤 허용오차값보다 작아지면 알고리즘 중지\n",
        "### 수렴률 : 허용오차(tolerance) 범위 안에서 최적의 솔루션 도달하기 위해서는 O(1/e)반복이 걸림\n",
        "#### 오차 허용오차를 1/10으로 줄이면, 알고리즘 반복은 10배 증가"
      ],
      "execution_count": 39,
      "outputs": [
        {
          "output_type": "execute_result",
          "data": {
            "text/plain": [
              "array([[3.91130717],\n",
              "       [3.10395699]])"
            ]
          },
          "metadata": {},
          "execution_count": 39
        }
      ]
    },
    {
      "cell_type": "code",
      "metadata": {
        "id": "GN4ggCyO3OUT"
      },
      "source": [
        ""
      ],
      "execution_count": null,
      "outputs": []
    }
  ]
}