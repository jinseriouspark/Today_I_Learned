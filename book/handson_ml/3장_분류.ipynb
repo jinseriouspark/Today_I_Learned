{
  "nbformat": 4,
  "nbformat_minor": 0,
  "metadata": {
    "colab": {
      "name": "3. 분류",
      "provenance": []
    },
    "kernelspec": {
      "display_name": "Python 3",
      "name": "python3"
    },
    "language_info": {
      "name": "python"
    }
  },
  "cells": [
    {
      "cell_type": "code",
      "metadata": {
        "id": "NNCm7i67T-Ql"
      },
      "source": [
        "import numpy as np\n",
        "import pandas as pd"
      ],
      "execution_count": null,
      "outputs": []
    },
    {
      "cell_type": "code",
      "metadata": {
        "colab": {
          "base_uri": "https://localhost:8080/"
        },
        "id": "UBKyMevsSgiC",
        "outputId": "6091ebc5-ef34-49e4-9abe-2ddb7ac8af57"
      },
      "source": [
        "from sklearn.datasets import fetch_openml\n",
        "\n",
        "mnist = fetch_openml('mnist_784', version = 1)\n",
        "mnist.keys()\n",
        "\n",
        "# 사이킷런 데이터셋은 비슷한 딕셔너리 구조를 가짐\n",
        "## 데이터셋 설명하는 DESCR키\n",
        "## 샘플이 하나의 행, 특성이 하나의 열로 구성된 배열을 가진 data 키\n",
        "## 레이블 배열을 담은 target 키"
      ],
      "execution_count": null,
      "outputs": [
        {
          "output_type": "execute_result",
          "data": {
            "text/plain": [
              "dict_keys(['data', 'target', 'frame', 'feature_names', 'target_names', 'DESCR', 'details', 'categories', 'url'])"
            ]
          },
          "metadata": {},
          "execution_count": 2
        }
      ]
    },
    {
      "cell_type": "code",
      "metadata": {
        "colab": {
          "base_uri": "https://localhost:8080/"
        },
        "id": "r3G2ZHX2TFOz",
        "outputId": "18bc3c47-35a8-4aba-d0b6-f826c305feee"
      },
      "source": [
        "X, y = mnist['data'], mnist['target']\n",
        "\n",
        "print(X.shape, y.shape)\n",
        "# 이미지가 70000개, 각 이미지에는 784개 특성 보유\n",
        "# 이미지가 28 x 28 픽셀이기 때문"
      ],
      "execution_count": null,
      "outputs": [
        {
          "output_type": "stream",
          "name": "stdout",
          "text": [
            "(70000, 784) (70000,)\n"
          ]
        }
      ]
    },
    {
      "cell_type": "code",
      "metadata": {
        "colab": {
          "base_uri": "https://localhost:8080/",
          "height": 248
        },
        "id": "63jTHDFyTYKq",
        "outputId": "661e221f-5497-4747-fd2b-466a9b65c8f9"
      },
      "source": [
        "import matplotlib as map\n",
        "import matplotlib.pyplot as plt \n",
        "\n",
        "some_digit = X[0] \n",
        "some_digit_image = some_digit.reshape(28,28)\n",
        "\n",
        "plt.imshow(some_digit_image, cmap = 'binary')\n",
        "plt.axis('off')\n",
        "plt.show()"
      ],
      "execution_count": null,
      "outputs": [
        {
          "output_type": "display_data",
          "data": {
            "image/png": "[encoded data removed]",
            "text/plain": [
              "<Figure size 432x288 with 1 Axes>"
            ]
          },
          "metadata": {
            "needs_background": "light"
          }
        }
      ]
    },
    {
      "cell_type": "code",
      "metadata": {
        "colab": {
          "base_uri": "https://localhost:8080/",
          "height": 35
        },
        "id": "kdMqkc5LTx5b",
        "outputId": "c1c88ca5-5414-440b-d383-cb72025736dc"
      },
      "source": [
        "y[0] # 5로보이는데,실제 레이블도 5인지 확인"
      ],
      "execution_count": null,
      "outputs": [
        {
          "output_type": "execute_result",
          "data": {
            "application/vnd.google.colaboratory.intrinsic+json": {
              "type": "string"
            },
            "text/plain": [
              "'5'"
            ]
          },
          "metadata": {},
          "execution_count": 5
        }
      ]
    },
    {
      "cell_type": "code",
      "metadata": {
        "id": "c7FI3LT3T3Xj"
      },
      "source": [
        "y = y.astype(np.uint8) # 문자열이 아니라 정수로 변환"
      ],
      "execution_count": null,
      "outputs": []
    },
    {
      "cell_type": "code",
      "metadata": {
        "id": "Yzi4exrkT8qr"
      },
      "source": [
        "# 항상 데이터 셋 분류한 후 탐색하기 \n",
        "X_train, X_test, y_train, y_test = X[:60000], X[60000:], y[:60000], y[60000:]"
      ],
      "execution_count": null,
      "outputs": []
    },
    {
      "cell_type": "code",
      "metadata": {
        "id": "1Rn5djqaUNsa"
      },
      "source": [
        "# 이진분류기 훈련 binary classifier\n",
        "\n",
        "y_train_5 = (y_train == 5)\n",
        "y_test_5 = (y_test == 5)"
      ],
      "execution_count": null,
      "outputs": []
    },
    {
      "cell_type": "code",
      "metadata": {
        "id": "IwB2tIvNUWfh"
      },
      "source": [
        "# SGDRegressor 확률적 경사하강법으로 진행 : 빠른 이유? SGD가 한번에 하나씩 훈련 샘플을 독립적으로 처리하기 때문\n",
        "# SGD가 샘플을 섞어야 하는 경우도 있는데, 기본적으로 epoch마다 훈련데이터를 다시 섞는다"
      ],
      "execution_count": null,
      "outputs": []
    },
    {
      "cell_type": "code",
      "metadata": {
        "colab": {
          "base_uri": "https://localhost:8080/"
        },
        "id": "Nl2-nm1pUnZ7",
        "outputId": "af7cf9cc-c645-48d1-bee8-a91e714a0537"
      },
      "source": [
        "from sklearn.linear_model import SGDClassifier\n",
        "\n",
        "sgd_clf = SGDClassifier(random_state = 1006)\n",
        "sgd_clf.fit(X_train, y_train_5)"
      ],
      "execution_count": null,
      "outputs": [
        {
          "output_type": "execute_result",
          "data": {
            "text/plain": [
              "SGDClassifier(alpha=0.0001, average=False, class_weight=None,\n",
              "              early_stopping=False, epsilon=0.1, eta0=0.0, fit_intercept=True,\n",
              "              l1_ratio=0.15, learning_rate='optimal', loss='hinge',\n",
              "              max_iter=1000, n_iter_no_change=5, n_jobs=None, penalty='l2',\n",
              "              power_t=0.5, random_state=1006, shuffle=True, tol=0.001,\n",
              "              validation_fraction=0.1, verbose=0, warm_start=False)"
            ]
          },
          "metadata": {},
          "execution_count": 10
        }
      ]
    },
    {
      "cell_type": "code",
      "metadata": {
        "colab": {
          "base_uri": "https://localhost:8080/"
        },
        "id": "6NG2xaz6VhrI",
        "outputId": "c89e3b9f-ad91-453e-bc17-b49c7bf301c0"
      },
      "source": [
        "sgd_clf.predict([some_digit])"
      ],
      "execution_count": null,
      "outputs": [
        {
          "output_type": "execute_result",
          "data": {
            "text/plain": [
              "array([ True])"
            ]
          },
          "metadata": {},
          "execution_count": 11
        }
      ]
    },
    {
      "cell_type": "code",
      "metadata": {
        "id": "_VZDL6noVrsB"
      },
      "source": [
        "# 성능측정\n",
        "## 분류기 평가는 회귀 모델보다 훨씬 어려움\n",
        "## 사용할 수 있는 성능 지표가 아주 많음\n",
        "\n"
      ],
      "execution_count": null,
      "outputs": []
    },
    {
      "cell_type": "code",
      "metadata": {
        "colab": {
          "base_uri": "https://localhost:8080/"
        },
        "id": "ed-JpDMCP82d",
        "outputId": "7e4f8dcd-caab-4cea-f1e2-184987409b9b"
      },
      "source": [
        "# 교차 검증을 사용한 정확도 측정\n",
        "## 사이킷런 기능의 cross_val_score()와 거의 동일한 작업을 수행하는 함수\n",
        "\n",
        "from sklearn.model_selection import StratifiedKFold\n",
        "from sklearn.base import clone \n",
        "\n",
        "skfolds = StratifiedKFold(n_splits = 3, random_state=42, shuffle=True)\n",
        "\n",
        "for train_index, test_index in skfolds.split(X_train, y_train_5):\n",
        "    clone_clf = clone(sgd_clf) # sgd_clf 를 복사 \n",
        "    X_train_folds = X_train[train_index] # 여기로 학습셋의 인덱스 받음\n",
        "    y_train_folds = y_train_5[train_index] # 여기로 학습셋 인덱스 받음\n",
        "    X_test_fold = X_train[test_index] # 여기로 테스트셋 인덱스 받음\n",
        "    y_test_fold = y_train_5[test_index] # 여기로 텍스트셋 인덱스 받음\n",
        "\n",
        "    clone_clf.fit(X_train_folds, y_train_folds) # 복제한 모델에 학습셋 넣음\n",
        "    y_pred = clone_clf.predict(X_test_fold) # 학습된 모델 내 테스트셋 넣음 \n",
        "    n_correct = sum(y_pred == y_test_fold) # y_test_fold 와 같은 경우 (TRUE) 를 더함\n",
        "    print(n_correct / len(y_pred)) #전체 대비 맞춘 확률을 구해줌"
      ],
      "execution_count": null,
      "outputs": [
        {
          "output_type": "stream",
          "name": "stdout",
          "text": [
            "0.96475\n",
            "0.96775\n",
            "0.9615\n"
          ]
        }
      ]
    },
    {
      "cell_type": "code",
      "metadata": {
        "colab": {
          "base_uri": "https://localhost:8080/"
        },
        "id": "mAqgbdIV-h2G",
        "outputId": "b79e60b1-bd74-49e0-c1d7-fe4565362094"
      },
      "source": [
        "# cross_val_score() 함수로로 위와 같이 진행할 수 있음\n",
        "from sklearn.model_selection import cross_val_score\n",
        "cross_val_score(sgd_clf, X_train, y_train_5, cv = 3, scoring = \"accuracy\")\n",
        "\n",
        "# 모든 값의 정확도가 95%, 맞는 것일까? 아니다\n",
        "# 원래 데이터의 5인 확률 자체가 너무나 적기 떄문에, 아니라고 단순 예측해도 되어 결과가 왜곡됌\n"
      ],
      "execution_count": null,
      "outputs": [
        {
          "output_type": "execute_result",
          "data": {
            "text/plain": [
              "array([0.9654 , 0.95345, 0.9456 ])"
            ]
          },
          "metadata": {},
          "execution_count": 14
        }
      ]
    },
    {
      "cell_type": "code",
      "metadata": {
        "colab": {
          "base_uri": "https://localhost:8080/"
        },
        "id": "oOZw220u__IG",
        "outputId": "ab94f9e2-d739-45ff-a51b-b3fb46743ac3"
      },
      "source": [
        "from sklearn.base import BaseEstimator \n",
        "\n",
        "class Never5Classifier(BaseEstimator):\n",
        "    def fit(self, X, y = None):\n",
        "        return self \n",
        "    def predict(self, X):\n",
        "        return np.zeros((len(X), 1), dtype = bool)\n",
        "\n",
        "never_5_clf = Never5Classifier()\n",
        "cross_val_score(never_5_clf, X_train, y_train_5, cv = 3, scoring = 'accuracy')\n",
        "\n",
        "# 0으로 예측해도 90% 이상의 정확도를 보임\n",
        "# 이는 불균형 데이터셋을 다룰 때 종종 발생하는 경우\n",
        "## 이러한 오류를 해결하기 위해서는 오차 행렬로 비교해야 할 필요가 있음\n",
        "## 클래스 A 샘플이 클래스 B로 분류된 횟수를 세는 것"
      ],
      "execution_count": null,
      "outputs": [
        {
          "output_type": "execute_result",
          "data": {
            "text/plain": [
              "array([0.91125, 0.90855, 0.90915])"
            ]
          },
          "metadata": {},
          "execution_count": 15
        }
      ]
    },
    {
      "cell_type": "code",
      "metadata": {
        "id": "tc8WBSUJAM-b"
      },
      "source": [
        "# 오차행렬\n",
        "# 오차 행렬을 만들려면 실제 타깃과 비교할 수 있도록 예측값을 만들어야 함\n",
        "# 테스트로 예측을 만들 수 있으나 여기서 사용하면 안된다.\n",
        "## 테스트셋은 분류기가 출시 준비를 마치고 나서 프로젝트의 맨 마지막에 사용됨\n",
        "\n",
        "from sklearn.model_selection import cross_val_predict\n",
        "\n",
        "y_train_pred = cross_val_predict(sgd_clf, X_train, y_train_5, cv = 3)\n",
        "\n",
        "# cross_val_predict() 는 cross_val_score() 함수와 같이 k-fold 교차 검증 수행하나, \n",
        "# 평가 점수를 반환하지 않고 각 테스트 폴드에서 얻은 예측을 반환"
      ],
      "execution_count": null,
      "outputs": []
    },
    {
      "cell_type": "code",
      "metadata": {
        "colab": {
          "base_uri": "https://localhost:8080/"
        },
        "id": "OxCo1n-uBZWp",
        "outputId": "690cbcc3-ea58-48d7-fe33-6294bf7af4f5"
      },
      "source": [
        "# confusion_matrix() 함수를 사용해 오차 행렬을 만들 준비가 되었다\n",
        "from sklearn.metrics import confusion_matrix \n",
        "confusion_matrix(y_train_5, y_train_pred)\n",
        "\n",
        "# 여기서의 행은 실제 클래스, 열은 예측 클래스"
      ],
      "execution_count": null,
      "outputs": [
        {
          "output_type": "execute_result",
          "data": {
            "text/plain": [
              "array([[52700,  1879],\n",
              "       [  832,  4589]])"
            ]
          },
          "metadata": {},
          "execution_count": 17
        }
      ]
    },
    {
      "cell_type": "code",
      "metadata": {
        "colab": {
          "base_uri": "https://localhost:8080/"
        },
        "id": "CJTq_hoSBt4V",
        "outputId": "78cccc5a-0e5f-4487-d38c-8b8be5221fe9"
      },
      "source": [
        "y_train_perfect_predictions = y_train_5\n",
        "confusion_matrix(y_train_5, y_train_perfect_predictions)"
      ],
      "execution_count": null,
      "outputs": [
        {
          "output_type": "execute_result",
          "data": {
            "text/plain": [
              "array([[54579,     0],\n",
              "       [    0,  5421]])"
            ]
          },
          "metadata": {},
          "execution_count": 18
        }
      ]
    },
    {
      "cell_type": "code",
      "metadata": {
        "id": "8fmtuzcIBuMu"
      },
      "source": [
        "# 정밀도 : 양성 예측의 정확도\n",
        "## tp = (tp + fp) : 진짜 양성의 수 + 거짓 양성의 수 중에서, 진짜 양성을 예측하는 것\n",
        "# 재현율 : 분류기가 정확하게 감지한 양성 샘플의 비율\n",
        "## tp = (tp + fn) : 진짜 양성의 수 + 거짓 음성의 수 중에서 진짜 양성을 예측하는 것\n",
        "### tpr 이라고도 함\n",
        "\n"
      ],
      "execution_count": null,
      "outputs": []
    },
    {
      "cell_type": "code",
      "metadata": {
        "colab": {
          "base_uri": "https://localhost:8080/"
        },
        "id": "LcG4baOfCtpB",
        "outputId": "54c0e94c-7b78-4678-d211-1fd66adaf1d3"
      },
      "source": [
        "# 3.3.3 정밀도와 재현율 \n",
        "from sklearn.metrics import precision_score, recall_score\n",
        "precision_score(y_train_5, y_train_pred)  # 5로 판별된 이미지 중에서 90% 만 정확"
      ],
      "execution_count": null,
      "outputs": [
        {
          "output_type": "execute_result",
          "data": {
            "text/plain": [
              "0.7094928880643167"
            ]
          },
          "metadata": {},
          "execution_count": 20
        }
      ]
    },
    {
      "cell_type": "code",
      "metadata": {
        "colab": {
          "base_uri": "https://localhost:8080/"
        },
        "id": "3JyzU61-Ctg3",
        "outputId": "8b15a533-3f72-4465-8aae-1d308377ad27"
      },
      "source": [
        "recall_score(y_train_5, y_train_pred) # 전체 숫자 5중에서 84% 감지"
      ],
      "execution_count": null,
      "outputs": [
        {
          "output_type": "execute_result",
          "data": {
            "text/plain": [
              "0.8465227817745803"
            ]
          },
          "metadata": {},
          "execution_count": 21
        }
      ]
    },
    {
      "cell_type": "code",
      "metadata": {
        "colab": {
          "base_uri": "https://localhost:8080/"
        },
        "id": "y85G_ThGCtae",
        "outputId": "a2a54b7e-cffc-43e6-cb0f-abb61531ce92"
      },
      "source": [
        "# 그렇다면, 5로 판별된 이미지 중에 감지 잘하는 것과, 전체 5중에서 감지 잘하는 정도를 같이 보고 싶다면 어떻게 할까? \n",
        "# f점수, 라는 하나의 숫자롬 ㅏㄴ들면 된다\n",
        "# f 점수는 정밀도와 재현율의 조화평균\n",
        "## f = 2 * ( (1 / 정밀도) + (1 / 재현율))\n",
        "\n",
        "from sklearn.metrics import f1_score\n",
        "\n",
        "f1_score(y_train_5, y_train_pred)\n",
        "\n",
        "# 정밀도와 재현율이 비슷한 분류기에서는 f1 의 점수가 높다\n",
        "# 그러나 항상 바람직한 것이 아니고, 상황에 따라 정밀도가 중요하거나, 재현율이 더 중요할 수 있다\n",
        "# 만약 아이에게 안전한 동영상을 골라낼 때, 낮은 재현율을 가지고 있더라도 안전한 것을 노출시키는 높은 정밀도 분류기가 좋을 것\n",
        "# 정확해야 하는 범죄자 걸러내는 모델의 경우, 재현율 > 정밀도 \n",
        "# 안전해야 하는 나쁜 동영상 가이드 모델의 경우, 재현율 < 정밀도 \n",
        "#--> 정밀도 / 재현율 트레이드 오프\n"
      ],
      "execution_count": null,
      "outputs": [
        {
          "output_type": "execute_result",
          "data": {
            "text/plain": [
              "0.7719740937000589"
            ]
          },
          "metadata": {},
          "execution_count": 22
        }
      ]
    },
    {
      "cell_type": "code",
      "metadata": {
        "id": "AbdisZ1KCtSN"
      },
      "source": [
        "# 정밀도 / 재현율 트레이드오프는 어떻게 구성되는가? \n",
        "## 결정함수를 사용하여 각 샘플의 점수 계산 시 가능\n",
        "# 임계값보다 크면 샘플을 양ㅇ성 클래스에 할당, 작으면 음성 클래스에 할당\n",
        "\n",
        "# 결정 임계값이 높을 경우, (더 깐깐해지는 것이므로) 양성 예측하는 경우가 줄어들면서 재현율은 줄어들고, 정밀도는 높아진다\n",
        "# 결정 임계값이 낮을 경우, (더 많이 봐주는 것이므로) 음성 예측하는 경우가 줄어들면서 정밀도가 줄어들고, 재현율은 높아진다"
      ],
      "execution_count": null,
      "outputs": []
    },
    {
      "cell_type": "code",
      "metadata": {
        "colab": {
          "base_uri": "https://localhost:8080/",
          "height": 232
        },
        "id": "moGdI9-5Eeda",
        "outputId": "9944b454-b273-4e98-d806-b45b98b0c86e"
      },
      "source": [
        "y_scores = sgd_clf.decision_function([some_digit])\n",
        "y_scores\n",
        "\n",
        "threshold = 0\n",
        "y_some_digit_pred"
      ],
      "execution_count": null,
      "outputs": [
        {
          "output_type": "error",
          "ename": "NameError",
          "evalue": "ignored",
          "traceback": [
            "\u001b[0;31m---------------------------------------------------------------------------\u001b[0m",
            "\u001b[0;31mNameError\u001b[0m                                 Traceback (most recent call last)",
            "\u001b[0;32m<ipython-input-24-55136c642b28>\u001b[0m in \u001b[0;36m<module>\u001b[0;34m()\u001b[0m\n\u001b[1;32m      3\u001b[0m \u001b[0;34m\u001b[0m\u001b[0m\n\u001b[1;32m      4\u001b[0m \u001b[0mthreshold\u001b[0m \u001b[0;34m=\u001b[0m \u001b[0;36m0\u001b[0m\u001b[0;34m\u001b[0m\u001b[0;34m\u001b[0m\u001b[0m\n\u001b[0;32m----> 5\u001b[0;31m \u001b[0my_some_digit_pred\u001b[0m\u001b[0;34m\u001b[0m\u001b[0;34m\u001b[0m\u001b[0m\n\u001b[0m",
            "\u001b[0;31mNameError\u001b[0m: name 'y_some_digit_pred' is not defined"
          ]
        }
      ]
    },
    {
      "cell_type": "code",
      "metadata": {
        "id": "6lYwdKVtCtK_"
      },
      "source": [
        "threshold = 8000\n",
        "y_some_digit_pred = (y_scores > threshold)\n",
        "\n",
        "y_some_digit_pred"
      ],
      "execution_count": null,
      "outputs": []
    },
    {
      "cell_type": "code",
      "metadata": {
        "id": "nFXWl0fECtBd"
      },
      "source": [
        "y_scores"
      ],
      "execution_count": null,
      "outputs": []
    },
    {
      "cell_type": "code",
      "metadata": {
        "id": "FBxcRVYkHVF6"
      },
      "source": [
        "# 임곗값 높이면 재현율이 줄어든다\n",
        "y_scores = cross_val_predict(sgd_clf, X_train, y_train_5, cv = 3, \n",
        "                            method = 'decision_function')"
      ],
      "execution_count": null,
      "outputs": []
    },
    {
      "cell_type": "code",
      "metadata": {
        "id": "9HkeDqCOYdas"
      },
      "source": [
        "# 이 점수로 precision_recall_curve() 함수를 사용하여 모든 임곗값에 대한\n",
        "# 정밀도와 재현율 계산이 가능\n",
        "\n",
        "from sklearn.metrics import precision_recall_curve\n",
        "\n",
        "precisions, recalls, thresholds = precision_recall_curve(y_train_5, y_scores) \n"
      ],
      "execution_count": null,
      "outputs": []
    },
    {
      "cell_type": "code",
      "metadata": {
        "id": "VduFGclgYyWI"
      },
      "source": [
        "def plot_precision_recall_vs_thresholds(precisions, recalls, thresholds):\n",
        "    plt.plot(thresholds, precisions[:-1], 'b--', label = '정밀도')\n",
        "    plt.plot(thresholds, recalls[:-1], 'g-', label = '재현율')\n",
        "\n",
        "plot_precision_recall_vs_thresholds(precisions, recalls, thresholds)\n",
        "plt.show()"
      ],
      "execution_count": null,
      "outputs": []
    },
    {
      "cell_type": "code",
      "metadata": {
        "id": "RSdVCzfaZEUf"
      },
      "source": [
        "y_train_pred_90 = (y_scores >= threshold_90_precision)\n",
        "\n",
        "# 누군가가 99%의 accuracy 를 달성하자, 라고 말하면 반드시 \n",
        "# 재현율 얼마에서? 라고 물어봐야 한다고 한다. "
      ],
      "execution_count": null,
      "outputs": []
    },
    {
      "cell_type": "code",
      "metadata": {
        "id": "zCR7lXcNZcwe"
      },
      "source": [
        "# 3.3.5 ROC 곡선\n",
        "from sklearn.metrics import roc_curve \n",
        "\n",
        "fpr, tpr, thresholds = roc_curve(y_train_5, y_scores)"
      ],
      "execution_count": null,
      "outputs": []
    },
    {
      "cell_type": "code",
      "metadata": {
        "id": "t3qUkypEaJ6O"
      },
      "source": [
        "def plt_roc_curve(fpr, tpr, label = None):\n",
        "    plt.plot(fpr, tpr, linewidth=2, label=label)\n",
        "    plt.plot([0,1], [0, 1], 'k--')\n",
        "plt_roc_curve(fpr, tpr)\n",
        "plt.show()"
      ],
      "execution_count": null,
      "outputs": []
    },
    {
      "cell_type": "code",
      "metadata": {
        "id": "i3l8Mq5JaV9o"
      },
      "source": [
        "# 곡선 아래의 면적 auc 를 측정하면 분류기를 비교할 수 있음\n",
        "# 완벽한 분류기는 roc의 auc가 1이고, 완전한 랜덤 분류기는 0.5 dlek\n",
        "\n",
        "from sklearn.metrics import roc_auc_score\n",
        "roc_auc_score(y_train_5, y_scores)"
      ],
      "execution_count": null,
      "outputs": []
    },
    {
      "cell_type": "code",
      "metadata": {
        "id": "bL7FGxCPawul"
      },
      "source": [
        "# RandomForestClassifiere 를 훈련시켜서 SGDClassifier 의 ROC곡선과 \n",
        "# ROC AUC 점수를 비교\n",
        " \n",
        "from sklearn.ensemble import RandomForestClassifier \n",
        "\n",
        "forest_clf = RandomForestClassifier(random_state = 42)\n",
        "y_probas_forest = cross_val_predict(forest_clf, X_train, y_train_5,\n",
        "                                    cv = 3, method = 'predict_proba')\n",
        "\n",
        "# predict_proba() 메서드는 샘플이 행, 클래스가 열이고 \n",
        "# 샘플이 주어진 클래스에 속할 확률을 담은 배열을 반환\n",
        "# 예를 들어 어떤 이미지가 5일 확률 70%"
      ],
      "execution_count": null,
      "outputs": []
    },
    {
      "cell_type": "code",
      "metadata": {
        "id": "3qrbW6nwbQup"
      },
      "source": [
        "y_scores_forest = y_probas_forest[:, 1] # 양성 클래스에 대한 확률을 점수로 사용\n",
        "fpr_forest, tpr_forest, thresholds_forest = roc_curve(y_train_5, y_scores_forest)"
      ],
      "execution_count": null,
      "outputs": []
    },
    {
      "cell_type": "code",
      "metadata": {
        "id": "BX1i4IlylXMA"
      },
      "source": [
        "y_probas_forest # [음성 클래스에 속할 확률, 양성 클래스에 속할 확률]"
      ],
      "execution_count": null,
      "outputs": []
    },
    {
      "cell_type": "code",
      "metadata": {
        "id": "tP4f93EylH6H"
      },
      "source": [
        "plt.plot(fpr, tpr, 'b:', label = 'SGD')\n",
        "plot_roc_curve(fpr_forest, tpr_forest, '랜덤포레스트')\n",
        "plt.legend(loc='lower right')\n",
        "plt.show()"
      ],
      "execution_count": null,
      "outputs": []
    },
    {
      "cell_type": "code",
      "metadata": {
        "id": "vk-VR6yelxhG"
      },
      "source": [
        "# 3.4 다중분류\n",
        "## 다중 분류기는 둘 이상의 클래스를 구별할 수 있음\n",
        "## 로지스틱,SVM은 이진 분류만 가능하여, 이진 분류기를 여러개 사용해 다중 클래스 분류 가능\n",
        "## SGD, random forest, naiva bayes 는 여러 클래스를 직접 처리 가능\n",
        "### one-versus-the-rest 전략 : 특정 숫자 하나만 구분하는 숫자별 이진 분류기 10개를 훈련 하여 이미지 분류 시스템 만들기\n",
        "### one-versus-one 전략 : 0과 1구별, 0과 2구별, 1과 2구별 등 각 숫자의 조합마다 이진 분류기 훈련\n",
        "\n",
        "# 일부 알고리즘은 훈련 세트 크기에 민감\n",
        "# 큰 훈련 세트에서 몇 개의 분류기를 훈련시키는 것 < 작은 훈련 세트에서 많은 분류기를 훈련\n",
        "# 다중 클래스 분류 작업에 이진 분류 알고리즘을 선택시\n",
        "# 사이킷런이 알고리즘에 따라 자동으로 OvR 또는 OvO를 실행\n"
      ],
      "execution_count": null,
      "outputs": []
    },
    {
      "cell_type": "code",
      "metadata": {
        "id": "a_xTZb5Moci2"
      },
      "source": [
        "from sklearn.svm import SVC\n",
        "svm_clf = SVC()\n",
        "# 이렇게 될 경우, 내부에서는 사이킷런이 ovo전략을 사용해 45개 이진 분류기 훈련\n",
        "# 각각의 결정점수를 얻어 점수가 가장 높은 클래스를 선택\n",
        "svm_clf.fit(X_train, y_train)\n",
        "svm_clf.predict([some_digit])"
      ],
      "execution_count": null,
      "outputs": []
    },
    {
      "cell_type": "code",
      "metadata": {
        "id": "PafHbRrbokFR"
      },
      "source": [
        "some_digit_scores = svm_clf.decision_function([some_digit])\n",
        "some_digit_scores # 그럼 여기서는 ovo를 하니까 10개의 점수가 나오고\n",
        "# 그 중에서 가장 높은 값을 내는 구나\n",
        "# 그럼 svm_clsification 도 일종의 앙상블인가? 아닐 듯\n",
        "## 각각의 결정 점수를 얻어 점수가 가장 높은 클래스를 선택한다? \n",
        "## 결정 점수? 각 값이 될 점수? \n",
        "## 그럼 오히려 높은 점수일 수록 결정 점수를 "
      ],
      "execution_count": null,
      "outputs": []
    },
    {
      "cell_type": "code",
      "metadata": {
        "id": "NZWxiZ-CpEIt"
      },
      "source": [
        "np.argmax(some_digit_scores)\n",
        "svm_clf.classes_"
      ],
      "execution_count": null,
      "outputs": []
    },
    {
      "cell_type": "code",
      "metadata": {
        "id": "k5ohbvORsfhy"
      },
      "source": [
        "from sklearn.multiclass import OneVsRestClassifier \n",
        "ovr_clf = OneVsRestClassifier(SVC())\n",
        "ovr_clf.fit(X_train, y_train)\n",
        "ovr_clf.predict([some_digit])\n",
        "\n",
        "len(ovr_clf.estimators_)"
      ],
      "execution_count": null,
      "outputs": []
    },
    {
      "cell_type": "code",
      "metadata": {
        "id": "tNti37EzstnE"
      },
      "source": [
        "from sklearn.linear_model import SGDClassifier\n",
        "\n",
        "sgd_clf = SGDClassifier()\n",
        "sgd_clf.fit(X_train, y_train)\n",
        "sgd_clf.predict([some_digit])"
      ],
      "execution_count": null,
      "outputs": []
    },
    {
      "cell_type": "code",
      "metadata": {
        "id": "o42VyGIas4i9"
      },
      "source": [
        "sgd_clf.decision_function([some_digit])"
      ],
      "execution_count": null,
      "outputs": []
    },
    {
      "cell_type": "code",
      "metadata": {
        "id": "JOwLUXrQs8d4"
      },
      "source": [
        "cross_val_score(sgd_clf, X_train, y_train, cv=3, scoring = 'accuracy')"
      ],
      "execution_count": null,
      "outputs": []
    },
    {
      "cell_type": "code",
      "metadata": {
        "id": "solLU2F9tHAj"
      },
      "source": [
        "from sklearn.preprocessing import StandardScaler \n",
        "scaler = StandardScaler()\n",
        "X_train_scaled = scaler.fit_transform(X_train.astype(np.float64))\n",
        "cross_val_score(sgd_clf, X_train_scaled, y_train, cv=3, scoring='accuracy')"
      ],
      "execution_count": null,
      "outputs": []
    },
    {
      "cell_type": "code",
      "metadata": {
        "id": "6kjheuwItYbr"
      },
      "source": [
        "#3.5 에러분석\n",
        "## 데이터 준비 단계에서 가능한 선택 사항을 탐색\n",
        "## 여러 모델을 시도\n",
        "## 가장 좋은 몇 개를 골라 GridSearchCV를 사용해 하이퍼 파라미터 튜닝\n",
        "# -> 자동화\n",
        "\n",
        "# 오차 행렬 살펴보기 : cross_val_predict() 함수를 사용해 예측 생성, \n",
        "## confusion_matrix() 함수를 호출"
      ],
      "execution_count": null,
      "outputs": []
    },
    {
      "cell_type": "code",
      "metadata": {
        "id": "Dxba-qiltvgt"
      },
      "source": [
        "y_train_pred = cross_val_predict(sgd_clf, X_train_scaled, y_train, cv =3)\n",
        "conf_mx = confusion_matrix(y_train, y_train_pred)\n",
        "conf_mx"
      ],
      "execution_count": null,
      "outputs": []
    },
    {
      "cell_type": "code",
      "metadata": {
        "id": "W5QcGtLht5hv"
      },
      "source": [
        "# 오차행렬을 이미지로 봐보자\n",
        "plt.matshow(conf_mx, cmap = plt.cm.gray)\n",
        "plt.show()\n",
        "\n",
        "# 에러 부분에 초점을 맞춰보자\n",
        "# 오차 행렬의 각 값에\n",
        "# 대응되는 클래스 이미지 갯수로 나누어 에러율 비교\n",
        "\n"
      ],
      "execution_count": null,
      "outputs": []
    },
    {
      "cell_type": "code",
      "metadata": {
        "id": "V9qymgXXt_14"
      },
      "source": [
        "row_sums = conf_mx.sum(axis =1, keepdims = True)\n",
        "norm_conf_mx = conf_mx / row_sums"
      ],
      "execution_count": null,
      "outputs": []
    },
    {
      "cell_type": "code",
      "metadata": {
        "id": "Jv_gIB4wuSxF"
      },
      "source": [
        "np.fill_diagonal(norm_conf_mx, 0)\n",
        "plt.matshow(norm_conf_mx, cmap=plt.cm.gray)\n",
        "plt.show()\n",
        "\n",
        "# 이 그림에서 행은 실제 클래스를 나타내고\n",
        "# 열은 예측한 클래스를 나타낸다는 사실을 기억\n",
        "# 클래스 8의 열이 상당히 밝으므로 많은 이미지가 8로 잘못 분류되었음을 암시\n"
      ],
      "execution_count": null,
      "outputs": []
    },
    {
      "cell_type": "code",
      "metadata": {
        "id": "PHYN9EVyue8x"
      },
      "source": [
        "cl_a = cl_b = 3,5\n",
        "X_aa = X_train[(y_train == cl_a) & (y_train_pred == cl_a)]\n",
        "X_ab = X_train[(y_train == cl_a) & (y_train_pred == cl_b)]\n",
        "X_ba = X_train[(y_train == cl_b) & (y_train_pred == cl_a)]\n",
        "X_bb = X_train[(y_train == cl_b) & (y_train_pred == cl_b)]\n",
        "\n",
        "plt.figure(figsize=(8,8))\n",
        "plt.subplot(221); plot_digits(X_aa[:25], images_per_row=5)\n",
        "plt.subplot(222); plot_digits(X_ab[:25], images_per_row=5)\n",
        "plt.subplot(223); plot_digits(X_ba[:25], images_per_row=5)\n",
        "plt.subplot(224); plot_digits(X_bb[:25], images_per_row=5)\n",
        "\n",
        "plt.show()"
      ],
      "execution_count": null,
      "outputs": []
    },
    {
      "cell_type": "code",
      "metadata": {
        "id": "ZZGd-eLhv9FJ"
      },
      "source": [
        "# 대부분의 잘못 분류된 이미지는 확실히 에러인 것 같고, 분류기가 실수한 이유를 이해하기 어렵다\n",
        "# 원인은 선형 모델인 SGDClassifier 를 사용했기 때문\n",
        "# 선형 분류기는 클래스마다 픽셀에 가중치를 할당\n",
        "# 새로운 이미지에 대해 단순히 픽셀 강도의 가중치합을 클래스의 점수로 계산\n",
        "# 3과 5는 몇개의 픽셀만 다르기 때문에 모델이 쉽게 혼동하게 됨\n",
        "\n",
        "# 3과 5의 주요 차이는 위쪽 선과 아래쪽 호를 이어주는 작은 직선의 위치 \n",
        "# 숫자 3을 쓸 때는 연결부위가 조금 왼쪽으로 치우치면 분류기가 5로 분류\n",
        "# 반대도 마찬가지\n",
        "\n",
        "# 3과 5의 에러를 줄이는 한가지 방법은 이미지를 중앙에 위치시키고 \n",
        "# 회전되지 않도록 전처리 하는 것\n"
      ],
      "execution_count": null,
      "outputs": []
    },
    {
      "cell_type": "code",
      "metadata": {
        "id": "Af4gSN81w3Uo"
      },
      "source": [
        "# 3.6 다중 레이블 분류\n",
        "# 분류기가 샘플마다 여러개 클래스를 출력해야 할때는 어떨까?\n",
        "# 같은 사진에 여러 사람이 등장한다면 어떻게 해야할까?\n",
        "# 인식된 사람마다 하나씩 꼬리표를 붙여야 한다\n",
        "# 분류기가 앨리스, 밥, 찰리 얼굴 셋이라면 [1, 0, 1] 이라고 출력해야 함\n",
        "# 다중 레이블 분류"
      ],
      "execution_count": null,
      "outputs": []
    },
    {
      "cell_type": "code",
      "metadata": {
        "id": "_MGJFBG1w2_V"
      },
      "source": [
        "from sklearn.negihbors import KNeighborsClassifier\n",
        "\n",
        "y_train_large = (y_train>=7) # 이 숫자가 7보다 큰 값인가? 7, 8, 9\n",
        "y_train_odd = (y_train %2 == 1) # 이 숫자가 홀수인가? \n",
        "y_multilabel=np.c_[train_larget, ytrain_odd]\n",
        "\n",
        "knn_clf = KNeighborsClassifier() # 인스턴스를 만들고\n",
        "knn_clf.fit(X_train, y_multilabel) # 다중 타깃 배열을 사용하여 훈련"
      ],
      "execution_count": null,
      "outputs": []
    },
    {
      "cell_type": "code",
      "metadata": {
        "id": "DJ-eKKqdxWIo"
      },
      "source": [
        "knn_clf.predict([some_digit]) # False, True 라고 나온다면, 이 숫자는 7보다 작고, 홀수"
      ],
      "execution_count": null,
      "outputs": []
    },
    {
      "cell_type": "code",
      "metadata": {
        "id": "4LXpd35vxseX"
      },
      "source": [
        "# 다중 레이블 분류기 평가 방법은 많다\n",
        "# 적절 지표는 프로젝트에 따라 다름\n",
        "# 각 레이블의 F1 점수를 구하고, 간단히 평균 점수를 계산\n",
        "\n",
        "y_train_knn_pred = cross_val_predict(knn_clf, X_train, y_multilabel, cv = 3)\n",
        "f1_score(y_multilabel, y_train_knn_pred, average='macro')\n",
        "\n",
        "# 0.97541... 이 나오는데\n",
        "# 이 코드는 모든 레이블의 가중치가 같다고 가정한 것\n",
        "# 앨리스 사진이 밥이나 찰리 사진보다 훨씬 많다면 앨리스 사진에 대한 분류기의 점수에\n",
        "# 더 높은 가중치를 둘 것\n",
        "# 레이블에 클래스의 지지도 support 를 가중치를 주는 것 -> average 부분\n",
        "# average = 'weighted' 로 설정하면 됨"
      ],
      "execution_count": null,
      "outputs": []
    },
    {
      "cell_type": "code",
      "metadata": {
        "id": "6tZAX1Wmx8E8"
      },
      "source": [
        "# 다중 출력 분류\n",
        "## 한 레이블이 다중 클래스가 될 수 있도록 일반화 한 것\n",
        "\n",
        "noise = np.random.randint(0, 100, (len(X_train), 784))\n",
        "X_train_mod = X_train + noise\n",
        "noise = np.random.randint(0, 100, (len(X_test), 784))\n",
        "X_test_mod = X_test + noise\n",
        "y_train_mode = X_train\n",
        "y_test_mode = X_test"
      ],
      "execution_count": null,
      "outputs": []
    },
    {
      "cell_type": "code",
      "metadata": {
        "id": "Sy1kSr91zHPp"
      },
      "source": [
        "knn_clf.fit(X_train_mod, y_train_mod)\n",
        "clean_digit = knn_clf.predict([X_test_mod[some_index]])\n",
        "plot_digit(clean_digit)"
      ],
      "execution_count": null,
      "outputs": []
    },
    {
      "cell_type": "code",
      "metadata": {
        "id": "gnR1-ROgzSrh"
      },
      "source": [
        "# 뷴류 작업에서 좋은 측정 지표를 선택하고\n",
        "# 적절한 정밀도/재현율 트레이드오프를 고르고\n",
        "# 분류기를 비교하는 방법\n",
        "## 여러 종류의 문제에서 훌륭한 분류 시스템을 구축하는 방법을 알게 되었길\n"
      ],
      "execution_count": null,
      "outputs": []
    },
    {
      "cell_type": "markdown",
      "metadata": {
        "id": "6z2duXp3R0BN"
      },
      "source": [
        "# 3.8 연습문제\n",
        "## 1. mnist dataset 으로 분류기 만들기\n",
        "\n",
        "- 과제 확인하고 데이터 생김새, 분류/ 회귀, 목적에 따른 메트릭 선택\n",
        "- 학습, 데이터셋 생성\n",
        "- 필요한 모델 여러개 : 여기서는 kneightborsclassifier 를 이야기 해줌\n",
        "- 데이터 분석, 에러분석, \n",
        "- 하이퍼파라미터 튜닝"
      ]
    },
    {
      "cell_type": "code",
      "metadata": {
        "colab": {
          "base_uri": "https://localhost:8080/"
        },
        "id": "eIZKJ8t0ElaL",
        "outputId": "5bc52e73-b590-475f-bef6-2012ef24003f"
      },
      "source": [
        "# 과제 확인하고 데이터 생김새, 분류회귀, 목적에 따른 메트릭 선택\n",
        "# 이 문제는 이미지 -> 픽셀로 변형한 문제이며\n",
        "# 여러 변형을 통해 최종값이 0~9까지로 분류하는 문제, 다중분류문제\n",
        "# 아마 f1 score 를 사용할 것이다. 재현율이 특정 수준이 되는 조건에서 최고의 정확성을 올려\n",
        "\n",
        "# 필요 데이터 받아오기\n",
        "from sklearn.datasets import fetch_openml\n",
        "mnist = fetch_openml('mnist_784', version = 1)\n",
        "mnist.keys()"
      ],
      "execution_count": null,
      "outputs": [
        {
          "output_type": "execute_result",
          "data": {
            "text/plain": [
              "dict_keys(['data', 'target', 'frame', 'feature_names', 'target_names', 'DESCR', 'details', 'categories', 'url'])"
            ]
          },
          "metadata": {},
          "execution_count": 25
        }
      ]
    },
    {
      "cell_type": "code",
      "metadata": {
        "colab": {
          "base_uri": "https://localhost:8080/"
        },
        "id": "nhoPatIPFGR-",
        "outputId": "bc681e9d-94b6-4287-d08e-6ab5a903f974"
      },
      "source": [
        "X, y = mnist['data'], mnist['target']\n",
        "X.shape"
      ],
      "execution_count": null,
      "outputs": [
        {
          "output_type": "execute_result",
          "data": {
            "text/plain": [
              "(70000, 784)"
            ]
          },
          "metadata": {},
          "execution_count": 26
        }
      ]
    },
    {
      "cell_type": "code",
      "metadata": {
        "colab": {
          "base_uri": "https://localhost:8080/"
        },
        "id": "f_tC1cDwFMy9",
        "outputId": "1263778e-256b-48cb-f6d6-09120a0a5170"
      },
      "source": [
        "y.shape"
      ],
      "execution_count": null,
      "outputs": [
        {
          "output_type": "execute_result",
          "data": {
            "text/plain": [
              "(70000,)"
            ]
          },
          "metadata": {},
          "execution_count": 27
        }
      ]
    },
    {
      "cell_type": "code",
      "metadata": {
        "colab": {
          "base_uri": "https://localhost:8080/",
          "height": 248
        },
        "id": "d9r7WzcXFNPK",
        "outputId": "30a61b7f-ce84-4372-9665-cdf138ae0035"
      },
      "source": [
        "# 데이터를 확인한다고 했으니까 아래 코드로 확인해본다\n",
        "import matplotlib as mlp\n",
        "import matplotlib.pyplot as plt\n",
        "\n",
        "some_digit = X[0]\n",
        "some_digit_image = some_digit.reshape(28, 28)\n",
        "\n",
        "plt.imshow(some_digit_image, cmap = 'binary')\n",
        "plt.axis('off')\n",
        "plt.show()"
      ],
      "execution_count": null,
      "outputs": [
        {
          "output_type": "display_data",
          "data": {
            "image/png": "[encoded data removed]",
            "text/plain": [
              "<Figure size 432x288 with 1 Axes>"
            ]
          },
          "metadata": {
            "needs_background": "light"
          }
        }
      ]
    },
    {
      "cell_type": "code",
      "metadata": {
        "id": "0O6V81YwFekY"
      },
      "source": [
        "# 학습셋 테스트셋 구분하기\n",
        "# 모델 단순히 불러들여서 모델에 학습시킨 후\n",
        "# 최종 테스트 값의 정확도가 얼마 나오는지 확인"
      ],
      "execution_count": null,
      "outputs": []
    },
    {
      "cell_type": "code",
      "metadata": {
        "id": "WF8mDL2eFyQn"
      },
      "source": [
        "from sklearn.model_selection import train_test_split\n",
        "from sklearn.neighbors import KNeighborsClassifier\n",
        "from sklearn.metrics import f1_score, accuracy_score, recall_score"
      ],
      "execution_count": null,
      "outputs": []
    },
    {
      "cell_type": "code",
      "metadata": {
        "id": "AotEUffcF6DW"
      },
      "source": [
        "X_train, X_test, y_train, y_test = train_test_split(X, y)"
      ],
      "execution_count": null,
      "outputs": []
    },
    {
      "cell_type": "code",
      "metadata": {
        "colab": {
          "base_uri": "https://localhost:8080/"
        },
        "id": "g46kTbuwF7h4",
        "outputId": "debb8a3d-184f-484c-d1ec-435e2d95b9a4"
      },
      "source": [
        "knn = KNeighborsClassifier()\n",
        "knn.fit(X_train, y_train)\n",
        "y_pred = knn.predict(X_test)\n",
        "\n"
      ],
      "execution_count": null,
      "outputs": [
        {
          "output_type": "execute_result",
          "data": {
            "text/plain": [
              "0.972"
            ]
          },
          "metadata": {},
          "execution_count": 35
        }
      ]
    },
    {
      "cell_type": "code",
      "metadata": {
        "colab": {
          "base_uri": "https://localhost:8080/"
        },
        "id": "rJhw85JAGqmh",
        "outputId": "d8b94836-842f-455b-de5e-2f4212056f5b"
      },
      "source": [
        "ac_score = accuracy_score(y_test, y_pred)\n",
        "ac_score # 처음부터 목표하던 97%의 정확도를 달성했다 세상에\n",
        "\n",
        "# 여기서 문제 확인하기, 어디서 문제였을까? \n",
        "# 데이터 자체의 문제는 아니었을 것이다\n",
        "# 우리가 앤드ㄹ"
      ],
      "execution_count": null,
      "outputs": [
        {
          "output_type": "execute_result",
          "data": {
            "text/plain": [
              "0.972"
            ]
          },
          "metadata": {},
          "execution_count": 36
        }
      ]
    },
    {
      "cell_type": "code",
      "metadata": {
        "colab": {
          "base_uri": "https://localhost:8080/"
        },
        "id": "v5Jg7Pa3Ox46",
        "outputId": "a7295aa1-6ec1-4d49-97b0-f369e65fe942"
      },
      "source": [
        "f1_score(y_test, y_pred, average = 'weighted')"
      ],
      "execution_count": null,
      "outputs": [
        {
          "output_type": "execute_result",
          "data": {
            "text/plain": [
              "0.9719376457588427"
            ]
          },
          "metadata": {},
          "execution_count": 38
        }
      ]
    },
    {
      "cell_type": "code",
      "metadata": {
        "colab": {
          "base_uri": "https://localhost:8080/"
        },
        "id": "av8PkX6-QQ0f",
        "outputId": "ed163dfe-d522-4bcb-e7ab-22d8d55a76af"
      },
      "source": [
        "knn.get_params"
      ],
      "execution_count": null,
      "outputs": [
        {
          "output_type": "execute_result",
          "data": {
            "text/plain": [
              "<bound method BaseEstimator.get_params of KNeighborsClassifier(algorithm='auto', leaf_size=30, metric='minkowski',\n",
              "                     metric_params=None, n_jobs=None, n_neighbors=5, p=2,\n",
              "                     weights='uniform')>"
            ]
          },
          "metadata": {},
          "execution_count": 40
        }
      ]
    },
    {
      "cell_type": "code",
      "metadata": {
        "id": "WCiv5MlOGwTO"
      },
      "source": [
        "# 하이퍼파라미터 튜닝\n",
        "# 그리드 탐색을 시작\n",
        "\n",
        "from sklearn.model_selection import GridSearchCV\n",
        "param_grid = [\n",
        "              {'weights' : ['distance', 'uniform'],\n",
        "               'n_neighbors' : [3, 5, 10, 20]}\n",
        "]\n",
        "\n",
        "grid_search = GridSearchCV(knn, param_grid, cv = 3,\n",
        "                           scoring = 'accuracy',\n",
        "                           return_train_score = True)\n",
        "grid_search.fit(X_train, y_train)\n"
      ],
      "execution_count": null,
      "outputs": []
    },
    {
      "cell_type": "markdown",
      "metadata": {
        "id": "fL1rowkKRto1"
      },
      "source": [
        "## 2번 문제 :\n",
        "- mnist 이미지를 (왼, 오른, 위, 아래) 어느 방향으로든 한 픽셀 이동시킬수 있는 함수를 만들기\n",
        "- 그런 다음 훈련 세트에 있는 각 이미지에 대해 네개의 이동된 복사봉(방향마다 한 개씩)을 만들어 훈련세트에 추가\n",
        "- 이 확장된 데이터셋에서 앞에서 찾은 최선의 모델을 훈련\n",
        "- 테스트셋에서 정확도를 측정\n",
        "- 모델의 성능이 더 높아졌는가?\n",
        "+ 인위적으로 훈련셋을 늘리는 이 기법 : 데이터 증식 data augmentation"
      ]
    },
    {
      "cell_type": "code",
      "metadata": {
        "id": "3hY-9clERdi_"
      },
      "source": [
        "from scipy.ndimage.interpolation import *\n",
        "# shift() 함수를 사용하면 \n",
        "# shift(image, [2, 1], cval = 0) 은 아래로 2픽셀, 오른쪽으로 1픽셀 이동"
      ],
      "execution_count": null,
      "outputs": []
    },
    {
      "cell_type": "code",
      "metadata": {
        "id": "a_CEsz9dSQeq"
      },
      "source": [
        "for i "
      ],
      "execution_count": null,
      "outputs": []
    }
  ]
}