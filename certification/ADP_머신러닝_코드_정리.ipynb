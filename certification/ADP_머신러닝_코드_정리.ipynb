{
  "nbformat": 4,
  "nbformat_minor": 0,
  "metadata": {
    "colab": {
      "name": " ADP - 머신러닝 코드 정리.ipynb",
      "provenance": [],
      "collapsed_sections": [
        "BNAV3iynEW4I",
        "RTAz3PP072zZ",
        "cz5lwlcM75tA",
        "3wceFFVJ79IO",
        "bR_TtDKMpxO0",
        "mraTX0CMt1j1",
        "fHeoXyCotoBa",
        "ZVlU6kQXv_oK",
        "DkjEPTSJp13y",
        "XE77V77BwcUg",
        "zOofFSYaweOc",
        "4M1pMf8U6HW4",
        "GyuMS5ln5_6q"
      ],
      "toc_visible": true
    },
    "kernelspec": {
      "name": "python3",
      "display_name": "Python 3"
    },
    "language_info": {
      "name": "python"
    }
  },
  "cells": [
    {
      "cell_type": "markdown",
      "metadata": {
        "id": "3ok216DupQzu"
      },
      "source": [
        "# ADP - 머신러닝 코드 정리\n",
        "\n",
        "1. 회귀분석\n",
        "    - 회귀분석 평가 - (완료)\n",
        "    -  statsmodel을 활용한 회귀 통계 분석 - (완료)\n",
        "    - 잔차의 정규성/독립성/등분산성 확인 - (완료)\n",
        "    - 변수선택법 - (완료)\n",
        "\n",
        "\n",
        "2. 분류분석\n",
        "    - 분류분석(RandomForest, gradientboost, 로지스틱회귀, 인공신경망 등의 각종 분류방법\"\n",
        "    - voting 등 각종 앙상블 방법\n",
        "\n",
        "    - confusion matrix등 분류분석 평가\n",
        "\n",
        "\n",
        "3. 기타 분석 3가지\n",
        "    - 교차분석 - (완료)\n",
        "    - 분산분석 - (완료)\n",
        "    - 상관분석 - (완료)\n",
        "\n",
        "\n",
        "4. 군집분석\n",
        "    - KNN : https://firework-ham.tistory.com/27\n",
        "    - SOM : http://jaynewho.com/post/7, https://www.infoking.site/37\n",
        "    - EM 알고리즘 : https://zephyrus1111.tistory.com/89\n",
        "\n",
        "5. 연관분석 (Aprori) : - (완료)  https://zephyrus1111.tistory.com/119\n",
        "\n",
        "6. 표본추출과 T검정 : - (완료) https://ysyblog.tistory.com/115\n",
        "\n",
        "7. 탐색적요인분석, 주성분분석 \n",
        "    - 탐색적 요인분석 (FA) - (완료)\n",
        "        - https://www.ibm.com/docs/ko/spss-statistics/25.0.0?topic=analysis-factor-extraction\n",
        "        - https://m.blog.naver.com/y4769/220619149297\n",
        "    - 주성분분석 (PCA) - (완료)\n",
        "        - https://ysyblog.tistory.com/123?category=1170736\n",
        "    \n",
        "    - LEE, MDS - (완료)\n",
        "        - https://www.analyticsvidhya.com/blog/2021/02/a-quick-introduction-to-manifold-learning/\n",
        "        - https://stackabuse.com/guide-to-multidimensional-scaling-in-python-with-scikit-learn/\n",
        "\n",
        "8. 시계열분석 (ARIMA) : https://wikidocs.net/50949\n",
        "\n",
        "9. 타겟변수 불균형 처리 해결 - (완료)\n",
        "    -  https://dining-developer.tistory.com/27\n",
        "    - https://datascienceschool.net/03%20machine%20learning/14.02%20%EB%B9%84%EB%8C%80%EC%B9%AD%20%EB%8D%B0%EC%9D%B4%ED%84%B0%20%EB%AC%B8%EC%A0%9C.html\n",
        "    - https://rfriend.tistory.com/507\n",
        "    - https://rfriend.tistory.com/508\n",
        "    - 언더샘플링, 오버샘플링, 업샘플링, 다운샘플링\n",
        "\n",
        "10. 특징선택 : https://www.analyticsvidhya.com/blog/2020/10/feature-selection-techniques-in-machine-learning/\n",
        "    - 분산\n",
        "    - 단일변수 선택\n",
        "    - 특성중요도 계산\n",
        "\n",
        "11. 기타 pandas 활용함수"
      ]
    },
    {
      "cell_type": "code",
      "metadata": {
        "colab": {
          "base_uri": "https://localhost:8080/"
        },
        "id": "lKq-lawnTT7_",
        "outputId": "5edb6f90-768b-4eeb-a4a2-de5fa80febcd"
      },
      "source": [
        "from google.colab import drive\n",
        "drive.mount('/content/drive')"
      ],
      "execution_count": null,
      "outputs": [
        {
          "output_type": "stream",
          "name": "stdout",
          "text": [
            "Drive already mounted at /content/drive; to attempt to forcibly remount, call drive.mount(\"/content/drive\", force_remount=True).\n"
          ]
        }
      ]
    },
    {
      "cell_type": "code",
      "metadata": {
        "id": "9weJWk21pOta"
      },
      "source": [
        "# 1. 회귀분석\n",
        "#     - 독립, 반응변수 관계를 회귀분석으로 정의/ 결과 해석\n",
        "#     - 회귀분석 평가\n",
        "#     -  statsmodel을 활용한 회귀 통계 분석\n",
        "#     - 잔차의 정규성/독립성/등분산성 확인, 시각화\n",
        "#     - 변수선택법(영향력 관측치와 영향 분석)\n",
        "# --- 진행중(21-11-27) ---\n",
        "\n"
      ],
      "execution_count": null,
      "outputs": []
    },
    {
      "cell_type": "code",
      "metadata": {
        "colab": {
          "base_uri": "https://localhost:8080/",
          "height": 204
        },
        "id": "z-5meWSEqV9N",
        "outputId": "97c49558-85ad-47fa-f5cf-8aaa9bf6103a"
      },
      "source": [
        "# 회귀분석 기본 정의, 결과 해석\n",
        "\n",
        "import pandas as pd\n",
        "df = pd.read_csv('/content/drive/MyDrive/ADP/cars.csv')\n",
        "df.head()"
      ],
      "execution_count": null,
      "outputs": [
        {
          "output_type": "execute_result",
          "data": {
            "text/html": [
              "<div>\n",
              "<style scoped>\n",
              "    .dataframe tbody tr th:only-of-type {\n",
              "        vertical-align: middle;\n",
              "    }\n",
              "\n",
              "    .dataframe tbody tr th {\n",
              "        vertical-align: top;\n",
              "    }\n",
              "\n",
              "    .dataframe thead th {\n",
              "        text-align: right;\n",
              "    }\n",
              "</style>\n",
              "<table border=\"1\" class=\"dataframe\">\n",
              "  <thead>\n",
              "    <tr style=\"text-align: right;\">\n",
              "      <th></th>\n",
              "      <th>speed</th>\n",
              "      <th>dist</th>\n",
              "    </tr>\n",
              "  </thead>\n",
              "  <tbody>\n",
              "    <tr>\n",
              "      <th>0</th>\n",
              "      <td>4</td>\n",
              "      <td>2</td>\n",
              "    </tr>\n",
              "    <tr>\n",
              "      <th>1</th>\n",
              "      <td>4</td>\n",
              "      <td>10</td>\n",
              "    </tr>\n",
              "    <tr>\n",
              "      <th>2</th>\n",
              "      <td>7</td>\n",
              "      <td>4</td>\n",
              "    </tr>\n",
              "    <tr>\n",
              "      <th>3</th>\n",
              "      <td>7</td>\n",
              "      <td>22</td>\n",
              "    </tr>\n",
              "    <tr>\n",
              "      <th>4</th>\n",
              "      <td>8</td>\n",
              "      <td>16</td>\n",
              "    </tr>\n",
              "  </tbody>\n",
              "</table>\n",
              "</div>"
            ],
            "text/plain": [
              "   speed  dist\n",
              "0      4     2\n",
              "1      4    10\n",
              "2      7     4\n",
              "3      7    22\n",
              "4      8    16"
            ]
          },
          "metadata": {},
          "execution_count": 71
        }
      ]
    },
    {
      "cell_type": "code",
      "metadata": {
        "colab": {
          "base_uri": "https://localhost:8080/",
          "height": 350
        },
        "id": "ubOSk6CErKnk",
        "outputId": "30f1fc9e-107e-49ff-f0b4-9a374ce9e0d4"
      },
      "source": [
        "# 사전 작업\n",
        "## 산점도에 추세선을 넣어 데이터에 선형적인 패턴이 있는지 확인\n",
        "## 아래와 같이 그려보고, 두 변수간의 차이가 있는지 확인\n",
        "\n",
        "import seaborn as sns\n",
        "sns.regplot('speed', 'dist', lowess = True, data = df)"
      ],
      "execution_count": null,
      "outputs": [
        {
          "output_type": "stream",
          "name": "stderr",
          "text": [
            "/usr/local/lib/python3.7/dist-packages/seaborn/_decorators.py:43: FutureWarning: Pass the following variables as keyword args: x, y. From version 0.12, the only valid positional argument will be `data`, and passing other arguments without an explicit keyword will result in an error or misinterpretation.\n",
            "  FutureWarning\n"
          ]
        },
        {
          "output_type": "execute_result",
          "data": {
            "text/plain": [
              "<matplotlib.axes._subplots.AxesSubplot at 0x7f9909cd7950>"
            ]
          },
          "metadata": {},
          "execution_count": 72
        },
        {
          "output_type": "display_data",
          "data": {
            "image/png": "[encoded data removed]",
            "text/plain": [
              "<Figure size 432x288 with 1 Axes>"
            ]
          },
          "metadata": {
            "needs_background": "light"
          }
        }
      ]
    },
    {
      "cell_type": "code",
      "metadata": {
        "colab": {
          "base_uri": "https://localhost:8080/",
          "height": 312
        },
        "id": "pb9cEQBzrYib",
        "outputId": "0e56c3ba-1720-4717-a467-75e0df448143"
      },
      "source": [
        "# 극단값이 있을 경우, 회귀 분석의 결과에 왜곡될 수 있다. \n",
        "# 상자 그림을 그려서 데이터 상의 극단값이 있는지 확인해보면 된다. \n",
        "\n",
        "import matplotlib.pyplot as plt\n",
        "\n",
        "# 1 x 2 형태로 2개의 그래프 그림\n",
        "fig, (ax1, ax2) = plt.subplots(1, 2)\n",
        "# speed 의 상자 그림을 첫번재로, 두번재는 dist 를 그린다, 방향은 수직\n",
        "sns.boxplot( x='speed', data = df, ax = ax1, orient = 'Vertical',)\n",
        "ax1.set_title('Speed')\n",
        "\n",
        "sns.boxplot(x= 'dist', data = df, ax = ax2, orient = 'Vertical')\n",
        "ax2.set_title('Distance')\n",
        "\n",
        "# 결과를 살펴보니, dist 변수의 경우 끝에 극단점이 존재한다"
      ],
      "execution_count": null,
      "outputs": [
        {
          "output_type": "execute_result",
          "data": {
            "text/plain": [
              "Text(0.5, 1.0, 'Distance')"
            ]
          },
          "metadata": {},
          "execution_count": 73
        },
        {
          "output_type": "display_data",
          "data": {
            "image/png": "[encoded data removed]",
            "text/plain": [
              "<Figure size 432x288 with 2 Axes>"
            ]
          },
          "metadata": {
            "needs_background": "light"
          }
        }
      ]
    },
    {
      "cell_type": "code",
      "metadata": {
        "colab": {
          "base_uri": "https://localhost:8080/",
          "height": 312
        },
        "id": "fV2ZZ6BWsEgI",
        "outputId": "ed96a6ac-0939-4795-bc68-7413e8fba6f6"
      },
      "source": [
        "# 선형회귀 분석은 독립변수와 종속변수가 정규분포를 이루때 잘 작동한다\n",
        "# density plot 을 그려서 정규분포의 형태인지 확인\n",
        "\n",
        "fig, (ax1, ax2) = plt.subplots(1,2)\n",
        "sns.kdeplot(df['speed'], ax = ax1)\n",
        "ax1.set_title('Speed')\n",
        "\n",
        "sns.kdeplot(df['dist'], ax = ax2)\n",
        "ax2.set_title('Distance')\n",
        "\n",
        "# 대체로 중심부에 데이터가 몰려있고, 좌우로 갈 수록 줄어드는 정규분포와 비슷한 형태\n",
        "# dist 의 경우, 조금 더 위로 치우친 값이 있긴 있으며, 오른쪽으로 살짝 늘어진 모습을 보임\n",
        "# 데이터가 치우친 수준을 확인하기 위해 skewness, 왜도를 구해본다\n"
      ],
      "execution_count": null,
      "outputs": [
        {
          "output_type": "execute_result",
          "data": {
            "text/plain": [
              "Text(0.5, 1.0, 'Distance')"
            ]
          },
          "metadata": {},
          "execution_count": 74
        },
        {
          "output_type": "display_data",
          "data": {
            "image/png": "[encoded data removed]",
            "text/plain": [
              "<Figure size 432x288 with 2 Axes>"
            ]
          },
          "metadata": {
            "needs_background": "light"
          }
        }
      ]
    },
    {
      "cell_type": "code",
      "metadata": {
        "colab": {
          "base_uri": "https://localhost:8080/"
        },
        "id": "JDpoTiEatUGk",
        "outputId": "53563ac6-0963-454d-f9b3-15f584d24839"
      },
      "source": [
        "import scipy.stats \n",
        "speed_skew = scipy.stats.skew(df['speed'])\n",
        "dist_skew = scipy.stats.skew(df['dist'])\n",
        "\n",
        "print(speed_skew, dist_skew)\n",
        "\n",
        "# speed 의 경우, 왜도가 -0.11 인데 -쪽으로 약간 치우쳤다는 의미\n",
        "# dist 의 경우 왜도가 0.78인데 +쪽에 있으며, 1에 가까운 값임"
      ],
      "execution_count": null,
      "outputs": [
        {
          "output_type": "stream",
          "name": "stdout",
          "text": [
            "-0.11395477012828319 0.7824835173114966\n"
          ]
        }
      ]
    },
    {
      "cell_type": "markdown",
      "metadata": {
        "id": "tQT71M4auFdo"
      },
      "source": [
        "## 회귀분석\n",
        "\n",
        "< 체크리스트>\n",
        "- 회귀분석 평가\n",
        "- statsmodel을 활용한 회귀 통계 분석\n",
        "- 잔차의 정규성/독립성/등분산성 확인\n",
        "- 변수선택법"
      ]
    },
    {
      "cell_type": "code",
      "metadata": {
        "id": "UH_7i3ZMtvOO"
      },
      "source": [
        "# 회귀분석 실시\n",
        "from statsmodels.formula.api import ols\n",
        "res = ols('dist ~ speed', data = df).fit()"
      ],
      "execution_count": null,
      "outputs": []
    },
    {
      "cell_type": "code",
      "metadata": {
        "colab": {
          "base_uri": "https://localhost:8080/",
          "height": 444
        },
        "id": "iGPqlFagttPk",
        "outputId": "d26f147c-a28f-489f-da67-642aa92c0157"
      },
      "source": [
        "res.summary() # 결과물을 해당 코드로 확인할 수 있음\n"
      ],
      "execution_count": null,
      "outputs": [
        {
          "output_type": "execute_result",
          "data": {
            "text/html": [
              "<table class=\"simpletable\">\n",
              "<caption>OLS Regression Results</caption>\n",
              "<tr>\n",
              "  <th>Dep. Variable:</th>          <td>dist</td>       <th>  R-squared:         </th> <td>   0.651</td>\n",
              "</tr>\n",
              "<tr>\n",
              "  <th>Model:</th>                   <td>OLS</td>       <th>  Adj. R-squared:    </th> <td>   0.644</td>\n",
              "</tr>\n",
              "<tr>\n",
              "  <th>Method:</th>             <td>Least Squares</td>  <th>  F-statistic:       </th> <td>   89.57</td>\n",
              "</tr>\n",
              "<tr>\n",
              "  <th>Date:</th>             <td>Sat, 27 Nov 2021</td> <th>  Prob (F-statistic):</th> <td>1.49e-12</td>\n",
              "</tr>\n",
              "<tr>\n",
              "  <th>Time:</th>                 <td>14:46:41</td>     <th>  Log-Likelihood:    </th> <td> -206.58</td>\n",
              "</tr>\n",
              "<tr>\n",
              "  <th>No. Observations:</th>      <td>    50</td>      <th>  AIC:               </th> <td>   417.2</td>\n",
              "</tr>\n",
              "<tr>\n",
              "  <th>Df Residuals:</th>          <td>    48</td>      <th>  BIC:               </th> <td>   421.0</td>\n",
              "</tr>\n",
              "<tr>\n",
              "  <th>Df Model:</th>              <td>     1</td>      <th>                     </th>     <td> </td>   \n",
              "</tr>\n",
              "<tr>\n",
              "  <th>Covariance Type:</th>      <td>nonrobust</td>    <th>                     </th>     <td> </td>   \n",
              "</tr>\n",
              "</table>\n",
              "<table class=\"simpletable\">\n",
              "<tr>\n",
              "      <td></td>         <th>coef</th>     <th>std err</th>      <th>t</th>      <th>P>|t|</th>  <th>[0.025</th>    <th>0.975]</th>  \n",
              "</tr>\n",
              "<tr>\n",
              "  <th>Intercept</th> <td>  -17.5791</td> <td>    6.758</td> <td>   -2.601</td> <td> 0.012</td> <td>  -31.168</td> <td>   -3.990</td>\n",
              "</tr>\n",
              "<tr>\n",
              "  <th>speed</th>     <td>    3.9324</td> <td>    0.416</td> <td>    9.464</td> <td> 0.000</td> <td>    3.097</td> <td>    4.768</td>\n",
              "</tr>\n",
              "</table>\n",
              "<table class=\"simpletable\">\n",
              "<tr>\n",
              "  <th>Omnibus:</th>       <td> 8.975</td> <th>  Durbin-Watson:     </th> <td>   1.676</td>\n",
              "</tr>\n",
              "<tr>\n",
              "  <th>Prob(Omnibus):</th> <td> 0.011</td> <th>  Jarque-Bera (JB):  </th> <td>   8.189</td>\n",
              "</tr>\n",
              "<tr>\n",
              "  <th>Skew:</th>          <td> 0.885</td> <th>  Prob(JB):          </th> <td>  0.0167</td>\n",
              "</tr>\n",
              "<tr>\n",
              "  <th>Kurtosis:</th>      <td> 3.893</td> <th>  Cond. No.          </th> <td>    50.7</td>\n",
              "</tr>\n",
              "</table><br/><br/>Warnings:<br/>[1] Standard Errors assume that the covariance matrix of the errors is correctly specified."
            ],
            "text/plain": [
              "<class 'statsmodels.iolib.summary.Summary'>\n",
              "\"\"\"\n",
              "                            OLS Regression Results                            \n",
              "==============================================================================\n",
              "Dep. Variable:                   dist   R-squared:                       0.651\n",
              "Model:                            OLS   Adj. R-squared:                  0.644\n",
              "Method:                 Least Squares   F-statistic:                     89.57\n",
              "Date:                Sat, 27 Nov 2021   Prob (F-statistic):           1.49e-12\n",
              "Time:                        14:46:41   Log-Likelihood:                -206.58\n",
              "No. Observations:                  50   AIC:                             417.2\n",
              "Df Residuals:                      48   BIC:                             421.0\n",
              "Df Model:                           1                                         \n",
              "Covariance Type:            nonrobust                                         \n",
              "==============================================================================\n",
              "                 coef    std err          t      P>|t|      [0.025      0.975]\n",
              "------------------------------------------------------------------------------\n",
              "Intercept    -17.5791      6.758     -2.601      0.012     -31.168      -3.990\n",
              "speed          3.9324      0.416      9.464      0.000       3.097       4.768\n",
              "==============================================================================\n",
              "Omnibus:                        8.975   Durbin-Watson:                   1.676\n",
              "Prob(Omnibus):                  0.011   Jarque-Bera (JB):                8.189\n",
              "Skew:                           0.885   Prob(JB):                       0.0167\n",
              "Kurtosis:                       3.893   Cond. No.                         50.7\n",
              "==============================================================================\n",
              "\n",
              "Warnings:\n",
              "[1] Standard Errors assume that the covariance matrix of the errors is correctly specified.\n",
              "\"\"\""
            ]
          },
          "metadata": {},
          "execution_count": 77
        }
      ]
    },
    {
      "cell_type": "code",
      "metadata": {
        "colab": {
          "base_uri": "https://localhost:8080/",
          "height": 130
        },
        "id": "YKZ9KgBQuXFy",
        "outputId": "aae786da-57db-4d5d-c353-96e393ddfa95"
      },
      "source": [
        "# 오른쪽의 R-squared ~ BIC 까지 모형 적합도를 보여줌\n",
        "# 모형 적합도는 모형이 데이터에 잘 맞는 정도를 보여주는 지표\n",
        "\n",
        "R-squared: 모형 적합도, dist 의 분산을 speed 가 65% 정도 설명한다\n",
        "Adj. R-squared:\t독립변수가 여러 개인 다중회귀분석에서 사용, 독립변수의 개수와 표본의 크기를 고려하여 R-squared 보정, 서로 다른 모형을 비교할 때는 이 지표가 높은 쪽을 선택\n",
        "F-statistic: 회귀모형에 대한 (통계적) 유의미성 검증 결과, \n",
        "Prob (F-statistic):\t통계적 유의미함을 보기 위한 수치 (p < 0.050), \n",
        "    p값이 0.05보다 작은 이번 경우, 주어진 표본 뿐 아니라 모집단에서도 의미있는 모형\n",
        "Log-Likelihood:\t로그 우도, 종속변수가 정규분포라고 가정하였을 떄의 우도\n",
        "    로그 우도도 R제곱과 마찬가지로 독립변수가 많아지면 증가\n",
        "AIC, BIC: 로그우도를 독립변수의 수로 보정한 값, 작을 수록 좋음"
      ],
      "execution_count": null,
      "outputs": [
        {
          "output_type": "error",
          "ename": "SyntaxError",
          "evalue": "ignored",
          "traceback": [
            "\u001b[0;36m  File \u001b[0;32m\"<ipython-input-78-9537dedbfdef>\"\u001b[0;36m, line \u001b[0;32m4\u001b[0m\n\u001b[0;31m    R-squared: 모형 적합도, dist 의 분산을 speed 가 65% 정도 설명한다\u001b[0m\n\u001b[0m                    ^\u001b[0m\n\u001b[0;31mSyntaxError\u001b[0m\u001b[0;31m:\u001b[0m invalid syntax\n"
          ]
        }
      ]
    },
    {
      "cell_type": "code",
      "metadata": {
        "id": "pi3bKggOwOAx"
      },
      "source": [
        "# 회귀 계수 coefficients \n",
        "# 데이터로부터 얻은 계수의 추정치\n",
        "\n",
        "\t            coef    P>|t|\t\n",
        "Intercept\t-17.5791\t0.012\t\n",
        "speed\t      3.9324\t0.000\t\n",
        "\n",
        "절편 intercept의 추정치는 -17.5791로, speed 가 0일때 dist 의 값\n",
        "speed 의 계수 추정치는 3.9324로, speed 가 1 증가할 때마다 dist 가 3.9324증가\n",
        "\n",
        "이를 수식으로 정리하자면\n",
        "dist = -17.5791 + 3.9324 x speed \n",
        "\n",
        "추정치의 표 중간의 p(>|t|)는 모집단에서 계수가 0일때, \n",
        "현재와 같은 표본에서 이러한 계수가 추정될 확률인 p값을 나타냄\n",
        "이 확률이 매우 작다는 것은, 모집단에서 speed 의 계수가 정확히 3.9324는 아니더라도\n",
        "현재의 표본과 비슷하게 0보다 큰 어떤 범위에 있을 가능성이 높다는 것을 의미함\n",
        "보통 5% 와 같은 유의수준을 정하여 p값이 그보다 작으면 (p < 0.005) 통계적으로 유의미하다고 함\n",
        " \n",
        "즉, speed 가 증가할 때 기대되는 dist 의 변화는 유의수준 5% 에서 통계적으로 유의미"
      ],
      "execution_count": null,
      "outputs": []
    },
    {
      "cell_type": "code",
      "metadata": {
        "id": "G8wxw84nx_GA"
      },
      "source": [
        "# 결과보고\n",
        "논문 등에서 회귀분석의 결과는 다음 순서대로 보고한다\n",
        "\n",
        "1. 모형적합도\n",
        "dist에 대하여 speed 로 예측하는 회귀분석을 실시한 결과, 이 회귀모형은 통계적으로 유의미하였다\n",
        "F(1,48) = 89.57, p < 0.05\n",
        "\n",
        "2. 독립변수\n",
        "speed 회귀계수는 3.9324로 dist에 대하여 유의미한 예측변인인 것으로 나타났다\n",
        "t(48) = 9.464 , p < 0.05"
      ],
      "execution_count": null,
      "outputs": []
    },
    {
      "cell_type": "markdown",
      "metadata": {
        "id": "8huvq_CeAqUQ"
      },
      "source": [
        "### 잔차 분석\n",
        "\n",
        " 1. 모형의 선형성\n",
        " 2. 잔차의 정규성\n",
        " 3. 잔차의 등분산성\n",
        " 4. 잔차의 독립성\n"
      ]
    },
    {
      "cell_type": "code",
      "metadata": {
        "id": "f-QEi1onAt0H"
      },
      "source": [
        "# 1. 모형의 선형성\n",
        "## 예측값과 잔차의 비교 fitted - residual 비교\n",
        "## 모든 예측값에서 잔차가 비슷하게 있어야 함 (가운데 점선)\n",
        "## 빨간 실선은 잔차의 추세를 나타냄\n",
        "## 빨간 실선이 점선에서 크게 벗어난다면 예측값에 따라 잔차가 크게 달라진다는 것"
      ],
      "execution_count": null,
      "outputs": []
    },
    {
      "cell_type": "code",
      "metadata": {
        "id": "kOLSUfhcBKCS"
      },
      "source": [
        "import matplotlib.pyplot as plt\n",
        "import seaborn as sns"
      ],
      "execution_count": null,
      "outputs": []
    },
    {
      "cell_type": "code",
      "metadata": {
        "id": "hvWee_EGBOJx"
      },
      "source": [
        "fitted = res.predict(df) \n",
        "residual = df['dist'] - fitted "
      ],
      "execution_count": null,
      "outputs": []
    },
    {
      "cell_type": "code",
      "metadata": {
        "id": "KH_7nJEDBSL0"
      },
      "source": [
        "sns.regplot(fitted, residual, lowess = True, line_kws = {'color': 'red'})\n",
        "plt.plot([fitted.min(), fitted.max()], [0, 0], '--', color = 'grey')"
      ],
      "execution_count": null,
      "outputs": []
    },
    {
      "cell_type": "code",
      "metadata": {
        "id": "jnc50SieBeZG"
      },
      "source": [
        "# 2. 잔차의 정규성\n",
        "## 잔차가 정규분포를 따른다는 가정\n",
        "## Q-Q플롯으로 확인할 수 있음\n",
        "## 잔차가 정규분포를 띄면 Q-Q플롯에서 점들이 점선을 따라 배치되어있어야 함\n"
      ],
      "execution_count": null,
      "outputs": []
    },
    {
      "cell_type": "code",
      "metadata": {
        "id": "5qfz_HsGB2ba"
      },
      "source": [
        "import scipy.stats\n",
        "sr = scipy.stats.zscore(residual)\n",
        "(x, y), _ = scipy.stats.probplot(sr)"
      ],
      "execution_count": null,
      "outputs": []
    },
    {
      "cell_type": "code",
      "metadata": {
        "id": "fEEpeOzxB9Ec"
      },
      "source": [
        "sns.scatterplot(x, y)\n",
        "plt.plot([-3, 3], [-3, 3], '--', color = 'grey')"
      ],
      "execution_count": null,
      "outputs": []
    },
    {
      "cell_type": "code",
      "metadata": {
        "id": "OfOP47v_CCrB"
      },
      "source": [
        "# 잔차의 정규성은 샤피로 검정으로 확인할 수 있음\n",
        "# 2번째 값이 p값이며, p값이 0.02이므로 유의수준 5%에서 잔차의 정규성이 위반되었다고 판단\n",
        "scipy.stats.shapiro(residual)"
      ],
      "execution_count": null,
      "outputs": []
    },
    {
      "cell_type": "code",
      "metadata": {
        "id": "O05kmzQ-Cd6X"
      },
      "source": [
        "#3. 잔차의 등분산성\n",
        "## 회귀모형을 통해 예측된 값이 크던 작던, 모든 값들에 대하여 잔차의 분산이 동일하다는 가정\n",
        "## 아래 그래프는 예측값(가로축)에 따라 잔차가 어떻게 달라지는지 보여줌\n",
        "## 빨간색 실선이 수평선을 그리는 것이 이상적"
      ],
      "execution_count": null,
      "outputs": []
    },
    {
      "cell_type": "code",
      "metadata": {
        "id": "wu9AyuG4CqaS"
      },
      "source": [
        "import numpy as np\n",
        "sns.regplot(fitted, np.sqrt(np.abs(sr)), lowess =True, line_kws = {'color':'red'})"
      ],
      "execution_count": null,
      "outputs": []
    },
    {
      "cell_type": "code",
      "metadata": {
        "id": "U5dV-4FUCyNO"
      },
      "source": [
        "# 3-1. 극단값\n",
        "## cook's distance 는 극단값을 나타내는 지표\n",
        "## 48번, 22번, 38번 자료가 특히 예측에서 많이 벗어남을 알 수 있다\n"
      ],
      "execution_count": null,
      "outputs": []
    },
    {
      "cell_type": "code",
      "metadata": {
        "id": "7qhmFKs1C_di"
      },
      "source": [
        "from statsmodels.stats.outliers_influence import OLSInfluence"
      ],
      "execution_count": null,
      "outputs": []
    },
    {
      "cell_type": "code",
      "metadata": {
        "id": "2EGnuCRvDFXe"
      },
      "source": [
        "cd, _ = OLSInfluence(res).cooks_distance"
      ],
      "execution_count": null,
      "outputs": []
    },
    {
      "cell_type": "code",
      "metadata": {
        "id": "izMQkQ_vDH7B"
      },
      "source": [
        "cd.sort_values(ascending = False).head() \n",
        "# sorting 한 후 asending 을 통해 보면, 극단값이 크게 높은 것을 알 수 있음"
      ],
      "execution_count": null,
      "outputs": []
    },
    {
      "cell_type": "code",
      "metadata": {
        "id": "O8Fp-otdDKUd"
      },
      "source": [
        "# 4. 잔차의 독립성\n",
        "## 회귀분석에서 잔차는 정규성, 등분산성, 그리고 독립성을 가지는 것으로 가정\n",
        "## 자료 수집 과정에서 무작위 표집 random sampling을 하였다면, 잔차의 독립성은 만족함\n",
        "## 시계열 자료나 종단 연구 자료처럼, 연구 설계 자체가 독립성을 담보할 수 없는 경우, 더빗-왓슨검정 실시"
      ],
      "execution_count": null,
      "outputs": []
    },
    {
      "cell_type": "code",
      "metadata": {
        "id": "Fmt8RWVnDiNN"
      },
      "source": [
        "# 잔차 분석 결과를 바탕으로 아래와 같이 대응이 가능하다\n",
        "## 1. 극단값을 제거한다\n",
        "## 2. 독립변수를 추가한다\n",
        "## 3. 종속변수를 수학적으로 변환한다\n",
        "\n",
        "## 위의 예시에서 cd, cook distance 를 통해 보았을 떄, 48번 자료가 극단값으로 보임\n",
        "## 이 떄문에 잔차의 정규성이 위배되는 것으로 추측\n",
        "## 48번 자료를 제거하고 다시 분석을 시도할 수 있다"
      ],
      "execution_count": null,
      "outputs": []
    },
    {
      "cell_type": "markdown",
      "metadata": {
        "id": "BNAV3iynEW4I"
      },
      "source": [
        "### 변수 선택법 \n",
        "1. 전진선택법 \n",
        "2. 후진소거법\n",
        "3. 단계적선택법\n",
        "\n",
        "([참고링크](https://zephyrus1111.tistory.com/65))"
      ]
    },
    {
      "cell_type": "code",
      "metadata": {
        "id": "YhFRdzXPJ7r_"
      },
      "source": [
        "# 전처리 후 변수 선택법 진행"
      ],
      "execution_count": null,
      "outputs": []
    },
    {
      "cell_type": "code",
      "metadata": {
        "id": "DPkOJbvyFPAy"
      },
      "source": [
        "import pandas as pd\n",
        "import statsmodels.api as sm\n",
        "import matplotlib.pyplot as plt\n",
        " \n",
        "df = pd.read_csv('/content/drive/MyDrive/ADP/surgical_unit.csv')"
      ],
      "execution_count": null,
      "outputs": []
    },
    {
      "cell_type": "code",
      "metadata": {
        "id": "6GsH0GsJj7-o"
      },
      "source": [
        "# 1. 전진 선택법 :  기존 모형에 가장 설명력이 좋은 변수를 하나씩 추가하는 방법\n",
        "## 가장 설명력이 좋은 변수라 하더라도, '변수를 추가할지 말지' 의 유의수준을 만족해야 선택\n",
        "## 유의수준을 만족하지 못하면 선택이 되지 않고 종료\n",
        "\n",
        "# 1단계 : 모형에 적합시키지 않은 변수를 기존 모형에 추가하여 적합\n",
        "# 2단계 : 변수x 에 대한 회귀계수b_k 를 구하고, b_k 에 대한 통계량계산\n",
        "#       : t 통계량에 대응하는 p value 구함\n",
        "#       : 이 작업을 x에 있는 모든 변수에 대해 수행\n",
        "# 3단계 : 최소 p value 값과 미리 정해둔 유의수준 a 와 비교\n",
        "#       : 최소 p value 가 a 보다 적으면, 최소 p value 에 해당하는 변수를 s 에 포함시키고 1~2단계 수행"
      ],
      "execution_count": null,
      "outputs": []
    },
    {
      "cell_type": "code",
      "metadata": {
        "colab": {
          "base_uri": "https://localhost:8080/"
        },
        "id": "4txw0ppkmktr",
        "outputId": "42dd86dd-d8e3-4984-a6e9-7b271527279c"
      },
      "source": [
        "# 전진선택법\n",
        "variables = df.columns[:-2].tolist() ## 설명 변수 리스트\n",
        " \n",
        "y = df['Survival_Time'] ## 반응 변수\n",
        "selected_variables = [] ## 선택된 변수들\n",
        "sl_enter = 0.05\n",
        " \n",
        "sv_per_step = [] ## 각 스텝별로 선택된 변수들\n",
        "adjusted_r_squared = [] ## 각 스텝별 수정된 결정계수\n",
        "steps = [] ## 스텝\n",
        "step = 0\n",
        "while len(variables) > 0:\n",
        "    remainder = list(set(variables) - set(selected_variables))\n",
        "    pval = pd.Series(index=remainder) ## 변수의 p-value\n",
        "    ## 기존에 포함된 변수와 새로운 변수 하나씩 돌아가면서 \n",
        "    ## 선형 모형을 적합한다.\n",
        "    for col in remainder: \n",
        "        X = df[selected_variables+[col]]\n",
        "        X = sm.add_constant(X)\n",
        "        model = sm.OLS(y,X).fit()\n",
        "        pval[col] = model.pvalues[col]\n",
        " \n",
        "    min_pval = pval.min()\n",
        "    if min_pval < sl_enter: ## 최소 p-value 값이 기준 값보다 작으면 포함\n",
        "        selected_variables.append(pval.idxmin())\n",
        "        \n",
        "        step += 1\n",
        "        steps.append(step)\n",
        "        adj_r_squared = sm.OLS(y,sm.add_constant(df[selected_variables])).fit().rsquared_adj\n",
        "        adjusted_r_squared.append(adj_r_squared)\n",
        "        sv_per_step.append(selected_variables.copy())\n",
        "    else:\n",
        "        break"
      ],
      "execution_count": null,
      "outputs": [
        {
          "output_type": "stream",
          "name": "stderr",
          "text": [
            "/usr/local/lib/python3.7/dist-packages/ipykernel_launcher.py:14: DeprecationWarning: The default dtype for empty Series will be 'object' instead of 'float64' in a future version. Specify a dtype explicitly to silence this warning.\n",
            "  \n"
          ]
        }
      ]
    },
    {
      "cell_type": "code",
      "metadata": {
        "colab": {
          "base_uri": "https://localhost:8080/"
        },
        "id": "yluLOd5Xol5j",
        "outputId": "c66bedef-9e51-4821-9fe2-6e6a50ae4dfe"
      },
      "source": [
        "selected_variables # 전진 선택법에서 최종 변수"
      ],
      "execution_count": null,
      "outputs": [
        {
          "output_type": "execute_result",
          "data": {
            "text/plain": [
              "['Liver_Test',\n",
              " 'Alc_Heavy',\n",
              " 'Enzyme_Test',\n",
              " 'Prognostic_Index',\n",
              " 'Blood_Clotting_Score']"
            ]
          },
          "metadata": {},
          "execution_count": 49
        }
      ]
    },
    {
      "cell_type": "code",
      "metadata": {
        "colab": {
          "base_uri": "https://localhost:8080/",
          "height": 640
        },
        "id": "zE-T5IqgmySx",
        "outputId": "ed3fe9e1-3776-41fd-c77f-02ccaa889b89"
      },
      "source": [
        "fig = plt.figure(figsize=(10,10))\n",
        "fig.set_facecolor('white')\n",
        " \n",
        "font_size = 15\n",
        "plt.xticks(steps,[f'step {s}\\n'+'\\n'.join(sv_per_step[i]) for i,s in enumerate(steps)], fontsize=12)\n",
        "plt.plot(steps,adjusted_r_squared, marker='o')\n",
        "    \n",
        "plt.ylabel('Adjusted R Squared',fontsize=font_size)\n",
        "plt.grid(True)\n",
        "plt.show()\n",
        "# 전진선택법을 적용한 결과, step5에서 완료"
      ],
      "execution_count": null,
      "outputs": [
        {
          "output_type": "display_data",
          "data": {
            "image/png": "[encoded data removed]",
            "text/plain": [
              "<Figure size 720x720 with 1 Axes>"
            ]
          },
          "metadata": {}
        }
      ]
    },
    {
      "cell_type": "code",
      "metadata": {
        "id": "WXQIRKGJmzsw"
      },
      "source": [
        "# 2. 후진 소거법 : 모든 변수가 포함된 모형에서 설명력이 가장 적은 변수를 제거\n",
        "## 1단계 : 현재 모형에 포함된 변수를 이용하여 선형 모형을 적합\n",
        "## 2단계 : 추정된(절편항을 제외한) 회귀 계수에 대하여 가장 큰 p-value 값ㄱ을 구함\n",
        "## 3단계 : 만약 p value 에서 최대값이 사전에 정의한 유의수준 a보다 크다면 최대 p-value 에 대응하는 변수를 기존 모형에서 제외\n",
        "##       : 그렇지 않으면 종료"
      ],
      "execution_count": null,
      "outputs": []
    },
    {
      "cell_type": "code",
      "metadata": {
        "id": "0pGqK-bgndAE"
      },
      "source": [
        "## 후진 소거법\n",
        "variables = df.columns[:-2].tolist() ## 설명 변수 리스트\n",
        " \n",
        "y = df['Survival_Time'] ## 반응 변수\n",
        "selected_variables = variables ## 초기에는 모든 변수가 선택된 상태\n",
        "sl_remove = 0.05\n",
        " \n",
        "sv_per_step = [] ## 각 스텝별로 선택된 변수들\n",
        "adjusted_r_squared = [] ## 각 스텝별 수정된 결정계수\n",
        "steps = [] ## 스텝\n",
        "step = 0\n",
        "while len(selected_variables) > 0:\n",
        "    X = sm.add_constant(df[selected_variables])\n",
        "    p_vals = sm.OLS(y,X).fit().pvalues[1:] ## 절편항의 p-value는 뺀다\n",
        "    max_pval = p_vals.max() ## 최대 p-value\n",
        "    if max_pval >= sl_remove: ## 최대 p-value값이 기준값보다 크거나 같으면 제외\n",
        "        remove_variable = p_vals.idxmax()\n",
        "        selected_variables.remove(remove_variable)\n",
        " \n",
        "        step += 1\n",
        "        steps.append(step)\n",
        "        adj_r_squared = sm.OLS(y,sm.add_constant(df[selected_variables])).fit().rsquared_adj\n",
        "        adjusted_r_squared.append(adj_r_squared)\n",
        "        sv_per_step.append(selected_variables.copy())\n",
        "    else:\n",
        "        break"
      ],
      "execution_count": null,
      "outputs": []
    },
    {
      "cell_type": "code",
      "metadata": {
        "colab": {
          "base_uri": "https://localhost:8080/"
        },
        "id": "ctZG9SjoogGS",
        "outputId": "1ecf7777-19d8-4bf1-eee4-5d9c9be6323e"
      },
      "source": [
        "selected_variables # 후진 소거법에서 최종 변수"
      ],
      "execution_count": null,
      "outputs": [
        {
          "output_type": "execute_result",
          "data": {
            "text/plain": [
              "['Blood_Clotting_Score', 'Prognostic_Index', 'Enzyme_Test', 'Alc_Heavy']"
            ]
          },
          "metadata": {},
          "execution_count": 47
        }
      ]
    },
    {
      "cell_type": "code",
      "metadata": {
        "colab": {
          "base_uri": "https://localhost:8080/",
          "height": 663
        },
        "id": "UOUWKZ0TndOv",
        "outputId": "e331456a-e3f8-4724-9119-1d0355d88c66"
      },
      "source": [
        "fig = plt.figure(figsize=(10,10))\n",
        "fig.set_facecolor('white')\n",
        " \n",
        "font_size = 15\n",
        "plt.xticks(steps,[f'step {s}\\n'+'\\n'.join(sv_per_step[i]) for i,s in enumerate(steps)], fontsize=12)\n",
        "plt.plot(steps,adjusted_r_squared, marker='o')\n",
        "    \n",
        "plt.ylabel('Adjusted R Squared',fontsize=font_size)\n",
        "plt.grid(True)\n",
        "plt.show()\n",
        "# 후진소거법을 이용하여 최종 선택된 변수는 step3 상태"
      ],
      "execution_count": null,
      "outputs": [
        {
          "output_type": "display_data",
          "data": {
            "image/png": "[encoded data removed]",
            "text/plain": [
              "<Figure size 720x720 with 1 Axes>"
            ]
          },
          "metadata": {}
        }
      ]
    },
    {
      "cell_type": "code",
      "metadata": {
        "id": "0bmi1a1vneB6"
      },
      "source": [
        "# 단계별 선택법 : 전진선택법에서 후진 소거법을 추가한 방법\n",
        "## 1~2단계 : 전진선택법과 동일\n",
        "## 3단계 : 최소 p-value값과 미리 정해둔 유의수준 a와 비교. \n",
        "##       : 최소 p value < a 이면 최소 p value 에 해당하는 변수를 s에 포함시키고 4단계로 넘어감\n",
        "## 4단계 : 추가된 변수를 포함하여 현재 S에 있는 모든 변수를 이용하여 선형 모형을 적합\n",
        "##       : 추정된 회귀 변수( 절편항 제외) 에 대하여 가장 큰 p value 값을 구함\n",
        "## 5단계 : 최대 p-value 값이 사전 정의된 유의수준보다 크거나 같으면 해당 변수를 제외하고 1단계로 넘어감"
      ],
      "execution_count": null,
      "outputs": []
    },
    {
      "cell_type": "code",
      "metadata": {
        "colab": {
          "base_uri": "https://localhost:8080/"
        },
        "id": "8XBaU0w1oVYi",
        "outputId": "9a8ff50c-1d57-4a10-891b-7f833b19e0f0"
      },
      "source": [
        "## 전진 단계별 선택법\n",
        "variables = df.columns[:-2].tolist() ## 설명 변수 리스트\n",
        " \n",
        "y = df['Survival_Time'] ## 반응 변수\n",
        "selected_variables = [] ## 선택된 변수들\n",
        "sl_enter = 0.05\n",
        "sl_remove = 0.05\n",
        " \n",
        "sv_per_step = [] ## 각 스텝별로 선택된 변수들\n",
        "adjusted_r_squared = [] ## 각 스텝별 수정된 결정계수\n",
        "steps = [] ## 스텝\n",
        "step = 0\n",
        "while len(variables) > 0:\n",
        "    remainder = list(set(variables) - set(selected_variables))\n",
        "    pval = pd.Series(index=remainder) ## 변수의 p-value\n",
        "    ## 기존에 포함된 변수와 새로운 변수 하나씩 돌아가면서 \n",
        "    ## 선형 모형을 적합한다.\n",
        "    for col in remainder: \n",
        "        X = df[selected_variables+[col]]\n",
        "        X = sm.add_constant(X)\n",
        "        model = sm.OLS(y,X).fit()\n",
        "        pval[col] = model.pvalues[col]\n",
        " \n",
        "    min_pval = pval.min()\n",
        "    if min_pval < sl_enter: ## 최소 p-value 값이 기준 값보다 작으면 포함\n",
        "        selected_variables.append(pval.idxmin())\n",
        "        ## 선택된 변수들에대해서\n",
        "        ## 어떤 변수를 제거할지 고른다.\n",
        "        while len(selected_variables) > 0:\n",
        "            selected_X = df[selected_variables]\n",
        "            selected_X = sm.add_constant(selected_X)\n",
        "            selected_pval = sm.OLS(y,selected_X).fit().pvalues[1:] ## 절편항의 p-value는 뺀다\n",
        "            max_pval = selected_pval.max()\n",
        "            if max_pval >= sl_remove: ## 최대 p-value값이 기준값보다 크거나 같으면 제외\n",
        "                remove_variable = selected_pval.idxmax()\n",
        "                selected_variables.remove(remove_variable)\n",
        "            else:\n",
        "                break\n",
        "        \n",
        "        step += 1\n",
        "        steps.append(step)\n",
        "        adj_r_squared = sm.OLS(y,sm.add_constant(df[selected_variables])).fit().rsquared_adj\n",
        "        adjusted_r_squared.append(adj_r_squared)\n",
        "        sv_per_step.append(selected_variables.copy())\n",
        "    else:\n",
        "        break"
      ],
      "execution_count": null,
      "outputs": [
        {
          "output_type": "stream",
          "name": "stderr",
          "text": [
            "/usr/local/lib/python3.7/dist-packages/ipykernel_launcher.py:15: DeprecationWarning: The default dtype for empty Series will be 'object' instead of 'float64' in a future version. Specify a dtype explicitly to silence this warning.\n",
            "  from ipykernel import kernelapp as app\n"
          ]
        }
      ]
    },
    {
      "cell_type": "code",
      "metadata": {
        "colab": {
          "base_uri": "https://localhost:8080/"
        },
        "id": "BJlMCfwtoZiK",
        "outputId": "05ecf63e-2386-4f48-bce5-76f7a56586bb"
      },
      "source": [
        "selected_variables # 단계별 선택법에서 최종 변수"
      ],
      "execution_count": null,
      "outputs": [
        {
          "output_type": "execute_result",
          "data": {
            "text/plain": [
              "['Alc_Heavy', 'Enzyme_Test', 'Prognostic_Index', 'Blood_Clotting_Score']"
            ]
          },
          "metadata": {},
          "execution_count": 45
        }
      ]
    },
    {
      "cell_type": "code",
      "metadata": {
        "colab": {
          "base_uri": "https://localhost:8080/",
          "height": 626
        },
        "id": "nmY0LeIjoVlm",
        "outputId": "8f38f3e5-f74d-454e-dab7-93e77b7eb539"
      },
      "source": [
        "fig = plt.figure(figsize=(10,10))\n",
        "fig.set_facecolor('white')\n",
        " \n",
        "font_size = 15\n",
        "plt.xticks(steps,[f'step {s}\\n'+'\\n'.join(sv_per_step[i]) for i,s in enumerate(steps)], fontsize=12)\n",
        "plt.plot(steps,adjusted_r_squared, marker='o')\n",
        "    \n",
        "plt.ylabel('Adjusted R Squared',fontsize=font_size)\n",
        "plt.grid(True)\n",
        "plt.show()"
      ],
      "execution_count": null,
      "outputs": [
        {
          "output_type": "display_data",
          "data": {
            "image/png": "[encoded data removed]",
            "text/plain": [
              "<Figure size 720x720 with 1 Axes>"
            ]
          },
          "metadata": {}
        }
      ]
    },
    {
      "cell_type": "markdown",
      "metadata": {
        "id": "ZQR3KSx97ql0"
      },
      "source": [
        "## 2. 분류 분석\n",
        "[참고 링크](https://datascienceschool.net/03%20machine%20learning/09.03%20%EB%B6%84%EB%A5%98%EB%AA%A8%ED%98%95.html)\n",
        "\n",
        "<체크리스트>\n",
        "\n",
        "- 각종 분류기\n",
        "- 앙상블 방법\n",
        "- 분류분석 평가"
      ]
    },
    {
      "cell_type": "markdown",
      "metadata": {
        "id": "RTAz3PP072zZ"
      },
      "source": [
        "#### 1) 각종 분류기 \n",
        "\n",
        "- 종류\n"
      ]
    },
    {
      "cell_type": "markdown",
      "metadata": {
        "id": "cz5lwlcM75tA"
      },
      "source": [
        "#### 2) 앙상블 방법\n",
        "- \n"
      ]
    },
    {
      "cell_type": "markdown",
      "metadata": {
        "id": "3wceFFVJ79IO"
      },
      "source": [
        "#### 3) 분류분석 평가"
      ]
    },
    {
      "cell_type": "markdown",
      "metadata": {
        "id": "oT1E8fQXpnVB"
      },
      "source": [
        "## 3. 기타 분석 3가지\n",
        "\n",
        "< 체크리스트>\n",
        "- 교차분석\n",
        "- 분산분석\n",
        "- 상관분석"
      ]
    },
    {
      "cell_type": "markdown",
      "metadata": {
        "id": "bR_TtDKMpxO0"
      },
      "source": [
        "### 교차 분석\n",
        "[참고링크](https://jae-eun-ai.tistory.com/51)\n",
        "- 교차 분석은 두 범주변인 간 관계가 상호독립 관계인지 상호 연관성을 맺고 있는지를 검증하는 방법\n",
        "- 적합도 검정, 독립성 검정, 동일성 검정에 사용\n",
        "- 카이제곱 검정 통계량을 이용\n",
        "- 카이제곱 교차분석에서는 '관찰빈도(true)' 와 '기대빈도(pred)' 간 차이가 얼마나 있는지 카이제곱 분포를 참조해 통계적으로 검증"
      ]
    },
    {
      "cell_type": "markdown",
      "metadata": {
        "id": "mraTX0CMt1j1"
      },
      "source": [
        "#### 1) 적합도 검정\n",
        "- k개의 범주 (혹은 계급)을 가지는 한개의 요인에 대하여 이론적 분포를 따르고 있는지를 검정\n",
        "- 관측값들이 어떤 이론적 분포를 따르고 있는지 알아볼 수 있음\n",
        "- 모집단 분포에 대한 가정이 옳게 됐는지 관측 자료와 비교하여 검정\n",
        "- 귀무가설 : 실제 분포와 이론적 분포간 차이 없다 (분포 일치)\n",
        "- 대립가설 : 실제 분포와 이론적 분포간 차이 있다(두 분포 일치하지 않음)"
      ]
    },
    {
      "cell_type": "code",
      "metadata": {
        "colab": {
          "base_uri": "https://localhost:8080/",
          "height": 416
        },
        "id": "cdRmriVxp4rW",
        "outputId": "a83ab6c4-78ea-4420-fc35-11288325a293"
      },
      "source": [
        "import pandas as pd\n",
        "import matplotlib.pyplot as plt\n",
        "%matplotlib inline\n",
        "\n",
        "# 데이터 생성 및 기본 처리\n",
        "xo, xe = [324,78,261], [371,80,212]\n",
        "xc = pd.DataFrame([xo,xe], columns=['ItemA','ItemB','ItemC'], index=['obs','exp'])\n",
        "xc.plot(kind='bar', title='Number of item', figsize=(8,6))\n",
        "plt.grid()\n",
        "\n",
        "# 1. 일원 카이제곱검정 수행\n",
        "\n",
        "# 제품 A,B,C의 보유대수를 조사하니 324대, 78대, 261대 -> 계:663\n",
        "# 제품의 판매량 비율은 A56%, B12%, C32% -> 기대빈도는 663 * 0.56 ...\n",
        "# 이 자료로 다음같은 관찰빈도와 기대빈도를 만들 수 있음\n",
        "# 귀무가설 :  관찰빈도는 기대빈도와 같다\n",
        "# 대립가설 :  관찰빈도와 기대빈도는 다르다\n",
        "\n",
        "from scipy.stats import chisquare\n",
        "\n",
        "result = chisquare(xo, f_exp=xe)\n",
        "result\n",
        "\n",
        "# 결과 설명\n",
        "# p-value가 유의수준 0.05보다 아주 작은 값이므로 귀무가설을 기각하고 대립가설을 지지한다. 즉, 연구가설이 지지된다."
      ],
      "execution_count": null,
      "outputs": [
        {
          "output_type": "execute_result",
          "data": {
            "text/plain": [
              "Power_divergenceResult(statistic=17.329649595687332, pvalue=0.00017254977751013492)"
            ]
          },
          "metadata": {},
          "execution_count": 52
        },
        {
          "output_type": "display_data",
          "data": {
            "image/png": "[encoded data removed]",
            "text/plain": [
              "<Figure size 576x432 with 1 Axes>"
            ]
          },
          "metadata": {
            "needs_background": "light"
          }
        }
      ]
    },
    {
      "cell_type": "code",
      "metadata": {
        "colab": {
          "base_uri": "https://localhost:8080/"
        },
        "id": "HuViyvW5s_bg",
        "outputId": "bf2b2182-6e33-4cdc-992e-6230e173a5f4"
      },
      "source": [
        "# 데이터 생성 및 기본 처리\n",
        "data = pd.DataFrame({'Left':[18], 'Right':[218]})\n",
        "data\n",
        "xo = [18,218]\n",
        "xe = [47.2,188.8]\n",
        "\n",
        "# 2. 일원 카이제곱검정 수행\n",
        "\n",
        "# 귀무가설 : 전체응답자 중 왼손잡이는 20%, 오른손잡이는 80%이다\n",
        "# 대립가설 : 전체응답자 중 왼손잡이의 비율은 20%, 오른손잡이의 비율이 80%라고 할 수 없다.\n",
        "\n",
        "from scipy.stats import chisquare\n",
        "\n",
        "result = chisquare(xo , f_exp=xe)\n",
        "result\n",
        "\n",
        "# 결과 설명\n",
        "# p-value가 유의수준 0.05보다 작으므로 전체응답자 중 왼손잡이는 20%, 오른손잡이는 80%라는 귀무가설을 기각한다."
      ],
      "execution_count": null,
      "outputs": [
        {
          "output_type": "execute_result",
          "data": {
            "text/plain": [
              "Power_divergenceResult(statistic=22.58050847457627, pvalue=2.0151876969887844e-06)"
            ]
          },
          "metadata": {},
          "execution_count": 53
        }
      ]
    },
    {
      "cell_type": "markdown",
      "metadata": {
        "id": "fHeoXyCotoBa"
      },
      "source": [
        "#### 2) 독립성 검정\n",
        "\n",
        "- 모집단이 두 개의 변수 A,B에 의해 범주화되었을 때, 이 두 변수들 사이의 관계가 독립인지 아닌지를 검정하는 것을 의미\n",
        "- 모집단을 범주화하는 기준이 되는 두 변수 A,B가 서로 독립적으로 관측값에 영향을 미치는지의 여부를 검정하는 것\n",
        "- 귀무가설 : 두 변수 사이에는 연관이 없다. (독립이다.)\n",
        "- 대립가설 : 두 변수 사이에는 연관이 있다. (종속이다.)\n"
      ]
    },
    {
      "cell_type": "code",
      "metadata": {
        "colab": {
          "base_uri": "https://localhost:8080/"
        },
        "id": "KV3i5kmStnzy",
        "outputId": "9981679d-9353-4892-d457-5cadd86fb204"
      },
      "source": [
        "# 데이터 생성 및 기본 처리\n",
        "xf, xm = [269, 83, 215], [155, 57, 181]\n",
        "x = pd.DataFrame([xf, xm], columns=['Item 1', 'Item 2', 'Item 3'], index=['Female', 'Male'])\n",
        "\n",
        "# 1. 이원카이제곱검정\n",
        "\n",
        "# 귀무가설 : 남녀 차이는 관측값에 영향을 미치지 않는다(독립이다) (질문, 이렇게 가설세우는게 맞나? 헷갈림)\n",
        "# 대립가설 : 남녀 차이는 관측값에 영향을 미친다(종속이다)\n",
        "# 제품1 ~3까지 여성과 남성의 판매량 차이에 대해 카이제곱검정\n",
        "\n",
        "from scipy.stats import chi2_contingency\n",
        "chi2, p, dof, expected = chi2_contingency([xf,xm])\n",
        "\n",
        "msg = 'Test Statistic: {}\\np-value: {}\\nDegree of Freedom: {}'\n",
        "print(msg.format(chi2, p, dof))\n",
        "print(expected)\n",
        "\n",
        "# 결과 설명\n",
        "# 자유도는 (3-1) * (2-1) = 2이고, p-value는 유의수준 0.05보다 작은 값으로 \n",
        "# 2개 그룹간에 차이가 있다고 판단할 수 있음, \n",
        "# 남녀 차이는 관측값에 영향을 미친다, 귀무가설기각, 대립가설 선택"
      ],
      "execution_count": null,
      "outputs": [
        {
          "output_type": "stream",
          "name": "stdout",
          "text": [
            "Test Statistic: 7.094264414804222\n",
            "p-value: 0.028807134195296135\n",
            "Degree of Freedom: 2\n",
            "[[250.425   82.6875 233.8875]\n",
            " [173.575   57.3125 162.1125]]\n"
          ]
        }
      ]
    },
    {
      "cell_type": "code",
      "metadata": {
        "colab": {
          "base_uri": "https://localhost:8080/"
        },
        "id": "uCJdZN5guMZN",
        "outputId": "b4c4b337-17bb-4064-a9b8-9b9bfa6f97d3"
      },
      "source": [
        "# 데이터 생성 및 기본 처리\n",
        "data = pd.DataFrame([[156,14,2,4],[124,20,5,4],[77,11,7,13],[82,36,15,7],[53,11,1,57]],\\\n",
        "                   columns=['wife','alternating','husband','jointly'], index=['landry','main_mean','dinner','breakfast','tidying'])\n",
        "# 2. 이원카이제곱검정\n",
        "\n",
        "# 귀무가설 : 집안일에 걸리는 시간에는 가정일 하는 사람과 연관성이 없다 (독립이다) (질문, 위와 동일한 부분)\n",
        "# 대립가설 : 집안일에 걸리는 시간에는 가정일 하는 사람과 연관성이 있다 (종속이다)\n",
        "# 와이프혼자, 남편혼자, 가정부, 같이 할때 각 집안일에 걸리는 시간 차이에 대해 카이제곱검정\n",
        "\n",
        "from scipy.stats import chi2_contingency\n",
        "chi2, pvalue, dof, expected = chi2_contingency(data)\n",
        "\n",
        "msg = 'Test Statistic: {}\\np-value: {}\\nDegree of Freedom: {}'\n",
        "print(msg.format(chi2, p, dof))\n",
        "print(expected)\n",
        "\n",
        "# 결과 설명\n",
        "# 자유도는 (4-1) * (5-1) = 12이고, p-value는 유의수준 0.05보다 작은 값으로 \n",
        "# 4개 그룹간에 차이가 있다고 판단할 수 있음\n",
        "# 집안일 시간 별로 와이프, 남편, 가정부, 같이할때의 차이 있다\n",
        "# 귀무가설 기각, 대립가설 선택"
      ],
      "execution_count": null,
      "outputs": [
        {
          "output_type": "stream",
          "name": "stdout",
          "text": [
            "Test Statistic: 222.77883846736816\n",
            "p-value: 0.028807134195296135\n",
            "Degree of Freedom: 12\n",
            "[[123.87982833  23.16452074   7.55364807  21.40200286]\n",
            " [107.69098712  20.13733906   6.56652361  18.60515021]\n",
            " [ 76.01716738  14.21459227   4.63519313  13.13304721]\n",
            " [ 98.54077253  18.42632332   6.00858369  17.02432046]\n",
            " [ 85.87124464  16.05722461   5.2360515   14.83547926]]\n"
          ]
        }
      ]
    },
    {
      "cell_type": "markdown",
      "metadata": {
        "id": "ZVlU6kQXv_oK"
      },
      "source": [
        "#### 3) 동질성 검정\n",
        "- 모집단이 임의의 변수에 따라 R개의 속성으로 범주화되었을 때, R개의 부분 모집단에서 추출한 각 표본인 C개의 범주화된 집단의 분포는 서로 동일한지 아닌지를 검정하는 것을 의미\n",
        "- 귀무가설 : p(1j) = p(2j) = p(3j).. = p(nj) (n=1,2,...,r)\n",
        "-  대립가설 : p(nj)중 다른 값이 하나이상 존재한다.\n",
        "-  계산법과 검정법은 모두 **2) 독립성** 검정과 같은 방법으로 진행"
      ]
    },
    {
      "cell_type": "markdown",
      "metadata": {
        "id": "DkjEPTSJp13y"
      },
      "source": [
        "### 분산 분석"
      ]
    },
    {
      "cell_type": "markdown",
      "metadata": {
        "id": "XE77V77BwcUg"
      },
      "source": [
        "#### 1) 일원배치 분산분석 one-way ANOVA\n",
        "\n",
        "- 분산분석은 두 개이상의 집단에서 , 그룹 평균 간 차이를 그룹 내 변동에 비교하여 살펴보는 데이터 분석방법 : 여러 그룹간의 평균의 차이가 통계적으로 유의미한지를 판단\n",
        "- 일원배치 분산분석은 반응값 target 에 대해 하나의 범주형 변수의 영향을 알아보기 위한 방법 : 1개의 변수를 바꾸면 target 이 얼마나 바뀌는가? (질문, 이 값은 회귀계수를 보면 되는 것 같은데, 그 차이가 있을까? )\n",
        "- F 검정 통계량을 이용\n",
        "- 각 집단의 측정치는 서로 독립적이며 정규분포를 따른 (정규성 가정) \n",
        "- 각 집단의 측정치 분산은 같다 (등분산 가정)"
      ]
    },
    {
      "cell_type": "code",
      "metadata": {
        "colab": {
          "base_uri": "https://localhost:8080/",
          "height": 325
        },
        "id": "VnM-pnEnxAgx",
        "outputId": "1109fe1f-2d8e-41e6-9b01-ee9433261a8b"
      },
      "source": [
        "# 예시1\n",
        "# 데이터셋 생성 및 처리\n",
        "# 22명의 심장 수술을 받은 환자를 3가지 그룹으로 나누고 적혈구의 엽산 수치를 24시간 이후에 측정\n",
        "# 귀무가설 : 3가지 그룹의 평균값은 모두 같다\n",
        "# 대립가설 : 3가지 그룹의 평균값에는 차이가 있다\n",
        "\n",
        "import numpy as np\n",
        "import urllib\n",
        "import seaborn as sns\n",
        "import matplotlib.pyplot as plt\n",
        "\n",
        "url = 'https://raw.githubusercontent.com/thomas-haslwanter/statsintro_python/master/ipynb/Data/data_altman/altman_910.txt'\n",
        "data = np.genfromtxt(urllib.request.urlopen(url), delimiter=',')\n",
        "\n",
        "\n",
        "sns.set_style('whitegrid')\n",
        "group1 = data[data[:,1]==1,0]  \n",
        "group2 = data[data[:,1]==2,0]\n",
        "group3 = data[data[:,1]==3,0]\n",
        "\n",
        "plot_data = [group1, group2, group3]\n",
        "plt.boxplot(plot_data)\n",
        "plt.show()\n",
        "\n",
        "# boxplot에서 보면, 평균값의 차이가 의미있는지 없는지 판단이 어렵다. \n",
        "# 분산이 커서 그런것인지 확인하기 애매하에, 분산 분석을 통해 통계적 유의성을 알아본다"
      ],
      "execution_count": null,
      "outputs": [
        {
          "output_type": "stream",
          "name": "stderr",
          "text": [
            "/usr/local/lib/python3.7/dist-packages/numpy/core/_asarray.py:83: VisibleDeprecationWarning: Creating an ndarray from ragged nested sequences (which is a list-or-tuple of lists-or-tuples-or ndarrays with different lengths or shapes) is deprecated. If you meant to do this, you must specify 'dtype=object' when creating the ndarray\n",
            "  return array(a, dtype, copy=False, order=order)\n"
          ]
        },
        {
          "output_type": "display_data",
          "data": {
            "image/png": "[encoded data removed]",
            "text/plain": [
              "<Figure size 432x288 with 1 Axes>"
            ]
          },
          "metadata": {}
        }
      ]
    },
    {
      "cell_type": "code",
      "metadata": {
        "colab": {
          "base_uri": "https://localhost:8080/"
        },
        "id": "igwSwaQhxUAT",
        "outputId": "db6fc5d4-daec-41dd-aa0f-61d95be793c2"
      },
      "source": [
        "import pandas as pd\n",
        "import warnings\n",
        "warnings.filterwarnings('ignore')\n",
        "from statsmodels.formula.api import ols\n",
        "from statsmodels.stats.anova import anova_lm\n",
        "\n",
        "df = pd.DataFrame(data, columns=['value','treatment'])\n",
        "print(df.head(3))\n",
        "\n",
        "model = ols('value ~ C(treatment)', df).fit()\n",
        "print(anova_lm(model))\n",
        "\n",
        "# 결과\n",
        "# C treatment 의 경우 pr(>F) 값이 0.05 보다 작은 값\n",
        "# 귀무가설 기각, 대립가설 선택\n",
        "# 저 C라는 treatment 의 평균값의 차이가 실제로 의미가 있어, 3개의 집단을 구분하는데 유의함 (질문, 이렇게 해석해도 되는가?) "
      ],
      "execution_count": null,
      "outputs": [
        {
          "output_type": "stream",
          "name": "stdout",
          "text": [
            "   value  treatment\n",
            "0  243.0        1.0\n",
            "1  251.0        1.0\n",
            "2  275.0        1.0\n",
            "                df        sum_sq      mean_sq         F    PR(>F)\n",
            "C(treatment)   2.0  15515.766414  7757.883207  3.711336  0.043589\n",
            "Residual      19.0  39716.097222  2090.320906       NaN       NaN\n"
          ]
        }
      ]
    },
    {
      "cell_type": "code",
      "metadata": {
        "id": "frQYSiiOxwzx"
      },
      "source": [
        "# 예시2\n",
        "# 데이터셋 생성 및 처리\n",
        "# iris데이터를 이용해 종별로 꽃받침의 폭(sepal.width)의 평균이 같은지 혹은 차이가 있는지를 확인\n",
        "# 귀무가설 : 세가지 종에 대해 sepal.width평균은 모두 같다.\n",
        "# 대립가설 : 적어도 하나의 종에 대한 sepal.width의 평균값에는 차이가 있다.\n",
        "\n",
        "from sklearn.datasets import load_iris\n",
        "\n",
        "iris = load_iris()\n",
        "data = pd.DataFrame(data=iris.data, columns=iris.feature_names)\n",
        "data['target'] = iris.target\n",
        "data.columns = ['sepal_length','sepal_width','petal_length','petal_width','target']\n"
      ],
      "execution_count": null,
      "outputs": []
    },
    {
      "cell_type": "code",
      "metadata": {
        "colab": {
          "base_uri": "https://localhost:8080/"
        },
        "id": "sdUyuclB0NcH",
        "outputId": "5868184e-7b9f-4b22-d9e9-e56f3d1d23b6"
      },
      "source": [
        "\n",
        "# 확인\n",
        "# step 1 일원 분산분석 가정 확인\n",
        "# 독립성 : 자료 수집이  random sampling 되어있기 때문에 만족\n",
        "# 정규성 : 집단 수준별로 실시,, 이때 shapiro 값을 사용한다 \n",
        "\n",
        "from  scipy.stats import shapiro\n",
        "print(shapiro(data.sepal_width[data.target==0]))\n",
        "print(shapiro(data.sepal_width[data.target==1]))\n",
        "print(shapiro(data.sepal_width[data.target==2]))\n",
        "# (statistic 값, p-value 값) 의 순서로 나열\n",
        "# 모든 value 가 0.05보다 크므로 정규성을 만족할 수 없지 않을까? (질문)\n",
        "\n",
        "# 등분산성 : 레빈 검증 / 바틀렛 검증\n",
        "# 레빈 검증\n",
        "from scipy.stats import levene\n",
        "print(levene(data.sepal_width[data.target==0],\n",
        "      data.sepal_width[data.target==1],\n",
        "      data.sepal_width[data.target==2]))\n",
        "\n",
        "# 바틀렛 검증\n",
        "from scipy.stats import bartlett\n",
        "print(bartlett(data.sepal_width[data.target==0],\n",
        "      data.sepal_width[data.target==1],\n",
        "      data.sepal_width[data.target==2]))\n",
        "\n",
        "# 두 값 모두 p-value  가 0.05 보다 큰 값을 보이면서 모분산에 유의미한 차이 없다고 판단\n",
        "# 등분산성 가정이 유지됨"
      ],
      "execution_count": null,
      "outputs": [
        {
          "output_type": "stream",
          "name": "stdout",
          "text": [
            "(0.97171950340271, 0.2715264856815338)\n",
            "(0.9741330742835999, 0.33798879384994507)\n",
            "(0.9673910140991211, 0.1809043288230896)\n",
            "LeveneResult(statistic=0.5902115655853319, pvalue=0.5555178984739075)\n",
            "BartlettResult(statistic=2.0910752014391774, pvalue=0.35150280041581317)\n"
          ]
        }
      ]
    },
    {
      "cell_type": "code",
      "metadata": {
        "colab": {
          "base_uri": "https://localhost:8080/",
          "height": 112
        },
        "id": "PZVoFIYa0RG1",
        "outputId": "0d4423fe-a9a1-49a0-d8ca-5d24b1ae8c0c"
      },
      "source": [
        "# step2 일원 분산분석 수행\n",
        "model = ols('sepal_width ~ C(target)', data).fit()\n",
        "anova_lm(model)\n",
        "\n",
        "# 결과 해석\n",
        "## pr(>F) p-value 이 값이 유의수준 0.05하에서 귀무가설을 기각\n",
        "# 세가지 종에 따른 꽃받침 폭이 동일하지 않다고 결론\n",
        "# 종별 꽃받침의 폭 평균값들 중 적어도 어느 하나의 종은 통계적으로 유의한 차이가 있다 \n",
        "# SSA 의 자유도는 2 (집단수 3 - 1 = 2) SST 자유도는 147 (관측값의 수 - 집단의 수 150-3 = 147)"
      ],
      "execution_count": null,
      "outputs": [
        {
          "output_type": "execute_result",
          "data": {
            "text/html": [
              "<div>\n",
              "<style scoped>\n",
              "    .dataframe tbody tr th:only-of-type {\n",
              "        vertical-align: middle;\n",
              "    }\n",
              "\n",
              "    .dataframe tbody tr th {\n",
              "        vertical-align: top;\n",
              "    }\n",
              "\n",
              "    .dataframe thead th {\n",
              "        text-align: right;\n",
              "    }\n",
              "</style>\n",
              "<table border=\"1\" class=\"dataframe\">\n",
              "  <thead>\n",
              "    <tr style=\"text-align: right;\">\n",
              "      <th></th>\n",
              "      <th>df</th>\n",
              "      <th>sum_sq</th>\n",
              "      <th>mean_sq</th>\n",
              "      <th>F</th>\n",
              "      <th>PR(&gt;F)</th>\n",
              "    </tr>\n",
              "  </thead>\n",
              "  <tbody>\n",
              "    <tr>\n",
              "      <th>C(target)</th>\n",
              "      <td>2.0</td>\n",
              "      <td>11.344933</td>\n",
              "      <td>5.672467</td>\n",
              "      <td>49.16004</td>\n",
              "      <td>4.492017e-17</td>\n",
              "    </tr>\n",
              "    <tr>\n",
              "      <th>Residual</th>\n",
              "      <td>147.0</td>\n",
              "      <td>16.962000</td>\n",
              "      <td>0.115388</td>\n",
              "      <td>NaN</td>\n",
              "      <td>NaN</td>\n",
              "    </tr>\n",
              "  </tbody>\n",
              "</table>\n",
              "</div>"
            ],
            "text/plain": [
              "              df     sum_sq   mean_sq         F        PR(>F)\n",
              "C(target)    2.0  11.344933  5.672467  49.16004  4.492017e-17\n",
              "Residual   147.0  16.962000  0.115388       NaN           NaN"
            ]
          },
          "metadata": {},
          "execution_count": 65
        }
      ]
    },
    {
      "cell_type": "code",
      "metadata": {
        "colab": {
          "base_uri": "https://localhost:8080/",
          "height": 323
        },
        "id": "3ritOWPt0uRG",
        "outputId": "17efbdaf-16c6-4cc4-b88a-c8ae113273e7"
      },
      "source": [
        "# step 3 사후분석\n",
        "\n",
        "from statsmodels.sandbox.stats.multicomp import MultiComparison\n",
        "import scipy.stats\n",
        "\n",
        "comp = MultiComparison(data.sepal_width, data.target)\n",
        "\n",
        "# 봉페로니 교정\n",
        "result = comp.allpairtest(scipy.stats.ttest_ind, method='bonf')\n",
        "print(result[0])\n",
        "\n",
        "# 투키의 HSD - Tuckey's Honestly Significant Difference \n",
        "# = \"진정으로 유의미한 차이\"\n",
        "from statsmodels.stats.multicomp import pairwise_tukeyhsd\n",
        "hsd = pairwise_tukeyhsd(data['sepal_width'], data['target'], alpha=0.05)\n",
        "hsd.summary()\n",
        "\n",
        "# 결과\n",
        "## 분산분석의 결과, 귀무가설 기각 (적어도 한 집단 내 평균 차이 존재, 통계쩍으로 증명)\n",
        "## 어떤 집단들에 대해서 평균 차이가 존재하느지 알아보기 위해 실시하는 분석\n",
        "\n",
        "## 조합 가능한 모든 쌍에 대해 비교를 하므로 과잉 검증으로 인한 FWER 증가 (질문, 또는 검색해보아야 할 내용, 왜 이 방법을 하고 이를 통해 무엇을 보고자 하는가)\n",
        "## 널리쓰이는 봉페로니 교정, turkey 의 HSD 사용 (검색, 해당 값의 해석)\n",
        "\n",
        "# pval = p-value 모든 종들에 대해서 꽃받침 폭의 평균값은 각각 통계적으로 유의한 차이를 보임\n",
        "# 종 0과 종 1의 meandiff 가 음수 : 꽃받침의 폭은 종이 0일 때 보다 1일 때 통계적으로 유의한 큰 값을 가진다고 해석 가능"
      ],
      "execution_count": null,
      "outputs": [
        {
          "output_type": "stream",
          "name": "stdout",
          "text": [
            "Test Multiple Comparison ttest_ind \n",
            "FWER=0.05 method=bonf\n",
            "alphacSidak=0.02, alphacBonf=0.017\n",
            "=============================================\n",
            "group1 group2   stat   pval  pval_corr reject\n",
            "---------------------------------------------\n",
            "     0      1   9.455    0.0       0.0   True\n",
            "     0      2  6.4503    0.0       0.0   True\n",
            "     1      2 -3.2058 0.0018    0.0055   True\n",
            "---------------------------------------------\n"
          ]
        },
        {
          "output_type": "execute_result",
          "data": {
            "text/html": [
              "<table class=\"simpletable\">\n",
              "<caption>Multiple Comparison of Means - Tukey HSD, FWER=0.05</caption>\n",
              "<tr>\n",
              "  <th>group1</th> <th>group2</th> <th>meandiff</th>  <th>p-adj</th>  <th>lower</th>   <th>upper</th>  <th>reject</th>\n",
              "</tr>\n",
              "<tr>\n",
              "     <td>0</td>      <td>1</td>    <td>-0.658</td>   <td>0.001</td> <td>-0.8189</td> <td>-0.4971</td>  <td>True</td> \n",
              "</tr>\n",
              "<tr>\n",
              "     <td>0</td>      <td>2</td>    <td>-0.454</td>   <td>0.001</td> <td>-0.6149</td> <td>-0.2931</td>  <td>True</td> \n",
              "</tr>\n",
              "<tr>\n",
              "     <td>1</td>      <td>2</td>     <td>0.204</td>  <td>0.0088</td> <td>0.0431</td>  <td>0.3649</td>   <td>True</td> \n",
              "</tr>\n",
              "</table>"
            ],
            "text/plain": [
              "<class 'statsmodels.iolib.table.SimpleTable'>"
            ]
          },
          "metadata": {},
          "execution_count": 68
        }
      ]
    },
    {
      "cell_type": "markdown",
      "metadata": {
        "id": "zOofFSYaweOc"
      },
      "source": [
        "#### 2) 이원배치 분산분석 two-way ANOVA\n",
        "- 독립변인의 수가 2개 이상일 떄 집단 간 차이가 유의한지를 검증하는데 사용\n",
        "- 상호작용효과 interaction effect, 한 변수의 변화가 결과에 미치는 영향이 다른 변수의 수준에 따라 달라지는지 확인하기 위해 사용"
      ]
    },
    {
      "cell_type": "code",
      "metadata": {
        "colab": {
          "base_uri": "https://localhost:8080/",
          "height": 301
        },
        "id": "JOYmilh010F0",
        "outputId": "0dccbb6c-e581-4c8c-83b5-98075b9d68c1"
      },
      "source": [
        "# 예시 \n",
        "## 태아의 머리 둘레 측정 데이터, 4명의 관측자가 3명의 태아 대상으로 측정\n",
        "# 귀무가설 : 초음파로 태아의 머리 둘레 측정시 관측자와 상호작용이 없다 , 관측자에 관계없이 동일하다 (질문, 이 가정이 맞나?)\n",
        "# 귀무가설 : 초음파로 태아의 머리 둘레 측정시 관측자와 상호작용이 존재한다 , 관측자에 따라 다른 값을 보인다 (질문, 이 가정이 맞나?)\n",
        "\n",
        "# 데이터 셋팅 및 처리\n",
        "import pandas as pd\n",
        "import numpy as np\n",
        "import urllib\n",
        "import matplotlib.pyplot as plt\n",
        "\n",
        "inFile = 'altman_12_6.txt'\n",
        "url_base = 'https://raw.githubusercontent.com/thomas-haslwanter/statsintro_python/master/ipynb/Data/data_altman/'\n",
        "url = url_base + inFile\n",
        "data = np.genfromtxt(urllib.request.urlopen(url), delimiter=',')\n",
        "\n",
        "data = pd.DataFrame(data, columns=['head_size','fetus','observer'])\n",
        "data.boxplot(column='head_size', by='fetus')\n",
        "plt.show()\n",
        "\n",
        "# boxplot 을 보면 태아 3명의 머리둘레는 차이가 있어보이나, 관측자와 상호작용이 있는지 모름\n",
        "# 분석을 통해 확인 필요\n",
        " "
      ],
      "execution_count": null,
      "outputs": [
        {
          "output_type": "display_data",
          "data": {
            "image/png": "[encoded data removed]",
            "text/plain": [
              "<Figure size 432x288 with 1 Axes>"
            ]
          },
          "metadata": {}
        }
      ]
    },
    {
      "cell_type": "code",
      "metadata": {
        "colab": {
          "base_uri": "https://localhost:8080/"
        },
        "id": "UzP4F-Vb2bY9",
        "outputId": "1d5a68ae-c0e3-465f-d00e-06f41cb2d75e"
      },
      "source": [
        "from statsmodels.formula.api import ols\n",
        "from statsmodels.stats.anova import anova_lm\n",
        "\n",
        "formula = 'head_size ~ C(fetus)+C(observer)+C(fetus):C(observer)'\n",
        "lm = ols(formula, data).fit()\n",
        "print(anova_lm(lm))\n",
        "\n",
        "# p-value 가 0.05이상, 귀무가설을 기각할 수 없음\n",
        "# 관측자와 태아 머리둘레 값에는 연관성이 없다\n",
        "# 측정하는 사람이 달라도 머리 둘레값은 일정하다고 해석 가능"
      ],
      "execution_count": null,
      "outputs": [
        {
          "output_type": "stream",
          "name": "stdout",
          "text": [
            "                        df      sum_sq     mean_sq            F        PR(>F)\n",
            "C(fetus)               2.0  324.008889  162.004444  2113.101449  1.051039e-27\n",
            "C(observer)            3.0    1.198611    0.399537     5.211353  6.497055e-03\n",
            "C(fetus):C(observer)   6.0    0.562222    0.093704     1.222222  3.295509e-01\n",
            "Residual              24.0    1.840000    0.076667          NaN           NaN\n"
          ]
        }
      ]
    },
    {
      "cell_type": "markdown",
      "metadata": {
        "id": "zVI4ntMlp3Km"
      },
      "source": [
        "### 상관 분석\n",
        "[참고 자료](https://ordo.tistory.com/100)\n",
        "\n",
        "- 둘 또는 그 이상의 변수들이 서로 관련성을 가지고 변화할 때, 그 관계를 분석해야 하는 데, 가장 잘 알려진 방법 중 하나가 '상관분석' 그리고 '회귀분석' \n",
        "\n",
        "- 각각 두 변수 간의 선형적 관계를 correlation 상관이랄고 하며, 이러한 관계에 대한 분석을 상관분석 correlation analysis라고 함\n",
        "\n",
        "- 당뇨와 그에 영향을 미치는 변수들 간의 관계를 분석"
      ]
    },
    {
      "cell_type": "markdown",
      "metadata": {
        "id": "4M1pMf8U6HW4"
      },
      "source": [
        "#### 1) 산점도\n",
        "- 직교 좌표계를 이용해 두 개 변수간의 관계를 나타내는 방법"
      ]
    },
    {
      "cell_type": "code",
      "metadata": {
        "colab": {
          "base_uri": "https://localhost:8080/",
          "height": 313
        },
        "id": "Xm34oPVn3375",
        "outputId": "127ed426-2784-4f76-b3c2-f774be5705a7"
      },
      "source": [
        "# 데이터셋 구성 및 처리\n",
        "\n",
        "import pandas as pd\n",
        "import numpy as numpy\n",
        "from sklearn import datasets \n",
        "\n",
        "data = datasets.load_diabetes()\n",
        "df = pd.DataFrame(data['data'], index = data['target'], columns = data['feature_names'])\n",
        "print('데이터셋 크기: ' , df.shape)\n",
        "\n",
        "# target 이 당뇨병의 수치, 나머지 feature names 가 변수\n",
        "\n",
        "X = df.bmi.values\n",
        "y = df.index.values  \n",
        "\n",
        "import matplotlib.pyplot as plt \n",
        "plt.scatter(X, y, alpha = 0.5) \n",
        "plt.title('Target ~ BMI')\n",
        "plt.xlabel('BMI')\n",
        "plt.ylabel('TARGET')\n",
        "plt.show()"
      ],
      "execution_count": null,
      "outputs": [
        {
          "output_type": "stream",
          "name": "stdout",
          "text": [
            "데이터셋 크기:  (442, 10)\n"
          ]
        },
        {
          "output_type": "display_data",
          "data": {
            "image/png": "[encoded data removed]",
            "text/plain": [
              "<Figure size 432x288 with 1 Axes>"
            ]
          },
          "metadata": {}
        }
      ]
    },
    {
      "cell_type": "markdown",
      "metadata": {
        "id": "GyuMS5ln5_6q"
      },
      "source": [
        "#### 2) 공분산 covariance 및 상관계수 \n",
        "\n",
        "correlation coefficient \n",
        "-  산점도를 이용하면 두 변수간의 직선적인 관계를 대략적으로 파악 가능하나, 두 변수 사이의 관계를 수치로 표현하지 않음\n",
        "-  두 변수간의 관계를 수치로표현하기 위해 공분산과 상관계수를 활용\n",
        "\n",
        "- 공분산 : 2개의 확률 변수의 상관정도를 나타내는 값\n",
        "    -  만약 2개 변수 중 하나의 값이 상승하는 경향을 보일 때 다른 값도 상승하면 공분산의 값은 양수\n",
        "    - 만약 2개 변수 중 하나의 값이 상승하는 경향을 보이나, 다른 값이 하락하면 공분산의 값은 음수\n"
      ]
    },
    {
      "cell_type": "code",
      "metadata": {
        "colab": {
          "base_uri": "https://localhost:8080/"
        },
        "id": "Uwg6XmOy4hjY",
        "outputId": "60060d6c-4f0e-4631-8a02-1c5d895941f0"
      },
      "source": [
        "cov1 = cov = (np.sum(X * y) - len(X) * np.mean(X) * np.mean(y))/ len(X)\n",
        "# 또는\n",
        "\n",
        "cov2 = np.cov(X, y)[0, 1]\n",
        "print(cov1, cov2)\n",
        "\n",
        "# 두 방법 모두 비슷한 양수 발생\n",
        "# 공분산의 경우, 상승/하강은 알 수 있으나 절대적 정도를 파악하기 한계 존재\n",
        "# 어느정도의 양의 상관관계인지 파악이 어려움\n",
        "# 공분산을 표준화 시킨 상관계수를 사용"
      ],
      "execution_count": null,
      "outputs": [
        {
          "output_type": "stream",
          "name": "stdout",
          "text": [
            "2.1480435755297007 2.1529144226397467\n"
          ]
        }
      ]
    },
    {
      "cell_type": "code",
      "metadata": {
        "colab": {
          "base_uri": "https://localhost:8080/"
        },
        "id": "bR0g_g_U5GBt",
        "outputId": "f9cba182-a779-4fc5-93c3-d37eafa7c472"
      },
      "source": [
        "# 각 변수의 표준편차를 분모로 나누어주면 상관계수 계산 가능\n",
        "corr_cov1 = cov1 / (np.std(X) * np.std(y))\n",
        "corr_cov2 = np.corrcoef(X, y)[0,1]\n",
        "\n",
        "print(corr_cov1, corr_cov2)\n",
        "# 0 ~ 0.3 약한 양의 선형, 0.3 ~ 0.7 뚜렷한 양의 선형 , 0.7~ 1 강한 양의 선형\n",
        "# 위 target 과 BMI 는 0.6에 가까운 수준으로 뚜렷한 양의 선형관계를 이루고 있음\n",
        "# 상관관계는 outlier 에 민감하게 반응하기 때문에, 진행 전 전처리 필수"
      ],
      "execution_count": null,
      "outputs": [
        {
          "output_type": "stream",
          "name": "stdout",
          "text": [
            "0.5864501344746884 0.5864501344746891\n"
          ]
        }
      ]
    },
    {
      "cell_type": "markdown",
      "metadata": {
        "id": "JCVdwkb56Rhy"
      },
      "source": [
        "#### 3) 상관계수의 검정\n",
        "\n",
        "- 상관계수값 자체가 유의미한지 검정 필요\n",
        "- p-value 를 통해 확인 가능\n",
        "- scipy.stasts.personr() 사용하여 확인"
      ]
    },
    {
      "cell_type": "code",
      "metadata": {
        "colab": {
          "base_uri": "https://localhost:8080/"
        },
        "id": "cszbfqv95nXP",
        "outputId": "323d2c1f-a1f1-49dd-89fd-852809b07231"
      },
      "source": [
        "import scipy.stats as stats\n",
        "\n",
        "stats.pearsonr(X,y)\n",
        "\n",
        "# 결과\n",
        "## (통계값, p-value) 의 값인데, 뒤의 p-value 값이 0.05보다 작음\n",
        "# 귀무가설인 '상관관계가 없다' 를 기각하고 \n",
        "# 대립가설인 '상관관계가 잆다' 라고 판정"
      ],
      "execution_count": null,
      "outputs": [
        {
          "output_type": "execute_result",
          "data": {
            "text/plain": [
              "(0.5864501344746887, 3.4660064451654114e-42)"
            ]
          },
          "metadata": {},
          "execution_count": 87
        }
      ]
    },
    {
      "cell_type": "code",
      "metadata": {
        "colab": {
          "base_uri": "https://localhost:8080/"
        },
        "id": "4DKO_m6G6gAN",
        "outputId": "3e3eceed-46ca-4ca2-d568-8c7584165ef1"
      },
      "source": [
        "# 나머지 변수들과의 상관계수도 아래와 같이 확인이 가능\n",
        "\n",
        "for item in ['age','sex','bmi','bp']:\n",
        "    print(item)\n",
        "    X = df[item].values \n",
        "    print('Covariance: {:.2f}'.format(np.cov(X,y)[0,1]))\n",
        "    print('Correlation: {:.2f}'.format(stats.pearsonr(X,y)[0]))\n",
        "    print('P-value: {:.4f}'.format(stats.pearsonr(X,y)[1]))\n",
        "    print('\\n')\n",
        "\n",
        "# 결과\n",
        "## 당뇨병 수치 target 과 가장 관련성이 높은 것은 0.59의 상관계수를 보이는 bmi\n",
        "## 가장 낮은 것은 0.04인 sex, 뿐 아니라, age도 관련성이 없다고 이야기 할 수 있음"
      ],
      "execution_count": null,
      "outputs": [
        {
          "output_type": "stream",
          "name": "stdout",
          "text": [
            "age\n",
            "Covariance: 0.69\n",
            "Correlation: 0.19\n",
            "P-value: 0.0001\n",
            "\n",
            "\n",
            "sex\n",
            "Covariance: 0.16\n",
            "Correlation: 0.04\n",
            "P-value: 0.3664\n",
            "\n",
            "\n",
            "bmi\n",
            "Covariance: 2.15\n",
            "Correlation: 0.59\n",
            "P-value: 0.0000\n",
            "\n",
            "\n",
            "bp\n",
            "Covariance: 1.62\n",
            "Correlation: 0.44\n",
            "P-value: 0.0000\n",
            "\n",
            "\n"
          ]
        }
      ]
    },
    {
      "cell_type": "code",
      "metadata": {
        "id": "AzD1w-rG7EAp"
      },
      "source": [
        ""
      ],
      "execution_count": null,
      "outputs": []
    },
    {
      "cell_type": "markdown",
      "metadata": {
        "id": "II16XuVKTqHy"
      },
      "source": [
        "## 5. 연관분석\n",
        "- 연관규칙 분석 association rule analysis ARA 은 항목들 관계를 if-then 형식으로 찾아나가는 분석 방법\n",
        "- 일종의 규칙 학습 학습 방법\n",
        "- 마케팅에서 고객들의 상품 구매 데이터를 이용하여 품목 간의 연관성을 알아보는, 장바구니 분석 진행\n",
        "- item간 흥미로운 관계를 탐색할 수 있다는 장점\n",
        "\n",
        "(예시) \n",
        "\n",
        "삼겹살 - 상추 동시 구매하는 사람들이 많다는 것을 발견할 경우, 해당 내용을 기반으로 마케팅 전략을 수립할 수 있음 (1) 품목간 연관성 파악 (2) 효율적 상품 진열 선정\n"
      ]
    },
    {
      "cell_type": "markdown",
      "metadata": {
        "id": "CQA0OCM0Upi3"
      },
      "source": [
        "### 분석방법\n",
        "2.1 연관규칙 분석 측도\n",
        "- 거래내역이 존재한다 -> 구매행렬을 생성 \n",
        "#### 1. 신뢰도 confidence : x를 포함하는 거래 내역 중, y가 포함된 비율\n",
        "P(Y|X) = P(X n Y) / P(X) \n",
        "\n",
        "#### 2. 지지도 support \n",
        "-  P(X n Y) : 같이 구매한 비율, 실제로 동시에 포함하는 비율\n",
        "\n",
        "#### 3. 향상도 lift \n",
        "- 신뢰도를 계싼했더니 0.9 가 나왔다. 그러나, y 가 발생할 확률 자체가 0.9 였다\n",
        "그렇게 되면, p(Y|X) = P(Y) 가 되고, X, Y 는 독립이 되어 X, Y 관계 설명 x \n",
        "- 주어진 뀨칙이 정말 의미가 있는지 알아보기 위함\n",
        "P(Y|X) /p(Y) \n",
        "\n",
        "- 향상도 값이 1이면 X, Y 는 아무런 관계까 없다. \n",
        "- 1보다 크면 X 가 Y 발생할 확률을 X 고려하지 않았을 경우보다 증가한다는 것\n",
        "- 1보다 작으면 X 가 Y 발생할 확률을 X 고려하지 않았을 경우보다 감소, 일종의 음의 상관관계\n",
        "\n",
        "#### 4. 레버리지 leverage \n",
        "- 향상도는 X 와 Y 독립여부를 판단하기 위해 P(Y|X) / p(Y) 를 이용,\n",
        "- 레버리지는 P(X n Y) - P(X)p(Y)  계산\n",
        "- 레버리지가 0에 가깝다? X, y는 독립이고 상호 연관성이 없다\n",
        "- 레버리지가 양수(= 향상도가 1보다 큰 경우) \n",
        "- 레버리지가 음수 (= 향상도가 1보다 작은 경우)\n",
        "\n",
        "### 향상도와 레버리지가 같은 역할을 하는데도 왜 별도의 측도를 도입하였을까? \n",
        "- 향상도는 비율이기에, 계산의 불안정성이 있음 (분모가 0에 가까운 작은 수일떄)\n",
        "- 반대로, 레버리지가 아주 작은 값이 나오더라도 향상도는 비율이기에 큰 값으로 볼 수 있음 \n",
        "\n",
        "\n",
        "####5. conviction 어떤 일이 생기지 않을 것\n",
        "- 규칙 X -> y 의 conviction  = P(Y 여집합) / p(Y 여집합 | X) \n",
        "- x 일때 y 여집합이 발생할 확률 중에서, y 여집합 자체의 확률\n",
        "- (질문, 조건부 확률 분에 전체 확률을 보는게 어떤 의미가 있을까? ) \n",
        "-- (블로그 글) : 1보다 크다면, x 가 주어졌을 때, Y 가 발생하지 않는 경우가,  x 를 고려하지 않았을 경우보다 작다는 것, 결국 x 가 y의 발생여부를 예측하는데 유용한 품목\n",
        "- \n",
        "- conviction = 1 -> X, y 는 상호 연관성이 없는 '독립'\n",
        "- conviction\n"
      ]
    },
    {
      "cell_type": "code",
      "metadata": {
        "id": "JSMLwyBKvNRT"
      },
      "source": [
        "# 참고 문서 : https://stackabuse.com/association-rule-mining-via-apriori-algorithm-in-python/\n",
        "# apriori algorithm 구성 3가지\n",
        "## support \n",
        "## confidentce \n",
        "## lift "
      ],
      "execution_count": null,
      "outputs": []
    },
    {
      "cell_type": "code",
      "metadata": {
        "id": "ALO36IDBvVh4"
      },
      "source": [
        "# support = B가 포함된 거래 횟수 / 전체 거래 횟수 \n",
        "# confidence 신뢰도 (a -> b) = a 와 b 동시 포함된 거래 횟수 / a가 포함된 거래 횟수 \n",
        "# lift 향상도 (a->b) = confidence(a->b) / support(b)\n"
      ],
      "execution_count": null,
      "outputs": []
    },
    {
      "cell_type": "code",
      "metadata": {
        "colab": {
          "base_uri": "https://localhost:8080/"
        },
        "id": "0O3Ir06Qv-nG",
        "outputId": "a59277b5-8c4a-4181-cd20-876b82ab0ebc"
      },
      "source": [
        "import numpy as np\n",
        "import matplotlib.pyplot as plt\n",
        "import pandas as pd\n",
        "!pip install apyori\n",
        "from apyori import apriori"
      ],
      "execution_count": null,
      "outputs": [
        {
          "output_type": "stream",
          "name": "stdout",
          "text": [
            "Collecting apyori\n",
            "  Downloading apyori-1.1.2.tar.gz (8.6 kB)\n",
            "Building wheels for collected packages: apyori\n",
            "  Building wheel for apyori (setup.py) ... \u001b[?25l\u001b[?25hdone\n",
            "  Created wheel for apyori: filename=apyori-1.1.2-py3-none-any.whl size=5974 sha256=56f6054824f5a2ca5757c6d9c6ac1baeae413fb933948426e1fe2cb8665a9cf3\n",
            "  Stored in directory: /root/.cache/pip/wheels/cb/f6/e1/57973c631d27efd1a2f375bd6a83b2a616c4021f24aab84080\n",
            "Successfully built apyori\n",
            "Installing collected packages: apyori\n",
            "Successfully installed apyori-1.1.2\n"
          ]
        }
      ]
    },
    {
      "cell_type": "code",
      "metadata": {
        "id": "lwIXvCtxwIek"
      },
      "source": [
        "store_data = pd.read_csv('/content/drive/MyDrive/ADP/store_data.csv')"
      ],
      "execution_count": null,
      "outputs": []
    },
    {
      "cell_type": "code",
      "metadata": {
        "colab": {
          "base_uri": "https://localhost:8080/",
          "height": 296
        },
        "id": "d7cezV3uwdAD",
        "outputId": "7d1bb7fc-0483-42f0-dbf3-f31a292b8ed6"
      },
      "source": [
        "store_data.head()"
      ],
      "execution_count": null,
      "outputs": [
        {
          "output_type": "execute_result",
          "data": {
            "text/html": [
              "<div>\n",
              "<style scoped>\n",
              "    .dataframe tbody tr th:only-of-type {\n",
              "        vertical-align: middle;\n",
              "    }\n",
              "\n",
              "    .dataframe tbody tr th {\n",
              "        vertical-align: top;\n",
              "    }\n",
              "\n",
              "    .dataframe thead th {\n",
              "        text-align: right;\n",
              "    }\n",
              "</style>\n",
              "<table border=\"1\" class=\"dataframe\">\n",
              "  <thead>\n",
              "    <tr style=\"text-align: right;\">\n",
              "      <th></th>\n",
              "      <th>shrimp</th>\n",
              "      <th>almonds</th>\n",
              "      <th>avocado</th>\n",
              "      <th>vegetables mix</th>\n",
              "      <th>green grapes</th>\n",
              "      <th>whole weat flour</th>\n",
              "      <th>yams</th>\n",
              "      <th>cottage cheese</th>\n",
              "      <th>energy drink</th>\n",
              "      <th>tomato juice</th>\n",
              "      <th>low fat yogurt</th>\n",
              "      <th>green tea</th>\n",
              "      <th>honey</th>\n",
              "      <th>salad</th>\n",
              "      <th>mineral water</th>\n",
              "      <th>salmon</th>\n",
              "      <th>antioxydant juice</th>\n",
              "      <th>frozen smoothie</th>\n",
              "      <th>spinach</th>\n",
              "      <th>olive oil</th>\n",
              "    </tr>\n",
              "  </thead>\n",
              "  <tbody>\n",
              "    <tr>\n",
              "      <th>0</th>\n",
              "      <td>burgers</td>\n",
              "      <td>meatballs</td>\n",
              "      <td>eggs</td>\n",
              "      <td>NaN</td>\n",
              "      <td>NaN</td>\n",
              "      <td>NaN</td>\n",
              "      <td>NaN</td>\n",
              "      <td>NaN</td>\n",
              "      <td>NaN</td>\n",
              "      <td>NaN</td>\n",
              "      <td>NaN</td>\n",
              "      <td>NaN</td>\n",
              "      <td>NaN</td>\n",
              "      <td>NaN</td>\n",
              "      <td>NaN</td>\n",
              "      <td>NaN</td>\n",
              "      <td>NaN</td>\n",
              "      <td>NaN</td>\n",
              "      <td>NaN</td>\n",
              "      <td>NaN</td>\n",
              "    </tr>\n",
              "    <tr>\n",
              "      <th>1</th>\n",
              "      <td>chutney</td>\n",
              "      <td>NaN</td>\n",
              "      <td>NaN</td>\n",
              "      <td>NaN</td>\n",
              "      <td>NaN</td>\n",
              "      <td>NaN</td>\n",
              "      <td>NaN</td>\n",
              "      <td>NaN</td>\n",
              "      <td>NaN</td>\n",
              "      <td>NaN</td>\n",
              "      <td>NaN</td>\n",
              "      <td>NaN</td>\n",
              "      <td>NaN</td>\n",
              "      <td>NaN</td>\n",
              "      <td>NaN</td>\n",
              "      <td>NaN</td>\n",
              "      <td>NaN</td>\n",
              "      <td>NaN</td>\n",
              "      <td>NaN</td>\n",
              "      <td>NaN</td>\n",
              "    </tr>\n",
              "    <tr>\n",
              "      <th>2</th>\n",
              "      <td>turkey</td>\n",
              "      <td>avocado</td>\n",
              "      <td>NaN</td>\n",
              "      <td>NaN</td>\n",
              "      <td>NaN</td>\n",
              "      <td>NaN</td>\n",
              "      <td>NaN</td>\n",
              "      <td>NaN</td>\n",
              "      <td>NaN</td>\n",
              "      <td>NaN</td>\n",
              "      <td>NaN</td>\n",
              "      <td>NaN</td>\n",
              "      <td>NaN</td>\n",
              "      <td>NaN</td>\n",
              "      <td>NaN</td>\n",
              "      <td>NaN</td>\n",
              "      <td>NaN</td>\n",
              "      <td>NaN</td>\n",
              "      <td>NaN</td>\n",
              "      <td>NaN</td>\n",
              "    </tr>\n",
              "    <tr>\n",
              "      <th>3</th>\n",
              "      <td>mineral water</td>\n",
              "      <td>milk</td>\n",
              "      <td>energy bar</td>\n",
              "      <td>whole wheat rice</td>\n",
              "      <td>green tea</td>\n",
              "      <td>NaN</td>\n",
              "      <td>NaN</td>\n",
              "      <td>NaN</td>\n",
              "      <td>NaN</td>\n",
              "      <td>NaN</td>\n",
              "      <td>NaN</td>\n",
              "      <td>NaN</td>\n",
              "      <td>NaN</td>\n",
              "      <td>NaN</td>\n",
              "      <td>NaN</td>\n",
              "      <td>NaN</td>\n",
              "      <td>NaN</td>\n",
              "      <td>NaN</td>\n",
              "      <td>NaN</td>\n",
              "      <td>NaN</td>\n",
              "    </tr>\n",
              "    <tr>\n",
              "      <th>4</th>\n",
              "      <td>low fat yogurt</td>\n",
              "      <td>NaN</td>\n",
              "      <td>NaN</td>\n",
              "      <td>NaN</td>\n",
              "      <td>NaN</td>\n",
              "      <td>NaN</td>\n",
              "      <td>NaN</td>\n",
              "      <td>NaN</td>\n",
              "      <td>NaN</td>\n",
              "      <td>NaN</td>\n",
              "      <td>NaN</td>\n",
              "      <td>NaN</td>\n",
              "      <td>NaN</td>\n",
              "      <td>NaN</td>\n",
              "      <td>NaN</td>\n",
              "      <td>NaN</td>\n",
              "      <td>NaN</td>\n",
              "      <td>NaN</td>\n",
              "      <td>NaN</td>\n",
              "      <td>NaN</td>\n",
              "    </tr>\n",
              "  </tbody>\n",
              "</table>\n",
              "</div>"
            ],
            "text/plain": [
              "           shrimp    almonds     avocado  ... frozen smoothie spinach olive oil\n",
              "0         burgers  meatballs        eggs  ...             NaN     NaN       NaN\n",
              "1         chutney        NaN         NaN  ...             NaN     NaN       NaN\n",
              "2          turkey    avocado         NaN  ...             NaN     NaN       NaN\n",
              "3   mineral water       milk  energy bar  ...             NaN     NaN       NaN\n",
              "4  low fat yogurt        NaN         NaN  ...             NaN     NaN       NaN\n",
              "\n",
              "[5 rows x 20 columns]"
            ]
          },
          "metadata": {},
          "execution_count": 6
        }
      ]
    },
    {
      "cell_type": "code",
      "metadata": {
        "id": "PZ0pr4kuxlCM"
      },
      "source": [
        "# apriori library 는 리스트 형태의 데이터로 구성되어야 하고,\n",
        "# 전체와 일부 데이터셋을 각각 구성할 수 있어야 한다"
      ],
      "execution_count": null,
      "outputs": []
    },
    {
      "cell_type": "code",
      "metadata": {
        "colab": {
          "base_uri": "https://localhost:8080/"
        },
        "id": "yCYXS5-Oyhps",
        "outputId": "3f9c86e1-0e0a-4226-960e-2c4cdac861c5"
      },
      "source": [
        "store_data.shape"
      ],
      "execution_count": null,
      "outputs": [
        {
          "output_type": "execute_result",
          "data": {
            "text/plain": [
              "(7500, 20)"
            ]
          },
          "metadata": {},
          "execution_count": 10
        }
      ]
    },
    {
      "cell_type": "code",
      "metadata": {
        "colab": {
          "base_uri": "https://localhost:8080/"
        },
        "id": "KrBbmH-cyl2G",
        "outputId": "4bfc0f50-91e9-4cc8-bd7a-bffbab23f834"
      },
      "source": [
        "len([i for i in range(0, 7501)])"
      ],
      "execution_count": null,
      "outputs": [
        {
          "output_type": "execute_result",
          "data": {
            "text/plain": [
              "7501"
            ]
          },
          "metadata": {},
          "execution_count": 11
        }
      ]
    },
    {
      "cell_type": "code",
      "metadata": {
        "colab": {
          "base_uri": "https://localhost:8080/"
        },
        "id": "IlIRPzGpweRv",
        "outputId": "f0cfc21c-8b6a-4a1f-af20-d92f1e7a06ea"
      },
      "source": [
        "from tqdm import tqdm\n",
        "records = []\n",
        "for i in tqdm(range(0, 7500)):\n",
        "    records.append([str(store_data.values[i,j]) for j in range(0, 20)])"
      ],
      "execution_count": null,
      "outputs": [
        {
          "output_type": "stream",
          "name": "stderr",
          "text": [
            "100%|██████████| 7500/7500 [04:37<00:00, 26.99it/s]\n"
          ]
        }
      ]
    },
    {
      "cell_type": "code",
      "metadata": {
        "colab": {
          "base_uri": "https://localhost:8080/"
        },
        "id": "zDLiFBJkxR4c",
        "outputId": "66ac2799-cbf7-4b94-8aaa-47c5b803320c"
      },
      "source": [
        "len(records) # apriori에 적용 가능한 데이터셋 만들기"
      ],
      "execution_count": null,
      "outputs": [
        {
          "output_type": "execute_result",
          "data": {
            "text/plain": [
              "7500"
            ]
          },
          "metadata": {},
          "execution_count": 13
        }
      ]
    },
    {
      "cell_type": "code",
      "metadata": {
        "id": "SCd9lewvxUUZ"
      },
      "source": [
        "# apriori 클래스\n",
        "# min_support : 최소 지지도\n",
        "# min_confidence : 최소 신뢰도\n",
        "# min_lift 최소 향상도\n",
        "# min_length 아이템 최소 갯수"
      ],
      "execution_count": null,
      "outputs": []
    },
    {
      "cell_type": "code",
      "metadata": {
        "id": "sCYjWw4LyK3Y"
      },
      "source": [
        "# 만약 우리가 분석하기로 한 상품이 하루에 5번 이상, 일주 35회 이상이라고 해보자\n",
        "# 35 / 7500 = 0.0045, 전체 transaction 중에서 일주일에 35번 이상 한 경우를 지지도\n",
        "# 0.2 나 20% 를 일반적인 지지도로 삼음\n",
        "# 향상도는 2"
      ],
      "execution_count": null,
      "outputs": []
    },
    {
      "cell_type": "code",
      "metadata": {
        "id": "p-BSFqNNyKvR"
      },
      "source": [
        "\n",
        "association_rules = apriori(records, min_support = 0.0045,\n",
        "                           min_confidence = 0.2,\n",
        "                           min_lift = 3,\n",
        "                           min_length = 2)\n",
        "\n",
        "association_results = list(association_rules)\n",
        "\n",
        "# 위와 같은 조건을 모두 만족하는 경우를 결과로 뽑아냄"
      ],
      "execution_count": null,
      "outputs": []
    },
    {
      "cell_type": "code",
      "metadata": {
        "colab": {
          "base_uri": "https://localhost:8080/"
        },
        "id": "igtfGHWly2Zr",
        "outputId": "e329b139-b8c6-46f2-f974-347a8b8ff600"
      },
      "source": [
        "# 결과를 확인하기 \n",
        "print(len(association_results)) \n",
        "# 위의 조건을 만족하는 경우가 48개\n",
        "# 각각 한개씩 살펴보자"
      ],
      "execution_count": null,
      "outputs": [
        {
          "output_type": "stream",
          "name": "stdout",
          "text": [
            "48\n"
          ]
        }
      ]
    },
    {
      "cell_type": "code",
      "metadata": {
        "colab": {
          "base_uri": "https://localhost:8080/"
        },
        "id": "NgZA5r_yzrPN",
        "outputId": "45e60c71-4bdd-4289-fe21-a0ac42d728c6"
      },
      "source": [
        "association_results[0]\n",
        "#items=frozenset({'light cream', 'chicken'}),\n",
        "# support=0.004533333333333334,\n",
        "# ordered_statistics=[OrderedStatistic(items_base=frozenset({'light cream'}), \n",
        "# items_add=frozenset({'chicken'}), \n",
        " \n",
        "# 처음으로 보이는 light cream 과 chicken 의 경우 지지도가 0.0045\n",
        "# 이 뜻은 전체 중에서 light cream 을 포함하는 모든 거래횟수를 나눈 것\n",
        "# 신뢰도의 경우, 0.2905인데, 이건 치킨을 포함하는 값\n",
        "# 향상도의 경우, 4.84로 확인되는데, 이는 향상도를 의미하며, light cream만 샀을때 대비하여 chicken 과 같이 구매하는 횟수의 비중을 의미함                                                                                                               #confidence=0.2905982905982906, lift=4.843304843304844)])"
      ],
      "execution_count": null,
      "outputs": [
        {
          "output_type": "execute_result",
          "data": {
            "text/plain": [
              "RelationRecord(items=frozenset({'light cream', 'chicken'}), support=0.004533333333333334, ordered_statistics=[OrderedStatistic(items_base=frozenset({'light cream'}), items_add=frozenset({'chicken'}), confidence=0.2905982905982906, lift=4.843304843304844)])"
            ]
          },
          "metadata": {},
          "execution_count": 21
        }
      ]
    },
    {
      "cell_type": "code",
      "metadata": {
        "colab": {
          "base_uri": "https://localhost:8080/"
        },
        "id": "yOqQZ5TEz3fB",
        "outputId": "f86b261b-891e-4ed0-f693-d904ddd33bbc"
      },
      "source": [
        "# 조금\n",
        "for item in association_results:\n",
        "    pair = item[0] \n",
        "    items = [ x for x in pair]\n",
        "    print('rule: ' + items[0] + ' -> ' + items[1]) # 이 부분이 새로운 아이템을 한개씩 더하는 것\n",
        "    print('support: ' + str(item[1])  ) # 2번째 index 값을 가져옴\n",
        "    print('confidence ' + str(item[2][0][2]))\n",
        "    print('lift: ' + str(item[2][0][3]))\n",
        "    print(\"=====================================\")\n"
      ],
      "execution_count": null,
      "outputs": [
        {
          "output_type": "stream",
          "name": "stdout",
          "text": [
            "rule: light cream->chicken\n",
            "support: 0.004533333333333334\n",
            "confidence 0.2905982905982906\n",
            "lift: 4.843304843304844\n",
            "=====================================\n",
            "rule: mushroom cream sauce->escalope\n",
            "support: 0.005733333333333333\n",
            "confidence 0.30069930069930073\n",
            "lift: 3.7903273197390845\n",
            "=====================================\n",
            "rule: escalope->pasta\n",
            "support: 0.005866666666666667\n",
            "confidence 0.37288135593220345\n",
            "lift: 4.700185158809287\n",
            "=====================================\n",
            "rule: ground beef->herb & pepper\n",
            "support: 0.016\n",
            "confidence 0.3234501347708895\n",
            "lift: 3.2915549671393096\n",
            "=====================================\n",
            "rule: ground beef->tomato sauce\n",
            "support: 0.005333333333333333\n",
            "confidence 0.37735849056603776\n",
            "lift: 3.840147461662528\n",
            "=====================================\n",
            "rule: olive oil->whole wheat pasta\n",
            "support: 0.008\n",
            "confidence 0.2714932126696833\n",
            "lift: 4.130221288078346\n",
            "=====================================\n",
            "rule: shrimp->pasta\n",
            "support: 0.005066666666666666\n",
            "confidence 0.3220338983050848\n",
            "lift: 4.514493901473151\n",
            "=====================================\n",
            "rule: light cream->chicken\n",
            "support: 0.004533333333333334\n",
            "confidence 0.2905982905982906\n",
            "lift: 4.843304843304844\n",
            "=====================================\n",
            "rule: shrimp->chocolate\n",
            "support: 0.005333333333333333\n",
            "confidence 0.23255813953488372\n",
            "lift: 3.260160834601174\n",
            "=====================================\n",
            "rule: cooking oil->ground beef\n",
            "support: 0.0048\n",
            "confidence 0.5714285714285714\n",
            "lift: 3.281557646029315\n",
            "=====================================\n",
            "rule: mushroom cream sauce->escalope\n",
            "support: 0.005733333333333333\n",
            "confidence 0.30069930069930073\n",
            "lift: 3.7903273197390845\n",
            "=====================================\n",
            "rule: escalope->pasta\n",
            "support: 0.005866666666666667\n",
            "confidence 0.37288135593220345\n",
            "lift: 4.700185158809287\n",
            "=====================================\n",
            "rule: frozen vegetables->ground beef\n",
            "support: 0.008666666666666666\n",
            "confidence 0.3110047846889952\n",
            "lift: 3.164906221394116\n",
            "=====================================\n",
            "rule: frozen vegetables->olive oil\n",
            "support: 0.0048\n",
            "confidence 0.20338983050847456\n",
            "lift: 3.094165778526489\n",
            "=====================================\n",
            "rule: frozen vegetables->shrimp\n",
            "support: 0.0072\n",
            "confidence 0.3068181818181818\n",
            "lift: 3.2183725365543547\n",
            "=====================================\n",
            "rule: frozen vegetables->spaghetti\n",
            "support: 0.005733333333333333\n",
            "confidence 0.20574162679425836\n",
            "lift: 3.1299436124887174\n",
            "=====================================\n",
            "rule: frozen vegetables->shrimp\n",
            "support: 0.006\n",
            "confidence 0.21531100478468898\n",
            "lift: 3.0183785717479763\n",
            "=====================================\n",
            "rule: tomatoes->frozen vegetables\n",
            "support: 0.006666666666666667\n",
            "confidence 0.23923444976076555\n",
            "lift: 3.497579674864993\n",
            "=====================================\n",
            "rule: ground beef->grated cheese\n",
            "support: 0.005333333333333333\n",
            "confidence 0.3225806451612903\n",
            "lift: 3.282706701098612\n",
            "=====================================\n",
            "rule: mineral water->ground beef\n",
            "support: 0.006666666666666667\n",
            "confidence 0.390625\n",
            "lift: 3.975152645861601\n",
            "=====================================\n",
            "rule: ground beef->nan\n",
            "support: 0.016\n",
            "confidence 0.3234501347708895\n",
            "lift: 3.2915549671393096\n",
            "=====================================\n",
            "rule: ground beef->spaghetti\n",
            "support: 0.0064\n",
            "confidence 0.3934426229508197\n",
            "lift: 4.003825878061259\n",
            "=====================================\n",
            "rule: ground beef->olive oil\n",
            "support: 0.004933333333333333\n",
            "confidence 0.22424242424242424\n",
            "lift: 3.411395906324912\n",
            "=====================================\n",
            "rule: ground beef->tomato sauce\n",
            "support: 0.005333333333333333\n",
            "confidence 0.37735849056603776\n",
            "lift: 3.840147461662528\n",
            "=====================================\n",
            "rule: shrimp->ground beef\n",
            "support: 0.006\n",
            "confidence 0.5232558139534884\n",
            "lift: 3.004914704939635\n",
            "=====================================\n",
            "rule: spaghetti->olive oil\n",
            "support: 0.0072\n",
            "confidence 0.20300751879699247\n",
            "lift: 3.0883496774390333\n",
            "=====================================\n",
            "rule: soup->olive oil\n",
            "support: 0.0052\n",
            "confidence 0.2254335260115607\n",
            "lift: 3.4295161157945335\n",
            "=====================================\n",
            "rule: olive oil->whole wheat pasta\n",
            "support: 0.008\n",
            "confidence 0.2714932126696833\n",
            "lift: 4.130221288078346\n",
            "=====================================\n",
            "rule: pasta->shrimp\n",
            "support: 0.005066666666666666\n",
            "confidence 0.3220338983050848\n",
            "lift: 4.514493901473151\n",
            "=====================================\n",
            "rule: pancakes->spaghetti\n",
            "support: 0.005066666666666666\n",
            "confidence 0.20105820105820105\n",
            "lift: 3.0586947422647217\n",
            "=====================================\n",
            "rule: shrimp->chocolate\n",
            "support: 0.005333333333333333\n",
            "confidence 0.23255813953488372\n",
            "lift: 3.260160834601174\n",
            "=====================================\n",
            "rule: cooking oil->ground beef\n",
            "support: 0.0048\n",
            "confidence 0.5714285714285714\n",
            "lift: 3.281557646029315\n",
            "=====================================\n",
            "rule: frozen vegetables->ground beef\n",
            "support: 0.008666666666666666\n",
            "confidence 0.3110047846889952\n",
            "lift: 3.164906221394116\n",
            "=====================================\n",
            "rule: frozen vegetables->spaghetti\n",
            "support: 0.004533333333333334\n",
            "confidence 0.28813559322033905\n",
            "lift: 3.0224013274860737\n",
            "=====================================\n",
            "rule: frozen vegetables->olive oil\n",
            "support: 0.0048\n",
            "confidence 0.20338983050847456\n",
            "lift: 3.094165778526489\n",
            "=====================================\n",
            "rule: frozen vegetables->shrimp\n",
            "support: 0.0072\n",
            "confidence 0.3068181818181818\n",
            "lift: 3.2183725365543547\n",
            "=====================================\n",
            "rule: frozen vegetables->spaghetti\n",
            "support: 0.005733333333333333\n",
            "confidence 0.20574162679425836\n",
            "lift: 3.1299436124887174\n",
            "=====================================\n",
            "rule: frozen vegetables->shrimp\n",
            "support: 0.006\n",
            "confidence 0.21531100478468898\n",
            "lift: 3.0183785717479763\n",
            "=====================================\n",
            "rule: tomatoes->frozen vegetables\n",
            "support: 0.006666666666666667\n",
            "confidence 0.23923444976076555\n",
            "lift: 3.497579674864993\n",
            "=====================================\n",
            "rule: ground beef->grated cheese\n",
            "support: 0.005333333333333333\n",
            "confidence 0.3225806451612903\n",
            "lift: 3.282706701098612\n",
            "=====================================\n",
            "rule: mineral water->ground beef\n",
            "support: 0.006666666666666667\n",
            "confidence 0.390625\n",
            "lift: 3.975152645861601\n",
            "=====================================\n",
            "rule: ground beef->nan\n",
            "support: 0.0064\n",
            "confidence 0.3934426229508197\n",
            "lift: 4.003825878061259\n",
            "=====================================\n",
            "rule: ground beef->olive oil\n",
            "support: 0.004933333333333333\n",
            "confidence 0.22424242424242424\n",
            "lift: 3.411395906324912\n",
            "=====================================\n",
            "rule: shrimp->ground beef\n",
            "support: 0.006\n",
            "confidence 0.5232558139534884\n",
            "lift: 3.004914704939635\n",
            "=====================================\n",
            "rule: spaghetti->olive oil\n",
            "support: 0.0072\n",
            "confidence 0.20300751879699247\n",
            "lift: 3.0883496774390333\n",
            "=====================================\n",
            "rule: soup->nan\n",
            "support: 0.0052\n",
            "confidence 0.2254335260115607\n",
            "lift: 3.4295161157945335\n",
            "=====================================\n",
            "rule: pancakes->spaghetti\n",
            "support: 0.005066666666666666\n",
            "confidence 0.20105820105820105\n",
            "lift: 3.0586947422647217\n",
            "=====================================\n",
            "rule: frozen vegetables->milk\n",
            "support: 0.004533333333333334\n",
            "confidence 0.28813559322033905\n",
            "lift: 3.0224013274860737\n",
            "=====================================\n"
          ]
        }
      ]
    },
    {
      "cell_type": "markdown",
      "metadata": {
        "id": "fwME4hJfnSsB"
      },
      "source": [
        "## 5. \n"
      ]
    },
    {
      "cell_type": "markdown",
      "metadata": {
        "id": "eJbA6NER2V2I"
      },
      "source": [
        "## 6. 표본추출과 T검정\n",
        "### 1)  데이터 샘플링\n",
        "- 표분추출\n",
        "- 층화임의추출\n",
        "\n",
        "### 2) T검정\n",
        "- 일표본(단일표본) T-검정\n",
        "    - 단일모집단에서 관심이 있는 연속형 변수의 평균값을 특정기준값과 비교할 때 사용\n",
        "    - 모집단 평균과 일부 집단의 평균 비교\n",
        "    - 귀무가설 : 차이가 없음\n",
        "    - 대립가설 : 차이가 있음\n",
        "- 대응표본 T 검정\n",
        "    - 한 집단의 두 개 변수의 점수 비교\n",
        "    - 귀무가설 : 한 집단의 사전, 사후 점수 차이는 없다\n",
        "    - 대립가설 : 한집단의 사전, 사후 점수 차이가 있다\n",
        "- 독립표본 T 검정\n",
        "    - 독립적인 두 집단의 평균 비교\n",
        "    - 귀무가설 : 두 집단의 평균 차이 없음\n",
        "    - 대립가설 : 두 집단의 평균 차이 있음 \n"
      ]
    },
    {
      "cell_type": "code",
      "metadata": {
        "id": "ca5dexm91aZV"
      },
      "source": [
        "# 표본 추출\n",
        "import pandas as pd\n",
        "import numpy as np\n",
        "from sklearn.datasets import load_iris \n",
        "iris = load_iris() \n",
        "\n",
        "df = pd.DataFrame(data = iris.data, columns = iris.feature_names)\n",
        "df['target'] = iris.target"
      ],
      "execution_count": null,
      "outputs": []
    },
    {
      "cell_type": "markdown",
      "metadata": {
        "id": "cYWl8IJ69nqM"
      },
      "source": [
        "### 1) 층화 임의 추출\n",
        "- 모집단이 이질적인 몇개의 층으로 이루어져있을 떄, 모든 계층으로 원소를 임의로 추출하여 \n",
        "- 각 계층을 고루 대표할 수 있도록 랜덤하게 추출하는 방법"
      ]
    },
    {
      "cell_type": "code",
      "metadata": {
        "id": "rS6GX7O64VOU"
      },
      "source": [
        "# 층화 임의 추출\n",
        "# 모집단이 이질적인 몇개의 층으로 이루어져있을 떄, 모든 계층으로 원소를 임의로 추출하여 \n",
        "# 각 계층을 고루 대표할 수 있도록 랜덤하게 추출하는 방법"
      ],
      "execution_count": null,
      "outputs": []
    },
    {
      "cell_type": "code",
      "metadata": {
        "id": "YZs79JFP4dhZ"
      },
      "source": [
        "from sklearn.model_selection import train_test_split  \n",
        "X_train, X_test, y_train, y_test = \\\n",
        "train_test_split(iris.data, \n",
        "                 iris.target,\n",
        "                 test_size = 0.2,\n",
        "                 stratify = iris.target,\n",
        "                 random_state = 1204)"
      ],
      "execution_count": null,
      "outputs": []
    },
    {
      "cell_type": "code",
      "metadata": {
        "id": "tOiTgMeh4o_C"
      },
      "source": [
        "# t검정, 단일표본 검정 : 모집단의 평균값과, 특정 기준값 간에 차이를 보이나? 라는 궁금증에서 시작\n",
        "# 귀무가설 : 차이가 없다, 평균값과 같다\n",
        "# 대립가설 : 차이가 있다, 평균값과 엄연히 다르지!\n",
        "## 예시\n",
        "## 귀무가설 : 중학생의 점수 평균값은 3이다\n",
        "## 대립가설 : 중학생의 점수 평균값은 3이 아니다\n",
        "\n",
        "### 기본 가정사항 :\n",
        "### 정규성 : 독립변수에 따른 종속변수는 정규분포를 만족해야 한다\n",
        "### 정규성은 일반적으로 범주별 30개 이상의 데이터셋이 있다면, 중심극한정리에 의해 정규성이 만족된다고 이야기 한다 \n"
      ],
      "execution_count": null,
      "outputs": []
    },
    {
      "cell_type": "code",
      "metadata": {
        "id": "3itZy0ST49wi"
      },
      "source": [
        "# 정규성 검정 - 우선 정규성을 만족하는지 부터 확인\n",
        "# 정규성은 샤피로 검증을 통해 확인 가능하다 \n",
        "from scipy.stats import shapiro \n",
        "mu = 25\n",
        "data = [35, 40, 12, 15, 21, 14, 46, 10, 28, 48, 16, 30, 32, 48, 31, 22, 12, 39, 19, 25]"
      ],
      "execution_count": null,
      "outputs": []
    },
    {
      "cell_type": "code",
      "metadata": {
        "colab": {
          "base_uri": "https://localhost:8080/"
        },
        "id": "hgKNZZEs5vZK",
        "outputId": "c8cdd861-fd5c-4b93-d9a4-7252697e4912"
      },
      "source": [
        "shapiro(data) # 이때 pvalue 가 0.05 보다 크다\n",
        "# 샤피로검정의 귀무가설 : 정규성을 만족한다 / 대립가설 : 정규성을 만족하지 않는다\n",
        "# 결국, 0.18 인 pvalue 값으로 인해 귀무가설을 기각하지 못하고, 채택한다\n",
        "# 다시 말해서, 해당 값은 정규성을 만족한다고 볼 수 있다\n",
        "# 계속 진행해보자!"
      ],
      "execution_count": null,
      "outputs": [
        {
          "output_type": "execute_result",
          "data": {
            "text/plain": [
              "(0.9335052371025085, 0.1803210973739624)"
            ]
          },
          "metadata": {},
          "execution_count": 33
        }
      ]
    },
    {
      "cell_type": "code",
      "metadata": {
        "colab": {
          "base_uri": "https://localhost:8080/"
        },
        "id": "8fhAheD75woH",
        "outputId": "d3de4b57-abed-4601-905f-0d79d3b05f69"
      },
      "source": [
        "print(len(data) - 1) # 자유도"
      ],
      "execution_count": null,
      "outputs": [
        {
          "output_type": "stream",
          "name": "stdout",
          "text": [
            "19\n"
          ]
        }
      ]
    },
    {
      "cell_type": "code",
      "metadata": {
        "colab": {
          "base_uri": "https://localhost:8080/"
        },
        "id": "XoGKGmz45xms",
        "outputId": "ef969fc3-f62d-40ed-8945-38c723c3f723"
      },
      "source": [
        "from scipy.stats import ttest_1samp \n",
        "ttest_1samp(data, mu)\n",
        "# 단일검정 시작하였을 때, p_value 0.45 로서 0.05 보다 크기 때문에 귀무가설을 기각하지 못한다\n",
        "# 평균과 같다, 라는 귀무가설 그대로 가져간다"
      ],
      "execution_count": null,
      "outputs": [
        {
          "output_type": "execute_result",
          "data": {
            "text/plain": [
              "Ttest_1sampResult(statistic=0.7687155636314738, pvalue=0.4515123595472501)"
            ]
          },
          "metadata": {},
          "execution_count": 36
        }
      ]
    },
    {
      "cell_type": "markdown",
      "metadata": {
        "id": "O8oCIC9U9gy_"
      },
      "source": [
        "### 2) 대응표본 T-검정 paired t-test \n",
        "- 하나의 샘플에서 전과 후를 비교하는 것\n",
        "- 실험 이전의 집단과, 실험 이후의 집단이 동일한 집단인 경우 사용\n",
        "- 한 개인이 서로 다른 두 조건에서 짝을 지어 한 쌍이 연구대상이 되는 경우의 분석방법\n",
        "- 모집단은 1개다, 다이어트 전후 1명의 몸무게를 1쌍으로 두고 진행하는 경우\n",
        "- 이때도 정규성을 만족해야 하는 것 "
      ]
    },
    {
      "cell_type": "code",
      "metadata": {
        "colab": {
          "base_uri": "https://localhost:8080/",
          "height": 404
        },
        "id": "p7j_w6ct7qNA",
        "outputId": "54a7fa86-4ae5-483d-ee9a-1514816b3e05"
      },
      "source": [
        "x1= [.430, .266, .567, .531, .707, .716, .651, .589, .469, .723]\n",
        "x2= [.415, .238, .390, .410, .605, .609, .632, .523, .411, .612]\n",
        "\n",
        "import matplotlib.pyplot as plt\n",
        "%matplotlib inline\n",
        "\n",
        "plt.figure(figsize = (6, 6))\n",
        "plt.grid()\n",
        "plt.boxplot([x1, x2])\n",
        "plt.xlabel('when')\n",
        "plt.ylabel('score')\n",
        "plt.title('box plot')\n",
        "plt.grid()\n",
        "plt.show()"
      ],
      "execution_count": null,
      "outputs": [
        {
          "output_type": "display_data",
          "data": {
            "image/png": "[encoded data removed]",
            "text/plain": [
              "<Figure size 432x432 with 1 Axes>"
            ]
          },
          "metadata": {
            "needs_background": "light"
          }
        }
      ]
    },
    {
      "cell_type": "code",
      "metadata": {
        "colab": {
          "base_uri": "https://localhost:8080/"
        },
        "id": "TFggl2dF8aUD",
        "outputId": "4c589514-04ac-4018-f4c6-d26b3971efb1"
      },
      "source": [
        "# 정규성 검사\n",
        "from scipy.stats import shapiro \n",
        "\n",
        "normal1 = shapiro(x1)\n",
        "normal2 = shapiro(x2) \n",
        "print(normal1, normal2)\n",
        "# 두 모집단의 p-value 모두 0.05 보다 크다\n",
        "# 귀무가설인 '정규성을 만족한다' 를 가설할 수 없다\n",
        "# 때문에 샤피로 검정을 통해 정규성을 획득했다고 볼 수 있다"
      ],
      "execution_count": null,
      "outputs": [
        {
          "output_type": "stream",
          "name": "stdout",
          "text": [
            "(0.9223615527153015, 0.3770734369754791) (0.8827136754989624, 0.14017775654792786)\n"
          ]
        }
      ]
    },
    {
      "cell_type": "code",
      "metadata": {
        "colab": {
          "base_uri": "https://localhost:8080/"
        },
        "id": "mcz1CS7x8kII",
        "outputId": "e7018e4b-0135-4dd1-cd7e-b60aca9c8ee0"
      },
      "source": [
        "#등분산성 구하기(levene test)\n",
        "\n",
        "from scipy.stats import levene \n",
        "\n",
        "levene(x1, x2)"
      ],
      "execution_count": null,
      "outputs": [
        {
          "output_type": "execute_result",
          "data": {
            "text/plain": [
              "LeveneResult(statistic=0.00031724210860253736, pvalue=0.9859853433842356)"
            ]
          },
          "metadata": {},
          "execution_count": 40
        }
      ]
    },
    {
      "cell_type": "code",
      "metadata": {
        "colab": {
          "base_uri": "https://localhost:8080/"
        },
        "id": "0SUCGx4781ZM",
        "outputId": "437bf176-2bd4-44b0-e14f-276a254f508d"
      },
      "source": [
        "# 또 다른 등분산성 구하기\n",
        "from scipy.stats import bartlett \n",
        "bartlett(x1, x2)  # 이 경우에도 pvalue 가 0.5 보다 크면서, 귀무가설을 기각할 수 없게 되었다"
      ],
      "execution_count": null,
      "outputs": [
        {
          "output_type": "execute_result",
          "data": {
            "text/plain": [
              "BartlettResult(statistic=0.10672524785997134, pvalue=0.7439036474889935)"
            ]
          },
          "metadata": {},
          "execution_count": 41
        }
      ]
    },
    {
      "cell_type": "code",
      "metadata": {
        "colab": {
          "base_uri": "https://localhost:8080/"
        },
        "id": "o7YHXhOe8-ST",
        "outputId": "e4c7b9fe-f6b0-4b58-a7e8-1e5279a10a8b"
      },
      "source": [
        "# 대응표본 t 검정\n",
        "from scipy.stats import ttest_rel \n",
        "\n",
        "ttest_rel(x1, x2 ) \n",
        "# pvalue 값이 0.05에 미치치 않을 정도로 작은 금액, 귀무가설 기각\n",
        "# 두 그룹차이는 통계적으로 유의하다 \n",
        "# = >두 그룹차이는 존재하고, 통계적으로도 의미가 있다고 판단한다"
      ],
      "execution_count": null,
      "outputs": [
        {
          "output_type": "execute_result",
          "data": {
            "text/plain": [
              "Ttest_relResult(statistic=4.863812745135183, pvalue=0.0008911154578225479)"
            ]
          },
          "metadata": {},
          "execution_count": 43
        }
      ]
    },
    {
      "cell_type": "markdown",
      "metadata": {
        "id": "RJZrL9jH9wQR"
      },
      "source": [
        "### 3) 독립표본 T검정\n",
        "- 분석하고자 하는 변수가 연령, 혈압등의 연속변수 (평균과 표준편차로 요약될 수 있는 형태의 자료)\n",
        "- 두 집단 간 평균의 차이를 비교\n",
        "\n",
        "<기본 가정사항>\n",
        "- 독립성 : 독립변수의 그룹군은 서로 독립적\n",
        "- 정규성 : 독립변수에 따른 종속변수는 정규분포를 만족해야 함\n",
        "- 등분산성 : 독립변수에 따른 종속변수 분산은 군마다 동일 (levene 의 등분산검정)\n",
        "\n",
        "- 귀무가설 : A 집단과 B 집단의 n 이라는 통계값은 차이가 없을 것이다\n",
        "- 대립가설 : A 집단과 B 집단의 n 이라는 통계값은 차이가 있을 것이다"
      ]
    },
    {
      "cell_type": "code",
      "metadata": {
        "id": "EG6PjqXJ9JDL"
      },
      "source": [
        "from sklearn.datasets import load_iris \n",
        "iris = load_iris() \n",
        "\n",
        "df = pd.DataFrame(data = iris.data, columns = iris.feature_names)\n",
        "df['target'] = iris.target \n",
        "\n",
        "x1 = np.array(df.iloc[:, 0][0: 50])\n",
        "x2 = np.array(df.iloc[:, 0][50:100])"
      ],
      "execution_count": null,
      "outputs": []
    },
    {
      "cell_type": "code",
      "metadata": {
        "colab": {
          "base_uri": "https://localhost:8080/",
          "height": 404
        },
        "id": "zuplry8l_P-X",
        "outputId": "9711c194-6251-4023-c6a4-4bd30de851e3"
      },
      "source": [
        "import matplotlib.pyplot as plt \n",
        "%matplotlib inline\n",
        "plt.figure(figsize = (6, 6))\n",
        "plt.grid() \n",
        "plt.boxplot([x1, x2])\n",
        "plt.xlabel('species')\n",
        "plt.ylabel('sepal')\n",
        "plt.title('iris box plt')\n",
        "\n",
        "plt.show()"
      ],
      "execution_count": null,
      "outputs": [
        {
          "output_type": "display_data",
          "data": {
            "image/png": "[encoded data removed]",
            "text/plain": [
              "<Figure size 432x432 with 1 Axes>"
            ]
          },
          "metadata": {
            "needs_background": "light"
          }
        }
      ]
    },
    {
      "cell_type": "code",
      "metadata": {
        "colab": {
          "base_uri": "https://localhost:8080/"
        },
        "id": "OaMtO_To_ha8",
        "outputId": "7eeb5dea-ea33-4ba5-a946-d96d6a398132"
      },
      "source": [
        "# 정규성 검정 \n",
        "normal1 = shapiro(x1)\n",
        "normal2 = shapiro(x2) \n",
        "\n",
        "print(normal1, normal2) # 두 값다 pvalue 가 0.05를 넘어섬\n",
        "# 해당 값은 귀무가설을 기각하지 못한다\n",
        "# 때문에 정규성을 가진다고 말할 수 있다"
      ],
      "execution_count": null,
      "outputs": [
        {
          "output_type": "stream",
          "name": "stdout",
          "text": [
            "(0.9776989221572876, 0.4595281183719635) (0.9778355956077576, 0.46473264694213867)\n"
          ]
        }
      ]
    },
    {
      "cell_type": "code",
      "metadata": {
        "colab": {
          "base_uri": "https://localhost:8080/"
        },
        "id": "N-4hsNVH_pGo",
        "outputId": "c38ff1c3-5643-4014-d2be-fe3cecad0eec"
      },
      "source": [
        "# 등분산성 검정 levene, ttest_ind, bartlett \n",
        "from scipy.stats import levene, ttest_ind, bartlett \n",
        "levene(x1, x2) #두번다 0.05보다 작으므로 귀무가설 기각 => 등분산성을 만족못함"
      ],
      "execution_count": null,
      "outputs": [
        {
          "output_type": "execute_result",
          "data": {
            "text/plain": [
              "LeveneResult(statistic=8.172720533728683, pvalue=0.005195521631017526)"
            ]
          },
          "metadata": {},
          "execution_count": 48
        }
      ]
    },
    {
      "cell_type": "code",
      "metadata": {
        "colab": {
          "base_uri": "https://localhost:8080/"
        },
        "id": "1YAsLKro_7vm",
        "outputId": "8fcfe488-24ed-4451-cda7-426cdcac72ff"
      },
      "source": [
        "bartlett(x1, x2)"
      ],
      "execution_count": null,
      "outputs": [
        {
          "output_type": "execute_result",
          "data": {
            "text/plain": [
              "BartlettResult(statistic=6.891726740802407, pvalue=0.008659557933880048)"
            ]
          },
          "metadata": {},
          "execution_count": 49
        }
      ]
    },
    {
      "cell_type": "code",
      "metadata": {
        "colab": {
          "base_uri": "https://localhost:8080/"
        },
        "id": "_BzCIYTZ_9YU",
        "outputId": "1913efa3-2be3-46fc-8d72-71791f4de8d5"
      },
      "source": [
        "# 등분산성을 만족하지 못한다면? 독립t 검정을 수행\n",
        "ttest_ind(x1, x2, equal_var = False) \n",
        "# 결과, 통계량 옆 pvalue 가 0.05 보다 작기 때문에, \n",
        "# 귀무가설 기각할 수 있다\n",
        "# 두 집단은 통계적으로 유의한 차이를 보인다고 말할 수 있다"
      ],
      "execution_count": null,
      "outputs": [
        {
          "output_type": "execute_result",
          "data": {
            "text/plain": [
              "Ttest_indResult(statistic=-10.52098626754911, pvalue=3.746742613983842e-17)"
            ]
          },
          "metadata": {},
          "execution_count": 51
        }
      ]
    },
    {
      "cell_type": "markdown",
      "metadata": {
        "id": "61fzfAPgA46l"
      },
      "source": [
        "## 7. 탐색적요인분석, 주성분분석\n",
        "### 1) 탐색적 요인분석 FA\n",
        "- 다수 변수들을 변수들 간의 관계를 분석하여 공통 차원들을 통해 축약\n",
        "- 정보 손실을 최소화하면서 소수의 요인으로 축약\n",
        "- 독립변수 / 종속변수 개념 없음\n",
        "\n",
        "### 2) 주성분분석 PCA\n",
        "### 3) 차원축소법"
      ]
    },
    {
      "cell_type": "markdown",
      "metadata": {
        "id": "GLE4ybwzBEjr"
      },
      "source": [
        "### 1) 탐색적 요인 분석\n",
        "- 요인분석 FA 는 관찰된 변수 집합에서 영향력 있는 기본 요인 및 잠재 변수를 검색하는데 사용\n",
        "- 변수 수를 줄임\n",
        "- 모든 변수에서 최대 공분산을 추출\n",
        "- 요인분석을 진행하면, 가격에 민감한 고객을 식별하고, 소비자 선택에 영향을 미치는 브랜드 기능을 식별 가능\n",
        "\n",
        "#### 전제 조건\n",
        "1. 등간척도, 정규분포, 관찰치가 상호 독립적,분산 동일\n",
        "2. 모상관 행렬이 단위 행렬이라는 가설이 기각되어야 함 (KMO, bartleet 검정)\n",
        "3. 최초 요인 추출 단계에서 얻은 고유치를 scree chart 로 표현시, 한 군데 이상 꺾이는 것\n",
        "4. 변수 간 높은 상관관계가 있어야 한다 ( 질문, 다중공선성에 대한 우려같은건 안해도 되는가_)\n",
        "\n",
        "#### 탐색적 요인 분석 방법\n",
        "1. 변수간의 상관행렬로부터 공통요인을 도출\n",
        "2. 도출된 공통요인을 이용해서 변수간의 상관관계를 설명\n",
        "3. 요인 부하량 factor loading 은 +- 0.3 이상이면 유의\n",
        "\n",
        "#### 탐색적 요인 분석의 목적\n",
        "1. 자료의 요약 : 변수들을 몇개의 공통적 변인으로 묶음\n",
        "2. 측정항목 타당성 검정 : 변인들이 동일한 요인으로 묶이는지 확인, 묶이지 않는 변수는 다른 특성을 가진다고 판단\n",
        "3. 변인구조 파악 : 변수들의 상호관계를 파악\n",
        "4. 불필요한 변인 제거 : 중요도나 설명력이 낮은 변수를 제거\n",
        "5. 회귀분석이나 판별분석의 설명변수 선택\n",
        "\n",
        "#### PCA(주성분분석)과의 차이점\n",
        "1. pca성분은 최대 분산량을 설명하는 반면, 요인분석은 데이터의 공분산을 설명\n",
        "2. pca 구성요소는 서로 완전히 직교하는 반면, 요인 분석에서 요인이 꼭 직교하는 것은 아님\n",
        "3. pca 성분은 관찰된 변수의 선형조합이지만, fa에서 관찰된 변수는 관찰되지 않은 또는 요인의 선형조합\n",
        "4. pca 구성요소는 해석할 수 없지만, fa에서 기본 요소는 라벨링과 해석이 가능하다\n",
        "5. pca 는 일종의 차원 감소 방법이며, 요인 분석은 잠재 변수 방법\n",
        "6. pca 는 관찰이지만 fa는 모델링 기술"
      ]
    },
    {
      "cell_type": "code",
      "metadata": {
        "colab": {
          "base_uri": "https://localhost:8080/"
        },
        "id": "oS1HVfPsA4QS",
        "outputId": "65325a1f-2943-4601-e015-827540aee8f3"
      },
      "source": [
        "# 탐색적 요인 분석 코드\n",
        "!pip install factor-analyzer"
      ],
      "execution_count": null,
      "outputs": [
        {
          "output_type": "stream",
          "name": "stdout",
          "text": [
            "Collecting factor-analyzer\n",
            "  Downloading factor_analyzer-0.4.0.tar.gz (41 kB)\n",
            "\u001b[?25l\r\u001b[K     |███████▉                        | 10 kB 15.9 MB/s eta 0:00:01\r\u001b[K     |███████████████▊                | 20 kB 19.5 MB/s eta 0:00:01\r\u001b[K     |███████████████████████▋        | 30 kB 17.2 MB/s eta 0:00:01\r\u001b[K     |███████████████████████████████▌| 40 kB 19.5 MB/s eta 0:00:01\r\u001b[K     |████████████████████████████████| 41 kB 528 kB/s \n",
            "\u001b[?25hRequirement already satisfied: pandas in /usr/local/lib/python3.7/dist-packages (from factor-analyzer) (1.1.5)\n",
            "Requirement already satisfied: scipy in /usr/local/lib/python3.7/dist-packages (from factor-analyzer) (1.4.1)\n",
            "Requirement already satisfied: numpy in /usr/local/lib/python3.7/dist-packages (from factor-analyzer) (1.19.5)\n",
            "Requirement already satisfied: scikit-learn in /usr/local/lib/python3.7/dist-packages (from factor-analyzer) (1.0.1)\n",
            "Requirement already satisfied: python-dateutil>=2.7.3 in /usr/local/lib/python3.7/dist-packages (from pandas->factor-analyzer) (2.8.2)\n",
            "Requirement already satisfied: pytz>=2017.2 in /usr/local/lib/python3.7/dist-packages (from pandas->factor-analyzer) (2018.9)\n",
            "Requirement already satisfied: six>=1.5 in /usr/local/lib/python3.7/dist-packages (from python-dateutil>=2.7.3->pandas->factor-analyzer) (1.15.0)\n",
            "Requirement already satisfied: joblib>=0.11 in /usr/local/lib/python3.7/dist-packages (from scikit-learn->factor-analyzer) (1.1.0)\n",
            "Requirement already satisfied: threadpoolctl>=2.0.0 in /usr/local/lib/python3.7/dist-packages (from scikit-learn->factor-analyzer) (3.0.0)\n",
            "Building wheels for collected packages: factor-analyzer\n",
            "  Building wheel for factor-analyzer (setup.py) ... \u001b[?25l\u001b[?25hdone\n",
            "  Created wheel for factor-analyzer: filename=factor_analyzer-0.4.0-py3-none-any.whl size=41455 sha256=451b9cee55460337222a2b07bb322df71bafe92905f2086f92319bad466d90a4\n",
            "  Stored in directory: /root/.cache/pip/wheels/ac/00/37/1f0e8a5039f9e9f207c4405bbce0796f07701eb377bfc6cc76\n",
            "Successfully built factor-analyzer\n",
            "Installing collected packages: factor-analyzer\n",
            "Successfully installed factor-analyzer-0.4.0\n"
          ]
        }
      ]
    },
    {
      "cell_type": "code",
      "metadata": {
        "id": "qcd6tEUqFeY_"
      },
      "source": [
        "import pandas as pd\n",
        "from factor_analyzer import FactorAnalyzer \n",
        "import matplotlib.pyplot as plt "
      ],
      "execution_count": null,
      "outputs": []
    },
    {
      "cell_type": "code",
      "metadata": {
        "colab": {
          "base_uri": "https://localhost:8080/"
        },
        "id": "J09RbkijFj0t",
        "outputId": "8ef6932c-e01a-4740-c956-4a081f912bbf"
      },
      "source": [
        "df = pd.read_csv('/content/drive/MyDrive/ADP/bfi.csv', index_col = 0)\n",
        "df.columns "
      ],
      "execution_count": null,
      "outputs": [
        {
          "output_type": "execute_result",
          "data": {
            "text/plain": [
              "Index(['A1', 'A2', 'A3', 'A4', 'A5', 'C1', 'C2', 'C3', 'C4', 'C5', 'E1', 'E2',\n",
              "       'E3', 'E4', 'E5', 'N1', 'N2', 'N3', 'N4', 'N5', 'O1', 'O2', 'O3', 'O4',\n",
              "       'O5', 'gender', 'education', 'age'],\n",
              "      dtype='object')"
            ]
          },
          "metadata": {},
          "execution_count": 55
        }
      ]
    },
    {
      "cell_type": "code",
      "metadata": {
        "colab": {
          "base_uri": "https://localhost:8080/"
        },
        "id": "IY-_E3thFoiz",
        "outputId": "92fd22b3-82a4-466b-a15c-241bef96b36d"
      },
      "source": [
        "df.drop(['gender','education','age'], axis = 1, inplace = True)\n",
        "df.dropna(inplace = True)\n",
        "df.info()"
      ],
      "execution_count": null,
      "outputs": [
        {
          "output_type": "stream",
          "name": "stdout",
          "text": [
            "<class 'pandas.core.frame.DataFrame'>\n",
            "Int64Index: 2436 entries, 61617 to 67560\n",
            "Data columns (total 25 columns):\n",
            " #   Column  Non-Null Count  Dtype  \n",
            "---  ------  --------------  -----  \n",
            " 0   A1      2436 non-null   float64\n",
            " 1   A2      2436 non-null   float64\n",
            " 2   A3      2436 non-null   float64\n",
            " 3   A4      2436 non-null   float64\n",
            " 4   A5      2436 non-null   float64\n",
            " 5   C1      2436 non-null   float64\n",
            " 6   C2      2436 non-null   float64\n",
            " 7   C3      2436 non-null   float64\n",
            " 8   C4      2436 non-null   float64\n",
            " 9   C5      2436 non-null   float64\n",
            " 10  E1      2436 non-null   float64\n",
            " 11  E2      2436 non-null   float64\n",
            " 12  E3      2436 non-null   float64\n",
            " 13  E4      2436 non-null   float64\n",
            " 14  E5      2436 non-null   float64\n",
            " 15  N1      2436 non-null   float64\n",
            " 16  N2      2436 non-null   float64\n",
            " 17  N3      2436 non-null   float64\n",
            " 18  N4      2436 non-null   float64\n",
            " 19  N5      2436 non-null   float64\n",
            " 20  O1      2436 non-null   float64\n",
            " 21  O2      2436 non-null   int64  \n",
            " 22  O3      2436 non-null   float64\n",
            " 23  O4      2436 non-null   float64\n",
            " 24  O5      2436 non-null   float64\n",
            "dtypes: float64(24), int64(1)\n",
            "memory usage: 494.8 KB\n"
          ]
        }
      ]
    },
    {
      "cell_type": "code",
      "metadata": {
        "colab": {
          "base_uri": "https://localhost:8080/",
          "height": 444
        },
        "id": "hYBG1y9SGelF",
        "outputId": "e7ca5c28-c724-439e-95f5-2a470a677260"
      },
      "source": [
        "df"
      ],
      "execution_count": null,
      "outputs": [
        {
          "output_type": "execute_result",
          "data": {
            "text/html": [
              "<div>\n",
              "<style scoped>\n",
              "    .dataframe tbody tr th:only-of-type {\n",
              "        vertical-align: middle;\n",
              "    }\n",
              "\n",
              "    .dataframe tbody tr th {\n",
              "        vertical-align: top;\n",
              "    }\n",
              "\n",
              "    .dataframe thead th {\n",
              "        text-align: right;\n",
              "    }\n",
              "</style>\n",
              "<table border=\"1\" class=\"dataframe\">\n",
              "  <thead>\n",
              "    <tr style=\"text-align: right;\">\n",
              "      <th></th>\n",
              "      <th>A1</th>\n",
              "      <th>A2</th>\n",
              "      <th>A3</th>\n",
              "      <th>A4</th>\n",
              "      <th>A5</th>\n",
              "      <th>C1</th>\n",
              "      <th>C2</th>\n",
              "      <th>C3</th>\n",
              "      <th>C4</th>\n",
              "      <th>C5</th>\n",
              "      <th>E1</th>\n",
              "      <th>E2</th>\n",
              "      <th>E3</th>\n",
              "      <th>E4</th>\n",
              "      <th>E5</th>\n",
              "      <th>N1</th>\n",
              "      <th>N2</th>\n",
              "      <th>N3</th>\n",
              "      <th>N4</th>\n",
              "      <th>N5</th>\n",
              "      <th>O1</th>\n",
              "      <th>O2</th>\n",
              "      <th>O3</th>\n",
              "      <th>O4</th>\n",
              "      <th>O5</th>\n",
              "    </tr>\n",
              "  </thead>\n",
              "  <tbody>\n",
              "    <tr>\n",
              "      <th>61617</th>\n",
              "      <td>2.0</td>\n",
              "      <td>4.0</td>\n",
              "      <td>3.0</td>\n",
              "      <td>4.0</td>\n",
              "      <td>4.0</td>\n",
              "      <td>2.0</td>\n",
              "      <td>3.0</td>\n",
              "      <td>3.0</td>\n",
              "      <td>4.0</td>\n",
              "      <td>4.0</td>\n",
              "      <td>3.0</td>\n",
              "      <td>3.0</td>\n",
              "      <td>3.0</td>\n",
              "      <td>4.0</td>\n",
              "      <td>4.0</td>\n",
              "      <td>3.0</td>\n",
              "      <td>4.0</td>\n",
              "      <td>2.0</td>\n",
              "      <td>2.0</td>\n",
              "      <td>3.0</td>\n",
              "      <td>3.0</td>\n",
              "      <td>6</td>\n",
              "      <td>3.0</td>\n",
              "      <td>4.0</td>\n",
              "      <td>3.0</td>\n",
              "    </tr>\n",
              "    <tr>\n",
              "      <th>61618</th>\n",
              "      <td>2.0</td>\n",
              "      <td>4.0</td>\n",
              "      <td>5.0</td>\n",
              "      <td>2.0</td>\n",
              "      <td>5.0</td>\n",
              "      <td>5.0</td>\n",
              "      <td>4.0</td>\n",
              "      <td>4.0</td>\n",
              "      <td>3.0</td>\n",
              "      <td>4.0</td>\n",
              "      <td>1.0</td>\n",
              "      <td>1.0</td>\n",
              "      <td>6.0</td>\n",
              "      <td>4.0</td>\n",
              "      <td>3.0</td>\n",
              "      <td>3.0</td>\n",
              "      <td>3.0</td>\n",
              "      <td>3.0</td>\n",
              "      <td>5.0</td>\n",
              "      <td>5.0</td>\n",
              "      <td>4.0</td>\n",
              "      <td>2</td>\n",
              "      <td>4.0</td>\n",
              "      <td>3.0</td>\n",
              "      <td>3.0</td>\n",
              "    </tr>\n",
              "    <tr>\n",
              "      <th>61620</th>\n",
              "      <td>5.0</td>\n",
              "      <td>4.0</td>\n",
              "      <td>5.0</td>\n",
              "      <td>4.0</td>\n",
              "      <td>4.0</td>\n",
              "      <td>4.0</td>\n",
              "      <td>5.0</td>\n",
              "      <td>4.0</td>\n",
              "      <td>2.0</td>\n",
              "      <td>5.0</td>\n",
              "      <td>2.0</td>\n",
              "      <td>4.0</td>\n",
              "      <td>4.0</td>\n",
              "      <td>4.0</td>\n",
              "      <td>5.0</td>\n",
              "      <td>4.0</td>\n",
              "      <td>5.0</td>\n",
              "      <td>4.0</td>\n",
              "      <td>2.0</td>\n",
              "      <td>3.0</td>\n",
              "      <td>4.0</td>\n",
              "      <td>2</td>\n",
              "      <td>5.0</td>\n",
              "      <td>5.0</td>\n",
              "      <td>2.0</td>\n",
              "    </tr>\n",
              "    <tr>\n",
              "      <th>61621</th>\n",
              "      <td>4.0</td>\n",
              "      <td>4.0</td>\n",
              "      <td>6.0</td>\n",
              "      <td>5.0</td>\n",
              "      <td>5.0</td>\n",
              "      <td>4.0</td>\n",
              "      <td>4.0</td>\n",
              "      <td>3.0</td>\n",
              "      <td>5.0</td>\n",
              "      <td>5.0</td>\n",
              "      <td>5.0</td>\n",
              "      <td>3.0</td>\n",
              "      <td>4.0</td>\n",
              "      <td>4.0</td>\n",
              "      <td>4.0</td>\n",
              "      <td>2.0</td>\n",
              "      <td>5.0</td>\n",
              "      <td>2.0</td>\n",
              "      <td>4.0</td>\n",
              "      <td>1.0</td>\n",
              "      <td>3.0</td>\n",
              "      <td>3</td>\n",
              "      <td>4.0</td>\n",
              "      <td>3.0</td>\n",
              "      <td>5.0</td>\n",
              "    </tr>\n",
              "    <tr>\n",
              "      <th>61622</th>\n",
              "      <td>2.0</td>\n",
              "      <td>3.0</td>\n",
              "      <td>3.0</td>\n",
              "      <td>4.0</td>\n",
              "      <td>5.0</td>\n",
              "      <td>4.0</td>\n",
              "      <td>4.0</td>\n",
              "      <td>5.0</td>\n",
              "      <td>3.0</td>\n",
              "      <td>2.0</td>\n",
              "      <td>2.0</td>\n",
              "      <td>2.0</td>\n",
              "      <td>5.0</td>\n",
              "      <td>4.0</td>\n",
              "      <td>5.0</td>\n",
              "      <td>2.0</td>\n",
              "      <td>3.0</td>\n",
              "      <td>4.0</td>\n",
              "      <td>4.0</td>\n",
              "      <td>3.0</td>\n",
              "      <td>3.0</td>\n",
              "      <td>3</td>\n",
              "      <td>4.0</td>\n",
              "      <td>3.0</td>\n",
              "      <td>3.0</td>\n",
              "    </tr>\n",
              "    <tr>\n",
              "      <th>...</th>\n",
              "      <td>...</td>\n",
              "      <td>...</td>\n",
              "      <td>...</td>\n",
              "      <td>...</td>\n",
              "      <td>...</td>\n",
              "      <td>...</td>\n",
              "      <td>...</td>\n",
              "      <td>...</td>\n",
              "      <td>...</td>\n",
              "      <td>...</td>\n",
              "      <td>...</td>\n",
              "      <td>...</td>\n",
              "      <td>...</td>\n",
              "      <td>...</td>\n",
              "      <td>...</td>\n",
              "      <td>...</td>\n",
              "      <td>...</td>\n",
              "      <td>...</td>\n",
              "      <td>...</td>\n",
              "      <td>...</td>\n",
              "      <td>...</td>\n",
              "      <td>...</td>\n",
              "      <td>...</td>\n",
              "      <td>...</td>\n",
              "      <td>...</td>\n",
              "    </tr>\n",
              "    <tr>\n",
              "      <th>67547</th>\n",
              "      <td>3.0</td>\n",
              "      <td>4.0</td>\n",
              "      <td>3.0</td>\n",
              "      <td>1.0</td>\n",
              "      <td>3.0</td>\n",
              "      <td>5.0</td>\n",
              "      <td>4.0</td>\n",
              "      <td>5.0</td>\n",
              "      <td>3.0</td>\n",
              "      <td>4.0</td>\n",
              "      <td>3.0</td>\n",
              "      <td>5.0</td>\n",
              "      <td>2.0</td>\n",
              "      <td>3.0</td>\n",
              "      <td>1.0</td>\n",
              "      <td>5.0</td>\n",
              "      <td>6.0</td>\n",
              "      <td>5.0</td>\n",
              "      <td>5.0</td>\n",
              "      <td>6.0</td>\n",
              "      <td>6.0</td>\n",
              "      <td>1</td>\n",
              "      <td>4.0</td>\n",
              "      <td>5.0</td>\n",
              "      <td>2.0</td>\n",
              "    </tr>\n",
              "    <tr>\n",
              "      <th>67549</th>\n",
              "      <td>5.0</td>\n",
              "      <td>5.0</td>\n",
              "      <td>5.0</td>\n",
              "      <td>5.0</td>\n",
              "      <td>3.0</td>\n",
              "      <td>5.0</td>\n",
              "      <td>4.0</td>\n",
              "      <td>2.0</td>\n",
              "      <td>3.0</td>\n",
              "      <td>5.0</td>\n",
              "      <td>3.0</td>\n",
              "      <td>5.0</td>\n",
              "      <td>5.0</td>\n",
              "      <td>6.0</td>\n",
              "      <td>5.0</td>\n",
              "      <td>4.0</td>\n",
              "      <td>5.0</td>\n",
              "      <td>3.0</td>\n",
              "      <td>5.0</td>\n",
              "      <td>2.0</td>\n",
              "      <td>6.0</td>\n",
              "      <td>1</td>\n",
              "      <td>5.0</td>\n",
              "      <td>6.0</td>\n",
              "      <td>2.0</td>\n",
              "    </tr>\n",
              "    <tr>\n",
              "      <th>67556</th>\n",
              "      <td>2.0</td>\n",
              "      <td>3.0</td>\n",
              "      <td>5.0</td>\n",
              "      <td>2.0</td>\n",
              "      <td>5.0</td>\n",
              "      <td>5.0</td>\n",
              "      <td>5.0</td>\n",
              "      <td>5.0</td>\n",
              "      <td>1.0</td>\n",
              "      <td>1.0</td>\n",
              "      <td>2.0</td>\n",
              "      <td>2.0</td>\n",
              "      <td>6.0</td>\n",
              "      <td>3.0</td>\n",
              "      <td>6.0</td>\n",
              "      <td>3.0</td>\n",
              "      <td>4.0</td>\n",
              "      <td>3.0</td>\n",
              "      <td>3.0</td>\n",
              "      <td>1.0</td>\n",
              "      <td>5.0</td>\n",
              "      <td>1</td>\n",
              "      <td>6.0</td>\n",
              "      <td>4.0</td>\n",
              "      <td>3.0</td>\n",
              "    </tr>\n",
              "    <tr>\n",
              "      <th>67559</th>\n",
              "      <td>5.0</td>\n",
              "      <td>2.0</td>\n",
              "      <td>2.0</td>\n",
              "      <td>4.0</td>\n",
              "      <td>4.0</td>\n",
              "      <td>5.0</td>\n",
              "      <td>5.0</td>\n",
              "      <td>5.0</td>\n",
              "      <td>2.0</td>\n",
              "      <td>6.0</td>\n",
              "      <td>2.0</td>\n",
              "      <td>2.0</td>\n",
              "      <td>4.0</td>\n",
              "      <td>5.0</td>\n",
              "      <td>4.0</td>\n",
              "      <td>5.0</td>\n",
              "      <td>5.0</td>\n",
              "      <td>6.0</td>\n",
              "      <td>4.0</td>\n",
              "      <td>1.0</td>\n",
              "      <td>5.0</td>\n",
              "      <td>2</td>\n",
              "      <td>5.0</td>\n",
              "      <td>5.0</td>\n",
              "      <td>1.0</td>\n",
              "    </tr>\n",
              "    <tr>\n",
              "      <th>67560</th>\n",
              "      <td>2.0</td>\n",
              "      <td>3.0</td>\n",
              "      <td>1.0</td>\n",
              "      <td>4.0</td>\n",
              "      <td>2.0</td>\n",
              "      <td>5.0</td>\n",
              "      <td>5.0</td>\n",
              "      <td>3.0</td>\n",
              "      <td>3.0</td>\n",
              "      <td>3.0</td>\n",
              "      <td>3.0</td>\n",
              "      <td>3.0</td>\n",
              "      <td>1.0</td>\n",
              "      <td>2.0</td>\n",
              "      <td>2.0</td>\n",
              "      <td>1.0</td>\n",
              "      <td>2.0</td>\n",
              "      <td>2.0</td>\n",
              "      <td>1.0</td>\n",
              "      <td>1.0</td>\n",
              "      <td>3.0</td>\n",
              "      <td>1</td>\n",
              "      <td>3.0</td>\n",
              "      <td>5.0</td>\n",
              "      <td>1.0</td>\n",
              "    </tr>\n",
              "  </tbody>\n",
              "</table>\n",
              "<p>2436 rows × 25 columns</p>\n",
              "</div>"
            ],
            "text/plain": [
              "        A1   A2   A3   A4   A5   C1   C2  ...   N4   N5   O1  O2   O3   O4   O5\n",
              "61617  2.0  4.0  3.0  4.0  4.0  2.0  3.0  ...  2.0  3.0  3.0   6  3.0  4.0  3.0\n",
              "61618  2.0  4.0  5.0  2.0  5.0  5.0  4.0  ...  5.0  5.0  4.0   2  4.0  3.0  3.0\n",
              "61620  5.0  4.0  5.0  4.0  4.0  4.0  5.0  ...  2.0  3.0  4.0   2  5.0  5.0  2.0\n",
              "61621  4.0  4.0  6.0  5.0  5.0  4.0  4.0  ...  4.0  1.0  3.0   3  4.0  3.0  5.0\n",
              "61622  2.0  3.0  3.0  4.0  5.0  4.0  4.0  ...  4.0  3.0  3.0   3  4.0  3.0  3.0\n",
              "...    ...  ...  ...  ...  ...  ...  ...  ...  ...  ...  ...  ..  ...  ...  ...\n",
              "67547  3.0  4.0  3.0  1.0  3.0  5.0  4.0  ...  5.0  6.0  6.0   1  4.0  5.0  2.0\n",
              "67549  5.0  5.0  5.0  5.0  3.0  5.0  4.0  ...  5.0  2.0  6.0   1  5.0  6.0  2.0\n",
              "67556  2.0  3.0  5.0  2.0  5.0  5.0  5.0  ...  3.0  1.0  5.0   1  6.0  4.0  3.0\n",
              "67559  5.0  2.0  2.0  4.0  4.0  5.0  5.0  ...  4.0  1.0  5.0   2  5.0  5.0  1.0\n",
              "67560  2.0  3.0  1.0  4.0  2.0  5.0  5.0  ...  1.0  1.0  3.0   1  3.0  5.0  1.0\n",
              "\n",
              "[2436 rows x 25 columns]"
            ]
          },
          "metadata": {},
          "execution_count": 57
        }
      ]
    },
    {
      "cell_type": "code",
      "metadata": {
        "id": "Q_kYEVvSGfpJ"
      },
      "source": [
        "# 요인성 평가\n",
        "## 요인 분석을 수행하기 전, 요인성을 평가해야 한다\n",
        "## 요인성? \n",
        "### 데이터셋에서 요인을 찾을 수 있는지를 확인하는 것\n",
        "## 요인성을 찾는 방법(인수 분해성, 샘플링 적절성 찾는 방법)\n"
      ],
      "execution_count": null,
      "outputs": []
    },
    {
      "cell_type": "markdown",
      "metadata": {
        "id": "mVFwM9b8GtAc"
      },
      "source": [
        "#### 1. bartlett 테스트"
      ]
    },
    {
      "cell_type": "code",
      "metadata": {
        "colab": {
          "base_uri": "https://localhost:8080/"
        },
        "id": "kb0ju6BYGsYD",
        "outputId": "77550f53-a1fb-474d-a882-b3e43f863a9c"
      },
      "source": [
        "from factor_analyzer.factor_analyzer import calculate_bartlett_sphericity \n",
        "chi_square_value, p_value= calculate_bartlett_sphericity(df)\n",
        "chi_square_value, p_value \n",
        "# p_value 가 0이므로 탐색적 요인분석에 적합한 데이터라고 할 수 있음"
      ],
      "execution_count": null,
      "outputs": [
        {
          "output_type": "execute_result",
          "data": {
            "text/plain": [
              "(18170.966350869243, 0.0)"
            ]
          },
          "metadata": {},
          "execution_count": 59
        }
      ]
    },
    {
      "cell_type": "markdown",
      "metadata": {
        "id": "1TJ4u2FtHBAV"
      },
      "source": [
        "#### 2. Kaiser-meyer-olkin KMO 검정\n",
        "- 관측된 각 변수와 전체 모델에 대한 적절성을 결정\n",
        "- KMO 는 관측된 모든 변수간의 분산 비율을 추정\n",
        "- bartlett 과 달리 p 값이 없기에 판단 기준이 따로 있다\n",
        "- 0.6 미만의 KMO 값은 부적절, 0.8 이상이면 우수\n",
        "- kmo테스트를 하려면 변수가 3개 이상이어야 함\n"
      ]
    },
    {
      "cell_type": "code",
      "metadata": {
        "colab": {
          "base_uri": "https://localhost:8080/"
        },
        "id": "MNzF8W7VG7fL",
        "outputId": "654d47db-d4c5-4ad0-936f-bfa37aff8b39"
      },
      "source": [
        "from factor_analyzer.factor_analyzer import calculate_kmo \n",
        "kmo_all, kmo_model = calculate_kmo(df)\n",
        "kmo_model # 0.85값이기에 우수하다고 판단, 요인성이 있는 데이터셋!"
      ],
      "execution_count": null,
      "outputs": [
        {
          "output_type": "execute_result",
          "data": {
            "text/plain": [
              "0.8485397221949221"
            ]
          },
          "metadata": {},
          "execution_count": 60
        }
      ]
    },
    {
      "cell_type": "code",
      "metadata": {
        "colab": {
          "base_uri": "https://localhost:8080/"
        },
        "id": "AJYkEFm_IHiB",
        "outputId": "17122ce3-75df-42eb-bdf5-4e7b201ff3cb"
      },
      "source": [
        "# 요인수 선택\n",
        "\n",
        "fa = FactorAnalyzer(n_factors = 25, rotation = None)\n",
        "fa.fit(df) \n",
        "# eigen 값 추출 : 추출할 요인 수를 선택할 떄 이것을 본다\n",
        "## 한 요인에 대한 요인 적재 값의 제곱의 합\n",
        "##요인의 설명력을 나타냄\n",
        "## eigenvalue 가 크면 그 요인들이 변수들의 분산을 잘 설명한다고 봄\n",
        "## 보통 eigenvalue 1 이상을 갖는 요인의 수만큼 추출\n",
        "\n",
        "# 요인 수를 사전에 결정하여 지정\n",
        "# 선행연구를 참고하거나, 연구자가 적절한 요인수를 알고 있을 떄 사용\n",
        "# 설명력 또는 스크리 도표에서 꺾이는 부분으로 판단한다\n",
        "\n",
        "ev, v = fa.get_eigenvalues()\n",
        "ev"
      ],
      "execution_count": null,
      "outputs": [
        {
          "output_type": "execute_result",
          "data": {
            "text/plain": [
              "array([5.13431118, 2.75188667, 2.14270195, 1.85232761, 1.54816285,\n",
              "       1.07358247, 0.83953893, 0.79920618, 0.71898919, 0.68808879,\n",
              "       0.67637336, 0.65179984, 0.62325295, 0.59656284, 0.56309083,\n",
              "       0.54330533, 0.51451752, 0.49450315, 0.48263952, 0.448921  ,\n",
              "       0.42336611, 0.40067145, 0.38780448, 0.38185679, 0.26253902])"
            ]
          },
          "metadata": {},
          "execution_count": 62
        }
      ]
    },
    {
      "cell_type": "code",
      "metadata": {
        "colab": {
          "base_uri": "https://localhost:8080/",
          "height": 295
        },
        "id": "HNoiBtCQJkGu",
        "outputId": "0bc904a8-8e0b-4ddd-fa61-c5b555f7cd2a"
      },
      "source": [
        "plt.scatter(range(1, df.shape[1] + 1), ev)\n",
        "plt.plot(range(1, df.shape[1] + 1), ev)\n",
        "plt.title('scree plot')\n",
        "plt.xlabel('factors')\n",
        "plt.ylabel('eigenvalue')\n",
        "plt.grid()\n",
        "plt.show()"
      ],
      "execution_count": null,
      "outputs": [
        {
          "output_type": "display_data",
          "data": {
            "image/png": "[encoded data removed]",
            "text/plain": [
              "<Figure size 432x288 with 1 Axes>"
            ]
          },
          "metadata": {
            "needs_background": "light"
          }
        }
      ]
    },
    {
      "cell_type": "markdown",
      "metadata": {
        "id": "OjAct-_XKwvH"
      },
      "source": [
        "##### 요인분석 : 회전 \n",
        "\n",
        "[참고자료](https://www.ibm.com/docs/ko/spss-statistics/25.0.0?topic=analysis-factor-rotation)\n",
        "\n",
        "1. varimax : 각 요인의 로딩이 높은 변수의 수를 최소화 하는 직교 회전 방법\n",
        "2. 직접 오블리민 방법 : 사각(비직교) 회전방법, 델타가 0일때 해법은 가장 기울어지는 형태, \n",
        "델타가 음수에 가까워질수록 요인의 기울기가 평평해\n",
        "3. 쿼티멕스 : 각 변수를 설명하는 데 필요한 요인수를 최소화 하는 회전 방법\n",
        "4. 이쿼멕스 : 요인을 단순화 하는 베리멕스 방법과 변수를 단순화 하는 쿼티 멕스 방법 조합, 요인에 읽어들인 변수의 수와 변수 설명에 사용할 요인수는 최소화 \n",
        "\n",
        "##### 요인분석 : 요인추출\n",
        "\n",
        "[참고자료](https://www.ibm.com/docs/ko/spss-statistics/25.0.0?topic=analysis-factor-extraction)\n",
        "1. 주성분분석\n",
        "2. 가중치를 부여하지 않은 최소제곱법\n",
        "3. 일반화 최소제곱법\n",
        "4. 최대-우도법\n",
        "5. 주축 요인 추출\n",
        "6. 알파 \n",
        "7. 이미지 요인 추출\n",
        "\n",
        "'분석 - 추출 - 출력' 으로 진행\n"
      ]
    },
    {
      "cell_type": "code",
      "metadata": {
        "colab": {
          "base_uri": "https://localhost:8080/",
          "height": 833
        },
        "id": "rzwwlmBZJznW",
        "outputId": "0762bb8a-4708-4b02-f958-c72e381bf3a7"
      },
      "source": [
        "# 탐색적 요인분석 실시 \n",
        "fa = FactorAnalyzer(n_factors = 6, rotation = 'varimax') \n",
        "# 참고자료 : https://www.ibm.com/docs/ko/spss-statistics/25.0.0?topic=analysis-factor-rotation\n",
        "\n",
        "# 요인 추출 방법 : ml 최대 우도 방법\n",
        "\n",
        "\n",
        "fa.fit(df)\n",
        "efa_result = pd.DataFrame(fa.loadings_, index = df.columns)\n",
        "efa_result"
      ],
      "execution_count": null,
      "outputs": [
        {
          "output_type": "execute_result",
          "data": {
            "text/html": [
              "<div>\n",
              "<style scoped>\n",
              "    .dataframe tbody tr th:only-of-type {\n",
              "        vertical-align: middle;\n",
              "    }\n",
              "\n",
              "    .dataframe tbody tr th {\n",
              "        vertical-align: top;\n",
              "    }\n",
              "\n",
              "    .dataframe thead th {\n",
              "        text-align: right;\n",
              "    }\n",
              "</style>\n",
              "<table border=\"1\" class=\"dataframe\">\n",
              "  <thead>\n",
              "    <tr style=\"text-align: right;\">\n",
              "      <th></th>\n",
              "      <th>0</th>\n",
              "      <th>1</th>\n",
              "      <th>2</th>\n",
              "      <th>3</th>\n",
              "      <th>4</th>\n",
              "      <th>5</th>\n",
              "    </tr>\n",
              "  </thead>\n",
              "  <tbody>\n",
              "    <tr>\n",
              "      <th>A1</th>\n",
              "      <td>0.095220</td>\n",
              "      <td>0.040783</td>\n",
              "      <td>0.048734</td>\n",
              "      <td>-0.530987</td>\n",
              "      <td>-0.113057</td>\n",
              "      <td>0.161216</td>\n",
              "    </tr>\n",
              "    <tr>\n",
              "      <th>A2</th>\n",
              "      <td>0.033131</td>\n",
              "      <td>0.235538</td>\n",
              "      <td>0.133714</td>\n",
              "      <td>0.661141</td>\n",
              "      <td>0.063734</td>\n",
              "      <td>-0.006244</td>\n",
              "    </tr>\n",
              "    <tr>\n",
              "      <th>A3</th>\n",
              "      <td>-0.009621</td>\n",
              "      <td>0.343008</td>\n",
              "      <td>0.121353</td>\n",
              "      <td>0.605933</td>\n",
              "      <td>0.033990</td>\n",
              "      <td>0.160106</td>\n",
              "    </tr>\n",
              "    <tr>\n",
              "      <th>A4</th>\n",
              "      <td>-0.081518</td>\n",
              "      <td>0.219717</td>\n",
              "      <td>0.235140</td>\n",
              "      <td>0.404594</td>\n",
              "      <td>-0.125338</td>\n",
              "      <td>0.086356</td>\n",
              "    </tr>\n",
              "    <tr>\n",
              "      <th>A5</th>\n",
              "      <td>-0.149616</td>\n",
              "      <td>0.414458</td>\n",
              "      <td>0.106382</td>\n",
              "      <td>0.469698</td>\n",
              "      <td>0.030977</td>\n",
              "      <td>0.236519</td>\n",
              "    </tr>\n",
              "    <tr>\n",
              "      <th>C1</th>\n",
              "      <td>-0.004358</td>\n",
              "      <td>0.077248</td>\n",
              "      <td>0.554582</td>\n",
              "      <td>0.007511</td>\n",
              "      <td>0.190124</td>\n",
              "      <td>0.095035</td>\n",
              "    </tr>\n",
              "    <tr>\n",
              "      <th>C2</th>\n",
              "      <td>0.068330</td>\n",
              "      <td>0.038370</td>\n",
              "      <td>0.674545</td>\n",
              "      <td>0.057055</td>\n",
              "      <td>0.087593</td>\n",
              "      <td>0.152775</td>\n",
              "    </tr>\n",
              "    <tr>\n",
              "      <th>C3</th>\n",
              "      <td>-0.039994</td>\n",
              "      <td>0.031867</td>\n",
              "      <td>0.551164</td>\n",
              "      <td>0.101282</td>\n",
              "      <td>-0.011338</td>\n",
              "      <td>0.008996</td>\n",
              "    </tr>\n",
              "    <tr>\n",
              "      <th>C4</th>\n",
              "      <td>0.216283</td>\n",
              "      <td>-0.066241</td>\n",
              "      <td>-0.638475</td>\n",
              "      <td>-0.102617</td>\n",
              "      <td>-0.143846</td>\n",
              "      <td>0.318359</td>\n",
              "    </tr>\n",
              "    <tr>\n",
              "      <th>C5</th>\n",
              "      <td>0.284187</td>\n",
              "      <td>-0.180812</td>\n",
              "      <td>-0.544838</td>\n",
              "      <td>-0.059955</td>\n",
              "      <td>0.025837</td>\n",
              "      <td>0.132423</td>\n",
              "    </tr>\n",
              "    <tr>\n",
              "      <th>E1</th>\n",
              "      <td>0.022280</td>\n",
              "      <td>-0.590451</td>\n",
              "      <td>0.053915</td>\n",
              "      <td>-0.130851</td>\n",
              "      <td>-0.071205</td>\n",
              "      <td>0.156583</td>\n",
              "    </tr>\n",
              "    <tr>\n",
              "      <th>E2</th>\n",
              "      <td>0.233624</td>\n",
              "      <td>-0.684578</td>\n",
              "      <td>-0.088497</td>\n",
              "      <td>-0.116716</td>\n",
              "      <td>-0.045561</td>\n",
              "      <td>0.115065</td>\n",
              "    </tr>\n",
              "    <tr>\n",
              "      <th>E3</th>\n",
              "      <td>-0.000895</td>\n",
              "      <td>0.556774</td>\n",
              "      <td>0.103390</td>\n",
              "      <td>0.179396</td>\n",
              "      <td>0.241180</td>\n",
              "      <td>0.267291</td>\n",
              "    </tr>\n",
              "    <tr>\n",
              "      <th>E4</th>\n",
              "      <td>-0.136788</td>\n",
              "      <td>0.658395</td>\n",
              "      <td>0.113798</td>\n",
              "      <td>0.241143</td>\n",
              "      <td>-0.107808</td>\n",
              "      <td>0.158513</td>\n",
              "    </tr>\n",
              "    <tr>\n",
              "      <th>E5</th>\n",
              "      <td>0.034490</td>\n",
              "      <td>0.507535</td>\n",
              "      <td>0.309813</td>\n",
              "      <td>0.078804</td>\n",
              "      <td>0.200821</td>\n",
              "      <td>0.008747</td>\n",
              "    </tr>\n",
              "    <tr>\n",
              "      <th>N1</th>\n",
              "      <td>0.805806</td>\n",
              "      <td>0.068011</td>\n",
              "      <td>-0.051264</td>\n",
              "      <td>-0.174849</td>\n",
              "      <td>-0.074977</td>\n",
              "      <td>-0.096266</td>\n",
              "    </tr>\n",
              "    <tr>\n",
              "      <th>N2</th>\n",
              "      <td>0.789832</td>\n",
              "      <td>0.022958</td>\n",
              "      <td>-0.037477</td>\n",
              "      <td>-0.141134</td>\n",
              "      <td>0.006726</td>\n",
              "      <td>-0.139823</td>\n",
              "    </tr>\n",
              "    <tr>\n",
              "      <th>N3</th>\n",
              "      <td>0.725081</td>\n",
              "      <td>-0.065687</td>\n",
              "      <td>-0.059039</td>\n",
              "      <td>-0.019184</td>\n",
              "      <td>-0.010664</td>\n",
              "      <td>0.062495</td>\n",
              "    </tr>\n",
              "    <tr>\n",
              "      <th>N4</th>\n",
              "      <td>0.578319</td>\n",
              "      <td>-0.345072</td>\n",
              "      <td>-0.162174</td>\n",
              "      <td>0.000403</td>\n",
              "      <td>0.062916</td>\n",
              "      <td>0.147551</td>\n",
              "    </tr>\n",
              "    <tr>\n",
              "      <th>N5</th>\n",
              "      <td>0.523097</td>\n",
              "      <td>-0.161675</td>\n",
              "      <td>-0.025305</td>\n",
              "      <td>0.090125</td>\n",
              "      <td>-0.161892</td>\n",
              "      <td>0.120049</td>\n",
              "    </tr>\n",
              "    <tr>\n",
              "      <th>O1</th>\n",
              "      <td>-0.020004</td>\n",
              "      <td>0.225339</td>\n",
              "      <td>0.133201</td>\n",
              "      <td>0.005178</td>\n",
              "      <td>0.479477</td>\n",
              "      <td>0.218690</td>\n",
              "    </tr>\n",
              "    <tr>\n",
              "      <th>O2</th>\n",
              "      <td>0.156230</td>\n",
              "      <td>-0.001982</td>\n",
              "      <td>-0.086047</td>\n",
              "      <td>0.043989</td>\n",
              "      <td>-0.496640</td>\n",
              "      <td>0.134693</td>\n",
              "    </tr>\n",
              "    <tr>\n",
              "      <th>O3</th>\n",
              "      <td>0.011851</td>\n",
              "      <td>0.325954</td>\n",
              "      <td>0.093880</td>\n",
              "      <td>0.076642</td>\n",
              "      <td>0.566128</td>\n",
              "      <td>0.210777</td>\n",
              "    </tr>\n",
              "    <tr>\n",
              "      <th>O4</th>\n",
              "      <td>0.207281</td>\n",
              "      <td>-0.177746</td>\n",
              "      <td>-0.005671</td>\n",
              "      <td>0.133656</td>\n",
              "      <td>0.349227</td>\n",
              "      <td>0.178068</td>\n",
              "    </tr>\n",
              "    <tr>\n",
              "      <th>O5</th>\n",
              "      <td>0.063234</td>\n",
              "      <td>-0.014221</td>\n",
              "      <td>-0.047059</td>\n",
              "      <td>-0.057561</td>\n",
              "      <td>-0.576743</td>\n",
              "      <td>0.135936</td>\n",
              "    </tr>\n",
              "  </tbody>\n",
              "</table>\n",
              "</div>"
            ],
            "text/plain": [
              "           0         1         2         3         4         5\n",
              "A1  0.095220  0.040783  0.048734 -0.530987 -0.113057  0.161216\n",
              "A2  0.033131  0.235538  0.133714  0.661141  0.063734 -0.006244\n",
              "A3 -0.009621  0.343008  0.121353  0.605933  0.033990  0.160106\n",
              "A4 -0.081518  0.219717  0.235140  0.404594 -0.125338  0.086356\n",
              "A5 -0.149616  0.414458  0.106382  0.469698  0.030977  0.236519\n",
              "C1 -0.004358  0.077248  0.554582  0.007511  0.190124  0.095035\n",
              "C2  0.068330  0.038370  0.674545  0.057055  0.087593  0.152775\n",
              "C3 -0.039994  0.031867  0.551164  0.101282 -0.011338  0.008996\n",
              "C4  0.216283 -0.066241 -0.638475 -0.102617 -0.143846  0.318359\n",
              "C5  0.284187 -0.180812 -0.544838 -0.059955  0.025837  0.132423\n",
              "E1  0.022280 -0.590451  0.053915 -0.130851 -0.071205  0.156583\n",
              "E2  0.233624 -0.684578 -0.088497 -0.116716 -0.045561  0.115065\n",
              "E3 -0.000895  0.556774  0.103390  0.179396  0.241180  0.267291\n",
              "E4 -0.136788  0.658395  0.113798  0.241143 -0.107808  0.158513\n",
              "E5  0.034490  0.507535  0.309813  0.078804  0.200821  0.008747\n",
              "N1  0.805806  0.068011 -0.051264 -0.174849 -0.074977 -0.096266\n",
              "N2  0.789832  0.022958 -0.037477 -0.141134  0.006726 -0.139823\n",
              "N3  0.725081 -0.065687 -0.059039 -0.019184 -0.010664  0.062495\n",
              "N4  0.578319 -0.345072 -0.162174  0.000403  0.062916  0.147551\n",
              "N5  0.523097 -0.161675 -0.025305  0.090125 -0.161892  0.120049\n",
              "O1 -0.020004  0.225339  0.133201  0.005178  0.479477  0.218690\n",
              "O2  0.156230 -0.001982 -0.086047  0.043989 -0.496640  0.134693\n",
              "O3  0.011851  0.325954  0.093880  0.076642  0.566128  0.210777\n",
              "O4  0.207281 -0.177746 -0.005671  0.133656  0.349227  0.178068\n",
              "O5  0.063234 -0.014221 -0.047059 -0.057561 -0.576743  0.135936"
            ]
          },
          "metadata": {},
          "execution_count": 64
        }
      ]
    },
    {
      "cell_type": "code",
      "metadata": {
        "colab": {
          "base_uri": "https://localhost:8080/",
          "height": 610
        },
        "id": "cdZJjPH3KBEq",
        "outputId": "34bffabb-ab51-481f-e884-0a9bcf94f67e"
      },
      "source": [
        "import seaborn as sns\n",
        "plt.figure(figsize = (6, 10))\n",
        "sns.heatmap(efa_result, cmap = 'Blues', annot = True, fmt = '.2f')"
      ],
      "execution_count": null,
      "outputs": [
        {
          "output_type": "execute_result",
          "data": {
            "text/plain": [
              "<matplotlib.axes._subplots.AxesSubplot at 0x7fbf04afd890>"
            ]
          },
          "metadata": {},
          "execution_count": 67
        },
        {
          "output_type": "display_data",
          "data": {
            "image/png": "[encoded data removed]",
            "text/plain": [
              "<Figure size 432x720 with 2 Axes>"
            ]
          },
          "metadata": {
            "needs_background": "light"
          }
        }
      ]
    },
    {
      "cell_type": "markdown",
      "metadata": {
        "id": "nn3mc8TWLqjG"
      },
      "source": [
        "< 위 그래프 해석> \n",
        "- 요인 0 은 N1, n2, n3, n4, n5 에 높은 요인 적재량을 보임\n",
        "- 요인 1은 E1, E2, E3, e4, e5 에 높은 요인 적재량을 보임\n",
        "- 요인 2는 c1, c2, 3, c4, c5에 대해 높은 요인 적재량을 가짐\n",
        "- 요인 3은 a1, a2, a3, a4, a5 에 높은 요인 적재량을 가짐\n",
        "- 요인 4는 o1, o2, o3, o4, o5 에 대해 높은 적재량을 가짐\n",
        "- 요인 5는 변수에 대해 높은 요인 적재량이 없다고 해석, 따라서 위의 0~4가지만 활용"
      ]
    },
    {
      "cell_type": "code",
      "metadata": {
        "colab": {
          "base_uri": "https://localhost:8080/"
        },
        "id": "3xAcn_wWLjbR",
        "outputId": "344483ed-3c5b-484f-a429-57df679e5763"
      },
      "source": [
        "# 5개 요인으로 분석\n",
        "fa = FactorAnalyzer(n_factors = 5, rotation = 'varimax')\n",
        "fa.fit(df)"
      ],
      "execution_count": null,
      "outputs": [
        {
          "output_type": "execute_result",
          "data": {
            "text/plain": [
              "FactorAnalyzer(n_factors=5, rotation='varimax', rotation_kwargs={})"
            ]
          },
          "metadata": {},
          "execution_count": 68
        }
      ]
    },
    {
      "cell_type": "code",
      "metadata": {
        "colab": {
          "base_uri": "https://localhost:8080/",
          "height": 143
        },
        "id": "dk02R9m8MLrn",
        "outputId": "041386d2-b42c-492a-dd8f-17391d8ecbd6"
      },
      "source": [
        "fa.get_factor_variance() \n",
        "df1 = pd.DataFrame(fa.get_factor_variance())\n",
        "df1.index = ['SS loadings', 'proportaion var', 'cumulative var']\n",
        "df1"
      ],
      "execution_count": null,
      "outputs": [
        {
          "output_type": "execute_result",
          "data": {
            "text/html": [
              "<div>\n",
              "<style scoped>\n",
              "    .dataframe tbody tr th:only-of-type {\n",
              "        vertical-align: middle;\n",
              "    }\n",
              "\n",
              "    .dataframe tbody tr th {\n",
              "        vertical-align: top;\n",
              "    }\n",
              "\n",
              "    .dataframe thead th {\n",
              "        text-align: right;\n",
              "    }\n",
              "</style>\n",
              "<table border=\"1\" class=\"dataframe\">\n",
              "  <thead>\n",
              "    <tr style=\"text-align: right;\">\n",
              "      <th></th>\n",
              "      <th>0</th>\n",
              "      <th>1</th>\n",
              "      <th>2</th>\n",
              "      <th>3</th>\n",
              "      <th>4</th>\n",
              "    </tr>\n",
              "  </thead>\n",
              "  <tbody>\n",
              "    <tr>\n",
              "      <th>SS loadings</th>\n",
              "      <td>2.709633</td>\n",
              "      <td>2.473090</td>\n",
              "      <td>2.041106</td>\n",
              "      <td>1.844498</td>\n",
              "      <td>1.522153</td>\n",
              "    </tr>\n",
              "    <tr>\n",
              "      <th>proportaion var</th>\n",
              "      <td>0.108385</td>\n",
              "      <td>0.098924</td>\n",
              "      <td>0.081644</td>\n",
              "      <td>0.073780</td>\n",
              "      <td>0.060886</td>\n",
              "    </tr>\n",
              "    <tr>\n",
              "      <th>cumulative var</th>\n",
              "      <td>0.108385</td>\n",
              "      <td>0.207309</td>\n",
              "      <td>0.288953</td>\n",
              "      <td>0.362733</td>\n",
              "      <td>0.423619</td>\n",
              "    </tr>\n",
              "  </tbody>\n",
              "</table>\n",
              "</div>"
            ],
            "text/plain": [
              "                        0         1         2         3         4\n",
              "SS loadings      2.709633  2.473090  2.041106  1.844498  1.522153\n",
              "proportaion var  0.108385  0.098924  0.081644  0.073780  0.060886\n",
              "cumulative var   0.108385  0.207309  0.288953  0.362733  0.423619"
            ]
          },
          "metadata": {},
          "execution_count": 69
        }
      ]
    },
    {
      "cell_type": "markdown",
      "metadata": {
        "id": "EJ4Iq4VjMVMg"
      },
      "source": [
        "##### 신뢰도 분석\n",
        "- 요인 분석 전에 진행되어야 하는 것이 신뢰도 분석\n",
        "- 응답자들이 얼마나 제대로 응답을 했는지 평가하는 것\n",
        "- 설문 논문에서 반드시 제시되어야 함\n",
        "- 실제 요인 분석시에는 '신뢰도 분석 -> 요인분석 -> 신뢰도 분석.... '으로 진\n"
      ]
    },
    {
      "cell_type": "code",
      "metadata": {
        "id": "-LYhx2tjMoox"
      },
      "source": [
        "# 신뢰도 계수 (크론바흐 알파계수) 확인"
      ],
      "execution_count": null,
      "outputs": []
    },
    {
      "cell_type": "code",
      "metadata": {
        "id": "j8epOf5aNYBA"
      },
      "source": [
        "def CronbachAlpha(itemscores):\n",
        "    itemscores = np.asarray(itemscores)\n",
        "    itemvars = itemscores.var(axis = 0, ddof = 1)\n",
        "    tscores = itemscores.sum(axis = 1)\n",
        "    nitems = itemscores.shape[1] \n",
        "    \n",
        "    return (nitems / (nitems-1)) * (1 - (itemvars.sum() /  tscores.var(ddof = 1)))"
      ],
      "execution_count": null,
      "outputs": []
    },
    {
      "cell_type": "code",
      "metadata": {
        "colab": {
          "base_uri": "https://localhost:8080/"
        },
        "id": "vkPTO6FSNpMV",
        "outputId": "c1af430d-526b-48f4-a560-1b20ade4d2ab"
      },
      "source": [
        "factors = ['A', 'C','E','N','O']\n",
        "factors_items_dict = {}\n",
        "for factor in factors:\n",
        "    factors_items_dict[factor] = [x for x in df.columns if x[0] == factor]\n",
        "\n",
        "factors_items_dict\n",
        "# 최종적으로 사용할 요인들을 모아서 하나의 factor 로 만든다"
      ],
      "execution_count": null,
      "outputs": [
        {
          "output_type": "execute_result",
          "data": {
            "text/plain": [
              "{'A': ['A1', 'A2', 'A3', 'A4', 'A5'],\n",
              " 'C': ['C1', 'C2', 'C3', 'C4', 'C5'],\n",
              " 'E': ['E1', 'E2', 'E3', 'E4', 'E5'],\n",
              " 'N': ['N1', 'N2', 'N3', 'N4', 'N5'],\n",
              " 'O': ['O1', 'O2', 'O3', 'O4', 'O5']}"
            ]
          },
          "metadata": {},
          "execution_count": 74
        }
      ]
    },
    {
      "cell_type": "code",
      "metadata": {
        "colab": {
          "base_uri": "https://localhost:8080/"
        },
        "id": "1GotxJ2UOPxn",
        "outputId": "846c43e4-9e7c-413f-d6b0-8b19195bb8fd"
      },
      "source": [
        "for key, value in factors_items_dict.items():\n",
        "    print(key)\n",
        "    print(CronbachAlpha(df[value]))\n",
        "    # 각 값에 대한 신뢰도 계수를 계산하여 아래와 같이 가져온다\n",
        "# 최종 결론 : N, A 의 경우 신뢰도가 높다고 할 수 있다\n",
        "# 그럼 이 다음에 어떻게 해야 하는걸까? 저 2가지가 신뢰도가 높은 요인이니\n",
        "# 저것들을 가지고 묶어버린 요인을 가지고 뭔가를 할 수 있다고 이야기를 할 수 있는것일까? \n",
        "# (질문, 요인분석 내 신뢰도계수를 통해 얻은 값을 가지고 연구자는 어떤 이야기를 할 수 있는것일까?)"
      ],
      "execution_count": null,
      "outputs": [
        {
          "output_type": "stream",
          "name": "stdout",
          "text": [
            "A\n",
            "0.4437533019387808\n",
            "C\n",
            "-0.31628341382240494\n",
            "E\n",
            "-0.6552429584732491\n",
            "N\n",
            "0.8169468842774033\n",
            "O\n",
            "-0.176098107937655\n"
          ]
        }
      ]
    },
    {
      "cell_type": "markdown",
      "metadata": {
        "id": "vlDEubo7AvPB"
      },
      "source": [
        "### 2) PCA 주성분분석\n",
        "- 고차원의 데이터를 저차원의 데이터로 환원시키는 방법\n",
        "- 데이터를 어떤 기준으로 바탕으로 변환을 하고, 그 변환으로 인해 주성분 추출\n",
        "- 추출된 주성분을 원래 가지고 있는 데이터와 다른, 변환된 데이터\n",
        "- 변수의 의미가 중요한 경우엔 PCA 를 사용하면 안됨, \n",
        "- PCA 탐색적 분석 : 변인을 탐색하여 변환을 통해 주성분을 결정\n",
        "- PCA 의 본질은 차원 축소"
      ]
    },
    {
      "cell_type": "code",
      "metadata": {
        "colab": {
          "base_uri": "https://localhost:8080/",
          "height": 206
        },
        "id": "36778wkuOWkK",
        "outputId": "3cd693ed-08a1-4670-e354-4a85d15d3298"
      },
      "source": [
        "import pandas as pd\n",
        "url = 'https://archive.ics.uci.edu/ml/machine-learning-databases/iris/iris.data'\n",
        "df = pd.read_csv(url, names= ['sepal lenght','sepal width','petal length', 'petal width','target'])\n",
        "\n",
        "from sklearn.preprocessing import StandardScaler \n",
        "x = df.drop(['target'], axis = 1).values \n",
        "y = df['target'].values \n",
        "\n",
        "x = StandardScaler().fit_transform(x) \n",
        "features = ['sepal length','sepal width','petal length', 'petal width']\n",
        "pd.DataFrame(x, columns=features).head()"
      ],
      "execution_count": null,
      "outputs": [
        {
          "output_type": "execute_result",
          "data": {
            "text/html": [
              "<div>\n",
              "<style scoped>\n",
              "    .dataframe tbody tr th:only-of-type {\n",
              "        vertical-align: middle;\n",
              "    }\n",
              "\n",
              "    .dataframe tbody tr th {\n",
              "        vertical-align: top;\n",
              "    }\n",
              "\n",
              "    .dataframe thead th {\n",
              "        text-align: right;\n",
              "    }\n",
              "</style>\n",
              "<table border=\"1\" class=\"dataframe\">\n",
              "  <thead>\n",
              "    <tr style=\"text-align: right;\">\n",
              "      <th></th>\n",
              "      <th>sepal length</th>\n",
              "      <th>sepal width</th>\n",
              "      <th>petal length</th>\n",
              "      <th>petal width</th>\n",
              "    </tr>\n",
              "  </thead>\n",
              "  <tbody>\n",
              "    <tr>\n",
              "      <th>0</th>\n",
              "      <td>-0.900681</td>\n",
              "      <td>1.032057</td>\n",
              "      <td>-1.341272</td>\n",
              "      <td>-1.312977</td>\n",
              "    </tr>\n",
              "    <tr>\n",
              "      <th>1</th>\n",
              "      <td>-1.143017</td>\n",
              "      <td>-0.124958</td>\n",
              "      <td>-1.341272</td>\n",
              "      <td>-1.312977</td>\n",
              "    </tr>\n",
              "    <tr>\n",
              "      <th>2</th>\n",
              "      <td>-1.385353</td>\n",
              "      <td>0.337848</td>\n",
              "      <td>-1.398138</td>\n",
              "      <td>-1.312977</td>\n",
              "    </tr>\n",
              "    <tr>\n",
              "      <th>3</th>\n",
              "      <td>-1.506521</td>\n",
              "      <td>0.106445</td>\n",
              "      <td>-1.284407</td>\n",
              "      <td>-1.312977</td>\n",
              "    </tr>\n",
              "    <tr>\n",
              "      <th>4</th>\n",
              "      <td>-1.021849</td>\n",
              "      <td>1.263460</td>\n",
              "      <td>-1.341272</td>\n",
              "      <td>-1.312977</td>\n",
              "    </tr>\n",
              "  </tbody>\n",
              "</table>\n",
              "</div>"
            ],
            "text/plain": [
              "   sepal length  sepal width  petal length  petal width\n",
              "0     -0.900681     1.032057     -1.341272    -1.312977\n",
              "1     -1.143017    -0.124958     -1.341272    -1.312977\n",
              "2     -1.385353     0.337848     -1.398138    -1.312977\n",
              "3     -1.506521     0.106445     -1.284407    -1.312977\n",
              "4     -1.021849     1.263460     -1.341272    -1.312977"
            ]
          },
          "metadata": {},
          "execution_count": 48
        }
      ]
    },
    {
      "cell_type": "code",
      "metadata": {
        "colab": {
          "base_uri": "https://localhost:8080/"
        },
        "id": "Wy_1hvUlC3K4",
        "outputId": "82bf317e-d56a-4ffb-eaf3-87f0c90ec2f3"
      },
      "source": [
        "# 최적의 주성분 개수 구하기\n",
        "from sklearn.decomposition import PCA \n",
        "pca = PCA()\n",
        "pca.fit(x) # x 변수는 4가지\n",
        "PC_score = pca.transform(x)\n",
        "\n",
        "# pca 의 eigen_vector\n",
        "pca.components_"
      ],
      "execution_count": null,
      "outputs": [
        {
          "output_type": "execute_result",
          "data": {
            "text/plain": [
              "array([[ 0.52237162, -0.26335492,  0.58125401,  0.56561105],\n",
              "       [ 0.37231836,  0.92555649,  0.02109478,  0.06541577],\n",
              "       [-0.72101681,  0.24203288,  0.14089226,  0.6338014 ],\n",
              "       [-0.26199559,  0.12413481,  0.80115427, -0.52354627]])"
            ]
          },
          "metadata": {},
          "execution_count": 49
        }
      ]
    },
    {
      "cell_type": "code",
      "metadata": {
        "colab": {
          "base_uri": "https://localhost:8080/"
        },
        "id": "y8Ooq0zkDDzE",
        "outputId": "60564688-9d71-4aeb-dd31-7e6651c3a236"
      },
      "source": [
        "pca.explained_variance_ \n",
        "# explained_variance 를 통해 pc 값의 설명력을 확인\n",
        "# pc 값이 클수록 설명력이 높다\n",
        "# 첫번째 PC값이 가장 크므로 가장 설명력이 높다"
      ],
      "execution_count": null,
      "outputs": [
        {
          "output_type": "execute_result",
          "data": {
            "text/plain": [
              "array([2.93035378, 0.92740362, 0.14834223, 0.02074601])"
            ]
          },
          "metadata": {},
          "execution_count": 52
        }
      ]
    },
    {
      "cell_type": "code",
      "metadata": {
        "colab": {
          "base_uri": "https://localhost:8080/"
        },
        "id": "vlR6W_z-DIlr",
        "outputId": "8b65156c-1bb0-4419-99e9-0bd967d6f206"
      },
      "source": [
        "ratio = pca.explained_variance_ratio_\n",
        "ratio\n",
        "# 아래의 숫자는 설명력을 나타내주는 것\n",
        "# PC1 이 72.7% , PC2 23.0%, 주성분 2개가 전체의 96%를 설명"
      ],
      "execution_count": null,
      "outputs": [
        {
          "output_type": "execute_result",
          "data": {
            "text/plain": [
              "array([0.72770452, 0.23030523, 0.03683832, 0.00515193])"
            ]
          },
          "metadata": {},
          "execution_count": 53
        }
      ]
    },
    {
      "cell_type": "code",
      "metadata": {
        "colab": {
          "base_uri": "https://localhost:8080/",
          "height": 406
        },
        "id": "gijPlVqsimyH",
        "outputId": "f33e148e-7d78-47b3-da42-3dfaa5b4e559"
      },
      "source": [
        "# 설명력 정도 확인\n",
        "df_v = pd.DataFrame(ratio, index = ['PC1','PC2','PC3','PC4'],\n",
        "                    columns = ['pc_ratio'])\n",
        "df_v.plot.pie(y = 'pc_ratio')\n",
        "df_v"
      ],
      "execution_count": null,
      "outputs": [
        {
          "output_type": "execute_result",
          "data": {
            "text/html": [
              "<div>\n",
              "<style scoped>\n",
              "    .dataframe tbody tr th:only-of-type {\n",
              "        vertical-align: middle;\n",
              "    }\n",
              "\n",
              "    .dataframe tbody tr th {\n",
              "        vertical-align: top;\n",
              "    }\n",
              "\n",
              "    .dataframe thead th {\n",
              "        text-align: right;\n",
              "    }\n",
              "</style>\n",
              "<table border=\"1\" class=\"dataframe\">\n",
              "  <thead>\n",
              "    <tr style=\"text-align: right;\">\n",
              "      <th></th>\n",
              "      <th>pc_ratio</th>\n",
              "    </tr>\n",
              "  </thead>\n",
              "  <tbody>\n",
              "    <tr>\n",
              "      <th>PC1</th>\n",
              "      <td>0.727705</td>\n",
              "    </tr>\n",
              "    <tr>\n",
              "      <th>PC2</th>\n",
              "      <td>0.230305</td>\n",
              "    </tr>\n",
              "    <tr>\n",
              "      <th>PC3</th>\n",
              "      <td>0.036838</td>\n",
              "    </tr>\n",
              "    <tr>\n",
              "      <th>PC4</th>\n",
              "      <td>0.005152</td>\n",
              "    </tr>\n",
              "  </tbody>\n",
              "</table>\n",
              "</div>"
            ],
            "text/plain": [
              "     pc_ratio\n",
              "PC1  0.727705\n",
              "PC2  0.230305\n",
              "PC3  0.036838\n",
              "PC4  0.005152"
            ]
          },
          "metadata": {},
          "execution_count": 54
        },
        {
          "output_type": "display_data",
          "data": {
            "image/png": "[encoded data removed]",
            "text/plain": [
              "<Figure size 432x288 with 1 Axes>"
            ]
          },
          "metadata": {}
        }
      ]
    },
    {
      "cell_type": "code",
      "metadata": {
        "colab": {
          "base_uri": "https://localhost:8080/",
          "height": 295
        },
        "id": "Gh9kzNcJi9N_",
        "outputId": "45939c99-1c7e-42f7-9836-5f21b96286dc"
      },
      "source": [
        "# plot 그래프로도 확인하기\n",
        "ax = plt.plot(['PC1','PC2','PC3','PC4'], ratio)\n",
        "plt.ylabel('Variance(%)')\n",
        "plt.xlabel('principal component')\n",
        "plt.title('pca plot')\n",
        "plt.show()"
      ],
      "execution_count": null,
      "outputs": [
        {
          "output_type": "display_data",
          "data": {
            "image/png": "[encoded data removed]",
            "text/plain": [
              "<Figure size 432x288 with 1 Axes>"
            ]
          },
          "metadata": {
            "needs_background": "light"
          }
        }
      ]
    },
    {
      "cell_type": "code",
      "metadata": {
        "colab": {
          "base_uri": "https://localhost:8080/",
          "height": 295
        },
        "id": "Da3DYnABjKi6",
        "outputId": "1d305caa-9020-4a13-d122-dbee9e0a59b1"
      },
      "source": [
        "ax = plt.bar(x = range(len(ratio)), height=ratio, tick_label= ['PC1','PC2','PC3','PC4'])\n",
        "plt.ylabel('Variance(%)')\n",
        "plt.xlabel('Principal Component')\n",
        "plt.title('PCA Plot(bar)')\n",
        "plt.show()"
      ],
      "execution_count": null,
      "outputs": [
        {
          "output_type": "display_data",
          "data": {
            "image/png": "[encoded data removed]",
            "text/plain": [
              "<Figure size 432x288 with 1 Axes>"
            ]
          },
          "metadata": {
            "needs_background": "light"
          }
        }
      ]
    },
    {
      "cell_type": "markdown",
      "metadata": {
        "id": "Wzmw6WNMjiAZ"
      },
      "source": [
        "#### 최적의 주성분 개수로 분석하기"
      ]
    },
    {
      "cell_type": "code",
      "metadata": {
        "colab": {
          "base_uri": "https://localhost:8080/",
          "height": 424
        },
        "id": "FtG3pJ_LjZTa",
        "outputId": "ce9c73e4-065c-4887-a7af-c4dc6d966920"
      },
      "source": [
        "# 주성분 2개로 분석 \n",
        "from sklearn.decomposition import PCA \n",
        "import numpy as np\n",
        "pca = PCA(n_components = 2) # 주성분의 개수 결정\n",
        "pc = pca.fit_transform(x) \n",
        "pc_y = np.c_[pc, y]\n",
        "principalDf = pd.DataFrame(pc_y, columns = ['pc1','pc2','diagnosis'])\n",
        "principalDf"
      ],
      "execution_count": null,
      "outputs": [
        {
          "output_type": "execute_result",
          "data": {
            "text/html": [
              "<div>\n",
              "<style scoped>\n",
              "    .dataframe tbody tr th:only-of-type {\n",
              "        vertical-align: middle;\n",
              "    }\n",
              "\n",
              "    .dataframe tbody tr th {\n",
              "        vertical-align: top;\n",
              "    }\n",
              "\n",
              "    .dataframe thead th {\n",
              "        text-align: right;\n",
              "    }\n",
              "</style>\n",
              "<table border=\"1\" class=\"dataframe\">\n",
              "  <thead>\n",
              "    <tr style=\"text-align: right;\">\n",
              "      <th></th>\n",
              "      <th>pc1</th>\n",
              "      <th>pc2</th>\n",
              "      <th>diagnosis</th>\n",
              "    </tr>\n",
              "  </thead>\n",
              "  <tbody>\n",
              "    <tr>\n",
              "      <th>0</th>\n",
              "      <td>-2.26454</td>\n",
              "      <td>0.505704</td>\n",
              "      <td>Iris-setosa</td>\n",
              "    </tr>\n",
              "    <tr>\n",
              "      <th>1</th>\n",
              "      <td>-2.08643</td>\n",
              "      <td>-0.655405</td>\n",
              "      <td>Iris-setosa</td>\n",
              "    </tr>\n",
              "    <tr>\n",
              "      <th>2</th>\n",
              "      <td>-2.36795</td>\n",
              "      <td>-0.318477</td>\n",
              "      <td>Iris-setosa</td>\n",
              "    </tr>\n",
              "    <tr>\n",
              "      <th>3</th>\n",
              "      <td>-2.3042</td>\n",
              "      <td>-0.575368</td>\n",
              "      <td>Iris-setosa</td>\n",
              "    </tr>\n",
              "    <tr>\n",
              "      <th>4</th>\n",
              "      <td>-2.38878</td>\n",
              "      <td>0.674767</td>\n",
              "      <td>Iris-setosa</td>\n",
              "    </tr>\n",
              "    <tr>\n",
              "      <th>...</th>\n",
              "      <td>...</td>\n",
              "      <td>...</td>\n",
              "      <td>...</td>\n",
              "    </tr>\n",
              "    <tr>\n",
              "      <th>145</th>\n",
              "      <td>1.87052</td>\n",
              "      <td>0.382822</td>\n",
              "      <td>Iris-virginica</td>\n",
              "    </tr>\n",
              "    <tr>\n",
              "      <th>146</th>\n",
              "      <td>1.55849</td>\n",
              "      <td>-0.905314</td>\n",
              "      <td>Iris-virginica</td>\n",
              "    </tr>\n",
              "    <tr>\n",
              "      <th>147</th>\n",
              "      <td>1.52085</td>\n",
              "      <td>0.266795</td>\n",
              "      <td>Iris-virginica</td>\n",
              "    </tr>\n",
              "    <tr>\n",
              "      <th>148</th>\n",
              "      <td>1.37639</td>\n",
              "      <td>1.01636</td>\n",
              "      <td>Iris-virginica</td>\n",
              "    </tr>\n",
              "    <tr>\n",
              "      <th>149</th>\n",
              "      <td>0.959299</td>\n",
              "      <td>-0.0222839</td>\n",
              "      <td>Iris-virginica</td>\n",
              "    </tr>\n",
              "  </tbody>\n",
              "</table>\n",
              "<p>150 rows × 3 columns</p>\n",
              "</div>"
            ],
            "text/plain": [
              "          pc1        pc2       diagnosis\n",
              "0    -2.26454   0.505704     Iris-setosa\n",
              "1    -2.08643  -0.655405     Iris-setosa\n",
              "2    -2.36795  -0.318477     Iris-setosa\n",
              "3     -2.3042  -0.575368     Iris-setosa\n",
              "4    -2.38878   0.674767     Iris-setosa\n",
              "..        ...        ...             ...\n",
              "145   1.87052   0.382822  Iris-virginica\n",
              "146   1.55849  -0.905314  Iris-virginica\n",
              "147   1.52085   0.266795  Iris-virginica\n",
              "148   1.37639    1.01636  Iris-virginica\n",
              "149  0.959299 -0.0222839  Iris-virginica\n",
              "\n",
              "[150 rows x 3 columns]"
            ]
          },
          "metadata": {},
          "execution_count": 58
        }
      ]
    },
    {
      "cell_type": "code",
      "metadata": {
        "colab": {
          "base_uri": "https://localhost:8080/",
          "height": 296
        },
        "id": "SxsTPzuBj8MQ",
        "outputId": "62179476-9233-4ba7-b9c4-6c4f00fb6186"
      },
      "source": [
        "import seaborn as sns\n",
        "sns.scatterplot(data = principalDf, x = 'pc1',y = 'pc2', hue = 'diagnosis')"
      ],
      "execution_count": null,
      "outputs": [
        {
          "output_type": "execute_result",
          "data": {
            "text/plain": [
              "<matplotlib.axes._subplots.AxesSubplot at 0x7ff9522a6c90>"
            ]
          },
          "metadata": {},
          "execution_count": 59
        },
        {
          "output_type": "display_data",
          "data": {
            "image/png": "[encoded data removed]",
            "text/plain": [
              "<Figure size 432x288 with 1 Axes>"
            ]
          },
          "metadata": {
            "needs_background": "light"
          }
        }
      ]
    },
    {
      "cell_type": "code",
      "metadata": {
        "colab": {
          "base_uri": "https://localhost:8080/"
        },
        "id": "HrjZ0qVNkE_H",
        "outputId": "93b96b31-8da6-44b3-e668-9ed9cd6e0c23"
      },
      "source": [
        "# 로지스틱 분석\n",
        "from sklearn.linear_model import LogisticRegression \n",
        "from sklearn.metrics import confusion_matrix \n",
        "clf2 = LogisticRegression(max_iter = 1000, \n",
        "                          random_state = 0,\n",
        "                          multi_class = 'multinomial')\n",
        "clf2.fit(pc,y)\n",
        "pred = clf2.predict(pc) \n",
        "confusion_matrix(y, pred)"
      ],
      "execution_count": null,
      "outputs": [
        {
          "output_type": "execute_result",
          "data": {
            "text/plain": [
              "array([[50,  0,  0],\n",
              "       [ 0, 45,  5],\n",
              "       [ 0,  5, 45]])"
            ]
          },
          "metadata": {},
          "execution_count": 62
        }
      ]
    },
    {
      "cell_type": "markdown",
      "metadata": {
        "id": "ukenoBXPnZdX"
      },
      "source": [
        "### 3) LEE, MDS 등의 차원 축소법"
      ]
    },
    {
      "cell_type": "markdown",
      "metadata": {
        "id": "42U9dPZ1nfLB"
      },
      "source": [
        "#### MDS\n",
        "- 저차원 공간에 데이터를 삽입하기 위한 비선형 기술\n",
        "- 고차원 공간에 있는 점을 저차원 공간에 매핑하며, 해당 점 사이의 거리를 최대한 유지\n",
        "- (다차원 축소 외에도 PCA , SVD 를 사용하여 추가 축소기술 사용이 가능)\n",
        "\n",
        "- MDS 구현하는 2가지 주요 방법\n",
        "    - metric MDS / Classic MDS : 가능한 쌍별 거리 / 비유사성 측정값을 유지하는 것을 목표\n",
        "    - Non-metric MDS : 비유사성 메트릭의 순위만 알고 있는 경우에 적용\n"
      ]
    },
    {
      "cell_type": "code",
      "metadata": {
        "id": "c6e0qoYctM5y"
      },
      "source": [
        "from sklearn.manifold import MDS\n",
        "from matplotlib import pyplot as plt\n",
        "import sklearn.datasets as dt \n",
        "import seaborn as sns\n",
        "import numpy as np\n",
        "from sklearn.metrics.pairwise import manhattan_distances \n",
        "from matplotlib.offsetbox import OffsetImage, AnnotationBbox"
      ],
      "execution_count": null,
      "outputs": []
    },
    {
      "cell_type": "code",
      "metadata": {
        "colab": {
          "base_uri": "https://localhost:8080/"
        },
        "id": "gQMFOTEhkSTo",
        "outputId": "ce8c2d45-9f90-4a35-803d-ca0e400aa5b7"
      },
      "source": [
        "X = np.array([[0,0,0],\n",
        "              [0,0,1],\n",
        "              [1,1,1],\n",
        "              [0,1,0],\n",
        "              [0,1,1]])\n",
        "mds = MDS(random_state = 0)\n",
        "X_transform = mds.fit_transform(X)\n",
        "print(X_transform)\n",
        "# 위의 방식은 3차원 값을 2차원 공간에 나타낸 값"
      ],
      "execution_count": null,
      "outputs": [
        {
          "output_type": "stream",
          "name": "stdout",
          "text": [
            "[[ 0.72521687  0.52943352]\n",
            " [ 0.61640884 -0.48411805]\n",
            " [-0.9113603  -0.47905115]\n",
            " [-0.2190564   0.71505714]\n",
            " [-0.21120901 -0.28132146]]\n"
          ]
        }
      ]
    },
    {
      "cell_type": "code",
      "metadata": {
        "colab": {
          "base_uri": "https://localhost:8080/"
        },
        "id": "_JR7yLFdtrpY",
        "outputId": "930b55b6-5925-4326-81ea-e4ede4977116"
      },
      "source": [
        "stress = mds.stress_\n",
        "print(stress)"
      ],
      "execution_count": null,
      "outputs": [
        {
          "output_type": "stream",
          "name": "stdout",
          "text": [
            "0.18216844548575456\n"
          ]
        }
      ]
    },
    {
      "cell_type": "code",
      "metadata": {
        "id": "0c9UbSPst5t4"
      },
      "source": [
        "# mds 를 적용하는 또 다른 방법은 거리행렬을 구성하고 이 행렬에 직접 mds 를 적용하는 것\n",
        "# 유클리드 거리, 쌍별 맨해튼 거리 등을 사용함\n",
        "# 해당 거리를 계산하고, MDS 를 통해 데이터를 변환\n",
        "\n",
        "dist_manhattan = manhattan_distances(X)\n",
        "mds = MDS(dissimilarity='precomputed', random_state = 0)\n",
        "X_transform_L1 = mds.fit_transform(dist_manhattan)"
      ],
      "execution_count": null,
      "outputs": []
    },
    {
      "cell_type": "code",
      "metadata": {
        "colab": {
          "base_uri": "https://localhost:8080/",
          "height": 281
        },
        "id": "DYzipj3HuNSg",
        "outputId": "eda1aeea-63b9-498b-93fa-c55416d7cb96"
      },
      "source": [
        "colors = ['r', 'g', 'b', 'c', 'm']\n",
        "size = [64, 64, 64, 64, 64]\n",
        "fig = plt.figure(2, (10,4))\n",
        "ax = fig.add_subplot(121, projection='3d')\n",
        "plt.scatter(X[:,0], X[:,1], zs=X[:,2], s=size, c=colors)\n",
        "plt.title('Original Points')\n",
        "\n",
        "ax = fig.add_subplot(122)\n",
        "plt.scatter(X_transform[:,0], X_transform[:,1], s=size, c=colors)\n",
        "plt.title('Embedding in 2D')\n",
        "fig.subplots_adjust(wspace=.4, hspace=0.5)\n",
        "plt.show()"
      ],
      "execution_count": null,
      "outputs": [
        {
          "output_type": "display_data",
          "data": {
            "image/png": "[encoded data removed]",
            "text/plain": [
              "<Figure size 720x288 with 2 Axes>"
            ]
          },
          "metadata": {
            "needs_background": "light"
          }
        }
      ]
    },
    {
      "cell_type": "code",
      "metadata": {
        "id": "1VawrBsvuddp"
      },
      "source": [
        "# 만약 데이터가 주어지고, MDP 로 차원축소하라는 문제가 생긴다면 사용가능한 코드\n",
        "# 맨하탄 거리 사용시 \n",
        "dist_manhattan = manhattan_distances(X)\n",
        "mds = MDS(dissimilarity='precomputed', random_state=0)\n",
        "X_transform_L1 = mds.fit_transform(dist_manhattan)\n",
        "\n",
        "# 유클리드 거리 사용시\n",
        "dist_euclid = euclidean_distances(X)\n",
        "mds = MDS(metric = dist_euclid, dissimilarity='precomputed', random_state = 0)\n",
        "X_transform_L2 = mds.fit_transform(dist_euclid)\n",
        "\n",
        "# 차원이 dim 으로 정해질 경우\n",
        "# 맨하탄 거리 사용시 \n",
        "dim = 2\n",
        "dist_manhattan = manhattan_distances(X)\n",
        "mds = MDS(n_components = dim, dissimilarity='precomputed', random_state = 0)\n",
        "X_transform_L3 = mds.fit_transform(dist_manhattan)\n",
        "\n",
        "# 만약 stree 값을 저장해서 보고자 한다면 \n",
        "mds.stress_ #로 조회한 뒤 \n",
        "stress_list = []\n",
        "stress_list.append(mds.stress_) #등에 넣고 저장한다"
      ],
      "execution_count": null,
      "outputs": []
    },
    {
      "cell_type": "markdown",
      "metadata": {
        "id": "P2niBnJxxhuh"
      },
      "source": [
        "#### LLE, 로컬 선형 임베딩 Locally-linear-embedding \n",
        "- 매니폴드 학습 중 하나\n",
        "- 매니폴드 : 고차원 데이터가 있을 때, 고차원 데이터를 데이터 공간에 뿌리면 샘플들을 잘 아우르는 subspace 가 있을 것이라는 가정에서 학습을 진행\n",
        "    <목적 4가지>\n",
        "        1. 데이터 압축\n",
        "        2. 데이터 시각화\n",
        "        3. 차원의 저주 피하기\n",
        "        4. 유용한 특징 추출하기\n",
        "\n",
        "<정의>\n",
        "- 각 훈련 인스턴스를 가장 가까운 이웃과 연결하여 고차원 입력의 저차원 임베딩을 생성하는 비지도 학습 알고리즘\n",
        "\n",
        "<방법>\n",
        "\n",
        "- 각 점의 k 개의 최근접 이웃 집합을 찾음\n",
        "- 해당 점을 이웃의 선형 조합으로 설명 : x(i) = w_1 * 주변 xx_1 + ...  + w_m * xx_m\n",
        "    - 해당 점의 비용함수 = 평균값(x(i) - w1 * xx_1 의 합)\n",
        "- 각 점의 이웃의 선형 조합으로 설명\n",
        "    - 가중치가 0, m개 가장 가까운 이웃에 포함되지 않은 경우, 가중치를 정규화\n",
        "    - \n"
      ]
    },
    {
      "cell_type": "code",
      "metadata": {
        "id": "UKFMPfuKuR94"
      },
      "source": [
        "from sklearn.manifold import LocallyLinearEmbedding\n",
        "lle = LocallyLinearEmbedding(n_neighbors = 4, n_components = 2)\n",
        "X_transformed = lle.fit_transform(X)\n",
        "# method = 'standard' 가 기본값\n",
        "# neighbors_algorithm : {'auto','brute','kd_tree','ball_tree'} 셋팅"
      ],
      "execution_count": null,
      "outputs": []
    },
    {
      "cell_type": "markdown",
      "source": [
        "## 8. 시계열 분석"
      ],
      "metadata": {
        "id": "7EULGDh5DBX7"
      }
    },
    {
      "cell_type": "code",
      "source": [
        "# arma 모델\n",
        "import pandas\n",
        "import statsmodels.tsa.api as tsa\n",
        "from pandas.io.data import DataReader\n",
        "import pandas\n",
        "\n",
        "data = DataReader('GOOG','yahoo')\n",
        "dates = data.index\n",
        "\n",
        "# start at a date on the index\n",
        "start = dates.get_loc(pandas.datetools.parse(\"1-2-2013\"))\n",
        "end = start + 30 # \"steps\"\n",
        "\n",
        "# NOTE THE .values\n",
        "arma =tsa.ARMA(data['Close'].values, order =(2,2))\n",
        "results= arma.fit()\n",
        "results.predict(start, end)"
      ],
      "metadata": {
        "id": "bwmw1cGlDGql"
      },
      "execution_count": null,
      "outputs": []
    },
    {
      "cell_type": "markdown",
      "source": [
        "The statsmodels library provides the capability to fit an ARIMA model.\n",
        "\n",
        "An ARIMA model can be created using the statsmodels library as follows:\n",
        "\n",
        "1. Define the model by calling ARIMA() and passing in the p, d, and q parameters.\n",
        "2. The model is prepared on the training data by calling the fit() function.\n",
        "Predictions can be made by calling the predict() function and specifying the index of the time or times to be predicted.\n",
        "3. Let’s start off with something simple. We will fit an ARIMA model to the entire Shampoo Sales dataset and review the residual errors.\n",
        "\n",
        "First, we fit an ARIMA(5,1,0) model. This sets the lag value to 5 for autoregression, uses a difference order of 1 to make the time series stationary, and uses a moving average model of 0."
      ],
      "metadata": {
        "id": "SX7E3gP1DXZ2"
      }
    },
    {
      "cell_type": "code",
      "source": [
        "# fit an ARIMA model and plot residual errors\n",
        "from pandas import datetime\n",
        "from pandas import read_csv\n",
        "from pandas import DataFrame\n",
        "from statsmodels.tsa.arima.model import ARIMA\n",
        "from matplotlib import pyplot\n",
        "# load dataset\n",
        "def parser(x):\n",
        "\treturn datetime.strptime('190'+x, '%Y-%m')\n",
        "series = read_csv('shampoo-sales.csv', header=0, index_col=0, parse_dates=True, squeeze=True, date_parser=parser)\n",
        "series.index = series.index.to_period('M')\n",
        "# fit model\n",
        "model = ARIMA(series, order=(5,1,0))\n",
        "model_fit = model.fit()\n",
        "# summary of fit model\n",
        "print(model_fit.summary())\n",
        "# line plot of residuals\n",
        "residuals = DataFrame(model_fit.resid)\n",
        "residuals.plot()\n",
        "pyplot.show()\n",
        "# density plot of residuals\n",
        "residuals.plot(kind='kde')\n",
        "pyplot.show()\n",
        "# summary stats of residuals\n",
        "print(residuals.describe())"
      ],
      "metadata": {
        "id": "nBFdUrVPDRWy"
      },
      "execution_count": null,
      "outputs": []
    },
    {
      "cell_type": "code",
      "source": [
        "# evaluate an ARIMA model using a walk-forward validation\n",
        "from pandas import read_csv\n",
        "from pandas import datetime\n",
        "from matplotlib import pyplot\n",
        "from statsmodels.tsa.arima.model import ARIMA\n",
        "from sklearn.metrics import mean_squared_error\n",
        "from math import sqrt\n",
        "# load dataset\n",
        "def parser(x):\n",
        "\treturn datetime.strptime('190'+x, '%Y-%m')\n",
        "series = read_csv('shampoo-sales.csv', header=0, index_col=0, parse_dates=True, squeeze=True, date_parser=parser)\n",
        "series.index = series.index.to_period('M')\n",
        "# split into train and test sets\n",
        "X = series.values\n",
        "size = int(len(X) * 0.66)\n",
        "train, test = X[0:size], X[size:len(X)]\n",
        "history = [x for x in train]\n",
        "predictions = list()\n",
        "# walk-forward validation\n",
        "for t in range(len(test)):\n",
        "\tmodel = ARIMA(history, order=(5,1,0))\n",
        "\tmodel_fit = model.fit()\n",
        "\toutput = model_fit.forecast()\n",
        "\tyhat = output[0]\n",
        "\tpredictions.append(yhat)\n",
        "\tobs = test[t]\n",
        "\thistory.append(obs)\n",
        "\tprint('predicted=%f, expected=%f' % (yhat, obs))\n",
        "# evaluate forecasts\n",
        "rmse = sqrt(mean_squared_error(test, predictions))\n",
        "print('Test RMSE: %.3f' % rmse)\n",
        "# plot forecasts against actual outcomes\n",
        "pyplot.plot(test)\n",
        "pyplot.plot(predictions, color='red')\n",
        "pyplot.show()\n",
        "# We can also calculate a final root mean squared error score (RMSE) for the predictions, providing a point of comparison for other ARIMA configurations."
      ],
      "metadata": {
        "id": "TmefnBIfDwMw"
      },
      "execution_count": null,
      "outputs": []
    },
    {
      "cell_type": "markdown",
      "metadata": {
        "id": "nMgspZd24RDc"
      },
      "source": [
        "## 9. 불균형 클래스 분류\n",
        "- 언더 샘플링 : 다수 클래스 데이터에서 일부만 사용하는 경우\n",
        "- 오버 샘플링 : 소수 클래스 데이터를 증가시키는 방식"
      ]
    },
    {
      "cell_type": "code",
      "metadata": {
        "colab": {
          "base_uri": "https://localhost:8080/"
        },
        "id": "GHGglbIp6NtJ",
        "outputId": "699762f9-6f90-440b-c2d2-093e0d743e83"
      },
      "source": [
        "import imblearn\n",
        "print(imblearn.__version__)\n",
        "\n",
        "import pandas as pd \n",
        "from collections import Counter \n",
        "from matplotlib import pyplot \n",
        "\n",
        "# 필요함수 정의 \n",
        "def count_and_plot(y):\n",
        "    counter = Counter(y)\n",
        "    for k, v in counter.items():\n",
        "        print('Class=%d, n=%d (%.3f%%)' % (k, v, v / len(y) * 100))\n",
        "        pyplot.bar(counter.keys(), counter.values())\n",
        "        pyplot.show()\n",
        "# 데이터 읽어오기\n",
        "url = 'https://raw.githubusercontent.com/jbrownlee/Datasets/master/glass.csv'\n",
        "df = pd.read_csv(url, header=None)\n",
        "data = df.values\n",
        "X, y = data[:, :-1], data[:, -1]"
      ],
      "execution_count": null,
      "outputs": [
        {
          "output_type": "stream",
          "name": "stdout",
          "text": [
            "0.8.1\n"
          ]
        }
      ]
    },
    {
      "cell_type": "markdown",
      "metadata": {
        "id": "yu0xocYm4bA6"
      },
      "source": [
        "### 1) 언더 샘플링\n",
        "- 제일 적은 클래스의 갯수로 데이터셋이 랜덤하게 삭제 됨"
      ]
    },
    {
      "cell_type": "code",
      "metadata": {
        "colab": {
          "base_uri": "https://localhost:8080/",
          "height": 1000
        },
        "id": "GQwz2dB25ISO",
        "outputId": "f0169731-5a32-4054-a638-d9cbc2cc880c"
      },
      "source": [
        "from imblearn.under_sampling import RandomUnderSampler \n",
        "X_resampled, y_resampled = RandomUnderSampler(random_state = 0).fit_resample(X,y)\n",
        "count_and_plot(y_resampled)"
      ],
      "execution_count": null,
      "outputs": [
        {
          "output_type": "stream",
          "name": "stdout",
          "text": [
            "Class=1, n=9 (16.667%)\n"
          ]
        },
        {
          "output_type": "display_data",
          "data": {
            "image/png": "[encoded data removed]",
            "text/plain": [
              "<Figure size 432x288 with 1 Axes>"
            ]
          },
          "metadata": {
            "needs_background": "light"
          }
        },
        {
          "output_type": "stream",
          "name": "stdout",
          "text": [
            "Class=2, n=9 (16.667%)\n"
          ]
        },
        {
          "output_type": "display_data",
          "data": {
            "image/png": "[encoded data removed]",
            "text/plain": [
              "<Figure size 432x288 with 1 Axes>"
            ]
          },
          "metadata": {
            "needs_background": "light"
          }
        },
        {
          "output_type": "stream",
          "name": "stdout",
          "text": [
            "Class=3, n=9 (16.667%)\n"
          ]
        },
        {
          "output_type": "display_data",
          "data": {
            "image/png": "[encoded data removed]",
            "text/plain": [
              "<Figure size 432x288 with 1 Axes>"
            ]
          },
          "metadata": {
            "needs_background": "light"
          }
        },
        {
          "output_type": "stream",
          "name": "stdout",
          "text": [
            "Class=5, n=9 (16.667%)\n"
          ]
        },
        {
          "output_type": "display_data",
          "data": {
            "image/png": "[encoded data removed]",
            "text/plain": [
              "<Figure size 432x288 with 1 Axes>"
            ]
          },
          "metadata": {
            "needs_background": "light"
          }
        },
        {
          "output_type": "stream",
          "name": "stdout",
          "text": [
            "Class=6, n=9 (16.667%)\n"
          ]
        },
        {
          "output_type": "display_data",
          "data": {
            "image/png": "[encoded data removed]",
            "text/plain": [
              "<Figure size 432x288 with 1 Axes>"
            ]
          },
          "metadata": {
            "needs_background": "light"
          }
        },
        {
          "output_type": "stream",
          "name": "stdout",
          "text": [
            "Class=7, n=9 (16.667%)\n"
          ]
        },
        {
          "output_type": "display_data",
          "data": {
            "image/png": "[encoded data removed]",
            "text/plain": [
              "<Figure size 432x288 with 1 Axes>"
            ]
          },
          "metadata": {
            "needs_background": "light"
          }
        }
      ]
    },
    {
      "cell_type": "markdown",
      "metadata": {
        "id": "3QTZmyUS4cf-"
      },
      "source": [
        "### 2) 오버 샘플링\n",
        "- 상대적으로 적은 클래스의 데이터를 뻥튀기 시켜 늘리는 방법\n",
        "- 오버 샘플링 방식에는 여러가지가 있으며, 가장 단순한 방식은 동일한 데이터를 똑같이 복사해 수만 늘리는 것\n",
        "- 이럴 경우 오버피팅의 위험성이 생김"
      ]
    },
    {
      "cell_type": "code",
      "metadata": {
        "colab": {
          "base_uri": "https://localhost:8080/",
          "height": 1000
        },
        "id": "yZOXaCK47Rqv",
        "outputId": "788d6e83-5bf8-409f-e6e6-ca28dc917d93"
      },
      "source": [
        "from imblearn.over_sampling import RandomOverSampler\n",
        "X_resampled, y_resampled = RandomOverSampler(random_state =0).fit_resample(X,y)\n",
        "count_and_plot(y_resampled)\n",
        "\n",
        "from imblearn.over_sampling import SMOTE \n",
        "X_resampled, y_resampled = SMOTE(random_state =0).fit_resample(X,y)\n",
        "count_and_plot(y_resampled)"
      ],
      "execution_count": null,
      "outputs": [
        {
          "output_type": "stream",
          "name": "stdout",
          "text": [
            "Class=1, n=76 (16.667%)\n"
          ]
        },
        {
          "output_type": "display_data",
          "data": {
            "image/png": "[encoded data removed]",
            "text/plain": [
              "<Figure size 432x288 with 1 Axes>"
            ]
          },
          "metadata": {
            "needs_background": "light"
          }
        },
        {
          "output_type": "stream",
          "name": "stdout",
          "text": [
            "Class=2, n=76 (16.667%)\n"
          ]
        },
        {
          "output_type": "display_data",
          "data": {
            "image/png": "[encoded data removed]",
            "text/plain": [
              "<Figure size 432x288 with 1 Axes>"
            ]
          },
          "metadata": {
            "needs_background": "light"
          }
        },
        {
          "output_type": "stream",
          "name": "stdout",
          "text": [
            "Class=3, n=76 (16.667%)\n"
          ]
        },
        {
          "output_type": "display_data",
          "data": {
            "image/png": "[encoded data removed]",
            "text/plain": [
              "<Figure size 432x288 with 1 Axes>"
            ]
          },
          "metadata": {
            "needs_background": "light"
          }
        },
        {
          "output_type": "stream",
          "name": "stdout",
          "text": [
            "Class=5, n=76 (16.667%)\n"
          ]
        },
        {
          "output_type": "display_data",
          "data": {
            "image/png": "[encoded data removed]",
            "text/plain": [
              "<Figure size 432x288 with 1 Axes>"
            ]
          },
          "metadata": {
            "needs_background": "light"
          }
        },
        {
          "output_type": "stream",
          "name": "stdout",
          "text": [
            "Class=6, n=76 (16.667%)\n"
          ]
        },
        {
          "output_type": "display_data",
          "data": {
            "image/png": "[encoded data removed]",
            "text/plain": [
              "<Figure size 432x288 with 1 Axes>"
            ]
          },
          "metadata": {
            "needs_background": "light"
          }
        },
        {
          "output_type": "stream",
          "name": "stdout",
          "text": [
            "Class=7, n=76 (16.667%)\n"
          ]
        },
        {
          "output_type": "display_data",
          "data": {
            "image/png": "[encoded data removed]",
            "text/plain": [
              "<Figure size 432x288 with 1 Axes>"
            ]
          },
          "metadata": {
            "needs_background": "light"
          }
        },
        {
          "output_type": "stream",
          "name": "stdout",
          "text": [
            "Class=1, n=76 (16.667%)\n"
          ]
        },
        {
          "output_type": "display_data",
          "data": {
            "image/png": "[encoded data removed]",
            "text/plain": [
              "<Figure size 432x288 with 1 Axes>"
            ]
          },
          "metadata": {
            "needs_background": "light"
          }
        },
        {
          "output_type": "stream",
          "name": "stdout",
          "text": [
            "Class=2, n=76 (16.667%)\n"
          ]
        },
        {
          "output_type": "display_data",
          "data": {
            "image/png": "[encoded data removed]",
            "text/plain": [
              "<Figure size 432x288 with 1 Axes>"
            ]
          },
          "metadata": {
            "needs_background": "light"
          }
        },
        {
          "output_type": "stream",
          "name": "stdout",
          "text": [
            "Class=3, n=76 (16.667%)\n"
          ]
        },
        {
          "output_type": "display_data",
          "data": {
            "image/png": "[encoded data removed]",
            "text/plain": [
              "<Figure size 432x288 with 1 Axes>"
            ]
          },
          "metadata": {
            "needs_background": "light"
          }
        },
        {
          "output_type": "stream",
          "name": "stdout",
          "text": [
            "Class=5, n=76 (16.667%)\n"
          ]
        },
        {
          "output_type": "display_data",
          "data": {
            "image/png": "[encoded data removed]",
            "text/plain": [
              "<Figure size 432x288 with 1 Axes>"
            ]
          },
          "metadata": {
            "needs_background": "light"
          }
        },
        {
          "output_type": "stream",
          "name": "stdout",
          "text": [
            "Class=6, n=76 (16.667%)\n"
          ]
        },
        {
          "output_type": "display_data",
          "data": {
            "image/png": "[encoded data removed]",
            "text/plain": [
              "<Figure size 432x288 with 1 Axes>"
            ]
          },
          "metadata": {
            "needs_background": "light"
          }
        },
        {
          "output_type": "stream",
          "name": "stdout",
          "text": [
            "Class=7, n=76 (16.667%)\n"
          ]
        },
        {
          "output_type": "display_data",
          "data": {
            "image/png": "[encoded data removed]",
            "text/plain": [
              "<Figure size 432x288 with 1 Axes>"
            ]
          },
          "metadata": {
            "needs_background": "light"
          }
        }
      ]
    },
    {
      "cell_type": "markdown",
      "metadata": {
        "id": "Bs6t-aL-4eHR"
      },
      "source": [
        "### 3) 업 샘플링\n",
        "- 시계열 데이터 주기를 변환할 때 생기는 결측값을 처리하는 방법\n",
        "- 데이터가 5초 기준으로 구성되어있다\n",
        "- 처음 업샘플 데이터를 만듦녀, 5초단위 데이터를 1초단위 데이터로 만들기 때문에, 결측치가 많이 발생한다 (1 ~ 4초 구간은 nan값으로 채워짐)\n",
        "- 그 다음 ffill() 을 사용하여 값 추가후,\n",
        "- 선형 변환 linear interpolation 을 통해 최종적으로 값을 변환한다"
      ]
    },
    {
      "cell_type": "code",
      "metadata": {
        "id": "KwvG-_sY-jIE"
      },
      "source": [
        "import pandas as pd\n",
        "import numpy as np\n",
        "rng = pd.date_range('2019-12-31', periods = 3, freq = '5s')"
      ],
      "execution_count": null,
      "outputs": []
    },
    {
      "cell_type": "code",
      "metadata": {
        "colab": {
          "base_uri": "https://localhost:8080/"
        },
        "id": "TbwXljr6_WRb",
        "outputId": "91e391e1-9ff0-4d48-c2d5-fd83f987cb9d"
      },
      "source": [
        "rng"
      ],
      "execution_count": null,
      "outputs": [
        {
          "output_type": "execute_result",
          "data": {
            "text/plain": [
              "DatetimeIndex(['2019-12-31 00:00:00', '2019-12-31 00:00:05',\n",
              "               '2019-12-31 00:00:10'],\n",
              "              dtype='datetime64[ns]', freq='5S')"
            ]
          },
          "metadata": {},
          "execution_count": 89
        }
      ]
    },
    {
      "cell_type": "code",
      "metadata": {
        "id": "uFGfZocD_YDZ"
      },
      "source": [
        "ts = pd.DataFrame(np.array([0, 1, 3, 2, 10, 3]).reshape(3,2), \n",
        "                  index = rng,\n",
        "                  columns = ['col1','col2'])"
      ],
      "execution_count": null,
      "outputs": []
    },
    {
      "cell_type": "code",
      "metadata": {
        "colab": {
          "base_uri": "https://localhost:8080/",
          "height": 394
        },
        "id": "IRmFuznI_iNa",
        "outputId": "ce51ba1b-617f-4764-f898-89ecd72e2b5d"
      },
      "source": [
        "# resample() 메소드를 사용하여, 5초 데이터를 1초 데이터로 unsampling 변환을 시도\n",
        "ts_upsample = ts.resample('S').mean()\n",
        "ts_upsample"
      ],
      "execution_count": null,
      "outputs": [
        {
          "output_type": "execute_result",
          "data": {
            "text/html": [
              "<div>\n",
              "<style scoped>\n",
              "    .dataframe tbody tr th:only-of-type {\n",
              "        vertical-align: middle;\n",
              "    }\n",
              "\n",
              "    .dataframe tbody tr th {\n",
              "        vertical-align: top;\n",
              "    }\n",
              "\n",
              "    .dataframe thead th {\n",
              "        text-align: right;\n",
              "    }\n",
              "</style>\n",
              "<table border=\"1\" class=\"dataframe\">\n",
              "  <thead>\n",
              "    <tr style=\"text-align: right;\">\n",
              "      <th></th>\n",
              "      <th>col1</th>\n",
              "      <th>col2</th>\n",
              "    </tr>\n",
              "  </thead>\n",
              "  <tbody>\n",
              "    <tr>\n",
              "      <th>2019-12-31 00:00:00</th>\n",
              "      <td>0.0</td>\n",
              "      <td>1.0</td>\n",
              "    </tr>\n",
              "    <tr>\n",
              "      <th>2019-12-31 00:00:01</th>\n",
              "      <td>NaN</td>\n",
              "      <td>NaN</td>\n",
              "    </tr>\n",
              "    <tr>\n",
              "      <th>2019-12-31 00:00:02</th>\n",
              "      <td>NaN</td>\n",
              "      <td>NaN</td>\n",
              "    </tr>\n",
              "    <tr>\n",
              "      <th>2019-12-31 00:00:03</th>\n",
              "      <td>NaN</td>\n",
              "      <td>NaN</td>\n",
              "    </tr>\n",
              "    <tr>\n",
              "      <th>2019-12-31 00:00:04</th>\n",
              "      <td>NaN</td>\n",
              "      <td>NaN</td>\n",
              "    </tr>\n",
              "    <tr>\n",
              "      <th>2019-12-31 00:00:05</th>\n",
              "      <td>3.0</td>\n",
              "      <td>2.0</td>\n",
              "    </tr>\n",
              "    <tr>\n",
              "      <th>2019-12-31 00:00:06</th>\n",
              "      <td>NaN</td>\n",
              "      <td>NaN</td>\n",
              "    </tr>\n",
              "    <tr>\n",
              "      <th>2019-12-31 00:00:07</th>\n",
              "      <td>NaN</td>\n",
              "      <td>NaN</td>\n",
              "    </tr>\n",
              "    <tr>\n",
              "      <th>2019-12-31 00:00:08</th>\n",
              "      <td>NaN</td>\n",
              "      <td>NaN</td>\n",
              "    </tr>\n",
              "    <tr>\n",
              "      <th>2019-12-31 00:00:09</th>\n",
              "      <td>NaN</td>\n",
              "      <td>NaN</td>\n",
              "    </tr>\n",
              "    <tr>\n",
              "      <th>2019-12-31 00:00:10</th>\n",
              "      <td>10.0</td>\n",
              "      <td>3.0</td>\n",
              "    </tr>\n",
              "  </tbody>\n",
              "</table>\n",
              "</div>"
            ],
            "text/plain": [
              "                     col1  col2\n",
              "2019-12-31 00:00:00   0.0   1.0\n",
              "2019-12-31 00:00:01   NaN   NaN\n",
              "2019-12-31 00:00:02   NaN   NaN\n",
              "2019-12-31 00:00:03   NaN   NaN\n",
              "2019-12-31 00:00:04   NaN   NaN\n",
              "2019-12-31 00:00:05   3.0   2.0\n",
              "2019-12-31 00:00:06   NaN   NaN\n",
              "2019-12-31 00:00:07   NaN   NaN\n",
              "2019-12-31 00:00:08   NaN   NaN\n",
              "2019-12-31 00:00:09   NaN   NaN\n",
              "2019-12-31 00:00:10  10.0   3.0"
            ]
          },
          "metadata": {},
          "execution_count": 91
        }
      ]
    },
    {
      "cell_type": "code",
      "metadata": {
        "colab": {
          "base_uri": "https://localhost:8080/",
          "height": 394
        },
        "id": "fuedXBv__t_j",
        "outputId": "47e31590-df91-464a-e82a-aa0eece11baf"
      },
      "source": [
        "# 위의 upsampling 으로 인해 생긴 결측값을 (1) 채우기filling (2) 선형보간 linear interpolation 시도\n",
        "\n",
        "# (1) filing forward 앞에 있는 값으로 뒤의 결측치 채우기\n",
        "ts_upsample.ffill()\n",
        "ts_upsample.fillna(method = 'ffill')\n",
        "ts_upsample.fillna(method = 'pad')"
      ],
      "execution_count": null,
      "outputs": [
        {
          "output_type": "execute_result",
          "data": {
            "text/html": [
              "<div>\n",
              "<style scoped>\n",
              "    .dataframe tbody tr th:only-of-type {\n",
              "        vertical-align: middle;\n",
              "    }\n",
              "\n",
              "    .dataframe tbody tr th {\n",
              "        vertical-align: top;\n",
              "    }\n",
              "\n",
              "    .dataframe thead th {\n",
              "        text-align: right;\n",
              "    }\n",
              "</style>\n",
              "<table border=\"1\" class=\"dataframe\">\n",
              "  <thead>\n",
              "    <tr style=\"text-align: right;\">\n",
              "      <th></th>\n",
              "      <th>col1</th>\n",
              "      <th>col2</th>\n",
              "    </tr>\n",
              "  </thead>\n",
              "  <tbody>\n",
              "    <tr>\n",
              "      <th>2019-12-31 00:00:00</th>\n",
              "      <td>0.0</td>\n",
              "      <td>1.0</td>\n",
              "    </tr>\n",
              "    <tr>\n",
              "      <th>2019-12-31 00:00:01</th>\n",
              "      <td>0.0</td>\n",
              "      <td>1.0</td>\n",
              "    </tr>\n",
              "    <tr>\n",
              "      <th>2019-12-31 00:00:02</th>\n",
              "      <td>0.0</td>\n",
              "      <td>1.0</td>\n",
              "    </tr>\n",
              "    <tr>\n",
              "      <th>2019-12-31 00:00:03</th>\n",
              "      <td>0.0</td>\n",
              "      <td>1.0</td>\n",
              "    </tr>\n",
              "    <tr>\n",
              "      <th>2019-12-31 00:00:04</th>\n",
              "      <td>0.0</td>\n",
              "      <td>1.0</td>\n",
              "    </tr>\n",
              "    <tr>\n",
              "      <th>2019-12-31 00:00:05</th>\n",
              "      <td>3.0</td>\n",
              "      <td>2.0</td>\n",
              "    </tr>\n",
              "    <tr>\n",
              "      <th>2019-12-31 00:00:06</th>\n",
              "      <td>3.0</td>\n",
              "      <td>2.0</td>\n",
              "    </tr>\n",
              "    <tr>\n",
              "      <th>2019-12-31 00:00:07</th>\n",
              "      <td>3.0</td>\n",
              "      <td>2.0</td>\n",
              "    </tr>\n",
              "    <tr>\n",
              "      <th>2019-12-31 00:00:08</th>\n",
              "      <td>3.0</td>\n",
              "      <td>2.0</td>\n",
              "    </tr>\n",
              "    <tr>\n",
              "      <th>2019-12-31 00:00:09</th>\n",
              "      <td>3.0</td>\n",
              "      <td>2.0</td>\n",
              "    </tr>\n",
              "    <tr>\n",
              "      <th>2019-12-31 00:00:10</th>\n",
              "      <td>10.0</td>\n",
              "      <td>3.0</td>\n",
              "    </tr>\n",
              "  </tbody>\n",
              "</table>\n",
              "</div>"
            ],
            "text/plain": [
              "                     col1  col2\n",
              "2019-12-31 00:00:00   0.0   1.0\n",
              "2019-12-31 00:00:01   0.0   1.0\n",
              "2019-12-31 00:00:02   0.0   1.0\n",
              "2019-12-31 00:00:03   0.0   1.0\n",
              "2019-12-31 00:00:04   0.0   1.0\n",
              "2019-12-31 00:00:05   3.0   2.0\n",
              "2019-12-31 00:00:06   3.0   2.0\n",
              "2019-12-31 00:00:07   3.0   2.0\n",
              "2019-12-31 00:00:08   3.0   2.0\n",
              "2019-12-31 00:00:09   3.0   2.0\n",
              "2019-12-31 00:00:10  10.0   3.0"
            ]
          },
          "metadata": {},
          "execution_count": 92
        }
      ]
    },
    {
      "cell_type": "code",
      "metadata": {
        "colab": {
          "base_uri": "https://localhost:8080/",
          "height": 394
        },
        "id": "8YpKkm89ADJq",
        "outputId": "20f79b81-aef9-4564-a7bf-4ffc05f82de7"
      },
      "source": [
        "# 2) 뒤의 값으로 앞의 결측값 채우기\n",
        "ts_upsample.bfill() \n",
        "ts_upsample.fillna(method = 'bfill') \n",
        "ts_upsample.fillna(method = 'backfill')"
      ],
      "execution_count": null,
      "outputs": [
        {
          "output_type": "execute_result",
          "data": {
            "text/html": [
              "<div>\n",
              "<style scoped>\n",
              "    .dataframe tbody tr th:only-of-type {\n",
              "        vertical-align: middle;\n",
              "    }\n",
              "\n",
              "    .dataframe tbody tr th {\n",
              "        vertical-align: top;\n",
              "    }\n",
              "\n",
              "    .dataframe thead th {\n",
              "        text-align: right;\n",
              "    }\n",
              "</style>\n",
              "<table border=\"1\" class=\"dataframe\">\n",
              "  <thead>\n",
              "    <tr style=\"text-align: right;\">\n",
              "      <th></th>\n",
              "      <th>col1</th>\n",
              "      <th>col2</th>\n",
              "    </tr>\n",
              "  </thead>\n",
              "  <tbody>\n",
              "    <tr>\n",
              "      <th>2019-12-31 00:00:00</th>\n",
              "      <td>0.0</td>\n",
              "      <td>1.0</td>\n",
              "    </tr>\n",
              "    <tr>\n",
              "      <th>2019-12-31 00:00:01</th>\n",
              "      <td>3.0</td>\n",
              "      <td>2.0</td>\n",
              "    </tr>\n",
              "    <tr>\n",
              "      <th>2019-12-31 00:00:02</th>\n",
              "      <td>3.0</td>\n",
              "      <td>2.0</td>\n",
              "    </tr>\n",
              "    <tr>\n",
              "      <th>2019-12-31 00:00:03</th>\n",
              "      <td>3.0</td>\n",
              "      <td>2.0</td>\n",
              "    </tr>\n",
              "    <tr>\n",
              "      <th>2019-12-31 00:00:04</th>\n",
              "      <td>3.0</td>\n",
              "      <td>2.0</td>\n",
              "    </tr>\n",
              "    <tr>\n",
              "      <th>2019-12-31 00:00:05</th>\n",
              "      <td>3.0</td>\n",
              "      <td>2.0</td>\n",
              "    </tr>\n",
              "    <tr>\n",
              "      <th>2019-12-31 00:00:06</th>\n",
              "      <td>10.0</td>\n",
              "      <td>3.0</td>\n",
              "    </tr>\n",
              "    <tr>\n",
              "      <th>2019-12-31 00:00:07</th>\n",
              "      <td>10.0</td>\n",
              "      <td>3.0</td>\n",
              "    </tr>\n",
              "    <tr>\n",
              "      <th>2019-12-31 00:00:08</th>\n",
              "      <td>10.0</td>\n",
              "      <td>3.0</td>\n",
              "    </tr>\n",
              "    <tr>\n",
              "      <th>2019-12-31 00:00:09</th>\n",
              "      <td>10.0</td>\n",
              "      <td>3.0</td>\n",
              "    </tr>\n",
              "    <tr>\n",
              "      <th>2019-12-31 00:00:10</th>\n",
              "      <td>10.0</td>\n",
              "      <td>3.0</td>\n",
              "    </tr>\n",
              "  </tbody>\n",
              "</table>\n",
              "</div>"
            ],
            "text/plain": [
              "                     col1  col2\n",
              "2019-12-31 00:00:00   0.0   1.0\n",
              "2019-12-31 00:00:01   3.0   2.0\n",
              "2019-12-31 00:00:02   3.0   2.0\n",
              "2019-12-31 00:00:03   3.0   2.0\n",
              "2019-12-31 00:00:04   3.0   2.0\n",
              "2019-12-31 00:00:05   3.0   2.0\n",
              "2019-12-31 00:00:06  10.0   3.0\n",
              "2019-12-31 00:00:07  10.0   3.0\n",
              "2019-12-31 00:00:08  10.0   3.0\n",
              "2019-12-31 00:00:09  10.0   3.0\n",
              "2019-12-31 00:00:10  10.0   3.0"
            ]
          },
          "metadata": {},
          "execution_count": 93
        }
      ]
    },
    {
      "cell_type": "code",
      "metadata": {
        "colab": {
          "base_uri": "https://localhost:8080/",
          "height": 394
        },
        "id": "JzucLD4iAXAM",
        "outputId": "6a108f65-06e2-48f0-e355-eae1cb23c309"
      },
      "source": [
        "# 3) fill missing value with 0\n",
        "ts_upsample.fillna(0)"
      ],
      "execution_count": null,
      "outputs": [
        {
          "output_type": "execute_result",
          "data": {
            "text/html": [
              "<div>\n",
              "<style scoped>\n",
              "    .dataframe tbody tr th:only-of-type {\n",
              "        vertical-align: middle;\n",
              "    }\n",
              "\n",
              "    .dataframe tbody tr th {\n",
              "        vertical-align: top;\n",
              "    }\n",
              "\n",
              "    .dataframe thead th {\n",
              "        text-align: right;\n",
              "    }\n",
              "</style>\n",
              "<table border=\"1\" class=\"dataframe\">\n",
              "  <thead>\n",
              "    <tr style=\"text-align: right;\">\n",
              "      <th></th>\n",
              "      <th>col1</th>\n",
              "      <th>col2</th>\n",
              "    </tr>\n",
              "  </thead>\n",
              "  <tbody>\n",
              "    <tr>\n",
              "      <th>2019-12-31 00:00:00</th>\n",
              "      <td>0.0</td>\n",
              "      <td>1.0</td>\n",
              "    </tr>\n",
              "    <tr>\n",
              "      <th>2019-12-31 00:00:01</th>\n",
              "      <td>0.0</td>\n",
              "      <td>0.0</td>\n",
              "    </tr>\n",
              "    <tr>\n",
              "      <th>2019-12-31 00:00:02</th>\n",
              "      <td>0.0</td>\n",
              "      <td>0.0</td>\n",
              "    </tr>\n",
              "    <tr>\n",
              "      <th>2019-12-31 00:00:03</th>\n",
              "      <td>0.0</td>\n",
              "      <td>0.0</td>\n",
              "    </tr>\n",
              "    <tr>\n",
              "      <th>2019-12-31 00:00:04</th>\n",
              "      <td>0.0</td>\n",
              "      <td>0.0</td>\n",
              "    </tr>\n",
              "    <tr>\n",
              "      <th>2019-12-31 00:00:05</th>\n",
              "      <td>3.0</td>\n",
              "      <td>2.0</td>\n",
              "    </tr>\n",
              "    <tr>\n",
              "      <th>2019-12-31 00:00:06</th>\n",
              "      <td>0.0</td>\n",
              "      <td>0.0</td>\n",
              "    </tr>\n",
              "    <tr>\n",
              "      <th>2019-12-31 00:00:07</th>\n",
              "      <td>0.0</td>\n",
              "      <td>0.0</td>\n",
              "    </tr>\n",
              "    <tr>\n",
              "      <th>2019-12-31 00:00:08</th>\n",
              "      <td>0.0</td>\n",
              "      <td>0.0</td>\n",
              "    </tr>\n",
              "    <tr>\n",
              "      <th>2019-12-31 00:00:09</th>\n",
              "      <td>0.0</td>\n",
              "      <td>0.0</td>\n",
              "    </tr>\n",
              "    <tr>\n",
              "      <th>2019-12-31 00:00:10</th>\n",
              "      <td>10.0</td>\n",
              "      <td>3.0</td>\n",
              "    </tr>\n",
              "  </tbody>\n",
              "</table>\n",
              "</div>"
            ],
            "text/plain": [
              "                     col1  col2\n",
              "2019-12-31 00:00:00   0.0   1.0\n",
              "2019-12-31 00:00:01   0.0   0.0\n",
              "2019-12-31 00:00:02   0.0   0.0\n",
              "2019-12-31 00:00:03   0.0   0.0\n",
              "2019-12-31 00:00:04   0.0   0.0\n",
              "2019-12-31 00:00:05   3.0   2.0\n",
              "2019-12-31 00:00:06   0.0   0.0\n",
              "2019-12-31 00:00:07   0.0   0.0\n",
              "2019-12-31 00:00:08   0.0   0.0\n",
              "2019-12-31 00:00:09   0.0   0.0\n",
              "2019-12-31 00:00:10  10.0   3.0"
            ]
          },
          "metadata": {},
          "execution_count": 94
        }
      ]
    },
    {
      "cell_type": "code",
      "metadata": {
        "colab": {
          "base_uri": "https://localhost:8080/",
          "height": 394
        },
        "id": "3BMZm_G-AbJX",
        "outputId": "c6b27a55-4331-41f6-9988-8929f8a40b37"
      },
      "source": [
        "# 4) filling with mean value\n",
        "# mean per columns\n",
        "ts_upsample.mean() # 우선 mean 을 만들고\n",
        "ts_upsample.fillna(ts_upsample.mean())"
      ],
      "execution_count": null,
      "outputs": [
        {
          "output_type": "execute_result",
          "data": {
            "text/html": [
              "<div>\n",
              "<style scoped>\n",
              "    .dataframe tbody tr th:only-of-type {\n",
              "        vertical-align: middle;\n",
              "    }\n",
              "\n",
              "    .dataframe tbody tr th {\n",
              "        vertical-align: top;\n",
              "    }\n",
              "\n",
              "    .dataframe thead th {\n",
              "        text-align: right;\n",
              "    }\n",
              "</style>\n",
              "<table border=\"1\" class=\"dataframe\">\n",
              "  <thead>\n",
              "    <tr style=\"text-align: right;\">\n",
              "      <th></th>\n",
              "      <th>col1</th>\n",
              "      <th>col2</th>\n",
              "    </tr>\n",
              "  </thead>\n",
              "  <tbody>\n",
              "    <tr>\n",
              "      <th>2019-12-31 00:00:00</th>\n",
              "      <td>0.000000</td>\n",
              "      <td>1.0</td>\n",
              "    </tr>\n",
              "    <tr>\n",
              "      <th>2019-12-31 00:00:01</th>\n",
              "      <td>4.333333</td>\n",
              "      <td>2.0</td>\n",
              "    </tr>\n",
              "    <tr>\n",
              "      <th>2019-12-31 00:00:02</th>\n",
              "      <td>4.333333</td>\n",
              "      <td>2.0</td>\n",
              "    </tr>\n",
              "    <tr>\n",
              "      <th>2019-12-31 00:00:03</th>\n",
              "      <td>4.333333</td>\n",
              "      <td>2.0</td>\n",
              "    </tr>\n",
              "    <tr>\n",
              "      <th>2019-12-31 00:00:04</th>\n",
              "      <td>4.333333</td>\n",
              "      <td>2.0</td>\n",
              "    </tr>\n",
              "    <tr>\n",
              "      <th>2019-12-31 00:00:05</th>\n",
              "      <td>3.000000</td>\n",
              "      <td>2.0</td>\n",
              "    </tr>\n",
              "    <tr>\n",
              "      <th>2019-12-31 00:00:06</th>\n",
              "      <td>4.333333</td>\n",
              "      <td>2.0</td>\n",
              "    </tr>\n",
              "    <tr>\n",
              "      <th>2019-12-31 00:00:07</th>\n",
              "      <td>4.333333</td>\n",
              "      <td>2.0</td>\n",
              "    </tr>\n",
              "    <tr>\n",
              "      <th>2019-12-31 00:00:08</th>\n",
              "      <td>4.333333</td>\n",
              "      <td>2.0</td>\n",
              "    </tr>\n",
              "    <tr>\n",
              "      <th>2019-12-31 00:00:09</th>\n",
              "      <td>4.333333</td>\n",
              "      <td>2.0</td>\n",
              "    </tr>\n",
              "    <tr>\n",
              "      <th>2019-12-31 00:00:10</th>\n",
              "      <td>10.000000</td>\n",
              "      <td>3.0</td>\n",
              "    </tr>\n",
              "  </tbody>\n",
              "</table>\n",
              "</div>"
            ],
            "text/plain": [
              "                          col1  col2\n",
              "2019-12-31 00:00:00   0.000000   1.0\n",
              "2019-12-31 00:00:01   4.333333   2.0\n",
              "2019-12-31 00:00:02   4.333333   2.0\n",
              "2019-12-31 00:00:03   4.333333   2.0\n",
              "2019-12-31 00:00:04   4.333333   2.0\n",
              "2019-12-31 00:00:05   3.000000   2.0\n",
              "2019-12-31 00:00:06   4.333333   2.0\n",
              "2019-12-31 00:00:07   4.333333   2.0\n",
              "2019-12-31 00:00:08   4.333333   2.0\n",
              "2019-12-31 00:00:09   4.333333   2.0\n",
              "2019-12-31 00:00:10  10.000000   3.0"
            ]
          },
          "metadata": {},
          "execution_count": 95
        }
      ]
    },
    {
      "cell_type": "code",
      "metadata": {
        "colab": {
          "base_uri": "https://localhost:8080/",
          "height": 394
        },
        "id": "mLJcHPohAkMo",
        "outputId": "14a64862-d95c-4548-f2b3-5451bb9ebd7b"
      },
      "source": [
        "# 5) 결측값 채우는 행 갯수 제한\n",
        "ts_upsample.ffill(limit=1)"
      ],
      "execution_count": null,
      "outputs": [
        {
          "output_type": "execute_result",
          "data": {
            "text/html": [
              "<div>\n",
              "<style scoped>\n",
              "    .dataframe tbody tr th:only-of-type {\n",
              "        vertical-align: middle;\n",
              "    }\n",
              "\n",
              "    .dataframe tbody tr th {\n",
              "        vertical-align: top;\n",
              "    }\n",
              "\n",
              "    .dataframe thead th {\n",
              "        text-align: right;\n",
              "    }\n",
              "</style>\n",
              "<table border=\"1\" class=\"dataframe\">\n",
              "  <thead>\n",
              "    <tr style=\"text-align: right;\">\n",
              "      <th></th>\n",
              "      <th>col1</th>\n",
              "      <th>col2</th>\n",
              "    </tr>\n",
              "  </thead>\n",
              "  <tbody>\n",
              "    <tr>\n",
              "      <th>2019-12-31 00:00:00</th>\n",
              "      <td>0.0</td>\n",
              "      <td>1.0</td>\n",
              "    </tr>\n",
              "    <tr>\n",
              "      <th>2019-12-31 00:00:01</th>\n",
              "      <td>0.0</td>\n",
              "      <td>1.0</td>\n",
              "    </tr>\n",
              "    <tr>\n",
              "      <th>2019-12-31 00:00:02</th>\n",
              "      <td>NaN</td>\n",
              "      <td>NaN</td>\n",
              "    </tr>\n",
              "    <tr>\n",
              "      <th>2019-12-31 00:00:03</th>\n",
              "      <td>NaN</td>\n",
              "      <td>NaN</td>\n",
              "    </tr>\n",
              "    <tr>\n",
              "      <th>2019-12-31 00:00:04</th>\n",
              "      <td>NaN</td>\n",
              "      <td>NaN</td>\n",
              "    </tr>\n",
              "    <tr>\n",
              "      <th>2019-12-31 00:00:05</th>\n",
              "      <td>3.0</td>\n",
              "      <td>2.0</td>\n",
              "    </tr>\n",
              "    <tr>\n",
              "      <th>2019-12-31 00:00:06</th>\n",
              "      <td>3.0</td>\n",
              "      <td>2.0</td>\n",
              "    </tr>\n",
              "    <tr>\n",
              "      <th>2019-12-31 00:00:07</th>\n",
              "      <td>NaN</td>\n",
              "      <td>NaN</td>\n",
              "    </tr>\n",
              "    <tr>\n",
              "      <th>2019-12-31 00:00:08</th>\n",
              "      <td>NaN</td>\n",
              "      <td>NaN</td>\n",
              "    </tr>\n",
              "    <tr>\n",
              "      <th>2019-12-31 00:00:09</th>\n",
              "      <td>NaN</td>\n",
              "      <td>NaN</td>\n",
              "    </tr>\n",
              "    <tr>\n",
              "      <th>2019-12-31 00:00:10</th>\n",
              "      <td>10.0</td>\n",
              "      <td>3.0</td>\n",
              "    </tr>\n",
              "  </tbody>\n",
              "</table>\n",
              "</div>"
            ],
            "text/plain": [
              "                     col1  col2\n",
              "2019-12-31 00:00:00   0.0   1.0\n",
              "2019-12-31 00:00:01   0.0   1.0\n",
              "2019-12-31 00:00:02   NaN   NaN\n",
              "2019-12-31 00:00:03   NaN   NaN\n",
              "2019-12-31 00:00:04   NaN   NaN\n",
              "2019-12-31 00:00:05   3.0   2.0\n",
              "2019-12-31 00:00:06   3.0   2.0\n",
              "2019-12-31 00:00:07   NaN   NaN\n",
              "2019-12-31 00:00:08   NaN   NaN\n",
              "2019-12-31 00:00:09   NaN   NaN\n",
              "2019-12-31 00:00:10  10.0   3.0"
            ]
          },
          "metadata": {},
          "execution_count": 96
        }
      ]
    },
    {
      "cell_type": "code",
      "metadata": {
        "colab": {
          "base_uri": "https://localhost:8080/",
          "height": 394
        },
        "id": "1kj2ZWcLAsGS",
        "outputId": "071e4839-e4d2-478e-8b72-a3f9e74310ac"
      },
      "source": [
        "# 6) linear interpolation by values\n",
        "ts_upsample.interpolate(method= 'values')"
      ],
      "execution_count": null,
      "outputs": [
        {
          "output_type": "execute_result",
          "data": {
            "text/html": [
              "<div>\n",
              "<style scoped>\n",
              "    .dataframe tbody tr th:only-of-type {\n",
              "        vertical-align: middle;\n",
              "    }\n",
              "\n",
              "    .dataframe tbody tr th {\n",
              "        vertical-align: top;\n",
              "    }\n",
              "\n",
              "    .dataframe thead th {\n",
              "        text-align: right;\n",
              "    }\n",
              "</style>\n",
              "<table border=\"1\" class=\"dataframe\">\n",
              "  <thead>\n",
              "    <tr style=\"text-align: right;\">\n",
              "      <th></th>\n",
              "      <th>col1</th>\n",
              "      <th>col2</th>\n",
              "    </tr>\n",
              "  </thead>\n",
              "  <tbody>\n",
              "    <tr>\n",
              "      <th>2019-12-31 00:00:00</th>\n",
              "      <td>0.0</td>\n",
              "      <td>1.0</td>\n",
              "    </tr>\n",
              "    <tr>\n",
              "      <th>2019-12-31 00:00:01</th>\n",
              "      <td>0.6</td>\n",
              "      <td>1.2</td>\n",
              "    </tr>\n",
              "    <tr>\n",
              "      <th>2019-12-31 00:00:02</th>\n",
              "      <td>1.2</td>\n",
              "      <td>1.4</td>\n",
              "    </tr>\n",
              "    <tr>\n",
              "      <th>2019-12-31 00:00:03</th>\n",
              "      <td>1.8</td>\n",
              "      <td>1.6</td>\n",
              "    </tr>\n",
              "    <tr>\n",
              "      <th>2019-12-31 00:00:04</th>\n",
              "      <td>2.4</td>\n",
              "      <td>1.8</td>\n",
              "    </tr>\n",
              "    <tr>\n",
              "      <th>2019-12-31 00:00:05</th>\n",
              "      <td>3.0</td>\n",
              "      <td>2.0</td>\n",
              "    </tr>\n",
              "    <tr>\n",
              "      <th>2019-12-31 00:00:06</th>\n",
              "      <td>4.4</td>\n",
              "      <td>2.2</td>\n",
              "    </tr>\n",
              "    <tr>\n",
              "      <th>2019-12-31 00:00:07</th>\n",
              "      <td>5.8</td>\n",
              "      <td>2.4</td>\n",
              "    </tr>\n",
              "    <tr>\n",
              "      <th>2019-12-31 00:00:08</th>\n",
              "      <td>7.2</td>\n",
              "      <td>2.6</td>\n",
              "    </tr>\n",
              "    <tr>\n",
              "      <th>2019-12-31 00:00:09</th>\n",
              "      <td>8.6</td>\n",
              "      <td>2.8</td>\n",
              "    </tr>\n",
              "    <tr>\n",
              "      <th>2019-12-31 00:00:10</th>\n",
              "      <td>10.0</td>\n",
              "      <td>3.0</td>\n",
              "    </tr>\n",
              "  </tbody>\n",
              "</table>\n",
              "</div>"
            ],
            "text/plain": [
              "                     col1  col2\n",
              "2019-12-31 00:00:00   0.0   1.0\n",
              "2019-12-31 00:00:01   0.6   1.2\n",
              "2019-12-31 00:00:02   1.2   1.4\n",
              "2019-12-31 00:00:03   1.8   1.6\n",
              "2019-12-31 00:00:04   2.4   1.8\n",
              "2019-12-31 00:00:05   3.0   2.0\n",
              "2019-12-31 00:00:06   4.4   2.2\n",
              "2019-12-31 00:00:07   5.8   2.4\n",
              "2019-12-31 00:00:08   7.2   2.6\n",
              "2019-12-31 00:00:09   8.6   2.8\n",
              "2019-12-31 00:00:10  10.0   3.0"
            ]
          },
          "metadata": {},
          "execution_count": 97
        }
      ]
    },
    {
      "cell_type": "code",
      "metadata": {
        "colab": {
          "base_uri": "https://localhost:8080/",
          "height": 394
        },
        "id": "otfXz3GUAyO7",
        "outputId": "819f9f35-a003-40a7-be9a-f4bd2b74bf5c"
      },
      "source": [
        "# 7) linear interpolation by time \n",
        "ts_upsample.interpolate(method = 'time')"
      ],
      "execution_count": null,
      "outputs": [
        {
          "output_type": "execute_result",
          "data": {
            "text/html": [
              "<div>\n",
              "<style scoped>\n",
              "    .dataframe tbody tr th:only-of-type {\n",
              "        vertical-align: middle;\n",
              "    }\n",
              "\n",
              "    .dataframe tbody tr th {\n",
              "        vertical-align: top;\n",
              "    }\n",
              "\n",
              "    .dataframe thead th {\n",
              "        text-align: right;\n",
              "    }\n",
              "</style>\n",
              "<table border=\"1\" class=\"dataframe\">\n",
              "  <thead>\n",
              "    <tr style=\"text-align: right;\">\n",
              "      <th></th>\n",
              "      <th>col1</th>\n",
              "      <th>col2</th>\n",
              "    </tr>\n",
              "  </thead>\n",
              "  <tbody>\n",
              "    <tr>\n",
              "      <th>2019-12-31 00:00:00</th>\n",
              "      <td>0.0</td>\n",
              "      <td>1.0</td>\n",
              "    </tr>\n",
              "    <tr>\n",
              "      <th>2019-12-31 00:00:01</th>\n",
              "      <td>0.6</td>\n",
              "      <td>1.2</td>\n",
              "    </tr>\n",
              "    <tr>\n",
              "      <th>2019-12-31 00:00:02</th>\n",
              "      <td>1.2</td>\n",
              "      <td>1.4</td>\n",
              "    </tr>\n",
              "    <tr>\n",
              "      <th>2019-12-31 00:00:03</th>\n",
              "      <td>1.8</td>\n",
              "      <td>1.6</td>\n",
              "    </tr>\n",
              "    <tr>\n",
              "      <th>2019-12-31 00:00:04</th>\n",
              "      <td>2.4</td>\n",
              "      <td>1.8</td>\n",
              "    </tr>\n",
              "    <tr>\n",
              "      <th>2019-12-31 00:00:05</th>\n",
              "      <td>3.0</td>\n",
              "      <td>2.0</td>\n",
              "    </tr>\n",
              "    <tr>\n",
              "      <th>2019-12-31 00:00:06</th>\n",
              "      <td>4.4</td>\n",
              "      <td>2.2</td>\n",
              "    </tr>\n",
              "    <tr>\n",
              "      <th>2019-12-31 00:00:07</th>\n",
              "      <td>5.8</td>\n",
              "      <td>2.4</td>\n",
              "    </tr>\n",
              "    <tr>\n",
              "      <th>2019-12-31 00:00:08</th>\n",
              "      <td>7.2</td>\n",
              "      <td>2.6</td>\n",
              "    </tr>\n",
              "    <tr>\n",
              "      <th>2019-12-31 00:00:09</th>\n",
              "      <td>8.6</td>\n",
              "      <td>2.8</td>\n",
              "    </tr>\n",
              "    <tr>\n",
              "      <th>2019-12-31 00:00:10</th>\n",
              "      <td>10.0</td>\n",
              "      <td>3.0</td>\n",
              "    </tr>\n",
              "  </tbody>\n",
              "</table>\n",
              "</div>"
            ],
            "text/plain": [
              "                     col1  col2\n",
              "2019-12-31 00:00:00   0.0   1.0\n",
              "2019-12-31 00:00:01   0.6   1.2\n",
              "2019-12-31 00:00:02   1.2   1.4\n",
              "2019-12-31 00:00:03   1.8   1.6\n",
              "2019-12-31 00:00:04   2.4   1.8\n",
              "2019-12-31 00:00:05   3.0   2.0\n",
              "2019-12-31 00:00:06   4.4   2.2\n",
              "2019-12-31 00:00:07   5.8   2.4\n",
              "2019-12-31 00:00:08   7.2   2.6\n",
              "2019-12-31 00:00:09   8.6   2.8\n",
              "2019-12-31 00:00:10  10.0   3.0"
            ]
          },
          "metadata": {},
          "execution_count": 98
        }
      ]
    },
    {
      "cell_type": "markdown",
      "metadata": {
        "id": "tY2rNvjU4fqk"
      },
      "source": [
        "### 4) 다운 샘플링\n",
        "- downsampling 은 더 낮은 주기 (더 큰 덩어리) 로 집계 / 요약하는 방식\n",
        "- (예: 초(seconds) --> 10초(10 seconds), 일(day) --> 주(week))"
      ]
    },
    {
      "cell_type": "code",
      "metadata": {
        "colab": {
          "base_uri": "https://localhost:8080/"
        },
        "id": "-3SiiOha3R7z",
        "outputId": "3c6311db-a33e-4d9e-c7ed-967af83b5bc9"
      },
      "source": [
        "import pandas as pd\n",
        "\n",
        "dates = pd.date_range('2020-12-31', periods = 6, freq = 'min')\n",
        "ts_series = pd.Series(range(len(dates)), index = dates)\n",
        "ts_series"
      ],
      "execution_count": null,
      "outputs": [
        {
          "output_type": "execute_result",
          "data": {
            "text/plain": [
              "2020-12-31 00:00:00    0\n",
              "2020-12-31 00:01:00    1\n",
              "2020-12-31 00:02:00    2\n",
              "2020-12-31 00:03:00    3\n",
              "2020-12-31 00:04:00    4\n",
              "2020-12-31 00:05:00    5\n",
              "Freq: T, dtype: int64"
            ]
          },
          "metadata": {},
          "execution_count": 99
        }
      ]
    },
    {
      "cell_type": "code",
      "metadata": {
        "id": "ZZbojQ8SB5Ca"
      },
      "source": [
        "# 위의 1분단위주기를 2분 단위주기로 변경하는 다운 샘플링 진행\n",
        "# closed = left/ right 과 label = left/right 의 파라미터 설정의 결과물 비교\n",
        "# label = left 라고 한다면, 해당 라벨을 '왼쪽' 이라고 쓴다는 것, 어떤 묶음 처리의 가장 첫부분으로 사용\n",
        "# label = right 라고 한다면, 해당 라벨을 '오른쪽' 으로 쓴다는 것\n",
        "# 가장 처음 등장하는 라벨부터 적용\n",
        "# closed 는 실제 value 를 기준으로, 어떻게 처리할 지 이야기 해주는 부분"
      ],
      "execution_count": null,
      "outputs": []
    },
    {
      "cell_type": "code",
      "metadata": {
        "colab": {
          "base_uri": "https://localhost:8080/"
        },
        "id": "56r9rfvsCIJF",
        "outputId": "7534f103-fabf-4fed-f495-c4e8501cdd09"
      },
      "source": [
        "# closed = left / label = 'left'\n",
        "ts_series = pd.Series(range(len(dates)), index = dates)\n",
        "ts_series.resample('2min').sum() # 2분 단위로 더하기\n",
        "ts_series.resample('2min', closed = 'left', label = 'left').sum()"
      ],
      "execution_count": null,
      "outputs": [
        {
          "output_type": "execute_result",
          "data": {
            "text/plain": [
              "2020-12-31 00:00:00    1\n",
              "2020-12-31 00:02:00    5\n",
              "2020-12-31 00:04:00    9\n",
              "Freq: 2T, dtype: int64"
            ]
          },
          "metadata": {},
          "execution_count": 102
        }
      ]
    },
    {
      "cell_type": "code",
      "metadata": {
        "colab": {
          "base_uri": "https://localhost:8080/"
        },
        "id": "hqKdiFE2ELYd",
        "outputId": "6ed69f98-d21a-49df-ba39-2e92c972967b"
      },
      "source": [
        "ts_series = pd.Series(range(len(dates)), index = dates)\n",
        "ts_series"
      ],
      "execution_count": null,
      "outputs": [
        {
          "output_type": "execute_result",
          "data": {
            "text/plain": [
              "2020-12-31 00:00:00    0\n",
              "2020-12-31 00:01:00    1\n",
              "2020-12-31 00:02:00    2\n",
              "2020-12-31 00:03:00    3\n",
              "2020-12-31 00:04:00    4\n",
              "2020-12-31 00:05:00    5\n",
              "Freq: T, dtype: int64"
            ]
          },
          "metadata": {},
          "execution_count": 107
        }
      ]
    },
    {
      "cell_type": "code",
      "metadata": {
        "colab": {
          "base_uri": "https://localhost:8080/"
        },
        "id": "5K0wKefJCbaw",
        "outputId": "a60f8d25-05de-4f3d-bbf6-f9a97a60fc5f"
      },
      "source": [
        "# closed = right / label = left\n",
        "ts_series = pd.Series(range(len(dates)), index = dates)\n",
        "ts_series.resample('2min').sum() # 2분 단위로 더하기\n",
        "ts_series.resample('2min', closed = 'right', label = 'left').sum()"
      ],
      "execution_count": null,
      "outputs": [
        {
          "output_type": "execute_result",
          "data": {
            "text/plain": [
              "2020-12-30 23:58:00    0\n",
              "2020-12-31 00:00:00    3\n",
              "2020-12-31 00:02:00    7\n",
              "2020-12-31 00:04:00    5\n",
              "Freq: 2T, dtype: int64"
            ]
          },
          "metadata": {},
          "execution_count": 103
        }
      ]
    },
    {
      "cell_type": "code",
      "metadata": {
        "colab": {
          "base_uri": "https://localhost:8080/"
        },
        "id": "rlFK1Oy4ChmN",
        "outputId": "58229d1d-3a86-4560-bf4a-033bf5c42c8b"
      },
      "source": [
        "# closed = left / label = right\n",
        "ts_series = pd.Series(range(len(dates)), index = dates)\n",
        "ts_series.resample('2min').sum() # 2분 단위로 더하기\n",
        "ts_series.resample('2min', closed = 'left', label = 'right').sum()"
      ],
      "execution_count": null,
      "outputs": [
        {
          "output_type": "execute_result",
          "data": {
            "text/plain": [
              "2020-12-31 00:02:00    1\n",
              "2020-12-31 00:04:00    5\n",
              "2020-12-31 00:06:00    9\n",
              "Freq: 2T, dtype: int64"
            ]
          },
          "metadata": {},
          "execution_count": 104
        }
      ]
    },
    {
      "cell_type": "code",
      "metadata": {
        "colab": {
          "base_uri": "https://localhost:8080/"
        },
        "id": "CbRF5wE3Cl96",
        "outputId": "66b9119b-8019-41e0-b45e-0abdeeb8c83c"
      },
      "source": [
        "# closed = right / label = right\n",
        "# 시계열 구간의 오른쪽을 포함\n",
        "# 라벨 이름도 오른쪽 구간 값을 가져옴\n",
        "ts_series = pd.Series(range(len(dates)), index = dates)\n",
        "ts_series.resample('2min').sum() # 2분 단위로 더하기\n",
        "ts_series.resample('2min', closed = 'right', label = 'right').sum()"
      ],
      "execution_count": null,
      "outputs": [
        {
          "output_type": "execute_result",
          "data": {
            "text/plain": [
              "2020-12-31 00:00:00    0\n",
              "2020-12-31 00:02:00    3\n",
              "2020-12-31 00:04:00    7\n",
              "2020-12-31 00:06:00    5\n",
              "Freq: 2T, dtype: int64"
            ]
          },
          "metadata": {},
          "execution_count": 105
        }
      ]
    },
    {
      "cell_type": "code",
      "metadata": {
        "id": "mQhWs18YCn9V"
      },
      "source": [
        ""
      ],
      "execution_count": null,
      "outputs": []
    },
    {
      "cell_type": "markdown",
      "metadata": {
        "id": "AmSbNBkf2PFa"
      },
      "source": [
        "## 특징 선택 : feature Selection\n",
        "\n",
        "\n",
        "1) 분산\n",
        "2) 단일변수 선택3) 특성중요도 계산\n",
        "\n",
        "\n",
        "1. filter methods\n",
        "2. wrapper methods\n",
        "3. embedded methods\n",
        "4. hybrid methods"
      ]
    },
    {
      "cell_type": "markdown",
      "metadata": {
        "id": "QfSYNkPm2e-z"
      },
      "source": [
        "### 1. filter methods\n",
        "- 교차검증 성능 대신 일변량 통계를 통해 측정된 기능의 고유 속성을 선택\n",
        "- wrapper 방법보다 빠르고 적은 계산비용이 듦\n",
        "\n",
        "#### 1)   information gain\n",
        "- 엔트로피 감소를 계산"
      ]
    },
    {
      "cell_type": "code",
      "metadata": {
        "colab": {
          "base_uri": "https://localhost:8080/",
          "height": 392
        },
        "id": "eB4aDRhz2eek",
        "outputId": "a99568f8-9dc9-48fa-87d7-61877272f062"
      },
      "source": [
        "from sklearn.feature_selection import nutual_info_classif\n",
        "import matpltlib.pyplot as plt\n",
        "%matplotlib inline\n",
        "\n",
        "importances = mutual_info_classif(X, Y)\n",
        "feat_importances = pd.Series(importances, dataframe.columns[0:len(dataframe.column) - 1])\n",
        "feat_importances.plot(kind= 'barh', color = 'teal')\n",
        "plt.show()"
      ],
      "execution_count": null,
      "outputs": [
        {
          "output_type": "error",
          "ename": "ImportError",
          "evalue": "ignored",
          "traceback": [
            "\u001b[0;31m---------------------------------------------------------------------------\u001b[0m",
            "\u001b[0;31mImportError\u001b[0m                               Traceback (most recent call last)",
            "\u001b[0;32m<ipython-input-1-641857ff6c3a>\u001b[0m in \u001b[0;36m<module>\u001b[0;34m()\u001b[0m\n\u001b[0;32m----> 1\u001b[0;31m \u001b[0;32mfrom\u001b[0m \u001b[0msklearn\u001b[0m\u001b[0;34m.\u001b[0m\u001b[0mfeature_selection\u001b[0m \u001b[0;32mimport\u001b[0m \u001b[0mnutual_info_classif\u001b[0m\u001b[0;34m\u001b[0m\u001b[0;34m\u001b[0m\u001b[0m\n\u001b[0m\u001b[1;32m      2\u001b[0m \u001b[0;32mimport\u001b[0m \u001b[0mmatpltlib\u001b[0m\u001b[0;34m.\u001b[0m\u001b[0mpyplot\u001b[0m \u001b[0;32mas\u001b[0m \u001b[0mplt\u001b[0m\u001b[0;34m\u001b[0m\u001b[0;34m\u001b[0m\u001b[0m\n\u001b[1;32m      3\u001b[0m \u001b[0mget_ipython\u001b[0m\u001b[0;34m(\u001b[0m\u001b[0;34m)\u001b[0m\u001b[0;34m.\u001b[0m\u001b[0mmagic\u001b[0m\u001b[0;34m(\u001b[0m\u001b[0;34m'matplotlib inline'\u001b[0m\u001b[0;34m)\u001b[0m\u001b[0;34m\u001b[0m\u001b[0;34m\u001b[0m\u001b[0m\n\u001b[1;32m      4\u001b[0m \u001b[0;34m\u001b[0m\u001b[0m\n\u001b[1;32m      5\u001b[0m \u001b[0mimportances\u001b[0m \u001b[0;34m=\u001b[0m \u001b[0mmutual_info_classif\u001b[0m\u001b[0;34m(\u001b[0m\u001b[0mX\u001b[0m\u001b[0;34m,\u001b[0m \u001b[0mY\u001b[0m\u001b[0;34m)\u001b[0m\u001b[0;34m\u001b[0m\u001b[0;34m\u001b[0m\u001b[0m\n",
            "\u001b[0;31mImportError\u001b[0m: cannot import name 'nutual_info_classif' from 'sklearn.feature_selection' (/usr/local/lib/python3.7/dist-packages/sklearn/feature_selection/__init__.py)",
            "",
            "\u001b[0;31m---------------------------------------------------------------------------\u001b[0;32m\nNOTE: If your import is failing due to a missing package, you can\nmanually install dependencies using either !pip or !apt.\n\nTo view examples of installing some common dependencies, click the\n\"Open Examples\" button below.\n\u001b[0;31m---------------------------------------------------------------------------\u001b[0m\n"
          ],
          "errorDetails": {
            "actions": [
              {
                "action": "open_url",
                "actionText": "Open Examples",
                "url": "/notebooks/snippets/importing_libraries.ipynb"
              }
            ]
          }
        }
      ]
    },
    {
      "cell_type": "markdown",
      "metadata": {
        "id": "vrFbJfBp4R2Q"
      },
      "source": [
        "#### 2) 카이제곱검정\n",
        "- 데이터 세트 내 범주형 데이터에 적용\n",
        "- 각 feature 와 target 간의 카이제곱을 계산하고,카이제곱 점수가 가장 높은 feature 의 수를 선택\n",
        "- 데이터셋의 다양한 features - target 간의 관계를 테스트하기 위해 적용할 때 사용\n",
        "- 변수는 범주형 / 독립적으로 샘플링 / 5이상의 예상빈도"
      ]
    },
    {
      "cell_type": "code",
      "metadata": {
        "id": "Lym8AVSL4O_O"
      },
      "source": [
        "from sklearn.feature_selection import SelectKBest\n",
        "from sklearn.feature_selection import chi2\n",
        "# 카테고리변수는 정수로 변환\n",
        "X_cat = X.astype(int)\n",
        "\n",
        "#3개의 피쳐 중 가장 높은 카이제곱 통계량을 보이는 것을 선택\n",
        "chi2_features = SelectKBest(chi2, k =3)\n",
        "X_kbest_features = chi2_features.fit_transform(X_cat, Y)\n",
        "\n",
        "# 피쳐 감소\n",
        "print('original feature number: ', X_cat.shape[1])\n",
        "print('Reduced feature number: ', X_kbest_features.shape[1])"
      ],
      "execution_count": null,
      "outputs": []
    },
    {
      "cell_type": "markdown",
      "metadata": {
        "id": "ukgAJYtM5d8P"
      },
      "source": [
        "#### 3) 피셔의 점수\n",
        "- 피셔 점수는 가장 널리 사용되는 방법 중 하나\n",
        "- 알고리즘은 피셔점수를 기반으로 변수의 순위 내림차순으로 반환하여 변수 선택이 가능"
      ]
    },
    {
      "cell_type": "code",
      "metadata": {
        "id": "kV_qHSxO5mlc"
      },
      "source": [
        "from skfeature.function.similarity_based import fisher_score\n",
        "import matplotlib.pyplot as plt\n",
        "%matplotlib inline\n",
        "\n",
        "# 점수 계산\n",
        "ranks = fisher_score.fisher_score(X, Y)\n",
        "\n",
        "# rank 그리기\n",
        "feat_importances = pd.Series(ranks, dataframe.columns[0: len(dataframe.columns) -1])\n",
        "feat_importances.plot(kind = 'barh', color = 'teal')\n",
        "plt.show()"
      ],
      "execution_count": null,
      "outputs": []
    },
    {
      "cell_type": "markdown",
      "metadata": {
        "id": "OSw97HoW58T6"
      },
      "source": [
        "#### 4) 상관계수\n",
        "- 2개 이상의 변수의 선형관계를 측정한 것\n",
        "- 상관관계를 통해 우리는 하나의 변수를 다른 변수로부터 예측이 가능하다"
      ]
    }
  ]
}