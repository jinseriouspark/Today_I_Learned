{
  "nbformat": 4,
  "nbformat_minor": 0,
  "metadata": {
    "colab": {
      "name": "211019_factorize().ipynb",
      "provenance": []
    },
    "kernelspec": {
      "name": "python3",
      "display_name": "Python 3"
    },
    "language_info": {
      "name": "python"
    }
  },
  "cells": [
    {
      "cell_type": "code",
      "metadata": {
        "id": "wODiINEQm1W_"
      },
      "source": [
        "import numpy as np\n",
        "import pandas as pd\n",
        "\n",
        "df = pd.DataFrame(\n",
        "\n",
        "# data 가 아래와 같이 생겼다고 가정할때, pandas 의  factorize 를 사용하여 쉽게 변환 가능\n",
        "data = \n",
        "{\n",
        "'gender': [1,2,1,2,1,1,2,2,1],\n",
        "'class': ['r','b','g','y','r','b','r','b','y']\n",
        "}\n",
        ")\n",
        "\n",
        "# object 를 카테고리 변수나 순차적인 변수로 변경\n",
        "# pancas.factorize(values, sort=False, na_sentinel = -1, size_hint=non)\n",
        "'''\n",
        "입력 변수 설명\n",
        "values : 1차원 시퀀스\n",
        "sort: True, False 로 설정가능하며, 그 object 사이의 관계성 유지를 위해 조절 가능\n",
        "na_sentinel: None 일경우 NaN 값 포함하여 인코딩, -1 일경우 제외하고 인코딩 (변수화)\n",
        "size_hint : hashtable sizer 에 힌트 주는 값\n",
        "출력변수 설명\n",
        "codes : 변환된 값을 제공\n",
        "uniques : 그 값의 유니크 값을 제공\n",
        "'''"
      ],
      "execution_count": 9,
      "outputs": []
    },
    {
      "cell_type": "code",
      "metadata": {
        "colab": {
          "base_uri": "https://localhost:8080/"
        },
        "id": "7K6c-7pem5Cn",
        "outputId": "c7060b62-5932-4ba2-cd3d-06e64e688a93"
      },
      "source": [
        "# 결과물은 .factorize()]0] 을 통해 변환된 값을 꺼내올 수 있음\n",
        "df['class'].factorize()"
      ],
      "execution_count": 20,
      "outputs": [
        {
          "output_type": "execute_result",
          "data": {
            "text/plain": [
              "(array([0, 1, 2, 3, 0, 1, 0, 1, 3]),\n",
              " Index(['r', 'b', 'g', 'y'], dtype='object'))"
            ]
          },
          "metadata": {},
          "execution_count": 20
        }
      ]
    },
    {
      "cell_type": "code",
      "metadata": {
        "colab": {
          "base_uri": "https://localhost:8080/"
        },
        "id": "7MNNivJbqrP2",
        "outputId": "ca0fd92b-1224-4212-c049-2e4ed827c5f6"
      },
      "source": [
        "# sort=True 일 경우 결과값은 class 의 알파벳 순서대로 등장\n",
        "df['class'].factorize(sort=True)"
      ],
      "execution_count": 21,
      "outputs": [
        {
          "output_type": "execute_result",
          "data": {
            "text/plain": [
              "(array([2, 0, 1, 3, 2, 0, 2, 0, 3]),\n",
              " Index(['b', 'g', 'r', 'y'], dtype='object'))"
            ]
          },
          "metadata": {},
          "execution_count": 21
        }
      ]
    },
    {
      "cell_type": "code",
      "metadata": {
        "id": "TD2gTn9Iqsnl"
      },
      "source": [
        ""
      ],
      "execution_count": null,
      "outputs": []
    }
  ]
}