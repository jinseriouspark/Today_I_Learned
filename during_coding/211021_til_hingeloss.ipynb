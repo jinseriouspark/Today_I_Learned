{
  "nbformat": 4,
  "nbformat_minor": 0,
  "metadata": {
    "colab": {
      "name": "211021_til_hingeloss",
      "provenance": [],
      "collapsed_sections": []
    },
    "kernelspec": {
      "name": "python3",
      "display_name": "Python 3"
    },
    "language_info": {
      "name": "python"
    }
  },
  "cells": [
    {
      "cell_type": "code",
      "metadata": {
        "id": "N-0QgsnyIwkl"
      },
      "source": [
        "import numpy as np\n",
        "from sklearn.metrics import hinge_loss"
      ],
      "execution_count": 2,
      "outputs": []
    },
    {
      "cell_type": "markdown",
      "metadata": {
        "id": "PP-sQR4LJ0zC"
      },
      "source": [
        "참고 : https://scikit-learn.org/stable/modules/generated/sklearn.metrics.hinge_loss.html\n",
        "# 힌지로스\n",
        "- max(0, 1-y*y') : 로지스틱 손실함수 보다 계산량이 작다, 또는 보다 적은 훈련 샘플로도 학습이 가능\n",
        "\n",
        "<파라미터>\n",
        "- y_true: n 개의  array\n",
        "- pred_dicision : n개의 array 이며 y_true  와 같다\n",
        "- label: 멀티클래스 힌지로스 사용할 때 이 파라미터 사용\n",
        "- sample_weight : 샘플 가중치\n",
        "\n",
        "<결과값>\n",
        "\n",
        "- loss : float\n",
        "\n",
        "<모델 설명>\n",
        "\n",
        "- 잘못 분류된 경우에는 로스가 발생하고, 잘 분류된 경우에는 로스가 발생하지 않는 힌지 모양을 띈 손실 함수를 의미함\n",
        "- 잘 분류되어 오차가 발생하지 않는 수준을 boundary 가 결정해줌\n",
        "- 이 함수는 SVM을 훈련하는데 주로 사용됨\n",
        "\n",
        "\n",
        "\n",
        "- 이진클래스 경우, y_true 의 라벨은 -1~ 1사이의 값으로 예측이 된다\n",
        "- 이때 예측 실수는 margin = y_true * pred_decision 은 언제나 -의 값을,\n",
        "- 1-margin 은 1언제나 1보다 큰 값을 갖게 된다. \n",
        "- 누적 힌지손실은 그러므로 분류기에 의해 만들어진 수치의 윗 부분을 이야기 한다\n",
        "- 다중 클래스의 겨우, 함수는 모든 라벨이 y_true 에 포함되거나, 모든 레이블을 포함하는 선택적 레이블 인수가 제공될 것으로 예상\n",
        "- 다중 레이블 마진은 crammer-singer 방법으로 계산\n",
        "\n",
        "\n"
      ]
    },
    {
      "cell_type": "code",
      "metadata": {
        "colab": {
          "base_uri": "https://localhost:8080/"
        },
        "id": "XqlROks8KTkI",
        "outputId": "ea0e7276-e34b-476c-c90d-f568e3b89e5e"
      },
      "source": [
        "from sklearn import svm\n",
        "from sklearn.metrics import hinge_loss\n",
        "\n",
        "X = [[0], [1]]\n",
        "y = [-1, 1]\n",
        "\n",
        "est = svm.LinearSVC(random_state = 0)\n",
        "est.fit(X,y)"
      ],
      "execution_count": 4,
      "outputs": [
        {
          "output_type": "execute_result",
          "data": {
            "text/plain": [
              "LinearSVC(C=1.0, class_weight=None, dual=True, fit_intercept=True,\n",
              "          intercept_scaling=1, loss='squared_hinge', max_iter=1000,\n",
              "          multi_class='ovr', penalty='l2', random_state=0, tol=0.0001,\n",
              "          verbose=0)"
            ]
          },
          "metadata": {},
          "execution_count": 4
        }
      ]
    },
    {
      "cell_type": "code",
      "metadata": {
        "colab": {
          "base_uri": "https://localhost:8080/"
        },
        "id": "dSTueNTuKgsK",
        "outputId": "d1b50253-51d8-4179-ce16-0c8f2eef6f93"
      },
      "source": [
        "pred_decision = est.decision_function([[-2], [3], [0.5]])\n",
        "pred_decision\n",
        "hinge_loss([-1, 1, 1], pred_decision)"
      ],
      "execution_count": 5,
      "outputs": [
        {
          "output_type": "execute_result",
          "data": {
            "text/plain": [
              "0.3030367603854425"
            ]
          },
          "metadata": {},
          "execution_count": 5
        }
      ]
    },
    {
      "cell_type": "code",
      "metadata": {
        "id": "ne6qq6G8LoTC"
      },
      "source": [
        "actual = [1, 1, 1, 1, -1, -1, -1, -1]\n",
        "predicted = [0.97, 1.20, 0.0, -0.25, -0.88, -1.01, -0.0, -.4]"
      ],
      "execution_count": 6,
      "outputs": []
    },
    {
      "cell_type": "code",
      "metadata": {
        "colab": {
          "base_uri": "https://localhost:8080/"
        },
        "id": "e0yab_RAL1ec",
        "outputId": "15ec4ac9-c12b-496f-a349-8156ccbaf805"
      },
      "source": [
        "hinge_loss(actual, predicted)"
      ],
      "execution_count": 7,
      "outputs": [
        {
          "output_type": "execute_result",
          "data": {
            "text/plain": [
              "0.5"
            ]
          },
          "metadata": {},
          "execution_count": 7
        }
      ]
    }
  ]
}